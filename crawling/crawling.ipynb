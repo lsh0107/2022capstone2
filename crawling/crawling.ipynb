{
 "cells": [
  {
   "cell_type": "code",
   "execution_count": 5,
   "id": "e2cdd356",
   "metadata": {},
   "outputs": [],
   "source": [
    "import requests\n",
    "from bs4 import BeautifulSoup\n",
    "import time\n",
    "import csv\n",
    "import pandas as pd\n",
    "from tqdm import tqdm"
   ]
  },
  {
   "cell_type": "code",
   "execution_count": 10,
   "id": "0ec82ee6",
   "metadata": {
    "scrolled": true
   },
   "outputs": [
    {
     "name": "stderr",
     "output_type": "stream",
     "text": [
      "\r",
      "  0%|                                                                                          | 0/999 [00:00<?, ?it/s]"
     ]
    },
    {
     "name": "stdout",
     "output_type": "stream",
     "text": [
      "page 1\n",
      "['데시벨', '개봉 전에 안좋은 여론몰이 때문에 너무 손해를 본 영화', 7]\n"
     ]
    },
    {
     "name": "stderr",
     "output_type": "stream",
     "text": [
      "\r",
      "  0%|                                                                                  | 1/999 [00:00<09:58,  1.67it/s]"
     ]
    },
    {
     "name": "stdout",
     "output_type": "stream",
     "text": [
      "page 2\n",
      "['올빼미', '진짜 눈을 뗄수없을만큼 재밌었어요', 10]\n"
     ]
    },
    {
     "name": "stderr",
     "output_type": "stream",
     "text": [
      "\r",
      "  0%|▏                                                                                 | 2/999 [00:01<10:03,  1.65it/s]"
     ]
    },
    {
     "name": "stdout",
     "output_type": "stream",
     "text": [
      "page 3\n",
      "['동감', '원작의 감동은 어디가고 유치함만 남았다', 5]\n"
     ]
    },
    {
     "name": "stderr",
     "output_type": "stream",
     "text": [
      "\r",
      "  0%|▏                                                                                 | 3/999 [00:01<09:55,  1.67it/s]"
     ]
    },
    {
     "name": "stdout",
     "output_type": "stream",
     "text": [
      "page 4\n",
      "['레지던트 이블: 파멸의 날', '볼 것만 많았다.. 볼거리만..', 6]\n"
     ]
    },
    {
     "name": "stderr",
     "output_type": "stream",
     "text": [
      "\r",
      "  0%|▎                                                                                 | 4/999 [00:02<09:51,  1.68it/s]"
     ]
    },
    {
     "name": "stdout",
     "output_type": "stream",
     "text": [
      "page 5\n",
      "['올빼미', '한국 사극 스릴러물 중 최고', 10]\n"
     ]
    },
    {
     "name": "stderr",
     "output_type": "stream",
     "text": [
      "\r",
      "  1%|▍                                                                                 | 5/999 [00:02<09:53,  1.67it/s]"
     ]
    },
    {
     "name": "stdout",
     "output_type": "stream",
     "text": [
      "page 6\n",
      "['나는 내일, 어제의 너와 만난다', '울보인 사람이 봤을때 이건 정말.. 중반부부터 오열함 두번째 보고있는데 처음 틀자마자 울었고 에미가 울때마다 난 오열했다 정말.. 나의 인생영화..', 10]\n"
     ]
    },
    {
     "name": "stderr",
     "output_type": "stream",
     "text": [
      "\r",
      "  1%|▍                                                                                 | 6/999 [00:03<09:52,  1.67it/s]"
     ]
    },
    {
     "name": "stdout",
     "output_type": "stream",
     "text": [
      "page 7\n",
      "['카센타', '볼만합니다 볼만합니다', 10]\n"
     ]
    },
    {
     "name": "stderr",
     "output_type": "stream",
     "text": [
      "\r",
      "  1%|▌                                                                                 | 7/999 [00:04<09:58,  1.66it/s]"
     ]
    },
    {
     "name": "stdout",
     "output_type": "stream",
     "text": [
      "page 8\n",
      "['한산 리덕스', '최근5년 우리나라영화 통틀어 제일 긴장감있고 재밌게 본영화였어요!', 10]\n"
     ]
    },
    {
     "name": "stderr",
     "output_type": "stream",
     "text": [
      "\r",
      "  1%|▋                                                                                 | 8/999 [00:04<09:54,  1.67it/s]"
     ]
    },
    {
     "name": "stdout",
     "output_type": "stream",
     "text": [
      "page 9\n",
      "['프리 가이', '정말 너무 재미없었음 뻔한 스토리에 돈만 많이 갖다 쓴 쓰레기 영화 돈이 너무 아까웠음.. 라이언 레이놀즈 때문에 봤는데 너무 별로 였음..', 1]\n"
     ]
    },
    {
     "name": "stderr",
     "output_type": "stream",
     "text": [
      "\r",
      "  1%|▋                                                                                 | 9/999 [00:05<09:49,  1.68it/s]"
     ]
    },
    {
     "name": "stdout",
     "output_type": "stream",
     "text": [
      "page 10\n",
      "['올빼미', '시간 가는줄 모르고 봤어요! 인생영화… ', 10]\n"
     ]
    },
    {
     "name": "stderr",
     "output_type": "stream",
     "text": [
      "\r",
      "  1%|▊                                                                                | 10/999 [00:05<09:48,  1.68it/s]"
     ]
    },
    {
     "name": "stdout",
     "output_type": "stream",
     "text": [
      "page 11\n",
      "['동감', '음.. 평점은 몬가몬가임. 진짜 광고로 처음 알게되서 볼까말까 고민 하다가 보러가기로 결심한 이유는 &amp;#34;종말좌&amp;#34;가 있었기 때문.영화내내 깨알 웃음포인트로 하드캐리 한듯. 견인차임 ㄹㅇ본인은 기대 안하고 봐서 잔잔하게 웃겼으니 만족했는데 사실 스토리? 음.. 왜?? 싶은 부분들이 많았고 전개상 개연성은 많이 부족했음. 배우들 연기는 잘했다고 생각함.영화 대비 표값이 비쌌는데 (2매 3만2천원)영화 끝나고 갑자기 분위기 시사회 여서 그랬던듯함. 여진구씨 실물 영접해서 표값에 대한 만족감이 확 들었음.', 6]\n"
     ]
    },
    {
     "name": "stderr",
     "output_type": "stream",
     "text": [
      "\r",
      "  1%|▉                                                                                | 11/999 [00:06<09:45,  1.69it/s]"
     ]
    },
    {
     "name": "stdout",
     "output_type": "stream",
     "text": [
      "page 12\n",
      "['주연', '왜 결말 이따구? 그래서 허영가득 한녀좀 너그럽게이해좀 해주라는거? 궁금한이야기 Y에 나올만한 혼인빙자 꽃뱀년스토리 그이상 이하도 아님. 결말 말해줄께.수소문 끝에 찾아낸 여동생은 여전히 지방어디서 또하나 병신 호구물어서 꽃뱀짓거리하고있다. 끝!', 1]\n"
     ]
    },
    {
     "name": "stderr",
     "output_type": "stream",
     "text": [
      "\r",
      "  1%|▉                                                                                | 12/999 [00:07<10:00,  1.64it/s]"
     ]
    },
    {
     "name": "stdout",
     "output_type": "stream",
     "text": [
      "page 13\n",
      "['올빼미', '와...나 너무 무섭게봤어요ㅠㅠ공포영화보다 더 무서웠던 장면...ㄷㄷㄷ진짜 재미있게 봤습니다! 진짜 추천!', 10]\n"
     ]
    },
    {
     "name": "stderr",
     "output_type": "stream",
     "text": [
      "\r",
      "  1%|█                                                                                | 13/999 [00:07<09:54,  1.66it/s]"
     ]
    },
    {
     "name": "stdout",
     "output_type": "stream",
     "text": [
      "page 14\n",
      "['그 겨울, 나는', '그시절 아팠던 우리처럼', 10]\n"
     ]
    },
    {
     "name": "stderr",
     "output_type": "stream",
     "text": [
      "\r",
      "  1%|█▏                                                                               | 14/999 [00:08<09:53,  1.66it/s]"
     ]
    },
    {
     "name": "stdout",
     "output_type": "stream",
     "text": [
      "page 15\n",
      "['올빼미', '나름교훈도있었고잘봤습니다', 8]\n"
     ]
    },
    {
     "name": "stderr",
     "output_type": "stream",
     "text": [
      "\r",
      "  2%|█▏                                                                               | 15/999 [00:08<09:50,  1.67it/s]"
     ]
    },
    {
     "name": "stdout",
     "output_type": "stream",
     "text": [
      "page 16\n",
      "['오늘 밤, 세계에서 이 사랑이 사라진다 해도', '처음에는 조금 지루한데살면서 영화보고 제일많이 울은듯 ㅠㅠ', 8]\n"
     ]
    },
    {
     "name": "stderr",
     "output_type": "stream",
     "text": [
      "\r",
      "  2%|█▎                                                                               | 16/999 [00:09<09:46,  1.68it/s]"
     ]
    },
    {
     "name": "stdout",
     "output_type": "stream",
     "text": [
      "page 17\n",
      "['압꾸정', '무슨 내용을 전달하고 싶은지 모르겠는 영화.. 감동도 재미도 아무것도 못느끼겠고 너무 지루함 ..ㅠㅠ ', 2]\n"
     ]
    },
    {
     "name": "stderr",
     "output_type": "stream",
     "text": [
      "\r",
      "  2%|█▍                                                                               | 17/999 [00:10<09:42,  1.69it/s]"
     ]
    },
    {
     "name": "stdout",
     "output_type": "stream",
     "text": [
      "page 18\n",
      "['압꾸정', '홍필름 특징이 뉴스에 나왔던 실제사례를 하나의 이야기로 만드는 것인데 각본도 촘촘하지 못한데다가 범죄도시처럼 중간을 매워줄 시원한 액션도 없으니 좋은영화는 아니다 ', 5]\n"
     ]
    },
    {
     "name": "stderr",
     "output_type": "stream",
     "text": [
      "\r",
      "  2%|█▍                                                                               | 18/999 [00:10<09:39,  1.69it/s]"
     ]
    },
    {
     "name": "stdout",
     "output_type": "stream",
     "text": [
      "page 19\n",
      "['올빼미', '안보면 후회함. 간만에 영화 보는내내 단 한번도 지루하지 않고, 연기, 스토리 흠잡을곳 없었고 스릴쩌는 영화임.. 류준열 연기력에 몇번이나 소름 돋았는지.. 진짜 2시간내내 지루할틈이 없었음 천만영화 간다면 류준열은 꼭 상받아야할 명작.. ', 10]\n"
     ]
    },
    {
     "name": "stderr",
     "output_type": "stream",
     "text": [
      "\r",
      "  2%|█▌                                                                               | 19/999 [00:11<09:38,  1.69it/s]"
     ]
    },
    {
     "name": "stdout",
     "output_type": "stream",
     "text": [
      "page 20\n",
      "['코코', '진심은 언젠가는 전해진다지.', 8]\n"
     ]
    },
    {
     "name": "stderr",
     "output_type": "stream",
     "text": [
      "\r",
      "  2%|█▌                                                                               | 20/999 [00:11<09:38,  1.69it/s]"
     ]
    },
    {
     "name": "stdout",
     "output_type": "stream",
     "text": [
      "page 21\n",
      "['원피스 필름 레드', '원피스인듯 원피스 아닌듯 ', 6]\n"
     ]
    },
    {
     "name": "stderr",
     "output_type": "stream",
     "text": [
      "\r",
      "  2%|█▋                                                                               | 21/999 [00:12<09:39,  1.69it/s]"
     ]
    },
    {
     "name": "stdout",
     "output_type": "stream",
     "text": [
      "page 22\n",
      "['늑대사냥', '이게 한국관객 수준이다.이런 높은 퀄의 잔혹 액션극에 이따위 평점테러를 한다.울나라애들은 그냥 조폭코믹멜로 아니면 안먹힌다.꽃미남 조폭등 나와서 여주하고 티키타카하면서 액션극 펼치는걸 좋아한다.', 10]\n"
     ]
    },
    {
     "name": "stderr",
     "output_type": "stream",
     "text": [
      "\r",
      "  2%|█▊                                                                               | 22/999 [00:13<09:37,  1.69it/s]"
     ]
    },
    {
     "name": "stdout",
     "output_type": "stream",
     "text": [
      "page 23\n",
      "['와니와 준하', '김희선과 영상 색채, 동화같이 수수한 연출', 10]\n"
     ]
    },
    {
     "name": "stderr",
     "output_type": "stream",
     "text": [
      "\r",
      "  2%|█▊                                                                               | 23/999 [00:13<09:41,  1.68it/s]"
     ]
    },
    {
     "name": "stdout",
     "output_type": "stream",
     "text": [
      "page 24\n",
      "['탄생', '종교나 한국 근현대사에 관심이 있는 사람들에게 추천할 작품. 작은 역에도 참여한 낯익은 배우들이 많았다. 조금만 더 과감히 정리했다면 덜 지루했을 듯', 8]\n"
     ]
    },
    {
     "name": "stderr",
     "output_type": "stream",
     "text": [
      "\r",
      "  2%|█▉                                                                               | 24/999 [00:14<09:39,  1.68it/s]"
     ]
    },
    {
     "name": "stdout",
     "output_type": "stream",
     "text": [
      "page 25\n",
      "['탄생', '연기는 잘했으나 너무 지루해서 졸았어요. 대부분 큰 감동 받으신 거 같아서 놀랍네요. 역시 사람의 생각은 다 다르구나 싶네요.', 2]\n"
     ]
    },
    {
     "name": "stderr",
     "output_type": "stream",
     "text": [
      "\r",
      "  3%|██                                                                               | 25/999 [00:14<09:37,  1.69it/s]"
     ]
    },
    {
     "name": "stdout",
     "output_type": "stream",
     "text": [
      "page 26\n",
      "['벤자민 버튼의 시간은 거꾸로 간다', '10년 뒤에 다시 보면 그 때 또 다른 걸 배울 수 있겠지.', 10]\n"
     ]
    },
    {
     "name": "stderr",
     "output_type": "stream",
     "text": [
      "\r",
      "  3%|██                                                                               | 26/999 [00:15<09:35,  1.69it/s]"
     ]
    },
    {
     "name": "stdout",
     "output_type": "stream",
     "text": [
      "page 27\n",
      "['캡틴 필립스', '오랜만에 심장 쫄깃…씁쓸하다 ㅠㅠ', 9]\n"
     ]
    },
    {
     "name": "stderr",
     "output_type": "stream",
     "text": [
      "\r",
      "  3%|██▏                                                                              | 27/999 [00:16<09:34,  1.69it/s]"
     ]
    },
    {
     "name": "stdout",
     "output_type": "stream",
     "text": [
      "page 28\n",
      "['한산: 용의 출현', '영화는 평타  근데 음향감독인가 녹음감독인가  그쪽종사자가 아니라서 잘은모르겠지만영화보는내내 효과음은 너무크고 그거에 소리마추면 연기자들 대화소리는 너무작고최악이였음 ', 6]\n"
     ]
    },
    {
     "name": "stderr",
     "output_type": "stream",
     "text": [
      "\r",
      "  3%|██▎                                                                              | 28/999 [00:16<09:33,  1.69it/s]"
     ]
    },
    {
     "name": "stdout",
     "output_type": "stream",
     "text": [
      "page 29\n",
      "['탄생', '다큐멘터리 영화같은 느낌과 서양, 특히 프랑스를 미화했다는 단점에도 불구하고 보라고 추천해줄 수 있는 영화. 특히 천주교인이라면 우리나라 최초의 신부님이라는 점만 알고 있었던 부분에서 김대건이라는 사람을 더 잘 알아갈 수 있는 영화인듯. 인생에서 본 영화 중 여운이 가장 길게 남는 영화', 8]\n"
     ]
    },
    {
     "name": "stderr",
     "output_type": "stream",
     "text": [
      "\r",
      "  3%|██▎                                                                              | 29/999 [00:17<09:33,  1.69it/s]"
     ]
    },
    {
     "name": "stdout",
     "output_type": "stream",
     "text": [
      "page 30\n",
      "['올빼미', '류준열에게 상 안주면 진짜 안돼요올빼미 좋은 결과 있기를 기대합니다정말 이젠 굵은 기둥이 된 내배우정말 자랑스러워요', 10]\n"
     ]
    },
    {
     "name": "stderr",
     "output_type": "stream",
     "text": [
      "\r",
      "  3%|██▍                                                                              | 30/999 [00:17<09:44,  1.66it/s]"
     ]
    },
    {
     "name": "stdout",
     "output_type": "stream",
     "text": [
      "page 31\n",
      "['그곳에서만 빛난다', '아름답지않은 현재와 지독히도 현실적인 사랑 이야기, 사랑받으며 자란 이들은 이해할 수 없다. ', 9]\n"
     ]
    },
    {
     "name": "stderr",
     "output_type": "stream",
     "text": [
      "\r",
      "  3%|██▌                                                                              | 31/999 [00:18<09:41,  1.66it/s]"
     ]
    },
    {
     "name": "stdout",
     "output_type": "stream",
     "text": [
      "page 32\n",
      "['폴: 600미터', '베키 친구 죽고 나서 각성하는게 ㅈㄴ이기적이네 헌터가 계속 멘탈 케어 해줬으니 망정이지 계속 우린 죽을거야 툴툴거리고 살아남아도 저러고 살거다 베키같은 ㄴ?ㄴ을 조심해야해', 1]\n"
     ]
    },
    {
     "name": "stderr",
     "output_type": "stream",
     "text": [
      "\r",
      "  3%|██▌                                                                              | 32/999 [00:19<09:38,  1.67it/s]"
     ]
    },
    {
     "name": "stdout",
     "output_type": "stream",
     "text": [
      "page 33\n",
      "['한산 리덕스', '진작에 리덕스판으로 나왔으면 천만 찍었지...', 10]\n"
     ]
    },
    {
     "name": "stderr",
     "output_type": "stream",
     "text": [
      "\r",
      "  3%|██▋                                                                              | 33/999 [00:19<09:36,  1.68it/s]"
     ]
    },
    {
     "name": "stdout",
     "output_type": "stream",
     "text": [
      "page 34\n",
      "['헌트', '좌파와 북한간첩이 하나가되어 전두환 죽이려는 영화임. 전두환 독재를 비판하는건 좋은데 왜 북한 김씨일가의 독재정치에 대해선 너그러운지.. 이런 이중성이 역겨움. 오히려 지금까지도 북한은 수많은 인민들이 김씨일가에  밑에서 착취당하고 굶어죽고있는 이 현실에..(오늘 어린 학생들이 남한영화봤다고 3명을 공개총살당했다는 뉴스가나옴)  독재와 힘없는국민들이 죽는게 정말 안타깝다면 아직까지도 독재가 이어지고있는 북한을 미화해선 안됨 . 영화 처음부터 끝까지 독재가 많이나오는데 뭔가 앞뒤가 다른게 아이러니함', 2]\n"
     ]
    },
    {
     "name": "stderr",
     "output_type": "stream",
     "text": [
      "\r",
      "  3%|██▊                                                                              | 34/999 [00:20<09:33,  1.68it/s]"
     ]
    },
    {
     "name": "stdout",
     "output_type": "stream",
     "text": [
      "page 35\n",
      "['올빼미', '반전에 반전... 진짜 재밌음', 10]\n"
     ]
    },
    {
     "name": "stderr",
     "output_type": "stream",
     "text": [
      "\r",
      "  4%|██▊                                                                              | 35/999 [00:20<09:32,  1.68it/s]"
     ]
    },
    {
     "name": "stdout",
     "output_type": "stream",
     "text": [
      "page 36\n",
      "['한산 리덕스', '그냥 리덕스로 나오지 영화가 더 완성되어진 느낌의 완전판 이제 노량으로 가자', 10]\n"
     ]
    },
    {
     "name": "stderr",
     "output_type": "stream",
     "text": [
      "\r",
      "  4%|██▉                                                                              | 36/999 [00:21<09:29,  1.69it/s]"
     ]
    },
    {
     "name": "stdout",
     "output_type": "stream",
     "text": [
      "page 37\n",
      "['올빼미', '간만에 영화다운영화  적극추천합니다', 10]\n"
     ]
    },
    {
     "name": "stderr",
     "output_type": "stream",
     "text": [
      "\r",
      "  4%|███                                                                              | 37/999 [00:22<09:32,  1.68it/s]"
     ]
    },
    {
     "name": "stdout",
     "output_type": "stream",
     "text": [
      "page 38\n",
      "['오늘 밤, 세계에서 이 사랑이 사라진다 해도', '일본 영화여서 오글거리는 부분이 없지 않아 있지만  막상 끝나고 나면 포스터만 봐도 눈물 광광흘러요 ㅠ 원작소설을 본뒤에 읽으면 등장인물들의 감정을 더 잘 이해할수있을것같아요 소설을 읽은뒤 영화보는 것을 추천드려요.', 10]\n"
     ]
    },
    {
     "name": "stderr",
     "output_type": "stream",
     "text": [
      "\r",
      "  4%|███                                                                              | 38/999 [00:22<09:30,  1.69it/s]"
     ]
    },
    {
     "name": "stdout",
     "output_type": "stream",
     "text": [
      "page 39\n",
      "['낙원의 밤', '차승원 중간에 킬포 ㅈㄴ지림ㅋㅋㅋ 보면서 현웃 완전터지고 개꿀잼', 10]\n"
     ]
    },
    {
     "name": "stderr",
     "output_type": "stream",
     "text": [
      "\r",
      "  4%|███▏                                                                             | 39/999 [00:23<09:29,  1.69it/s]"
     ]
    },
    {
     "name": "stdout",
     "output_type": "stream",
     "text": [
      "page 40\n",
      "['4등', '껍데기를 물려주려는 어른들, 알맹이는 아이들의 몫.', 7]\n"
     ]
    },
    {
     "name": "stderr",
     "output_type": "stream",
     "text": [
      "\r",
      "  4%|███▏                                                                             | 40/999 [00:23<09:26,  1.69it/s]"
     ]
    },
    {
     "name": "stdout",
     "output_type": "stream",
     "text": [
      "page 41\n",
      "['삼국-무영자', '조정에서 죽은 주공도 그림자다. 마지막 부인이 문틈에서 본 장면이 진짜 주공이 나타나서 그림자 도독을 죽이는 모습이였다', 6]\n"
     ]
    },
    {
     "name": "stderr",
     "output_type": "stream",
     "text": [
      "\r",
      "  4%|███▎                                                                             | 41/999 [00:24<09:29,  1.68it/s]"
     ]
    },
    {
     "name": "stdout",
     "output_type": "stream",
     "text": [
      "page 42\n",
      "['올빼미', '전개 연출부족 이라는 전문가스러운 평 다 재쳐두고 그냥 띵작 이였어요. 특히 두 주연 배우들 연기는 역대급이였고 적당한 긴장감과 늘어지는 전개없이 적당한 슬픔과 먹먹함.. 마지막엔 답답함과 여운까지 진짜 재미있게 본 영화네요.. 영화가 끝나고 왜 제목이 올빼미인줄 이해가 갔네요..ㅎ', 10]\n"
     ]
    },
    {
     "name": "stderr",
     "output_type": "stream",
     "text": [
      "\r",
      "  4%|███▍                                                                             | 42/999 [00:25<09:29,  1.68it/s]"
     ]
    },
    {
     "name": "stdout",
     "output_type": "stream",
     "text": [
      "page 43\n",
      "['런', '뭔가 억지스러운 스토리와 연출이 있긴한데 나름 영화가 전하는 메시지는 잘 전달한거같음. 볼만함.', 8]\n"
     ]
    },
    {
     "name": "stderr",
     "output_type": "stream",
     "text": [
      "\r",
      "  4%|███▍                                                                             | 43/999 [00:25<09:27,  1.68it/s]"
     ]
    },
    {
     "name": "stdout",
     "output_type": "stream",
     "text": [
      "page 44\n",
      "['오늘 밤, 세계에서 이 사랑이 사라진다 해도', '나는 눈물이 없는 사람이 아니라 이 영화를보지 않은 사람일 뿐이었다', 10]\n"
     ]
    },
    {
     "name": "stderr",
     "output_type": "stream",
     "text": [
      "\r",
      "  4%|███▌                                                                             | 44/999 [00:26<09:24,  1.69it/s]"
     ]
    },
    {
     "name": "stdout",
     "output_type": "stream",
     "text": [
      "page 45\n",
      "['리멤버', '나쁜 친일파 싫어 천벌 받을꺼야...', 5]\n"
     ]
    },
    {
     "name": "stderr",
     "output_type": "stream",
     "text": [
      "\r",
      "  5%|███▋                                                                             | 45/999 [00:26<09:22,  1.70it/s]"
     ]
    },
    {
     "name": "stdout",
     "output_type": "stream",
     "text": [
      "page 46\n",
      "['공조2: 인터내셔날', ' 영화 전체가 코메디 찍고 있는데 진선규 혼자 진지빨고 범죄도시 컨셉 잡으니까 이질감 든다. 또 윤아 분량 잡아주겠다고 어거지로 쓸대없는 장면 껴넣은게 너무 많아서 시간 아깝다. 그리고 북조선 미화가 심해서 살짝 역하다. 그런거 빼고 머리 비우고 보면 평타는 치는 영화.', 4]\n"
     ]
    },
    {
     "name": "stderr",
     "output_type": "stream",
     "text": [
      "\r",
      "  5%|███▋                                                                             | 46/999 [00:27<09:21,  1.70it/s]"
     ]
    },
    {
     "name": "stdout",
     "output_type": "stream",
     "text": [
      "page 47\n",
      "['에이리언', '이 시대에 이런 상상력과 연출 ㅎㄷㄷ', 9]\n"
     ]
    },
    {
     "name": "stderr",
     "output_type": "stream",
     "text": [
      "\r",
      "  5%|███▊                                                                             | 47/999 [00:27<09:22,  1.69it/s]"
     ]
    },
    {
     "name": "stdout",
     "output_type": "stream",
     "text": [
      "page 48\n",
      "['원피스 필름 레드', '기대했던 것과는 다른 전개...', 8]\n"
     ]
    },
    {
     "name": "stderr",
     "output_type": "stream",
     "text": [
      "\r",
      "  5%|███▉                                                                             | 48/999 [00:28<09:36,  1.65it/s]"
     ]
    },
    {
     "name": "stdout",
     "output_type": "stream",
     "text": [
      "page 49\n",
      "['올빼미', '영화너무재미써요… 시간가는지 모르고 예측불가해서 너무 재밌었어요 !!!! 유해진 류준열 왕멋짐 ..', 10]\n"
     ]
    },
    {
     "name": "stderr",
     "output_type": "stream",
     "text": [
      "\r",
      "  5%|███▉                                                                             | 49/999 [00:29<09:31,  1.66it/s]"
     ]
    },
    {
     "name": "stdout",
     "output_type": "stream",
     "text": [
      "page 50\n",
      "['패신저스', '재밋게 봣네요 머릿 속에 오래도록 남을 좋은 영화', 10]\n"
     ]
    },
    {
     "name": "stderr",
     "output_type": "stream",
     "text": [
      "\r",
      "  5%|████                                                                             | 50/999 [00:29<09:29,  1.67it/s]"
     ]
    },
    {
     "name": "stdout",
     "output_type": "stream",
     "text": [
      "page 51\n",
      "['외계+인 1부', '너무 악평이 많고 평점이 낮아서 기대안하고 봣는데 나름 감독이 무협지갬성이랑 터미네이터를 버무려서 재밋게 만들어서 시도가 참신하던대 뻔한 스토리일순 잇지만 재밋엇음이런영화에 메세지까지 잡으면 everything everywhere at all once 처럼 영화제에서 상 존나 받아야지. 최동훈 감독님 작정하고 만든거 같은데 흥행못해서 킹받겟지만 예술 영화 거장 되고 싶으시면 2부 만드셔서 흥행과는 별개로 유종의 미 거두시길! 응원합니다!', 8]\n"
     ]
    },
    {
     "name": "stderr",
     "output_type": "stream",
     "text": [
      "\r",
      "  5%|████▏                                                                            | 51/999 [00:30<09:26,  1.67it/s]"
     ]
    },
    {
     "name": "stdout",
     "output_type": "stream",
     "text": [
      "page 52\n",
      "['20세기 소녀', '영화 보던 내내 보라와 운호의 사랑을 누구보다 응원했던 사람으로서 결말 부분은 한없이 가슴이 미어지고 눈물이 났습니다 영상미와 연출, 캐스팅도 너무 훌륭하고 영화도 기대했던 만큼 좋았고 여운이 가시지 않는 영화인 것 같습니다 그럴 수는 없겠지만 보라와 운호가 해피엔딩이었다면 어땠을까 궁금하기도 하고요하지만 새드엔딩 이었기에 20세기 소녀는 더욱 의미있는 영화겠죠 ', 10]\n"
     ]
    },
    {
     "name": "stderr",
     "output_type": "stream",
     "text": [
      "\r",
      "  5%|████▏                                                                            | 52/999 [00:30<09:24,  1.68it/s]"
     ]
    },
    {
     "name": "stdout",
     "output_type": "stream",
     "text": [
      "page 53\n",
      "['분노의 추격자', '심플한 납치 스릴러,,', 5]\n"
     ]
    },
    {
     "name": "stderr",
     "output_type": "stream",
     "text": [
      "\r",
      "  5%|████▎                                                                            | 53/999 [00:31<09:21,  1.68it/s]"
     ]
    },
    {
     "name": "stdout",
     "output_type": "stream",
     "text": [
      "page 54\n",
      "['엔시티 드림 더 무비 : 인 어 드림', '엔시티드림더무비인어드림', 1]\n"
     ]
    },
    {
     "name": "stderr",
     "output_type": "stream",
     "text": [
      "\r",
      "  5%|████▍                                                                            | 54/999 [00:32<09:21,  1.68it/s]"
     ]
    },
    {
     "name": "stdout",
     "output_type": "stream",
     "text": [
      "page 55\n",
      "['워 위드 그랜파', '눈이 반짝반짝 빛나는 남주. 보면볼수록 사랑스러움 .오밀조밀하게 잘생김', 8]\n"
     ]
    },
    {
     "name": "stderr",
     "output_type": "stream",
     "text": [
      "\r",
      "  6%|████▍                                                                            | 55/999 [00:32<09:21,  1.68it/s]"
     ]
    },
    {
     "name": "stdout",
     "output_type": "stream",
     "text": [
      "page 56\n",
      "['올빼미', '인조가 질투에 눈멀어 미치는 연기도 소름류준열 맹인 연기도 소름역사를 다시 찾아보게 되는 영화 ', 10]\n"
     ]
    },
    {
     "name": "stderr",
     "output_type": "stream",
     "text": [
      "\r",
      "  6%|████▌                                                                            | 56/999 [00:33<09:19,  1.69it/s]"
     ]
    },
    {
     "name": "stdout",
     "output_type": "stream",
     "text": [
      "page 57\n",
      "['마일 22', '마크윌버그를 조아해서이제야 넷플서 봤는데 잼나네여~시간이 금방 지나감요!!강츄!!', 10]\n"
     ]
    },
    {
     "name": "stderr",
     "output_type": "stream",
     "text": [
      "\r",
      "  6%|████▌                                                                            | 57/999 [00:33<09:18,  1.69it/s]"
     ]
    },
    {
     "name": "stdout",
     "output_type": "stream",
     "text": [
      "page 58\n",
      "['의뢰인', '10년이 지난 영화 치곤 나쁘지 않고 하정우 박희순 장혁 김성령 성동일의 10년전 모습을 보는 것도 하나의 재미. 하지만 10년이 지났지만 다시 봤을 때 띵작 이라고 할 만큼 좋지도 않다 법정 스릴러 좋아 한다면 한번쯤 볼만한 영화 ', 7]\n"
     ]
    },
    {
     "name": "stderr",
     "output_type": "stream",
     "text": [
      "\r",
      "  6%|████▋                                                                            | 58/999 [00:34<09:14,  1.70it/s]"
     ]
    },
    {
     "name": "stdout",
     "output_type": "stream",
     "text": [
      "page 59\n",
      "['압꾸정', '스토리 결말 아쉽지만 중간중간 웃기는 장면들이 많아서 많이 웃고 나왔네요. 킬링타임용으로 생각했는데 기대이상이었어요. ', 9]\n"
     ]
    },
    {
     "name": "stderr",
     "output_type": "stream",
     "text": [
      "\r",
      "  6%|████▊                                                                            | 59/999 [00:35<09:18,  1.68it/s]"
     ]
    },
    {
     "name": "stdout",
     "output_type": "stream",
     "text": [
      "page 60\n",
      "['씽', '볼만한 해피엔딩 만화', 6]\n"
     ]
    },
    {
     "name": "stderr",
     "output_type": "stream",
     "text": [
      "\r",
      "  6%|████▊                                                                            | 60/999 [00:35<09:16,  1.69it/s]"
     ]
    },
    {
     "name": "stdout",
     "output_type": "stream",
     "text": [
      "page 61\n",
      "['리멤버', '보여주고 싶은 게 매우 명확해서 감정선보단 사건 중심으로 흘러가는 영화라 팍 터지는 게 없어 조금 아쉬웠습니다. 플롯 자체랑 주인공, 씁쓸한 엔딩까지는 기가 막혔는데 풀어내는 과정중 극적인 게 별로 없어가지고 .. 물이 끓을랑 말랑하다가 결국 못 끓고 따뜻한 채로 끝난 느낌.. 그래도 역시 연기는 매우 좋았습니다.', 10]\n"
     ]
    },
    {
     "name": "stderr",
     "output_type": "stream",
     "text": [
      "\r",
      "  6%|████▉                                                                            | 61/999 [00:36<09:17,  1.68it/s]"
     ]
    },
    {
     "name": "stdout",
     "output_type": "stream",
     "text": [
      "page 62\n",
      "['해피 데스데이', '이런 연출 좋음', 10]\n"
     ]
    },
    {
     "name": "stderr",
     "output_type": "stream",
     "text": [
      "\r",
      "  6%|█████                                                                            | 62/999 [00:36<09:15,  1.69it/s]"
     ]
    },
    {
     "name": "stdout",
     "output_type": "stream",
     "text": [
      "page 63\n",
      "['거룩한 계보', '최고~ ^^ 너무 즐거운 시간 이었습니다. 이런 영화 나와서 정말 고맙고 감사합니다.', 10]\n"
     ]
    },
    {
     "name": "stderr",
     "output_type": "stream",
     "text": [
      "\r",
      "  6%|█████                                                                            | 63/999 [00:37<09:12,  1.69it/s]"
     ]
    },
    {
     "name": "stdout",
     "output_type": "stream",
     "text": [
      "page 64\n",
      "['오늘 밤, 세계에서 이 사랑이 사라진다 해도', '오늘 보고 왔는데 열심히 울고 웃으니까 영화가 끝났어요... 너무 재밌어서 지금 책으로도 읽는 중인데 남주여주 왤케 예뻐요.. 과몰입하게 되잖아요.. ost도 최고 .. 한 번 더 볼 예정입니다.. 상영관 조금만 더 늘려주세요.. 왕복 2시간 반 걸려서 보고 왔어요 하유ㅠ', 10]\n"
     ]
    },
    {
     "name": "stderr",
     "output_type": "stream",
     "text": [
      "\r",
      "  6%|█████▏                                                                           | 64/999 [00:38<09:12,  1.69it/s]"
     ]
    },
    {
     "name": "stdout",
     "output_type": "stream",
     "text": [
      "page 65\n",
      "['데시벨', '이 영화에 나오는 어뢰를 축구대표팀으로 영입해라. 탈압박 월클이다.', 7]\n"
     ]
    },
    {
     "name": "stderr",
     "output_type": "stream",
     "text": [
      "\r",
      "  7%|█████▎                                                                           | 65/999 [00:38<09:09,  1.70it/s]"
     ]
    },
    {
     "name": "stdout",
     "output_type": "stream",
     "text": [
      "page 66\n",
      "['오늘 밤, 세계에서 이 사랑이 사라진다 해도', '예상했던 익숙하고 많이 먹어봤지만 맛있는 그 맛!', 7]\n"
     ]
    },
    {
     "name": "stderr",
     "output_type": "stream",
     "text": [
      "\r",
      "  7%|█████▎                                                                           | 66/999 [00:39<09:09,  1.70it/s]"
     ]
    },
    {
     "name": "stdout",
     "output_type": "stream",
     "text": [
      "page 67\n",
      "['클로버필드 10번지', '이거 아예 전작을 모르는사람이 봐야 재밌음.. 지금 스릴이 필요한 당신에게 추천..', 10]\n"
     ]
    },
    {
     "name": "stderr",
     "output_type": "stream",
     "text": [
      "\r",
      "  7%|█████▍                                                                           | 67/999 [00:39<09:24,  1.65it/s]"
     ]
    },
    {
     "name": "stdout",
     "output_type": "stream",
     "text": [
      "page 68\n",
      "['오늘 밤, 세계에서 이 사랑이 사라진다 해도', '진짜 눈물 없인 볼 수 없는 띵작..', 10]\n"
     ]
    },
    {
     "name": "stderr",
     "output_type": "stream",
     "text": [
      "\r",
      "  7%|█████▌                                                                           | 68/999 [00:40<09:19,  1.66it/s]"
     ]
    },
    {
     "name": "stdout",
     "output_type": "stream",
     "text": [
      "page 69\n",
      "['원피스 필름 레드', '정말 재밌게 봤습니다노래가 짱짱 좋아요', 10]\n"
     ]
    },
    {
     "name": "stderr",
     "output_type": "stream",
     "text": [
      "\r",
      "  7%|█████▌                                                                           | 69/999 [00:41<09:15,  1.67it/s]"
     ]
    },
    {
     "name": "stdout",
     "output_type": "stream",
     "text": [
      "page 70\n",
      "['토르: 러브 앤 썬더', '정신없다 정신없어 북유럽에 그리스까지 돈되면 다 갖다붙이네', 2]\n"
     ]
    },
    {
     "name": "stderr",
     "output_type": "stream",
     "text": [
      "\r",
      "  7%|█████▋                                                                           | 70/999 [00:41<09:13,  1.68it/s]"
     ]
    },
    {
     "name": "stdout",
     "output_type": "stream",
     "text": [
      "page 71\n",
      "['원피스 필름 레드', '폴란드에서 11월초에 아이맥스로 보고옴.. 노래와 효과로 떡칠 되어있음.. 과연 이게 스토리와 상관이 있나 그냥 끼워 넣기 아닌가 초반에는 원피스 뽕에 차서보다가 점점 이게 맞나 라는 생각이 드는 영화임..', 4]\n"
     ]
    },
    {
     "name": "stderr",
     "output_type": "stream",
     "text": [
      "\r",
      "  7%|█████▊                                                                           | 71/999 [00:42<09:15,  1.67it/s]"
     ]
    },
    {
     "name": "stdout",
     "output_type": "stream",
     "text": [
      "page 72\n",
      "['소셜포비아', '플랫폼의 진화에 따른 개인과 사회가 발산하는 폭력의 수렴을 피할 수 없는 세상이 되었다. 다른 이를 비난하는 동시에 나 또한 비난의 대상이 된다.', 7]\n"
     ]
    },
    {
     "name": "stderr",
     "output_type": "stream",
     "text": [
      "\r",
      "  7%|█████▊                                                                           | 72/999 [00:42<09:18,  1.66it/s]"
     ]
    },
    {
     "name": "stdout",
     "output_type": "stream",
     "text": [
      "page 73\n",
      "['데시벨', '기대 별로 안했는데 전 너무 재밌게 봤어요 연기도 다들 너무 좋았어요 ㅠㅠ 추천합니다 !', 10]\n"
     ]
    },
    {
     "name": "stderr",
     "output_type": "stream",
     "text": [
      "\r",
      "  7%|█████▉                                                                           | 73/999 [00:43<09:15,  1.67it/s]"
     ]
    },
    {
     "name": "stdout",
     "output_type": "stream",
     "text": [
      "page 74\n",
      "['크리스마스 위드 유', '따뜻하고 자극적이지 않은 크리스마스 영화입니다', 10]\n"
     ]
    },
    {
     "name": "stderr",
     "output_type": "stream",
     "text": [
      "\r",
      "  7%|██████                                                                           | 74/999 [00:44<09:12,  1.67it/s]"
     ]
    },
    {
     "name": "stdout",
     "output_type": "stream",
     "text": [
      "page 75\n",
      "['본즈 앤 올', '마지막의 그 충격과 먹먹함을 잊을 수 없다. ', 9]\n"
     ]
    },
    {
     "name": "stderr",
     "output_type": "stream",
     "text": [
      "\r",
      "  8%|██████                                                                           | 75/999 [00:44<09:13,  1.67it/s]"
     ]
    },
    {
     "name": "stdout",
     "output_type": "stream",
     "text": [
      "page 76\n",
      "['올빼미', '볼만한 사극 영화였어요.', 9]\n"
     ]
    },
    {
     "name": "stderr",
     "output_type": "stream",
     "text": [
      "\r",
      "  8%|██████▏                                                                          | 76/999 [00:45<09:09,  1.68it/s]"
     ]
    },
    {
     "name": "stdout",
     "output_type": "stream",
     "text": [
      "page 77\n",
      "['압꾸정', '믿고 보는 마블리넘 재미있었다.범죄의도시2도 넘 재미있었고~', 10]\n"
     ]
    },
    {
     "name": "stderr",
     "output_type": "stream",
     "text": [
      "\r",
      "  8%|██████▏                                                                          | 77/999 [00:45<09:06,  1.69it/s]"
     ]
    },
    {
     "name": "stdout",
     "output_type": "stream",
     "text": [
      "page 78\n",
      "['원피스 필름 레드', '안 좋은 평이 많아서 기대치를 낮추고 갔더니 정말 재밌게 보고 옴.이번 극장판 테마가 노래라 노래하는 장면이 많은데 나중에 볼거면 차라리 극장에서 보는 걸 강추일반 스피커로 듣는 거랑 차이가 매우 클 것 같다.Ado팬이라 노래 나올 때마다 너무 즐거웠다.. 안 좋은 노래가 없음 b 전투,액션씬을 원하는 사람, 노래 싫어하는 사람은 비추', 10]\n"
     ]
    },
    {
     "name": "stderr",
     "output_type": "stream",
     "text": [
      "\r",
      "  8%|██████▎                                                                          | 78/999 [00:46<09:07,  1.68it/s]"
     ]
    },
    {
     "name": "stdout",
     "output_type": "stream",
     "text": [
      "page 79\n",
      "['블랙 팬서: 와칸다 포에버', '보는동안 너무 지루했고 사건의 주범인 아이언하트 넘겨주고 끝냈으면 좋겠다 생각했음 cg도 구리고 액션신도 너무구림..아이언하트 끼워팔다 둘다망하게생김 너무 비호감..  ', 1]\n"
     ]
    },
    {
     "name": "stderr",
     "output_type": "stream",
     "text": [
      "\r",
      "  8%|██████▍                                                                          | 79/999 [00:47<09:04,  1.69it/s]"
     ]
    },
    {
     "name": "stdout",
     "output_type": "stream",
     "text": [
      "page 80\n",
      "['로그 원: 스타워즈 스토리', '뭐하나 빠지는게 없이 완벽한 작품이네요. 거대한 스케일과 어두운 분위기의 스타워즈가 마음을 아프게 합니다. 모든 전쟁에는 승리가 없다. 수많은 죽음, 엄청난 희생과 고통속에서 피어난 한가닥 희망. 긴 여운이 남은 영화입니다. ', 10]\n"
     ]
    },
    {
     "name": "stderr",
     "output_type": "stream",
     "text": [
      "\r",
      "  8%|██████▍                                                                          | 80/999 [00:47<09:04,  1.69it/s]"
     ]
    },
    {
     "name": "stdout",
     "output_type": "stream",
     "text": [
      "page 81\n",
      "['오늘 밤, 세계에서 이 사랑이 사라진다 해도', '일본애들 연기는 왜이리 오글오글할까', 8]\n"
     ]
    },
    {
     "name": "stderr",
     "output_type": "stream",
     "text": [
      "\r",
      "  8%|██████▌                                                                          | 81/999 [00:48<09:05,  1.68it/s]"
     ]
    },
    {
     "name": "stdout",
     "output_type": "stream",
     "text": [
      "page 82\n",
      "['B컷', '9.35 아줌마부대 ㅅㅂ. ', 1]\n"
     ]
    },
    {
     "name": "stderr",
     "output_type": "stream",
     "text": [
      "\r",
      "  8%|██████▋                                                                          | 82/999 [00:48<09:05,  1.68it/s]"
     ]
    },
    {
     "name": "stdout",
     "output_type": "stream",
     "text": [
      "page 83\n",
      "['탄생', '연말에 좋은 영화를 상영해 주어서 감사합니다. 너무 감동을 주려하지 않고 담백하게 내용을 담아서 더 좋았습니다', 10]\n"
     ]
    },
    {
     "name": "stderr",
     "output_type": "stream",
     "text": [
      "\r",
      "  8%|██████▋                                                                          | 83/999 [00:49<09:04,  1.68it/s]"
     ]
    },
    {
     "name": "stdout",
     "output_type": "stream",
     "text": [
      "page 84\n",
      "['극장판 짱구는 못말려: 수수께끼! 꽃피는 천하떡잎학교', '유치해도 본질을 꿰뚫는 화두부리부리부리~~', 10]\n"
     ]
    },
    {
     "name": "stderr",
     "output_type": "stream",
     "text": [
      "\r",
      "  8%|██████▊                                                                          | 84/999 [00:50<09:04,  1.68it/s]"
     ]
    },
    {
     "name": "stdout",
     "output_type": "stream",
     "text": [
      "page 85\n",
      "['콰이어트 플레이스', '스토리 개망 개연성 제로연기력 똥망', 1]\n"
     ]
    },
    {
     "name": "stderr",
     "output_type": "stream",
     "text": [
      "\r",
      "  9%|██████▉                                                                          | 85/999 [00:50<09:16,  1.64it/s]"
     ]
    },
    {
     "name": "stdout",
     "output_type": "stream",
     "text": [
      "page 86\n",
      "['탄생', '천주교도나 근대사에 대해 관심있는 사람들이 보면 좋을 영화 단 한산처럼 액션이나 박진감 넘치는 무언가를 기대하는 사람들은 비추천 이 영화 자체가 시대적 배경에 한 인물에 대한 서사시를 잔잔하게 그려내니 빠른 전개와 액션 좋아하는 사람들에겐 지루할 수 있음', 8]\n"
     ]
    },
    {
     "name": "stderr",
     "output_type": "stream",
     "text": [
      "\r",
      "  9%|██████▉                                                                          | 86/999 [00:51<09:11,  1.66it/s]"
     ]
    },
    {
     "name": "stdout",
     "output_type": "stream",
     "text": [
      "page 87\n",
      "['오늘 밤, 세계에서 이 사랑이 사라진다 해도', '진짜 마음을 울렸습니다.', 10]\n"
     ]
    },
    {
     "name": "stderr",
     "output_type": "stream",
     "text": [
      "\r",
      "  9%|███████                                                                          | 87/999 [00:51<09:07,  1.67it/s]"
     ]
    },
    {
     "name": "stdout",
     "output_type": "stream",
     "text": [
      "page 88\n",
      "['극한직업', '너무 웃긴 영화 꼭 한번 보시기를', 10]\n"
     ]
    },
    {
     "name": "stderr",
     "output_type": "stream",
     "text": [
      "\r",
      "  9%|███████▏                                                                         | 88/999 [00:52<09:06,  1.67it/s]"
     ]
    },
    {
     "name": "stdout",
     "output_type": "stream",
     "text": [
      "page 89\n",
      "['실종', '그래도 일본 영화에 한번 더 기대를 하게 만드는 웰메이드 스릴러', 10]\n"
     ]
    },
    {
     "name": "stderr",
     "output_type": "stream",
     "text": [
      "\r",
      "  9%|███████▏                                                                         | 89/999 [00:53<09:04,  1.67it/s]"
     ]
    },
    {
     "name": "stdout",
     "output_type": "stream",
     "text": [
      "page 90\n",
      "['스파이더맨: 뉴 유니버스', '눈을 못 떼고 본.. 최고다 ', 10]\n"
     ]
    },
    {
     "name": "stderr",
     "output_type": "stream",
     "text": [
      "\r",
      "  9%|███████▎                                                                         | 90/999 [00:53<09:02,  1.68it/s]"
     ]
    },
    {
     "name": "stdout",
     "output_type": "stream",
     "text": [
      "page 91\n",
      "['블랙 팬서: 와칸다 포에버', '처음에 액션이나 스토리 전개는 나쁘지 않음 그러나 중간에 너무 지루해서 자버림… 그냥 추모에 너무 중심이 되있는거 같음', 4]\n"
     ]
    },
    {
     "name": "stderr",
     "output_type": "stream",
     "text": [
      "\r",
      "  9%|███████▍                                                                         | 91/999 [00:54<09:01,  1.68it/s]"
     ]
    },
    {
     "name": "stdout",
     "output_type": "stream",
     "text": [
      "page 92\n",
      "['인생은 아름다워', '다시 깨닫게 해주는 ...', 10]\n"
     ]
    },
    {
     "name": "stderr",
     "output_type": "stream",
     "text": [
      "\r",
      "  9%|███████▍                                                                         | 92/999 [00:54<09:02,  1.67it/s]"
     ]
    },
    {
     "name": "stdout",
     "output_type": "stream",
     "text": [
      "page 93\n",
      "['탄생', '영화가 끝나고 긴 여운이 남아 쉽게 일어 나기가 힘들었다  꼭 추천하고픈 영화다', 10]\n"
     ]
    },
    {
     "name": "stderr",
     "output_type": "stream",
     "text": [
      "\r",
      "  9%|███████▌                                                                         | 93/999 [00:55<09:05,  1.66it/s]"
     ]
    },
    {
     "name": "stdout",
     "output_type": "stream",
     "text": [
      "page 94\n",
      "['올빼미', '진짜 재밌게 봤습니다…', 10]\n"
     ]
    },
    {
     "name": "stderr",
     "output_type": "stream",
     "text": [
      "\r",
      "  9%|███████▌                                                                         | 94/999 [00:56<09:04,  1.66it/s]"
     ]
    },
    {
     "name": "stdout",
     "output_type": "stream",
     "text": [
      "page 95\n",
      "['원피스 필름 레드', '노잼', 1]\n"
     ]
    },
    {
     "name": "stderr",
     "output_type": "stream",
     "text": [
      "\r",
      " 10%|███████▋                                                                         | 95/999 [00:56<09:03,  1.66it/s]"
     ]
    },
    {
     "name": "stdout",
     "output_type": "stream",
     "text": [
      "page 96\n",
      "['노엘 다이어리', '잔잔하게 재미 없음크게 몰입되지 않아요', 2]\n"
     ]
    },
    {
     "name": "stderr",
     "output_type": "stream",
     "text": [
      "\r",
      " 10%|███████▊                                                                         | 96/999 [00:57<09:02,  1.66it/s]"
     ]
    },
    {
     "name": "stdout",
     "output_type": "stream",
     "text": [
      "page 97\n",
      "['신세계', '굿굿 다시봐도 명작몰입도 지림', 10]\n"
     ]
    },
    {
     "name": "stderr",
     "output_type": "stream",
     "text": [
      "\r",
      " 10%|███████▊                                                                         | 97/999 [00:57<09:02,  1.66it/s]"
     ]
    },
    {
     "name": "stdout",
     "output_type": "stream",
     "text": [
      "page 98\n",
      "['판도라', 'ㄴㅈ', 1]\n"
     ]
    },
    {
     "name": "stderr",
     "output_type": "stream",
     "text": [
      "\r",
      " 10%|███████▉                                                                         | 98/999 [00:58<08:59,  1.67it/s]"
     ]
    },
    {
     "name": "stdout",
     "output_type": "stream",
     "text": [
      "page 99\n",
      "['원피스 필름 레드', '노래는 진짜 좋았다걍 보세요', 10]\n"
     ]
    },
    {
     "name": "stderr",
     "output_type": "stream",
     "text": [
      "\r",
      " 10%|████████                                                                         | 99/999 [00:59<08:58,  1.67it/s]"
     ]
    },
    {
     "name": "stdout",
     "output_type": "stream",
     "text": [
      "page 100\n",
      "['올빼미', '스토리를 지루함없이 정말 잘짰고간만에 몰입도좋은 사극영화봐서 재밋었습니다', 10]\n"
     ]
    },
    {
     "name": "stderr",
     "output_type": "stream",
     "text": [
      "\r",
      " 10%|████████                                                                        | 100/999 [00:59<08:56,  1.68it/s]"
     ]
    },
    {
     "name": "stdout",
     "output_type": "stream",
     "text": [
      "page 101\n",
      "['블루 발렌타인', '그래도 사랑해서 결혼하고 예쁜 딸이 있는데 문제가 있으면 서로 대화를 해가면서 맞춰가고 상담도 해보고 노력해봐야지..;  그렇게 그냥 내치면 저 남편은 어쩌라는거야 이 무책임하고 이기적인 여자야..', 10]\n"
     ]
    },
    {
     "name": "stderr",
     "output_type": "stream",
     "text": [
      "\r",
      " 10%|████████                                                                        | 101/999 [01:00<08:55,  1.68it/s]"
     ]
    },
    {
     "name": "stdout",
     "output_type": "stream",
     "text": [
      "page 102\n",
      "['오늘 밤, 세계에서 이 사랑이 사라진다 해도', '책은 아직 다 못 읽고 영화 먼저 봤는데 눈물 광광ㅜㅜ 초반엔 조금 지루할 수 있지만 후반엔 눈물만 나와요', 10]\n"
     ]
    },
    {
     "name": "stderr",
     "output_type": "stream",
     "text": [
      "\r",
      " 10%|████████▏                                                                       | 102/999 [01:00<08:52,  1.68it/s]"
     ]
    },
    {
     "name": "stdout",
     "output_type": "stream",
     "text": [
      "page 103\n",
      "['블루 발렌타인', '그래도 사랑해서 결혼하고 예쁜 딸이 있는데 문제가 있으면 서로 대화를 해가면서 맞춰가고 상담도 해보고 노력해봐야지..;  그렇게 그냥 내치면 저 남편은 어쩌라는거야 이 무책임하고 이기적인 여자야..', 10]\n"
     ]
    },
    {
     "name": "stderr",
     "output_type": "stream",
     "text": [
      "\r",
      " 10%|████████▏                                                                       | 103/999 [01:01<09:09,  1.63it/s]"
     ]
    },
    {
     "name": "stdout",
     "output_type": "stream",
     "text": [
      "page 104\n",
      "['오늘 밤, 세계에서 이 사랑이 사라진다 해도', '책은 아직 다 못 읽고 영화 먼저 봤는데 눈물 광광ㅜㅜ 초반엔 조금 지루할 수 있지만 후반엔 눈물만 나와요', 10]\n"
     ]
    },
    {
     "name": "stderr",
     "output_type": "stream",
     "text": [
      "\r",
      " 10%|████████▎                                                                       | 104/999 [01:02<09:03,  1.65it/s]"
     ]
    },
    {
     "name": "stdout",
     "output_type": "stream",
     "text": [
      "page 105\n",
      "['올빼미', '진짜.. 너무 재밌어요  평점 처음 남겨봐요.. 류준열 사랑해요 ...', 10]\n"
     ]
    },
    {
     "name": "stderr",
     "output_type": "stream",
     "text": [
      "\r",
      " 11%|████████▍                                                                       | 105/999 [01:02<08:59,  1.66it/s]"
     ]
    },
    {
     "name": "stdout",
     "output_type": "stream",
     "text": [
      "page 106\n",
      "['오늘 밤, 세계에서 이 사랑이 사라진다 해도', '여운이 깊은 영화인만큼 남주, 여주, 여주 친구 이 셋의 우정과 따뜻함을 느낄 수 있었다. 전날의 기억을 가지고 있지 않아 하루하루를 감흥없이 살아가야하는 여주가 정말 불쌍하지만 반면 모든 상황을 기억하기 때문에 더 고통스럽게 살아가는 사람도 있다. 그 사람은 여주 친구라 해야되나... 후반부에 몰아치는 장면이 너무 인상깊었다.', 10]\n"
     ]
    },
    {
     "name": "stderr",
     "output_type": "stream",
     "text": [
      "\r",
      " 11%|████████▍                                                                       | 106/999 [01:03<08:55,  1.67it/s]"
     ]
    },
    {
     "name": "stdout",
     "output_type": "stream",
     "text": [
      "page 107\n",
      "['탄생', '연말에 따뜻한 영화를 보고 싶었는데 가슴이 웅장해지고 저희 엄마도 계속 우시더라구요. 천주교를 다니진 않지만 잔잔하니 깊은 울림이 있었습니다. 우리나라 역사를 다시 돌아보게 되고 김대건 신부가 젊은 나이에 참 대단했다고 느꼈습니다. 윤시윤 배우도 연기를 참 잘하더군요. 주변 지인들에게 추천하고 싶습니다. ', 10]\n"
     ]
    },
    {
     "name": "stderr",
     "output_type": "stream",
     "text": [
      "\r",
      " 11%|████████▌                                                                       | 107/999 [01:03<08:54,  1.67it/s]"
     ]
    },
    {
     "name": "stdout",
     "output_type": "stream",
     "text": [
      "page 108\n",
      "['오늘 밤, 세계에서 이 사랑이 사라진다 해도', '정말 오랜만에 펑펑 울면서 본 영화', 10]\n"
     ]
    },
    {
     "name": "stderr",
     "output_type": "stream",
     "text": [
      "\r",
      " 11%|████████▋                                                                       | 108/999 [01:04<08:53,  1.67it/s]"
     ]
    },
    {
     "name": "stdout",
     "output_type": "stream",
     "text": [
      "page 109\n",
      "['길버트 그레이프', '잔잔한 것 같으면서도 몰입해서 봤다. 조니뎁 얼굴 덕분에 재미가 2배 3배 4배 디카프리오는 저 어린나이에 자폐연기를 할 수 있다는 것부터가 너무 대단한듯 ', 9]\n"
     ]
    },
    {
     "name": "stderr",
     "output_type": "stream",
     "text": [
      "\r",
      " 11%|████████▋                                                                       | 109/999 [01:05<08:52,  1.67it/s]"
     ]
    },
    {
     "name": "stdout",
     "output_type": "stream",
     "text": [
      "page 110\n",
      "['머니백', '감독하면 안되는 사람이 감독한거같다 ㅋㅋ 억지웃음 ㅋㅋ', 2]\n"
     ]
    },
    {
     "name": "stderr",
     "output_type": "stream",
     "text": [
      "\r",
      " 11%|████████▊                                                                       | 110/999 [01:05<08:49,  1.68it/s]"
     ]
    },
    {
     "name": "stdout",
     "output_type": "stream",
     "text": [
      "page 111\n",
      "['올빼미', '류준열 너무 위험한 짓을 많이 함ㅋㅋㅋㅋ 근데 연기 좋았어요 ?? ? 개인적으로 유해진이 앞부분에서 좀 어색했던 느낌이 들었어요 그래도 넘 재미있게 잘 봤습니다! ', 10]\n"
     ]
    },
    {
     "name": "stderr",
     "output_type": "stream",
     "text": [
      "\r",
      " 11%|████████▉                                                                       | 111/999 [01:06<08:48,  1.68it/s]"
     ]
    },
    {
     "name": "stdout",
     "output_type": "stream",
     "text": [
      "page 112\n",
      "['기생충', '말하고자 하는 메세지가 확실하고 사회의 어려운 계층의 마음을 대변해주는 듯한 영화같이 수상후보에 올랐던 영화들 중에 상을 안타는게 더 이상한 영화 기생충은 거품이 전혀없다 ', 10]\n"
     ]
    },
    {
     "name": "stderr",
     "output_type": "stream",
     "text": [
      "\r",
      " 11%|████████▉                                                                       | 112/999 [01:06<08:48,  1.68it/s]"
     ]
    },
    {
     "name": "stdout",
     "output_type": "stream",
     "text": [
      "page 113\n",
      "['리플리', '이렇게 매력 없는 주인공은 처음본다. 지루한 인간 연기는 잘한듯', 2]\n"
     ]
    },
    {
     "name": "stderr",
     "output_type": "stream",
     "text": [
      "\r",
      " 11%|█████████                                                                       | 113/999 [01:07<08:47,  1.68it/s]"
     ]
    },
    {
     "name": "stdout",
     "output_type": "stream",
     "text": [
      "page 114\n",
      "['클래식', '진짜... 진짜 최고다... 최고의 영화...', 10]\n"
     ]
    },
    {
     "name": "stderr",
     "output_type": "stream",
     "text": [
      "\r",
      " 11%|█████████▏                                                                      | 114/999 [01:07<08:46,  1.68it/s]"
     ]
    },
    {
     "name": "stdout",
     "output_type": "stream",
     "text": [
      "page 115\n",
      "['압꾸정', '생각보다 잼있음 ㅋㅋㅋㅋ 역시 마동석', 9]\n"
     ]
    },
    {
     "name": "stderr",
     "output_type": "stream",
     "text": [
      "\r",
      " 12%|█████████▏                                                                      | 115/999 [01:08<08:43,  1.69it/s]"
     ]
    },
    {
     "name": "stdout",
     "output_type": "stream",
     "text": [
      "page 116\n",
      "['엔시티 드림 더 무비 : 인 어 드림', '전 아직…잠실에서 벗어나지 못했습니다…영화 시작 처음부터 눈물로 시작해…마지막까지 눈물을 흘리며 끝났습니다… 평즈니..가즈아~~', 10]\n"
     ]
    },
    {
     "name": "stderr",
     "output_type": "stream",
     "text": [
      "\r",
      " 12%|█████████▎                                                                      | 116/999 [01:09<08:42,  1.69it/s]"
     ]
    },
    {
     "name": "stdout",
     "output_type": "stream",
     "text": [
      "page 117\n",
      "['올빼미', '재밌게 긴장감 넘처하며 잘 봤습니다', 10]\n"
     ]
    },
    {
     "name": "stderr",
     "output_type": "stream",
     "text": [
      "\r",
      " 12%|█████████▎                                                                      | 117/999 [01:09<08:42,  1.69it/s]"
     ]
    },
    {
     "name": "stdout",
     "output_type": "stream",
     "text": [
      "page 118\n",
      "['본즈 앤 올', '궁극의 멜로란 이런 영화다', 8]\n"
     ]
    },
    {
     "name": "stderr",
     "output_type": "stream",
     "text": [
      "\r",
      " 12%|█████████▍                                                                      | 118/999 [01:10<08:42,  1.68it/s]"
     ]
    },
    {
     "name": "stdout",
     "output_type": "stream",
     "text": [
      "page 119\n",
      "['오늘 밤, 세계에서 이 사랑이 사라진다 해도', '원작 특유의 잔잔하고 서정적인 분위기를 잘 살린 듯... 배우분들 비주얼이랑 연기합 대박 ㅠㅠ', 9]\n"
     ]
    },
    {
     "name": "stderr",
     "output_type": "stream",
     "text": [
      "\r",
      " 12%|█████████▌                                                                      | 119/999 [01:10<08:42,  1.68it/s]"
     ]
    },
    {
     "name": "stdout",
     "output_type": "stream",
     "text": [
      "page 120\n",
      "['데시벨', '미쳤어요 배우들 조합 무슨 일이에요..? 눈정화 미쳤습니다. 연기도 너무 좋았고 사운드, 액션도 좋았습니다 한 번 더 보러가고 싶어요 ', 10]\n"
     ]
    },
    {
     "name": "stderr",
     "output_type": "stream",
     "text": [
      "\r",
      " 12%|█████████▌                                                                      | 120/999 [01:11<08:41,  1.69it/s]"
     ]
    },
    {
     "name": "stdout",
     "output_type": "stream",
     "text": [
      "page 121\n",
      "['언니', '여성 액션의 걸크러쉬 연기를 기대했겠지만 현실은 페티시즘(빨간원피스, 하이힐, 여고생)에 빠진 연출자가 배우들을 섹스어필용으로 소모한게 전부인 영화. 주연배우 두분의 멘탈이 걱정될 뿐.', 4]\n"
     ]
    },
    {
     "name": "stderr",
     "output_type": "stream",
     "text": [
      "\r",
      " 12%|█████████▋                                                                      | 121/999 [01:12<08:40,  1.69it/s]"
     ]
    },
    {
     "name": "stdout",
     "output_type": "stream",
     "text": [
      "page 122\n",
      "['오늘 밤, 세계에서 이 사랑이 사라진다 해도', '너무 슬펐는데 존나 재밌었음 진짜 연인이신 분들이 보면 몰입 개잘됨', 10]\n"
     ]
    },
    {
     "name": "stderr",
     "output_type": "stream",
     "text": [
      "\r",
      " 12%|█████████▊                                                                      | 122/999 [01:12<08:54,  1.64it/s]"
     ]
    },
    {
     "name": "stdout",
     "output_type": "stream",
     "text": [
      "page 123\n",
      "['브로커', '사회문제에 대해 비판을 하고싶다면 그 사회문제에 대해서 누구보다 더 이해도가 높아야한다고 생각한다 나는 그저 영화을 보는 관객일 뿐인데 이 작품의 각본을 쓴 사람은 나보다 미혼모, 가출 청소년 같은 문제에 대해 잘 모르는것 같다적어도 다큐라도 보던가 책이라도 읽던가 기사라도 찾던가 모성애를 보여주려는건지 … 중간에 로맨스는 왜있는거지…?;;베이비 박스 같이 특이하고 유일한 소재를 골랐으면 나같으면 어떻게든 이 작품의 끝을 잘내보려고 했을텐데 산으로가다 결국 모든 상황을 해결하지못해 열린결말로 끝낸게 너무 어이가 없었다 국내에 좋은 영화 더 많은데 왜 이게 칸갔나 싶다 상은 소재와 봉준호 빨 국내에서의 화제성은 칸과 아이유 빨 아닌가? 너무 아쉽다 베이비 박스같은 소재를 이렇게 쓴다는게 감독님께 여쭤보고 싶다 그래서 이 작품을 통해 무슨말을 하고 싶은건가요? 대중들은 당신들이 생각하는 것보다 더 수준이 높다 만약 이 작품의 평점이 낮은 것이 대중들이 예술을 몰라서라고 반박한다면 무관심성에 대해 생각해보길 바랍니다.', 2]\n"
     ]
    },
    {
     "name": "stderr",
     "output_type": "stream",
     "text": [
      "\r",
      " 12%|█████████▊                                                                      | 123/999 [01:13<08:49,  1.66it/s]"
     ]
    },
    {
     "name": "stdout",
     "output_type": "stream",
     "text": [
      "page 124\n",
      "['오늘 밤, 세계에서 이 사랑이 사라진다 해도', '일본영화의 단골소재, 뻔한 클리셰, 특유의 뽀샤시한 영상미를 다 느낄 수 있는 영화, 비슷한 일본영화들중에서 최근 5년내에서 가장 완성도있지 않았나 싶음. 캐스팅도 좋았고 스토리를 잘 풀어내서 딱히 큰 의문이들지않았음. 그러나 영화의 순수 재미는 그리 크지않음. 일본영화에서 빠지면 아쉬운 주연배우들의 어설픈 연기마저 영화의 설정(아주잘녹아든) 같아서 내가 평하기엔 그냥 완벽히 일본스러운 영화의 끝장판. ', 10]\n"
     ]
    },
    {
     "name": "stderr",
     "output_type": "stream",
     "text": [
      "\r",
      " 12%|█████████▉                                                                      | 124/999 [01:13<08:47,  1.66it/s]"
     ]
    },
    {
     "name": "stdout",
     "output_type": "stream",
     "text": [
      "page 125\n",
      "['조디악', '재밌긴 한데 러닝타임이 너무 길어서 중간에 살짝 졸았음. 좀 더 컴팩트하게 영화를 구성했다면 더 좋았을 듯.', 7]\n"
     ]
    },
    {
     "name": "stderr",
     "output_type": "stream",
     "text": [
      "\r",
      " 13%|██████████                                                                      | 125/999 [01:14<08:45,  1.66it/s]"
     ]
    },
    {
     "name": "stdout",
     "output_type": "stream",
     "text": [
      "page 126\n",
      "['엔시티 드림 더 무비 : 인 어 드림', '일단 처음부터 울컥했구요..애들 한 명씩 서로 소개하는 부분이 너무 좋았음.. 진심 헬퓨 피아노 버전 나올때 울었다 너무 재밌었다 진짜 평드다짐', 10]\n"
     ]
    },
    {
     "name": "stderr",
     "output_type": "stream",
     "text": [
      "\r",
      " 13%|██████████                                                                      | 126/999 [01:15<08:42,  1.67it/s]"
     ]
    },
    {
     "name": "stdout",
     "output_type": "stream",
     "text": [
      "page 127\n",
      "['압꾸정', '아니 다들 영화 평론가나 하지 이정도 개그코드면 보통정도는 웃지 않나??? ', 10]\n"
     ]
    },
    {
     "name": "stderr",
     "output_type": "stream",
     "text": [
      "\r",
      " 13%|██████████▏                                                                     | 127/999 [01:15<08:39,  1.68it/s]"
     ]
    },
    {
     "name": "stdout",
     "output_type": "stream",
     "text": [
      "page 128\n",
      "['올빼미', '리뷰 안쓰는데 최근 본영화중 제일 돈주고 볼만 하고 시간가는줄 모를만큼 재밌게 봤습니다ㅎㅎ', 10]\n"
     ]
    },
    {
     "name": "stderr",
     "output_type": "stream",
     "text": [
      "\r",
      " 13%|██████████▎                                                                     | 128/999 [01:16<08:40,  1.67it/s]"
     ]
    },
    {
     "name": "stdout",
     "output_type": "stream",
     "text": [
      "page 129\n",
      "['토르: 러브 앤 썬더', '어린이영화네 유치해졌네 하는데 40대중반 아저씨인데 재밋게봤음. 마블시리즈에 왜이리 무게를 두는지 그저 오락영화로서 즐거우면 되지. 신나는 액션 코믹한부분 좋았음. sf에서 신파와 무거움은 아이언맨으로 끝이길.', 8]\n"
     ]
    },
    {
     "name": "stderr",
     "output_type": "stream",
     "text": [
      "\r",
      " 13%|██████████▎                                                                     | 129/999 [01:16<08:37,  1.68it/s]"
     ]
    },
    {
     "name": "stdout",
     "output_type": "stream",
     "text": [
      "page 130\n",
      "['오늘 밤, 세계에서 이 사랑이 사라진다 해도', '이렇게 재밌는 일본 영화는 너의 이름은 이후에 처음이에요...진짜 감동이에요 채득 앞부분 읽다가 말았는데 다시 읽어야 될 것 같아요', 10]\n"
     ]
    },
    {
     "name": "stderr",
     "output_type": "stream",
     "text": [
      "\r",
      " 13%|██████████▍                                                                     | 130/999 [01:17<08:38,  1.68it/s]"
     ]
    },
    {
     "name": "stdout",
     "output_type": "stream",
     "text": [
      "page 131\n",
      "['다이 하드 2', '브루스 윌리스 형님 주연. 더이상 설명은 필요 없슴', 10]\n"
     ]
    },
    {
     "name": "stderr",
     "output_type": "stream",
     "text": [
      "\r",
      " 13%|██████████▍                                                                     | 131/999 [01:18<08:37,  1.68it/s]"
     ]
    },
    {
     "name": "stdout",
     "output_type": "stream",
     "text": [
      "page 132\n",
      "['스틸워터', '&amp;#34;그들이 보고 싶지 않나요?&amp;#34;&amp;#34;보고 싶어&amp;#34;&amp;#34;돌아갈 순 없나요?&amp;#34;&amp;#34;그럴순 없어... 하지만 행복했어. 그건 변하지 않아.&amp;#34; 아빤 딸에게 못 해준 사랑을 딸을 면회 왔다가 마르세유 모녀에게서 감정을 느끼고 사랑을 한다.이젠 그들과 헤어지고 보고싶어 하고 자신의 행동에 후회하기도 하지만 그 때 그가 느꼈던 감정과 행태들은 진실되기에 지금은 삶의 한 추억으로 소중하게 간직할 수 있지 않을까.나의 지나온 삶들 중 그 선택이 어리석거나 후회스러운 적이 있다. 그러나 그건 그 순간에 결정되어진 결과이지 그 과정이_여기서 말 하는 과정은 그 나쁜 선택을 가져온 원인이 아닌 그냥 삶의 자취 같은 것으로 만남과 사랑등 어떤 인연에 대한 삶의 자세가 진실되다면 나중의 삶이 결과론적으로 고독하더라도 기억 저편엔 &amp;#39;푸른&amp;#39;좋음이 남아 인생을 좀 더 값지고 윤택하게 하지 않을까...', 10]\n"
     ]
    },
    {
     "name": "stderr",
     "output_type": "stream",
     "text": [
      "\r",
      " 13%|██████████▌                                                                     | 132/999 [01:18<08:38,  1.67it/s]"
     ]
    },
    {
     "name": "stdout",
     "output_type": "stream",
     "text": [
      "page 133\n",
      "['헤어질 결심', '아이러니. 타이밍. 모든것이 어긋난, 마침내 완성된진실된사랑. ', 10]\n"
     ]
    },
    {
     "name": "stderr",
     "output_type": "stream",
     "text": [
      "\r",
      " 13%|██████████▋                                                                     | 133/999 [01:19<08:34,  1.68it/s]"
     ]
    },
    {
     "name": "stdout",
     "output_type": "stream",
     "text": [
      "page 134\n",
      "['올빼미', '한국 사극영화중 이렇게 손에 땀이 날 정도라니 류준열 올빼미 그잡채 입니다. ', 10]\n"
     ]
    },
    {
     "name": "stderr",
     "output_type": "stream",
     "text": [
      "\r",
      " 13%|██████████▋                                                                     | 134/999 [01:19<08:33,  1.69it/s]"
     ]
    },
    {
     "name": "stdout",
     "output_type": "stream",
     "text": [
      "page 135\n",
      "['비상선언', '배우들이 넘 아까운 최악의 영화', 2]\n"
     ]
    },
    {
     "name": "stderr",
     "output_type": "stream",
     "text": [
      "\r",
      " 14%|██████████▊                                                                     | 135/999 [01:20<08:34,  1.68it/s]"
     ]
    },
    {
     "name": "stdout",
     "output_type": "stream",
     "text": [
      "page 136\n",
      "['올빼미', '한 줄의 사료로 이런 스토리를 만들다니,, 끝까지 몰입해서 봤어요!', 10]\n"
     ]
    },
    {
     "name": "stderr",
     "output_type": "stream",
     "text": [
      "\r",
      " 14%|██████████▉                                                                     | 136/999 [01:21<08:34,  1.68it/s]"
     ]
    },
    {
     "name": "stdout",
     "output_type": "stream",
     "text": [
      "page 137\n",
      "['올빼미', '근래 본 영화중 최고..스토리 연기 음 좋았읍', 10]\n"
     ]
    },
    {
     "name": "stderr",
     "output_type": "stream",
     "text": [
      "\r",
      " 14%|██████████▉                                                                     | 137/999 [01:21<08:33,  1.68it/s]"
     ]
    },
    {
     "name": "stdout",
     "output_type": "stream",
     "text": [
      "page 138\n",
      "['탄생', '가슴이 먹먹해지는 진한 여운이 있는 영화윤시윤의 연기.. 너무 잘합니다!', 10]\n"
     ]
    },
    {
     "name": "stderr",
     "output_type": "stream",
     "text": [
      "\r",
      " 14%|███████████                                                                     | 138/999 [01:22<08:31,  1.68it/s]"
     ]
    },
    {
     "name": "stdout",
     "output_type": "stream",
     "text": [
      "page 139\n",
      "['오늘 밤, 세계에서 이 사랑이 사라진다 해도', '색감, 장소, 소품 같은 시각적인요소 좋았다 일본특유 작위적인 연기, 말투 없어서 좋았다. 개인적으로 영화에서 내가 현실에서 접하는 실제 알람소리나 전화소리 들으면 제 4의 벽깨지는 느낌이었는데 이 작품은 여자주인공 알람소리나 전화소리, 작품에 맞는 사운드를 넣어줘서 좋았다.근데 스토리는 좀 문제가 많이 있다 너의 췌장을 먹고싶어, 내일의 나는 너를 만난다? 의 복제본을 보는 느낌표절을 한거같다는 말이 아니라학창시절의 아련한 사랑을 병이나 죽음이 아니면 표현을 못하나보다… 작중 남자주인공에게 큰 시련이 닥치는데 그때 이후로 완전 흥깨짐 공감도 안되고 안슬펐다 일본영화 찾아보는 편은 아니라 … 일본영화시장을 일반화 하긴 싫다 근데 국내 개봉했던 일본의 유명한 영화들은 다 왜 스토리가 이 모양일까 싶다…그리고 떡밥회수 잘해줘서 고맙긴한데 영화 초반 내용이 이후내용과 인과성이 전혀없다 주인공이 괴롭힘 받는 친구를 도와준 설정은 뭘까 싶다 차라리 주인공이 괴롭힘 받고 있었던게 더 납득이 될듯 ( 양아치 친구들도 왜 남주를 괴롭히는 건지 모르겠다;; 그래서 누가 왕따인건데 억지 감동 슬픔 영화라기엔 감동도 없고 슬픔도 없었음여주가 이쁘고 남주가 잘생겼다 끝 .안봐도 봐도 인생에 딱히 영향 없을 영화 ', 4]\n"
     ]
    },
    {
     "name": "stderr",
     "output_type": "stream",
     "text": [
      "\r",
      " 14%|███████████▏                                                                    | 139/999 [01:22<08:29,  1.69it/s]"
     ]
    },
    {
     "name": "stdout",
     "output_type": "stream",
     "text": [
      "page 140\n",
      "['드라이브', 'ost하나로 매운맛이 달콤한 맛으로 변하는 신기한영화 ', 8]\n"
     ]
    },
    {
     "name": "stderr",
     "output_type": "stream",
     "text": [
      "\r",
      " 14%|███████████▏                                                                    | 140/999 [01:23<08:40,  1.65it/s]"
     ]
    },
    {
     "name": "stdout",
     "output_type": "stream",
     "text": [
      "page 141\n",
      "['유포자들', '유치원학예회 보다 못한 수준ㅜ', 1]\n"
     ]
    },
    {
     "name": "stderr",
     "output_type": "stream",
     "text": [
      "\r",
      " 14%|███████████▎                                                                    | 141/999 [01:24<08:36,  1.66it/s]"
     ]
    },
    {
     "name": "stdout",
     "output_type": "stream",
     "text": [
      "page 142\n",
      "['양자경의 더 모든 날 모든 순간', '어려운영화...힘들었음', 6]\n"
     ]
    },
    {
     "name": "stderr",
     "output_type": "stream",
     "text": [
      "\r",
      " 14%|███████████▎                                                                    | 142/999 [01:24<08:33,  1.67it/s]"
     ]
    },
    {
     "name": "stdout",
     "output_type": "stream",
     "text": [
      "page 143\n",
      "['탄생', '눈물이 계속 났습니다.. 마음과 영혼이 씻기는 느낌이었습니다. 감사합니다.', 10]\n"
     ]
    },
    {
     "name": "stderr",
     "output_type": "stream",
     "text": [
      "\r",
      " 14%|███████████▍                                                                    | 143/999 [01:25<08:32,  1.67it/s]"
     ]
    },
    {
     "name": "stdout",
     "output_type": "stream",
     "text": [
      "page 144\n",
      "['원피스 필름 레드', '재밌는데? 우타 최고다', 10]\n"
     ]
    },
    {
     "name": "stderr",
     "output_type": "stream",
     "text": [
      "\r",
      " 14%|███████████▌                                                                    | 144/999 [01:25<08:31,  1.67it/s]"
     ]
    },
    {
     "name": "stdout",
     "output_type": "stream",
     "text": [
      "page 145\n",
      "['오늘 밤, 세계에서 이 사랑이 사라진다 해도', '진짜 너무너무 슬픔ㅠㅠ 소설은 아직 못 봤지만 서설도 꼭 읽어봐야겠다.. 울 준비 각오하시고 가야해요. 휴지랑 여유분 마스크 꼭 넉넉히 챙기고 가세요ㅜㅜㅜ ', 10]\n"
     ]
    },
    {
     "name": "stderr",
     "output_type": "stream",
     "text": [
      "\r",
      " 15%|███████████▌                                                                    | 145/999 [01:26<08:31,  1.67it/s]"
     ]
    },
    {
     "name": "stdout",
     "output_type": "stream",
     "text": [
      "page 146\n",
      "['압꾸정', '개그코드만 잘 맞는다면 재미있게 볼 수 있을 거예요뒷자리에 가족끼리 온 거 같았는데 아이들은 엄청 재밌게 보더라고요. 제 옆자리에 앉으신 분도 보면서 엄청 웃으셨어요. 전 그럭저럭 보고 온 거 같아요. ', 8]\n"
     ]
    },
    {
     "name": "stderr",
     "output_type": "stream",
     "text": [
      "\r",
      " 15%|███████████▋                                                                    | 146/999 [01:27<08:32,  1.67it/s]"
     ]
    },
    {
     "name": "stdout",
     "output_type": "stream",
     "text": [
      "page 147\n",
      "['탄생', '많이 울었어요 ㅠㅠ 감동 그 자체입니다', 10]\n"
     ]
    },
    {
     "name": "stderr",
     "output_type": "stream",
     "text": [
      "\r",
      " 15%|███████████▊                                                                    | 147/999 [01:27<08:31,  1.67it/s]"
     ]
    },
    {
     "name": "stdout",
     "output_type": "stream",
     "text": [
      "page 148\n",
      "['오늘 밤, 세계에서 이 사랑이 사라진다 해도', '기대했던 만큼 원작에 충실하고 스토리가 좋았고 기대 이상으로 영상미가 너무너무 예뻤다 캡쳐해서 소장하고 싶은 장면이 많았다. ', 10]\n"
     ]
    },
    {
     "name": "stderr",
     "output_type": "stream",
     "text": [
      "\r",
      " 15%|███████████▊                                                                    | 148/999 [01:28<08:28,  1.67it/s]"
     ]
    },
    {
     "name": "stdout",
     "output_type": "stream",
     "text": [
      "page 149\n",
      "['올빼미', '초반에 지루했다가 그장면에서 충격', 10]\n"
     ]
    },
    {
     "name": "stderr",
     "output_type": "stream",
     "text": [
      "\r",
      " 15%|███████████▉                                                                    | 149/999 [01:28<08:28,  1.67it/s]"
     ]
    },
    {
     "name": "stdout",
     "output_type": "stream",
     "text": [
      "page 150\n",
      "['데시벨', '재밌어요 보고 울었어요ㅠㅠ', 10]\n"
     ]
    },
    {
     "name": "stderr",
     "output_type": "stream",
     "text": [
      "\r",
      " 15%|████████████                                                                    | 150/999 [01:29<08:29,  1.67it/s]"
     ]
    },
    {
     "name": "stdout",
     "output_type": "stream",
     "text": [
      "page 151\n",
      "['그 겨울, 나는', '묘하게 현실적이다. 남주의 변해가는 모습이 돋보인다.', 7]\n"
     ]
    },
    {
     "name": "stderr",
     "output_type": "stream",
     "text": [
      "\r",
      " 15%|████████████                                                                    | 151/999 [01:30<08:26,  1.67it/s]"
     ]
    },
    {
     "name": "stdout",
     "output_type": "stream",
     "text": [
      "page 152\n",
      "['양자경의 더 모든 날 모든 순간', '다시 봐도 재밌다 ㅋㅋㅋ', 9]\n"
     ]
    },
    {
     "name": "stderr",
     "output_type": "stream",
     "text": [
      "\r",
      " 15%|████████████▏                                                                   | 152/999 [01:30<08:25,  1.68it/s]"
     ]
    },
    {
     "name": "stdout",
     "output_type": "stream",
     "text": [
      "page 153\n",
      "['압꾸정', '재밌게 잘봤네요. 생소한 성형쪽에 분야를 영화로 만들어서 약간 흥미롭게 본거 같네요~', 10]\n"
     ]
    },
    {
     "name": "stderr",
     "output_type": "stream",
     "text": [
      "\r",
      " 15%|████████████▎                                                                   | 153/999 [01:31<08:23,  1.68it/s]"
     ]
    },
    {
     "name": "stdout",
     "output_type": "stream",
     "text": [
      "page 154\n",
      "['올빼미', '몰입도 스토리 연기 만점', 10]\n"
     ]
    },
    {
     "name": "stderr",
     "output_type": "stream",
     "text": [
      "\r",
      " 15%|████████████▎                                                                   | 154/999 [01:31<08:22,  1.68it/s]"
     ]
    },
    {
     "name": "stdout",
     "output_type": "stream",
     "text": [
      "page 155\n",
      "['올빼미', '몰입도 스토리 연기 만점', 10]\n"
     ]
    },
    {
     "name": "stderr",
     "output_type": "stream",
     "text": [
      "\r",
      " 16%|████████████▍                                                                   | 155/999 [01:32<08:22,  1.68it/s]"
     ]
    },
    {
     "name": "stdout",
     "output_type": "stream",
     "text": [
      "page 156\n",
      "['올빼미', '오디오 감독님 지림...영화에서 나오는 두근두근 소리가 제 떨리는 심장소리였는지 영화 ost였는지 모르겠습니다. ', 10]\n"
     ]
    },
    {
     "name": "stderr",
     "output_type": "stream",
     "text": [
      "\r",
      " 16%|████████████▍                                                                   | 156/999 [01:33<08:22,  1.68it/s]"
     ]
    },
    {
     "name": "stdout",
     "output_type": "stream",
     "text": [
      "page 157\n",
      "['양자물리학', '영화는 킬링타임용. 근데 양자물리학이라고 제목 붙인 건 생각할수록 웃긴다는.ㅋㅋㅋ ', 5]\n"
     ]
    },
    {
     "name": "stderr",
     "output_type": "stream",
     "text": [
      "\r",
      " 16%|████████████▌                                                                   | 157/999 [01:33<08:21,  1.68it/s]"
     ]
    },
    {
     "name": "stdout",
     "output_type": "stream",
     "text": [
      "page 158\n",
      "['용의자X', '이렇게 가슴찡한 영화였다니...사랑의 연결고리가 하필 &amp;#39;살인&amp;#39;이라는것이 가슴아프고,마지막 편지로 남주의 순전하고 진실한 사랑을 알게된 순간 감동이 더해졌다.출소한뒤의 이야기를 더해 해피엔딩으로 마무리 되었다면 여운이 반감되었을까? 수학의 세상에서만 살던 천재수학자의 행복한 모습까지 그려졌다면 후련했을듯하다.', 10]\n"
     ]
    },
    {
     "name": "stderr",
     "output_type": "stream",
     "text": [
      "\r",
      " 16%|████████████▋                                                                   | 158/999 [01:34<08:21,  1.68it/s]"
     ]
    },
    {
     "name": "stdout",
     "output_type": "stream",
     "text": [
      "page 159\n",
      "['올빼미', '와우 기대없이 봤다가 넘 무서웠어요 잼있네요', 10]\n"
     ]
    },
    {
     "name": "stderr",
     "output_type": "stream",
     "text": [
      "\r",
      " 16%|████████████▋                                                                   | 159/999 [01:34<08:36,  1.63it/s]"
     ]
    },
    {
     "name": "stdout",
     "output_type": "stream",
     "text": [
      "page 160\n",
      "['올빼미', '와우 기대없이 봤다가 넘 무서웠어요 잼있네요', 10]\n"
     ]
    },
    {
     "name": "stderr",
     "output_type": "stream",
     "text": [
      "\r",
      " 16%|████████████▊                                                                   | 160/999 [01:35<08:31,  1.64it/s]"
     ]
    },
    {
     "name": "stdout",
     "output_type": "stream",
     "text": [
      "page 161\n",
      "['올빼미', '와우 기대없이 봤다가 넘 무서웠어요 잼있네요', 10]\n"
     ]
    },
    {
     "name": "stderr",
     "output_type": "stream",
     "text": [
      "\r",
      " 16%|████████████▉                                                                   | 161/999 [01:36<08:26,  1.65it/s]"
     ]
    },
    {
     "name": "stdout",
     "output_type": "stream",
     "text": [
      "page 162\n",
      "['탄생', '아픈 역사, 안타까운 역사.', 10]\n"
     ]
    },
    {
     "name": "stderr",
     "output_type": "stream",
     "text": [
      "\r",
      " 16%|████████████▉                                                                   | 162/999 [01:36<08:22,  1.66it/s]"
     ]
    },
    {
     "name": "stdout",
     "output_type": "stream",
     "text": [
      "page 163\n",
      "['탄생', '아픈 역사, 안타까운 역사.', 10]\n"
     ]
    },
    {
     "name": "stderr",
     "output_type": "stream",
     "text": [
      "\r",
      " 16%|█████████████                                                                   | 163/999 [01:37<08:21,  1.67it/s]"
     ]
    },
    {
     "name": "stdout",
     "output_type": "stream",
     "text": [
      "page 164\n",
      "['탄생', '아픈 역사, 안타까운 역사.', 10]\n"
     ]
    },
    {
     "name": "stderr",
     "output_type": "stream",
     "text": [
      "\r",
      " 16%|█████████████▏                                                                  | 164/999 [01:37<08:18,  1.67it/s]"
     ]
    },
    {
     "name": "stdout",
     "output_type": "stream",
     "text": [
      "page 165\n",
      "['탄생', '아픈 역사, 안타까운 역사.', 10]\n"
     ]
    },
    {
     "name": "stderr",
     "output_type": "stream",
     "text": [
      "\r",
      " 17%|█████████████▏                                                                  | 165/999 [01:38<08:15,  1.68it/s]"
     ]
    },
    {
     "name": "stdout",
     "output_type": "stream",
     "text": [
      "page 166\n",
      "['고속도로 가족', '흠...무슨....', 1]\n"
     ]
    },
    {
     "name": "stderr",
     "output_type": "stream",
     "text": [
      "\r",
      " 17%|█████████████▎                                                                  | 166/999 [01:39<08:14,  1.68it/s]"
     ]
    },
    {
     "name": "stdout",
     "output_type": "stream",
     "text": [
      "page 167\n",
      "['고속도로 가족', '흠...무슨....', 1]\n"
     ]
    },
    {
     "name": "stderr",
     "output_type": "stream",
     "text": [
      "\r",
      " 17%|█████████████▎                                                                  | 167/999 [01:39<08:13,  1.69it/s]"
     ]
    },
    {
     "name": "stdout",
     "output_type": "stream",
     "text": [
      "page 168\n",
      "['헤어질 결심', '엔딩 크레딧 올라가며 안개가 울려퍼지는 바다에서 무너지고 깨어진 날 발견... 최고의 로맨스 영화네요.', 10]\n"
     ]
    },
    {
     "name": "stderr",
     "output_type": "stream",
     "text": [
      "\r",
      " 17%|█████████████▍                                                                  | 168/999 [01:40<08:12,  1.69it/s]"
     ]
    },
    {
     "name": "stdout",
     "output_type": "stream",
     "text": [
      "page 169\n",
      "['나는 나를 해고하지 않는다', '오정세님 연기가 좋았고 스토리가 어떻게 보면 단순한데 마음이 요동치네요', 10]\n"
     ]
    },
    {
     "name": "stderr",
     "output_type": "stream",
     "text": [
      "\r",
      " 17%|█████████████▌                                                                  | 169/999 [01:40<08:11,  1.69it/s]"
     ]
    },
    {
     "name": "stdout",
     "output_type": "stream",
     "text": [
      "page 170\n",
      "['82년생 김지영', '메갈웜퇘지들의 자위작.', 1]\n"
     ]
    },
    {
     "name": "stderr",
     "output_type": "stream",
     "text": [
      "\r",
      " 17%|█████████████▌                                                                  | 170/999 [01:41<08:10,  1.69it/s]"
     ]
    },
    {
     "name": "stdout",
     "output_type": "stream",
     "text": [
      "page 171\n",
      "['유포자들', 'ost만 좋고와 이정도로 영화 만들 수 있나 싶었다', 2]\n"
     ]
    },
    {
     "name": "stderr",
     "output_type": "stream",
     "text": [
      "\r",
      " 17%|█████████████▋                                                                  | 171/999 [01:42<08:10,  1.69it/s]"
     ]
    },
    {
     "name": "stdout",
     "output_type": "stream",
     "text": [
      "page 172\n",
      "['유포자들', 'ost만 좋고와 이정도로 영화 만들 수 있나 싶었다', 2]\n"
     ]
    },
    {
     "name": "stderr",
     "output_type": "stream",
     "text": [
      "\r",
      " 17%|█████████████▊                                                                  | 172/999 [01:42<08:10,  1.69it/s]"
     ]
    },
    {
     "name": "stdout",
     "output_type": "stream",
     "text": [
      "page 173\n",
      "['압꾸정', '액션을 뺀 마동석은 아직 시기상조', 4]\n"
     ]
    },
    {
     "name": "stderr",
     "output_type": "stream",
     "text": [
      "\r",
      " 17%|█████████████▊                                                                  | 173/999 [01:43<08:11,  1.68it/s]"
     ]
    },
    {
     "name": "stdout",
     "output_type": "stream",
     "text": [
      "page 174\n",
      "['블랙 팬서: 와칸다 포에버', '매우재밌음 기대했던거보다 이상임', 10]\n"
     ]
    },
    {
     "name": "stderr",
     "output_type": "stream",
     "text": [
      "\r",
      " 17%|█████████████▉                                                                  | 174/999 [01:43<08:11,  1.68it/s]"
     ]
    },
    {
     "name": "stdout",
     "output_type": "stream",
     "text": [
      "page 175\n",
      "['블랙 팬서: 와칸다 포에버', '매우재밌음 기대했던거보다 이상임', 10]\n"
     ]
    },
    {
     "name": "stderr",
     "output_type": "stream",
     "text": [
      "\r",
      " 18%|██████████████                                                                  | 175/999 [01:44<08:11,  1.68it/s]"
     ]
    },
    {
     "name": "stdout",
     "output_type": "stream",
     "text": [
      "page 176\n",
      "['올빼미', '긴장감잇고 유해진 왕 연기가 생각보다 엄청 잘 어울려서 몰입감 잇게 봣습니다. 마지막에 좀 흐지부지 마무리하는 느낌이 조금 아쉬웟고 전체적으로 스토리가 탄탄해서 아주 재밋게봣습니다. ', 9]\n"
     ]
    },
    {
     "name": "stderr",
     "output_type": "stream",
     "text": [
      "\r",
      " 18%|██████████████                                                                  | 176/999 [01:45<08:09,  1.68it/s]"
     ]
    },
    {
     "name": "stdout",
     "output_type": "stream",
     "text": [
      "page 177\n",
      "['탄생', '개인적으론 편집이 좀 아쉬운 감이 있었지만, 재미도 의미도 충분했던 영화. 종교 영화 아니고 역사 영화이자 휴먼 드라마.', 9]\n"
     ]
    },
    {
     "name": "stderr",
     "output_type": "stream",
     "text": [
      "\r",
      " 18%|██████████████▏                                                                 | 177/999 [01:45<08:10,  1.67it/s]"
     ]
    },
    {
     "name": "stdout",
     "output_type": "stream",
     "text": [
      "page 178\n",
      "['원피스 필름 레드', '샹크스 전투씬 보러 갔더니 노래만 듣다온 기분. 심지어 초반부 노래들 너무 별로였다.', 2]\n"
     ]
    },
    {
     "name": "stderr",
     "output_type": "stream",
     "text": [
      "\r",
      " 18%|██████████████▎                                                                 | 178/999 [01:46<08:21,  1.64it/s]"
     ]
    },
    {
     "name": "stdout",
     "output_type": "stream",
     "text": [
      "page 179\n",
      "['원피스 필름 레드', '샹크스 전투씬 보러 갔더니 노래만 듣다온 기분. 심지어 초반부 노래들 너무 별로였다.', 2]\n"
     ]
    },
    {
     "name": "stderr",
     "output_type": "stream",
     "text": [
      "\r",
      " 18%|██████████████▎                                                                 | 179/999 [01:46<08:16,  1.65it/s]"
     ]
    },
    {
     "name": "stdout",
     "output_type": "stream",
     "text": [
      "page 180\n",
      "['블랙 팬서: 와칸다 포에버', '나만 보는 내내 소름돋으면서 봤나 …? 저는 마블 역대급 대작이라고 생각합니다 ', 10]\n"
     ]
    },
    {
     "name": "stderr",
     "output_type": "stream",
     "text": [
      "\r",
      " 18%|██████████████▍                                                                 | 180/999 [01:47<08:14,  1.66it/s]"
     ]
    },
    {
     "name": "stdout",
     "output_type": "stream",
     "text": [
      "page 181\n",
      "['엔시티 드림 더 무비 : 인 어 드림', '지성아안녕나는다연이야', 10]\n"
     ]
    },
    {
     "name": "stderr",
     "output_type": "stream",
     "text": [
      "\r",
      " 18%|██████████████▍                                                                 | 181/999 [01:48<08:10,  1.67it/s]"
     ]
    },
    {
     "name": "stdout",
     "output_type": "stream",
     "text": [
      "page 182\n",
      "['엔시티 드림 더 무비 : 인 어 드림', '지성아안녕나는다연이야', 10]\n"
     ]
    },
    {
     "name": "stderr",
     "output_type": "stream",
     "text": [
      "\r",
      " 18%|██████████████▌                                                                 | 182/999 [01:48<08:08,  1.67it/s]"
     ]
    },
    {
     "name": "stdout",
     "output_type": "stream",
     "text": [
      "page 183\n",
      "['탄생', '댕기머리 하고 세례를 받는 윤시윤 배우의 얼굴이 너무도 말갛고 깨끗해서, 신부님으로 간택받은 이유가 한방에 납득되었음. 천주교 신자가 아니라도, 만 23년 살다 간 청년 김대건의 순수한 개척정신과 열정, 당대의 엘리트로서의 면모, 19세기 중반 조선을 둘러싼 정세 등을 두루 생각해볼 수 있어 의미있는 작품. 시종일관 객관적인 나열식이라 좀 지루할 수 있는데, 마지막에 이르러서는 큰 여운을 준다. ', 9]\n"
     ]
    },
    {
     "name": "stderr",
     "output_type": "stream",
     "text": [
      "\r",
      " 18%|██████████████▋                                                                 | 183/999 [01:49<08:07,  1.67it/s]"
     ]
    },
    {
     "name": "stdout",
     "output_type": "stream",
     "text": [
      "page 184\n",
      "['올빼미', '최근 본 영화중 제일 최고였어요 ', 10]\n"
     ]
    },
    {
     "name": "stderr",
     "output_type": "stream",
     "text": [
      "\r",
      " 18%|██████████████▋                                                                 | 184/999 [01:49<08:07,  1.67it/s]"
     ]
    },
    {
     "name": "stdout",
     "output_type": "stream",
     "text": [
      "page 185\n",
      "['올빼미', '최근 본 영화중 제일 최고였어요 ', 10]\n"
     ]
    },
    {
     "name": "stderr",
     "output_type": "stream",
     "text": [
      "\r",
      " 19%|██████████████▊                                                                 | 185/999 [01:50<08:04,  1.68it/s]"
     ]
    },
    {
     "name": "stdout",
     "output_type": "stream",
     "text": [
      "page 186\n",
      "['올빼미', '최근 본 영화중 제일 최고였어요 ', 10]\n"
     ]
    },
    {
     "name": "stderr",
     "output_type": "stream",
     "text": [
      "\r",
      " 19%|██████████████▉                                                                 | 186/999 [01:51<08:03,  1.68it/s]"
     ]
    },
    {
     "name": "stdout",
     "output_type": "stream",
     "text": [
      "page 187\n",
      "['간첩', '사상도 자본주의 국가에선 얄짤없음ㅋㅋㅋㅋ일단 돈이 있어야 뭐든 가능 우연히 EBS에서 보게 되었는데,,참 흥미롭게 잘 봤다. 지극히 현실적인 간첩이야기를 재미있게 풀었다고 본다. &amp;#39;은밀하게 위대하게&amp;#39;를 한참 먼저 봤었는데 &amp;#39;간첩&amp;#39;이 1년 먼저 나온영화이다. 우민호 감독이 각본도 쓴 영화이고 이 이후에 개봉된 영화들이 대박!!!!내부자들,마약왕,남산의부장들!!!! 전반적인 정치 사회문제를 영화에 담는 맘에 드는 참 영화인이다. 앞으로도 기대된다', 10]\n"
     ]
    },
    {
     "name": "stderr",
     "output_type": "stream",
     "text": [
      "\r",
      " 19%|██████████████▉                                                                 | 187/999 [01:51<08:04,  1.68it/s]"
     ]
    },
    {
     "name": "stdout",
     "output_type": "stream",
     "text": [
      "page 188\n",
      "['압꾸정', '재미도없고 감동도 없고..', 1]\n"
     ]
    },
    {
     "name": "stderr",
     "output_type": "stream",
     "text": [
      "\r",
      " 19%|███████████████                                                                 | 188/999 [01:52<08:03,  1.68it/s]"
     ]
    },
    {
     "name": "stdout",
     "output_type": "stream",
     "text": [
      "page 189\n",
      "['탄생', '헌종 시절 천주교 박해 및 우리나라 역사를 공부할 수 있었습니다. 김대건 신부님의 영민함을 알 수 있게 된 계기였네요. 다만 좋은 배우, 좋은 소재로도 매끄럽지 못한 연출이 아쉬웠습니다.', 9]\n"
     ]
    },
    {
     "name": "stderr",
     "output_type": "stream",
     "text": [
      "\r",
      " 19%|███████████████▏                                                                | 189/999 [01:52<08:03,  1.68it/s]"
     ]
    },
    {
     "name": "stdout",
     "output_type": "stream",
     "text": [
      "page 190\n",
      "['리멤버', '조금 억지 스러운 면이 있음. 감동을 주기에도 뭔가 좀 어색하고 부족함. 연기는 잘하시고 그냥저냥 볼만함.', 7]\n"
     ]
    },
    {
     "name": "stderr",
     "output_type": "stream",
     "text": [
      "\r",
      " 19%|███████████████▏                                                                | 190/999 [01:53<08:07,  1.66it/s]"
     ]
    },
    {
     "name": "stdout",
     "output_type": "stream",
     "text": [
      "page 191\n",
      "['에브리씽 에브리웨어 올 앳 원스', '연출이랑 기법 하나는 화려했습니다. 솔직히 스토리는 잘 모르겠네요 난해합니다', 7]\n"
     ]
    },
    {
     "name": "stderr",
     "output_type": "stream",
     "text": [
      "\r",
      " 19%|███████████████▎                                                                | 191/999 [01:54<08:04,  1.67it/s]"
     ]
    },
    {
     "name": "stdout",
     "output_type": "stream",
     "text": [
      "page 192\n",
      "['원피스 필름 레드', '노래는 감안하고 갔는데 춤은 진짜 깻음', 7]\n"
     ]
    },
    {
     "name": "stderr",
     "output_type": "stream",
     "text": [
      "\r",
      " 19%|███████████████▍                                                                | 192/999 [01:54<08:02,  1.67it/s]"
     ]
    },
    {
     "name": "stdout",
     "output_type": "stream",
     "text": [
      "page 193\n",
      "['올빼미', '오랜만에 웰메이드 사극', 8]\n"
     ]
    },
    {
     "name": "stderr",
     "output_type": "stream",
     "text": [
      "\r",
      " 19%|███████████████▍                                                                | 193/999 [01:55<08:00,  1.68it/s]"
     ]
    },
    {
     "name": "stdout",
     "output_type": "stream",
     "text": [
      "page 194\n",
      "['동감', '로맨스에 환장하는 사람인데... 영화관가서 단 한번도 존 적도 없는데... 중간에 보다가 잠들었어요 대리설렘을 기대했지만 설렘포인트도 없고 영화 개봉한다는 소리 듣고 엄청나게 기대했는데 실망했습니당..ㅜ', 2]\n"
     ]
    },
    {
     "name": "stderr",
     "output_type": "stream",
     "text": [
      "\r",
      " 19%|███████████████▌                                                                | 194/999 [01:55<08:00,  1.68it/s]"
     ]
    },
    {
     "name": "stdout",
     "output_type": "stream",
     "text": [
      "page 195\n",
      "['명탐정 코난: 할로윈의 신부', '??????????????????????', 10]\n"
     ]
    },
    {
     "name": "stderr",
     "output_type": "stream",
     "text": [
      "\r",
      " 20%|███████████████▌                                                                | 195/999 [01:56<08:00,  1.67it/s]"
     ]
    },
    {
     "name": "stdout",
     "output_type": "stream",
     "text": [
      "page 196\n",
      "['엔시티 드림 더 무비 : 인 어 드림', '너무 아름다운 이야기였어요…', 10]\n"
     ]
    },
    {
     "name": "stderr",
     "output_type": "stream",
     "text": [
      "\r",
      " 20%|███████████████▋                                                                | 196/999 [01:57<08:13,  1.63it/s]"
     ]
    },
    {
     "name": "stdout",
     "output_type": "stream",
     "text": [
      "page 197\n",
      "['엔시티 드림 더 무비 : 인 어 드림', '너무 아름다운 이야기였어요…', 10]\n"
     ]
    },
    {
     "name": "stderr",
     "output_type": "stream",
     "text": [
      "\r",
      " 20%|███████████████▊                                                                | 197/999 [01:57<08:10,  1.63it/s]"
     ]
    },
    {
     "name": "stdout",
     "output_type": "stream",
     "text": [
      "page 198\n",
      "['그녀가 말했다', '역사적인 순간을 담은 실화 영화. 브래드 피트가 제작 참여했네요.', 9]\n"
     ]
    },
    {
     "name": "stderr",
     "output_type": "stream",
     "text": [
      "\r",
      " 20%|███████████████▊                                                                | 198/999 [01:58<08:06,  1.65it/s]"
     ]
    },
    {
     "name": "stdout",
     "output_type": "stream",
     "text": [
      "page 199\n",
      "['보일링 포인트', '다큐임 이거 .. 주방에 일한 경험이 있다면 PTSD 오는 영화;', 8]\n"
     ]
    },
    {
     "name": "stderr",
     "output_type": "stream",
     "text": [
      "\r",
      " 20%|███████████████▉                                                                | 199/999 [01:58<08:03,  1.65it/s]"
     ]
    },
    {
     "name": "stdout",
     "output_type": "stream",
     "text": [
      "page 200\n",
      "['올빼미', '몰입감 쵝오…. 스릴 ㄷ ㄷ', 10]\n"
     ]
    },
    {
     "name": "stderr",
     "output_type": "stream",
     "text": [
      "\r",
      " 20%|████████████████                                                                | 200/999 [01:59<08:02,  1.66it/s]"
     ]
    },
    {
     "name": "stdout",
     "output_type": "stream",
     "text": [
      "page 201\n",
      "['올빼미', '꿀잼이에요!추천합니ㅣ다', 10]\n"
     ]
    },
    {
     "name": "stderr",
     "output_type": "stream",
     "text": [
      "\r",
      " 20%|████████████████                                                                | 201/999 [02:00<08:00,  1.66it/s]"
     ]
    },
    {
     "name": "stdout",
     "output_type": "stream",
     "text": [
      "page 202\n",
      "['올빼미', '꿀잼이에요!추천합니ㅣ다', 10]\n"
     ]
    },
    {
     "name": "stderr",
     "output_type": "stream",
     "text": [
      "\r",
      " 20%|████████████████▏                                                               | 202/999 [02:00<07:59,  1.66it/s]"
     ]
    },
    {
     "name": "stdout",
     "output_type": "stream",
     "text": [
      "page 203\n",
      "['올빼미', '류준열의 눈빛이 살아나는 연기유해진의 리얼한 모습 덕분에 엄청나게 몰입해서 봤어요!!유해진이 조금 재밌게 나올 줄 알았는데 전혀! 그렇지 않아서 다시한번 유해진 배우님께 감동했고, 류준열의 목소리도 점점 매력적으로 깊어진듯 느껴지네요다소 잔인한 모습들이 나와서 조금 놀랬지만, 끝까지 긴장감을 놓치지 않고 보았던 오랜만에 근사하고 짜릿한 영화였던거 같아요!액션,호러,추리 이런거 없이 정말 깊게 빠져든 영화는 오랜만인거 같아요', 10]\n"
     ]
    },
    {
     "name": "stderr",
     "output_type": "stream",
     "text": [
      "\r",
      " 20%|████████████████▎                                                               | 203/999 [02:01<07:57,  1.67it/s]"
     ]
    },
    {
     "name": "stdout",
     "output_type": "stream",
     "text": [
      "page 204\n",
      "['올빼미', '류준열의 눈빛이 살아나는 연기유해진의 리얼한 모습 덕분에 엄청나게 몰입해서 봤어요!!유해진이 조금 재밌게 나올 줄 알았는데 전혀! 그렇지 않아서 다시한번 유해진 배우님께 감동했고, 류준열의 목소리도 점점 매력적으로 깊어진듯 느껴지네요다소 잔인한 모습들이 나와서 조금 놀랬지만, 끝까지 긴장감을 놓치지 않고 보았던 오랜만에 근사하고 짜릿한 영화였던거 같아요!액션,호러,추리 이런거 없이 정말 깊게 빠져든 영화는 오랜만인거 같아요', 10]\n"
     ]
    },
    {
     "name": "stderr",
     "output_type": "stream",
     "text": [
      "\r",
      " 20%|████████████████▎                                                               | 204/999 [02:01<07:56,  1.67it/s]"
     ]
    },
    {
     "name": "stdout",
     "output_type": "stream",
     "text": [
      "page 205\n",
      "['시월애', '그 시절의 마음이 지금까지 이어지네요', 10]\n"
     ]
    },
    {
     "name": "stderr",
     "output_type": "stream",
     "text": [
      "\r",
      " 21%|████████████████▍                                                               | 205/999 [02:02<07:54,  1.67it/s]"
     ]
    },
    {
     "name": "stdout",
     "output_type": "stream",
     "text": [
      "page 206\n",
      "['시월애', '그 시절의 마음이 지금까지 이어지네요', 10]\n"
     ]
    },
    {
     "name": "stderr",
     "output_type": "stream",
     "text": [
      "\r",
      " 21%|████████████████▍                                                               | 206/999 [02:03<07:52,  1.68it/s]"
     ]
    },
    {
     "name": "stdout",
     "output_type": "stream",
     "text": [
      "page 207\n",
      "['올빼미', '와 진짜… 오랜만에 재밌는 한국영화 봤어요ㅠㅠㅠ 일단 출연진들 연기력이 전부 너무 좋았고 사극이라 지루할것같았는데 끝날때까지 숨참고 봤어요ㅠㅠㅠ', 10]\n"
     ]
    },
    {
     "name": "stderr",
     "output_type": "stream",
     "text": [
      "\r",
      " 21%|████████████████▌                                                               | 207/999 [02:03<07:50,  1.68it/s]"
     ]
    },
    {
     "name": "stdout",
     "output_type": "stream",
     "text": [
      "page 208\n",
      "['태양의 눈물', '반정부군은 들어라. 대원들은 잘못이 없다. 여의사만 쏘면 임무 완료다', 8]\n"
     ]
    },
    {
     "name": "stderr",
     "output_type": "stream",
     "text": [
      "\r",
      " 21%|████████████████▋                                                               | 208/999 [02:04<07:50,  1.68it/s]"
     ]
    },
    {
     "name": "stdout",
     "output_type": "stream",
     "text": [
      "page 209\n",
      "['동감', '보는 내내 오글오글 돈 아끼세요ㅔ', 2]\n"
     ]
    },
    {
     "name": "stderr",
     "output_type": "stream",
     "text": [
      "\r",
      " 21%|████████████████▋                                                               | 209/999 [02:04<07:51,  1.68it/s]"
     ]
    },
    {
     "name": "stdout",
     "output_type": "stream",
     "text": [
      "page 210\n",
      "['올빼미', '사극영화를 광 해 이후로 정말 재미있게 본 영화. 적절한 긴장감과 연출, 스토리, 연기가 너무 좋았다!', 9]\n"
     ]
    },
    {
     "name": "stderr",
     "output_type": "stream",
     "text": [
      "\r",
      " 21%|████████████████▊                                                               | 210/999 [02:05<07:49,  1.68it/s]"
     ]
    },
    {
     "name": "stdout",
     "output_type": "stream",
     "text": [
      "page 211\n",
      "['압꾸정', '가볍게 즐기기 너무 좋았어요 믿고보는 마동석배우 연기도 좋았구요', 10]\n"
     ]
    },
    {
     "name": "stderr",
     "output_type": "stream",
     "text": [
      "\r",
      " 21%|████████████████▉                                                               | 211/999 [02:06<07:50,  1.67it/s]"
     ]
    },
    {
     "name": "stdout",
     "output_type": "stream",
     "text": [
      "page 212\n",
      "['트리트 미 라이크 파이어', '멋있지도 않고 무례한 도박쟁이 남성에게 끌린다니. 당최 이해가 안가네 짜증만 계속 났음. ', 4]\n"
     ]
    },
    {
     "name": "stderr",
     "output_type": "stream",
     "text": [
      "\r",
      " 21%|████████████████▉                                                               | 212/999 [02:06<07:49,  1.68it/s]"
     ]
    },
    {
     "name": "stdout",
     "output_type": "stream",
     "text": [
      "page 213\n",
      "['엔시티 드림 더 무비 : 인 어 드림', '평소에 밝기만 한 모습을 보여주는 아이돌이 서로 격려하고 속마음도 털어내고 팬들의 니즈를 잘 생각해가면서 만든 콘서트와 영화를 보니 더욱 값지게 느껴짐ㅠㅠ 감동 포인트도 중간에 많고 가끔 티키타카 하는 모습도 보여서 웃기도 하고 울기도함! 노래도 좋아서 힐링되고 좋은 시간이였음', 10]\n"
     ]
    },
    {
     "name": "stderr",
     "output_type": "stream",
     "text": [
      "\r",
      " 21%|█████████████████                                                               | 213/999 [02:07<07:50,  1.67it/s]"
     ]
    },
    {
     "name": "stdout",
     "output_type": "stream",
     "text": [
      "page 214\n",
      "['블랙 팬서: 와칸다 포에버', '그냥 볼만함', 7]\n"
     ]
    },
    {
     "name": "stderr",
     "output_type": "stream",
     "text": [
      "\r",
      " 21%|█████████████████▏                                                              | 214/999 [02:07<07:50,  1.67it/s]"
     ]
    },
    {
     "name": "stdout",
     "output_type": "stream",
     "text": [
      "page 215\n",
      "['빌리어네어 보이즈클럽', '이거 울프 스트릿이나 뭐 워독 그런 까라 기대하고 보면 안됨 ㅋㅋ걍 짬뽕 미드 밑 단계 수준 ㅋㅋ 깋을 잃어버리고 짬뽕 클리셰 ㅋㅋㅋㅋ ', 2]\n"
     ]
    },
    {
     "name": "stderr",
     "output_type": "stream",
     "text": [
      "\r",
      " 22%|█████████████████▏                                                              | 215/999 [02:08<08:06,  1.61it/s]"
     ]
    },
    {
     "name": "stdout",
     "output_type": "stream",
     "text": [
      "page 216\n",
      "['본즈 앤 올', '탁월하며 기묘한 비유', 7]\n"
     ]
    },
    {
     "name": "stderr",
     "output_type": "stream",
     "text": [
      "\r",
      " 22%|█████████████████▎                                                              | 216/999 [02:09<08:00,  1.63it/s]"
     ]
    },
    {
     "name": "stdout",
     "output_type": "stream",
     "text": [
      "page 217\n",
      "['탄생', '무교는 안보는걸 추천합니다..보다가 나왔어요.. ', 1]\n"
     ]
    },
    {
     "name": "stderr",
     "output_type": "stream",
     "text": [
      "\r",
      " 22%|█████████████████▍                                                              | 217/999 [02:09<07:55,  1.65it/s]"
     ]
    },
    {
     "name": "stdout",
     "output_type": "stream",
     "text": [
      "page 218\n",
      "['올빼미', '긴장을 살리는 좋은연출, 아쉬운 후반', 6]\n"
     ]
    },
    {
     "name": "stderr",
     "output_type": "stream",
     "text": [
      "\r",
      " 22%|█████████████████▍                                                              | 218/999 [02:10<07:54,  1.65it/s]"
     ]
    },
    {
     "name": "stdout",
     "output_type": "stream",
     "text": [
      "page 219\n",
      "['안토니아스 라인', '95년에 만들어진 영화라는게 믿기지 않네요.', 10]\n"
     ]
    },
    {
     "name": "stderr",
     "output_type": "stream",
     "text": [
      "\r",
      " 22%|█████████████████▌                                                              | 219/999 [02:10<07:52,  1.65it/s]"
     ]
    },
    {
     "name": "stdout",
     "output_type": "stream",
     "text": [
      "page 220\n",
      "['카센타', '과장되지 않은 실화 그 자체.소소하게 풀어 재밌었다', 9]\n"
     ]
    },
    {
     "name": "stderr",
     "output_type": "stream",
     "text": [
      "\r",
      " 22%|█████████████████▌                                                              | 220/999 [02:11<07:50,  1.66it/s]"
     ]
    },
    {
     "name": "stdout",
     "output_type": "stream",
     "text": [
      "page 221\n",
      "['올빼미', '보지 못하는 자가 가장 올바르게 보는....', 10]\n"
     ]
    },
    {
     "name": "stderr",
     "output_type": "stream",
     "text": [
      "\r",
      " 22%|█████████████████▋                                                              | 221/999 [02:12<07:47,  1.66it/s]"
     ]
    },
    {
     "name": "stdout",
     "output_type": "stream",
     "text": [
      "page 222\n",
      "['본즈 앤 올', '핏빛으로 하나되는 사랑', 7]\n"
     ]
    },
    {
     "name": "stderr",
     "output_type": "stream",
     "text": [
      "\r",
      " 22%|█████████████████▊                                                              | 222/999 [02:12<07:46,  1.67it/s]"
     ]
    },
    {
     "name": "stdout",
     "output_type": "stream",
     "text": [
      "page 223\n",
      "['올빼미', '무섭고 감당하기 힘들다해도 눈을 더 크게 뜨고 바라보는 사람들에게 보내는 우울한 찬가.', 7]\n"
     ]
    },
    {
     "name": "stderr",
     "output_type": "stream",
     "text": [
      "\r",
      " 22%|█████████████████▊                                                              | 223/999 [02:13<07:45,  1.67it/s]"
     ]
    },
    {
     "name": "stdout",
     "output_type": "stream",
     "text": [
      "page 224\n",
      "['원피스 필름 레드', '꼭 씹덕 친구랑 가세요ㅋㅋㅋㅋ 머글들은 절대 감당 못함~ 개인적으로 전 재밌게 봤습니다!! 기대 많이 하고 갔는데 기대 이상이었어요! 다만 노래 비중이 크다는 건 알고 가시는 걸 추천드립니다~', 10]\n"
     ]
    },
    {
     "name": "stderr",
     "output_type": "stream",
     "text": [
      "\r",
      " 22%|█████████████████▉                                                              | 224/999 [02:13<07:43,  1.67it/s]"
     ]
    },
    {
     "name": "stdout",
     "output_type": "stream",
     "text": [
      "page 225\n",
      "['올빼미', '(8.5 평점) 픽션이란 전제를 달았지만  영화를 본 많은  사람들에겐  영화내용대로  역사가 기억된다.  가능한한 사실대로 영화를 만들어주면  더 좋겠다. 이순신 영화처럼.   우리나라 역사가  워낙  격변해서 사실대로 만들어도 무지 재미있다 ', 9]\n"
     ]
    },
    {
     "name": "stderr",
     "output_type": "stream",
     "text": [
      "\r",
      " 23%|██████████████████                                                              | 225/999 [02:14<07:41,  1.68it/s]"
     ]
    },
    {
     "name": "stdout",
     "output_type": "stream",
     "text": [
      "page 226\n",
      "['압꾸정', '압도적으로 꾸정', 3]\n"
     ]
    },
    {
     "name": "stderr",
     "output_type": "stream",
     "text": [
      "\r",
      " 23%|██████████████████                                                              | 226/999 [02:15<07:43,  1.67it/s]"
     ]
    },
    {
     "name": "stdout",
     "output_type": "stream",
     "text": [
      "page 227\n",
      "['올빼미', '세상에 너무 재미있게 봤어요. 특히 세자 역을 연기한 배우가 연기를 너무 잘 하더군요...!!! 진짜 너무 재미있게 봤흡니당 ㅠㅠ', 10]\n"
     ]
    },
    {
     "name": "stderr",
     "output_type": "stream",
     "text": [
      "\r",
      " 23%|██████████████████▏                                                             | 227/999 [02:15<07:40,  1.68it/s]"
     ]
    },
    {
     "name": "stdout",
     "output_type": "stream",
     "text": [
      "page 228\n",
      "['탄생', '보통 종교 영화와 다르게 대형 스케일이면서 사극 영화를 제작한 시도는 매우 좋음 동양의 시점으로 아편 전쟁을 보여주는 것과 여행가인 김대건의 항해 장면은 신박했음.하지만 김대건의 인생을 다 보여줄려고 하니 러닝타임이 너무 길어지고 가끔 개연성이 떨어짐.', 7]\n"
     ]
    },
    {
     "name": "stderr",
     "output_type": "stream",
     "text": [
      "\r",
      " 23%|██████████████████▎                                                             | 228/999 [02:16<07:41,  1.67it/s]"
     ]
    },
    {
     "name": "stdout",
     "output_type": "stream",
     "text": [
      "page 229\n",
      "['결혼은 미친 짓이다', '둘 다 이해된다. 볼 때마다 다른 느낌, 좋은 스토리다.', 10]\n"
     ]
    },
    {
     "name": "stderr",
     "output_type": "stream",
     "text": [
      "\r",
      " 23%|██████████████████▎                                                             | 229/999 [02:16<07:41,  1.67it/s]"
     ]
    },
    {
     "name": "stdout",
     "output_type": "stream",
     "text": [
      "page 230\n",
      "['올빼미', '역사 영화 안 좋아하는 분들도 재밌게 볼 듯초반엔 살짝 루즈하다고 느낄 수 있는데순식간에 몰입하게 만들어버림오랜만에 영화다운 영화본 듯', 10]\n"
     ]
    },
    {
     "name": "stderr",
     "output_type": "stream",
     "text": [
      "\r",
      " 23%|██████████████████▍                                                             | 230/999 [02:17<07:40,  1.67it/s]"
     ]
    },
    {
     "name": "stdout",
     "output_type": "stream",
     "text": [
      "page 231\n",
      "['본즈 앤 올', '잔인하지만 로맨스 영화 성격이 강함.', 7]\n"
     ]
    },
    {
     "name": "stderr",
     "output_type": "stream",
     "text": [
      "\r",
      " 23%|██████████████████▍                                                             | 231/999 [02:18<07:40,  1.67it/s]"
     ]
    },
    {
     "name": "stdout",
     "output_type": "stream",
     "text": [
      "page 232\n",
      "['올빼미', '진짜 몰입도 최고', 10]\n"
     ]
    },
    {
     "name": "stderr",
     "output_type": "stream",
     "text": [
      "\r",
      " 23%|██████████████████▌                                                             | 232/999 [02:18<07:40,  1.67it/s]"
     ]
    },
    {
     "name": "stdout",
     "output_type": "stream",
     "text": [
      "page 233\n",
      "['올빼미', '진짜 몰입도 최고', 10]\n"
     ]
    },
    {
     "name": "stderr",
     "output_type": "stream",
     "text": [
      "\r",
      " 23%|██████████████████▋                                                             | 233/999 [02:19<07:50,  1.63it/s]"
     ]
    },
    {
     "name": "stdout",
     "output_type": "stream",
     "text": [
      "page 234\n",
      "['리멤버', '남주혁연기최악...흐름다깸', 2]\n"
     ]
    },
    {
     "name": "stderr",
     "output_type": "stream",
     "text": [
      "\r",
      " 23%|██████████████████▋                                                             | 234/999 [02:19<07:46,  1.64it/s]"
     ]
    },
    {
     "name": "stdout",
     "output_type": "stream",
     "text": [
      "page 235\n",
      "['리멤버', '남주혁연기최악...흐름다깸', 2]\n"
     ]
    },
    {
     "name": "stderr",
     "output_type": "stream",
     "text": [
      "\r",
      " 24%|██████████████████▊                                                             | 235/999 [02:20<07:44,  1.65it/s]"
     ]
    },
    {
     "name": "stdout",
     "output_type": "stream",
     "text": [
      "page 236\n",
      "['데시벨', '함장 화나서 나가더니 잠수함 밖으로 갔니?ㅋㅋ', 4]\n"
     ]
    },
    {
     "name": "stderr",
     "output_type": "stream",
     "text": [
      "\r",
      " 24%|██████████████████▉                                                             | 236/999 [02:21<07:41,  1.65it/s]"
     ]
    },
    {
     "name": "stdout",
     "output_type": "stream",
     "text": [
      "page 237\n",
      "['올빼미', '대박입니다. 많은 사람들이 봤으면 좋겠어요.', 10]\n"
     ]
    },
    {
     "name": "stderr",
     "output_type": "stream",
     "text": [
      "\r",
      " 24%|██████████████████▉                                                             | 237/999 [02:21<07:41,  1.65it/s]"
     ]
    },
    {
     "name": "stdout",
     "output_type": "stream",
     "text": [
      "page 238\n",
      "['오늘 밤, 세계에서 이 사랑이 사라진다 해도', '너무 재미있었고 다시 보고 싶습니다', 10]\n"
     ]
    },
    {
     "name": "stderr",
     "output_type": "stream",
     "text": [
      "\r",
      " 24%|███████████████████                                                             | 238/999 [02:22<07:40,  1.65it/s]"
     ]
    },
    {
     "name": "stdout",
     "output_type": "stream",
     "text": [
      "page 239\n",
      "['오늘 밤, 세계에서 이 사랑이 사라진다 해도', '너무 재미있었고 다시 보고 싶습니다', 10]\n"
     ]
    },
    {
     "name": "stderr",
     "output_type": "stream",
     "text": [
      "\r",
      " 24%|███████████████████▏                                                            | 239/999 [02:22<07:40,  1.65it/s]"
     ]
    },
    {
     "name": "stdout",
     "output_type": "stream",
     "text": [
      "page 240\n",
      "['한산: 용의 출현', '시청료  돌려 주셔요정중히 부탁  드릴게요ㅠㅠ', 2]\n"
     ]
    },
    {
     "name": "stderr",
     "output_type": "stream",
     "text": [
      "\r",
      " 24%|███████████████████▏                                                            | 240/999 [02:23<07:39,  1.65it/s]"
     ]
    },
    {
     "name": "stdout",
     "output_type": "stream",
     "text": [
      "page 241\n",
      "['한산: 용의 출현', '시청료  돌려 주셔요정중히 부탁  드릴게요ㅠㅠ', 2]\n"
     ]
    },
    {
     "name": "stderr",
     "output_type": "stream",
     "text": [
      "\r",
      " 24%|███████████████████▎                                                            | 241/999 [02:24<07:38,  1.65it/s]"
     ]
    },
    {
     "name": "stdout",
     "output_type": "stream",
     "text": [
      "page 242\n",
      "['올빼미', '참신한 스토리와 연출 그리고 연기의 완성도가 높은 이런 영화가 잘 되어야 한다고 생각합니다 모처럼 사극 재밌게 봤습니다 추천합니다!', 10]\n"
     ]
    },
    {
     "name": "stderr",
     "output_type": "stream",
     "text": [
      "\r",
      " 24%|███████████████████▍                                                            | 242/999 [02:24<07:36,  1.66it/s]"
     ]
    },
    {
     "name": "stdout",
     "output_type": "stream",
     "text": [
      "page 243\n",
      "['올빼미', '너무너무너무 좋더라구요류준열씨 부드러운 연기, 김성철씨 탄탄한 연기 유해진씨 생각 뛰어넘는 연기 하아. 두시간 순삭였어요!!! ', 10]\n"
     ]
    },
    {
     "name": "stderr",
     "output_type": "stream",
     "text": [
      "\r",
      " 24%|███████████████████▍                                                            | 243/999 [02:25<07:34,  1.66it/s]"
     ]
    },
    {
     "name": "stdout",
     "output_type": "stream",
     "text": [
      "page 244\n",
      "['강철비', '화려하게 치장된 공상', 5]\n"
     ]
    },
    {
     "name": "stderr",
     "output_type": "stream",
     "text": [
      "\r",
      " 24%|███████████████████▌                                                            | 244/999 [02:25<07:33,  1.66it/s]"
     ]
    },
    {
     "name": "stdout",
     "output_type": "stream",
     "text": [
      "page 245\n",
      "['올빼미', '끝으로 갈수록 개연성이 없어지긴 하지만 명배우들이 멱살잡고 캐리함 류준열은 멋있는 역할말고 이런 역할 자주 했으면 ', 8]\n"
     ]
    },
    {
     "name": "stderr",
     "output_type": "stream",
     "text": [
      "\r",
      " 25%|███████████████████▌                                                            | 245/999 [02:26<07:33,  1.66it/s]"
     ]
    },
    {
     "name": "stdout",
     "output_type": "stream",
     "text": [
      "page 246\n",
      "['올빼미', '끝으로 갈수록 개연성이 없어지긴 하지만 명배우들이 멱살잡고 캐리함 류준열은 멋있는 역할말고 이런 역할 자주 했으면 ', 8]\n"
     ]
    },
    {
     "name": "stderr",
     "output_type": "stream",
     "text": [
      "\r",
      " 25%|███████████████████▋                                                            | 246/999 [02:27<07:32,  1.66it/s]"
     ]
    },
    {
     "name": "stdout",
     "output_type": "stream",
     "text": [
      "page 247\n",
      "['그대를 사랑합니다', '삶에대해 너무 많은 생각을 하게 되는....', 10]\n"
     ]
    },
    {
     "name": "stderr",
     "output_type": "stream",
     "text": [
      "\r",
      " 25%|███████████████████▊                                                            | 247/999 [02:27<07:30,  1.67it/s]"
     ]
    },
    {
     "name": "stdout",
     "output_type": "stream",
     "text": [
      "page 248\n",
      "['아이리시맨', '배우들 연기 정말 잘함 몰입감이 엄청나다', 8]\n"
     ]
    },
    {
     "name": "stderr",
     "output_type": "stream",
     "text": [
      "\r",
      " 25%|███████████████████▊                                                            | 248/999 [02:28<07:30,  1.67it/s]"
     ]
    },
    {
     "name": "stdout",
     "output_type": "stream",
     "text": [
      "page 249\n",
      "['홀리데이트', '더 보면 뭐가 있을줄… 와 뭐하나 크리스마스 로멘틱을 기대했다면 비추 정서가 안맞나 그런가 너무 저급한 영화 시간 낭비 ㅠㅠ 워워', 1]\n"
     ]
    },
    {
     "name": "stderr",
     "output_type": "stream",
     "text": [
      "\r",
      " 25%|███████████████████▉                                                            | 249/999 [02:28<07:30,  1.67it/s]"
     ]
    },
    {
     "name": "stdout",
     "output_type": "stream",
     "text": [
      "page 250\n",
      "['낮과 달', '진지한 드라마와 가벼운 코미디 사이에서 갈피를 잡지 못하는 느낌이고, 배우들의 연기는 좋지만 그들의 캐릭터들은 몰입되지 않으며, 다툼 대신 연대를 택한 것은 공감되지 않는다.', 5]\n"
     ]
    },
    {
     "name": "stderr",
     "output_type": "stream",
     "text": [
      "\r",
      " 25%|████████████████████                                                            | 250/999 [02:29<07:31,  1.66it/s]"
     ]
    },
    {
     "name": "stdout",
     "output_type": "stream",
     "text": [
      "page 251\n",
      "['블로우백', '처음부터 끝까지 모든 것들이 예측 가능한데, 몇몇 부분에선 우스꽝스러워서 전혀 몰입되지 않는다.', 4]\n"
     ]
    },
    {
     "name": "stderr",
     "output_type": "stream",
     "text": [
      "\r",
      " 25%|████████████████████                                                            | 251/999 [02:30<07:29,  1.66it/s]"
     ]
    },
    {
     "name": "stdout",
     "output_type": "stream",
     "text": [
      "page 252\n",
      "['올빼미', '개꿀잼 후회없음 꼭보세요', 10]\n"
     ]
    },
    {
     "name": "stderr",
     "output_type": "stream",
     "text": [
      "\r",
      " 25%|████████████████████▏                                                           | 252/999 [02:30<07:40,  1.62it/s]"
     ]
    },
    {
     "name": "stdout",
     "output_type": "stream",
     "text": [
      "page 253\n",
      "['아마겟돈 타임', '불합리한 사회와 삶을 특권으로 받아들여야 했던 상황의 씁쓸함과 아이러니함을 잘 느낄 수 있다. 주인공이 느끼는 복잡한 감정과 가족들이 주는 따뜻함과 차가움이 스크린을 넘어 잘 전달된다.', 8]\n"
     ]
    },
    {
     "name": "stderr",
     "output_type": "stream",
     "text": [
      "\r",
      " 25%|████████████████████▎                                                           | 253/999 [02:31<07:36,  1.63it/s]"
     ]
    },
    {
     "name": "stdout",
     "output_type": "stream",
     "text": [
      "page 254\n",
      "['오늘 밤, 세계에서 이 사랑이 사라진다 해도', '사랑과 우정 대한 따뜻한 드라마. 영화 음악이 정말 좋다.', 10]\n"
     ]
    },
    {
     "name": "stderr",
     "output_type": "stream",
     "text": [
      "\r",
      " 25%|████████████████████▎                                                           | 254/999 [02:32<07:36,  1.63it/s]"
     ]
    },
    {
     "name": "stdout",
     "output_type": "stream",
     "text": [
      "page 255\n",
      "['올빼미', '무난히 보기 좋은 사극영화였고 사실에 몇 줄 적힌 내용으로 상상가미해서 만든 내용이라 재밌었습니다.', 10]\n"
     ]
    },
    {
     "name": "stderr",
     "output_type": "stream",
     "text": [
      "\r",
      " 26%|████████████████████▍                                                           | 255/999 [02:32<07:32,  1.65it/s]"
     ]
    },
    {
     "name": "stdout",
     "output_type": "stream",
     "text": [
      "page 256\n",
      "['올빼미', '연기는 진짜 원탑 엄청난 연기로 몰입감이 엄청납니다 스릴도 있었고 개그도 있었습니다 그러나 문제는 영화가 후반부로 갈 수록 스토리의 개연성이 떨어집니다 마지막 인과응보는 음... 탄산 빠진 사이다입니다 ', 7]\n"
     ]
    },
    {
     "name": "stderr",
     "output_type": "stream",
     "text": [
      "\r",
      " 26%|████████████████████▌                                                           | 256/999 [02:33<07:30,  1.65it/s]"
     ]
    },
    {
     "name": "stdout",
     "output_type": "stream",
     "text": [
      "page 257\n",
      "['올빼미', '와 이렇게 쫄리면서 보는게 오랜만이네요', 10]\n"
     ]
    },
    {
     "name": "stderr",
     "output_type": "stream",
     "text": [
      "\r",
      " 26%|████████████████████▌                                                           | 257/999 [02:33<07:30,  1.65it/s]"
     ]
    },
    {
     "name": "stdout",
     "output_type": "stream",
     "text": [
      "page 258\n",
      "['복수는 나의 것', '아이러니의 연속인 영화. 제목빼고. 복수는 나의 것. 복수를 하는 것도 나의 것, 복수를 당하는 것도 나의 것. 어쨋든 복수는 나의 것.', 9]\n"
     ]
    },
    {
     "name": "stderr",
     "output_type": "stream",
     "text": [
      "\r",
      " 26%|████████████████████▋                                                           | 258/999 [02:34<07:27,  1.66it/s]"
     ]
    },
    {
     "name": "stdout",
     "output_type": "stream",
     "text": [
      "page 259\n",
      "['복수는 나의 것', '아이러니의 연속인 영화. 제목빼고. 복수는 나의 것. 복수를 하는 것도 나의 것, 복수를 당하는 것도 나의 것. 어쨋든 복수는 나의 것.', 9]\n"
     ]
    },
    {
     "name": "stderr",
     "output_type": "stream",
     "text": [
      "\r",
      " 26%|████████████████████▋                                                           | 259/999 [02:35<07:25,  1.66it/s]"
     ]
    },
    {
     "name": "stdout",
     "output_type": "stream",
     "text": [
      "page 260\n",
      "['원피스 필름 레드', '재밌고 볼만해요~~!!', 9]\n"
     ]
    },
    {
     "name": "stderr",
     "output_type": "stream",
     "text": [
      "\r",
      " 26%|████████████████████▊                                                           | 260/999 [02:35<07:23,  1.67it/s]"
     ]
    },
    {
     "name": "stdout",
     "output_type": "stream",
     "text": [
      "page 261\n",
      "['탄생', '종교,무거운 주제인줄 알았는데 무겁지않고 감동이 있는 지루함 방지 멘트 가끔 끼워넣은 지루하지않은 영화였어요.눈쌀찌뿌리 않아도  되는 순화어가 좋았습니다.', 10]\n"
     ]
    },
    {
     "name": "stderr",
     "output_type": "stream",
     "text": [
      "\r",
      " 26%|████████████████████▉                                                           | 261/999 [02:36<07:23,  1.66it/s]"
     ]
    },
    {
     "name": "stdout",
     "output_type": "stream",
     "text": [
      "page 262\n",
      "['미쓰 홍당무', '중간중간 웃기는 장면은 있었으나...억지가 심하고 불편했음그냥 유튜브 쇼츠만 보고 말껄... 괜히 봤음', 7]\n"
     ]
    },
    {
     "name": "stderr",
     "output_type": "stream",
     "text": [
      "\r",
      " 26%|████████████████████▉                                                           | 262/999 [02:36<07:22,  1.66it/s]"
     ]
    },
    {
     "name": "stdout",
     "output_type": "stream",
     "text": [
      "page 263\n",
      "['해바라기', '진한감동....  가슴이먹먹해지는영화', 10]\n"
     ]
    },
    {
     "name": "stderr",
     "output_type": "stream",
     "text": [
      "\r",
      " 26%|█████████████████████                                                           | 263/999 [02:37<07:21,  1.67it/s]"
     ]
    },
    {
     "name": "stdout",
     "output_type": "stream",
     "text": [
      "page 264\n",
      "['올빼미', '역사적 내용에 적절한 픽션을 섞어서 보는 내내 긴장감이 떨어지지 않고 보게 되는 영화 ! 몰입도도 내용도 완성도 높다 ', 10]\n"
     ]
    },
    {
     "name": "stderr",
     "output_type": "stream",
     "text": [
      "\r",
      " 26%|█████████████████████▏                                                          | 264/999 [02:38<07:20,  1.67it/s]"
     ]
    },
    {
     "name": "stdout",
     "output_type": "stream",
     "text": [
      "page 265\n",
      "['원피스 필름 레드', '원피스 극장판으로 둔갑한 어떤 일본 여가수의 노래 홍보 바이럴마케팅 임', 1]\n"
     ]
    },
    {
     "name": "stderr",
     "output_type": "stream",
     "text": [
      "\r",
      " 27%|█████████████████████▏                                                          | 265/999 [02:38<07:21,  1.66it/s]"
     ]
    },
    {
     "name": "stdout",
     "output_type": "stream",
     "text": [
      "page 266\n",
      "['올빼미', '와 영화 평점 처음인데요 ..처음엔 이런소재로 영화를 ..이라생각했는데배우들이 너무 명품입니다 매순간순간 소름돋고 와 아역배우도 연기 진짜잘하고 눈빛연기조차 너무.. 말이안나오네요 입봉작이라고 하던데 축하드려요감사히 잘봣고 만오천원  값지게 썼네요 두시간이 십오분만에 없어졋네요 ', 10]\n"
     ]
    },
    {
     "name": "stderr",
     "output_type": "stream",
     "text": [
      "\r",
      " 27%|█████████████████████▎                                                          | 266/999 [02:39<07:21,  1.66it/s]"
     ]
    },
    {
     "name": "stdout",
     "output_type": "stream",
     "text": [
      "page 267\n",
      "['올빼미', '와 영화 평점 처음인데요 ..처음엔 이런소재로 영화를 ..이라생각했는데배우들이 너무 명품입니다 매순간순간 소름돋고 와 아역배우도 연기 진짜잘하고 눈빛연기조차 너무.. 말이안나오네요 입봉작이라고 하던데 축하드려요감사히 잘봣고 만오천원  값지게 썼네요 두시간이 십오분만에 없어졋네요 ', 10]\n"
     ]
    },
    {
     "name": "stderr",
     "output_type": "stream",
     "text": [
      "\r",
      " 27%|█████████████████████▍                                                          | 267/999 [02:39<07:19,  1.67it/s]"
     ]
    },
    {
     "name": "stdout",
     "output_type": "stream",
     "text": [
      "page 268\n",
      "['올빼미', '이번년도 사극중에 제일 이었습니다류준열님 안보이는 맹인역을 너무 잘하시는거아니에요...?한국역사로 다룬지 너무 뜻깊은 영화였습니다 여운이깊네요', 10]\n"
     ]
    },
    {
     "name": "stderr",
     "output_type": "stream",
     "text": [
      "\r",
      " 27%|█████████████████████▍                                                          | 268/999 [02:40<07:18,  1.67it/s]"
     ]
    },
    {
     "name": "stdout",
     "output_type": "stream",
     "text": [
      "page 269\n",
      "['본즈 앤 올', '처절하고도 아름다운 사랑이야기', 10]\n"
     ]
    },
    {
     "name": "stderr",
     "output_type": "stream",
     "text": [
      "\r",
      " 27%|█████████████████████▌                                                          | 269/999 [02:41<07:16,  1.67it/s]"
     ]
    },
    {
     "name": "stdout",
     "output_type": "stream",
     "text": [
      "page 270\n",
      "['탄생', '김방지거역 연기 잘하시는것 같아요~ 다른 작품도 찾아봐야겠어요.  쟁쟁한 배우들 많이 나오고 김대건 신부님 이야기 책으로만 봤는데 영화로 제작되어 좋았어요~ ', 10]\n"
     ]
    },
    {
     "name": "stderr",
     "output_type": "stream",
     "text": [
      "\r",
      " 27%|█████████████████████▌                                                          | 270/999 [02:41<07:26,  1.63it/s]"
     ]
    },
    {
     "name": "stdout",
     "output_type": "stream",
     "text": [
      "page 271\n",
      "['블러드-C : 더 라스트 다크', 'TV판은 마계전생애니판 만큼이나 표현 한계를 돌파하려는 노력이 보였지만 극장판은 극장판대로 스펙타클한 맛.개인적으로는 블러드 더 라스트 뱀파이어의 작화를 더 좋아하지만 이것도 좋다', 6]\n"
     ]
    },
    {
     "name": "stderr",
     "output_type": "stream",
     "text": [
      "\r",
      " 27%|█████████████████████▋                                                          | 271/999 [02:42<07:23,  1.64it/s]"
     ]
    },
    {
     "name": "stdout",
     "output_type": "stream",
     "text": [
      "page 272\n",
      "['올빼미', '재미있었습니다. 하지만 천소경이 잘생겼다는말은 이해가 잘 안갑니다.', 9]\n"
     ]
    },
    {
     "name": "stderr",
     "output_type": "stream",
     "text": [
      "\r",
      " 27%|█████████████████████▊                                                          | 272/999 [02:42<07:20,  1.65it/s]"
     ]
    },
    {
     "name": "stdout",
     "output_type": "stream",
     "text": [
      "page 273\n",
      "['제인의 썸머', '연기 ... 심각 내용 역시 ..', 1]\n"
     ]
    },
    {
     "name": "stderr",
     "output_type": "stream",
     "text": [
      "\r",
      " 27%|█████████████████████▊                                                          | 273/999 [02:43<07:19,  1.65it/s]"
     ]
    },
    {
     "name": "stdout",
     "output_type": "stream",
     "text": [
      "page 274\n",
      "['외계+인 1부', '힐난하던 평과는 달리 저는 정말 재밌에봤습니당 우리나라에서도이런 sf를 볼수있다니 좋아요 정말 cg를 잘녹여냈고 스토리또한 좋고 연기도 무겁지 않게만들어서 진짜재밌었어요 남들 평에 휘둘리지 마시길 ', 10]\n"
     ]
    },
    {
     "name": "stderr",
     "output_type": "stream",
     "text": [
      "\r",
      " 27%|█████████████████████▉                                                          | 274/999 [02:44<07:17,  1.66it/s]"
     ]
    },
    {
     "name": "stdout",
     "output_type": "stream",
     "text": [
      "page 275\n",
      "['제인의 썸머', '연기 ... 심각 내용 역시 ..', 1]\n"
     ]
    },
    {
     "name": "stderr",
     "output_type": "stream",
     "text": [
      "\r",
      " 28%|██████████████████████                                                          | 275/999 [02:44<07:15,  1.66it/s]"
     ]
    },
    {
     "name": "stdout",
     "output_type": "stream",
     "text": [
      "page 276\n",
      "['외계+인 1부', '힐난하던 평과는 달리 저는 정말 재밌에봤습니당 우리나라에서도이런 sf를 볼수있다니 좋아요 정말 cg를 잘녹여냈고 스토리또한 좋고 연기도 무겁지 않게만들어서 진짜재밌었어요 남들 평에 휘둘리지 마시길 ', 10]\n"
     ]
    },
    {
     "name": "stderr",
     "output_type": "stream",
     "text": [
      "\r",
      " 28%|██████████████████████                                                          | 276/999 [02:45<07:13,  1.67it/s]"
     ]
    },
    {
     "name": "stdout",
     "output_type": "stream",
     "text": [
      "page 277\n",
      "['외계+인 1부', '힐난하던 평과는 달리 저는 정말 재밌에봤습니당 우리나라에서도이런 sf를 볼수있다니 좋아요 정말 cg를 잘녹여냈고 스토리또한 좋고 연기도 무겁지 않게만들어서 진짜재밌었어요 남들 평에 휘둘리지 마시길 ', 10]\n"
     ]
    },
    {
     "name": "stderr",
     "output_type": "stream",
     "text": [
      "\r",
      " 28%|██████████████████████▏                                                         | 277/999 [02:45<07:13,  1.66it/s]"
     ]
    },
    {
     "name": "stdout",
     "output_type": "stream",
     "text": [
      "page 278\n",
      "['제인의 썸머', '연기 ... 심각 내용 역시 ..', 1]\n"
     ]
    },
    {
     "name": "stderr",
     "output_type": "stream",
     "text": [
      "\r",
      " 28%|██████████████████████▎                                                         | 278/999 [02:46<07:13,  1.66it/s]"
     ]
    },
    {
     "name": "stdout",
     "output_type": "stream",
     "text": [
      "page 279\n",
      "['외계+인 1부', '힐난하던 평과는 달리 저는 정말 재밌에봤습니당 우리나라에서도이런 sf를 볼수있다니 좋아요 정말 cg를 잘녹여냈고 스토리또한 좋고 연기도 무겁지 않게만들어서 진짜재밌었어요 남들 평에 휘둘리지 마시길 ', 10]\n"
     ]
    },
    {
     "name": "stderr",
     "output_type": "stream",
     "text": [
      "\r",
      " 28%|██████████████████████▎                                                         | 279/999 [02:47<07:12,  1.66it/s]"
     ]
    },
    {
     "name": "stdout",
     "output_type": "stream",
     "text": [
      "page 280\n",
      "['제인의 썸머', '연기 ... 심각 내용 역시 ..', 1]\n"
     ]
    },
    {
     "name": "stderr",
     "output_type": "stream",
     "text": [
      "\r",
      " 28%|██████████████████████▍                                                         | 280/999 [02:47<07:13,  1.66it/s]"
     ]
    },
    {
     "name": "stdout",
     "output_type": "stream",
     "text": [
      "page 281\n",
      "['외계+인 1부', '힐난하던 평과는 달리 저는 정말 재밌에봤습니당 우리나라에서도이런 sf를 볼수있다니 좋아요 정말 cg를 잘녹여냈고 스토리또한 좋고 연기도 무겁지 않게만들어서 진짜재밌었어요 남들 평에 휘둘리지 마시길 ', 10]\n"
     ]
    },
    {
     "name": "stderr",
     "output_type": "stream",
     "text": [
      "\r",
      " 28%|██████████████████████▌                                                         | 281/999 [02:48<07:12,  1.66it/s]"
     ]
    },
    {
     "name": "stdout",
     "output_type": "stream",
     "text": [
      "page 282\n",
      "['외계+인 1부', '힐난하던 평과는 달리 저는 정말 재밌에봤습니당 우리나라에서도이런 sf를 볼수있다니 좋아요 정말 cg를 잘녹여냈고 스토리또한 좋고 연기도 무겁지 않게만들어서 진짜재밌었어요 남들 평에 휘둘리지 마시길 ', 10]\n"
     ]
    },
    {
     "name": "stderr",
     "output_type": "stream",
     "text": [
      "\r",
      " 28%|██████████████████████▌                                                         | 282/999 [02:48<07:14,  1.65it/s]"
     ]
    },
    {
     "name": "stdout",
     "output_type": "stream",
     "text": [
      "page 283\n",
      "['올빼미', '몇 번은 봐야할 영화 스토리에 배우들 연기를 못봤다...', 10]\n"
     ]
    },
    {
     "name": "stderr",
     "output_type": "stream",
     "text": [
      "\r",
      " 28%|██████████████████████▋                                                         | 283/999 [02:49<07:13,  1.65it/s]"
     ]
    },
    {
     "name": "stdout",
     "output_type": "stream",
     "text": [
      "page 284\n",
      "['올빼미', '몇 번은 봐야할 영화 스토리에 배우들 연기를 못봤다...', 10]\n"
     ]
    },
    {
     "name": "stderr",
     "output_type": "stream",
     "text": [
      "\r",
      " 28%|██████████████████████▋                                                         | 284/999 [02:50<07:13,  1.65it/s]"
     ]
    },
    {
     "name": "stdout",
     "output_type": "stream",
     "text": [
      "page 285\n",
      "['올빼미', '몇 번은 봐야할 영화 스토리에 배우들 연기를 못봤다...', 10]\n"
     ]
    },
    {
     "name": "stderr",
     "output_type": "stream",
     "text": [
      "\r",
      " 29%|██████████████████████▊                                                         | 285/999 [02:50<07:11,  1.65it/s]"
     ]
    },
    {
     "name": "stdout",
     "output_type": "stream",
     "text": [
      "page 286\n",
      "['올빼미', '몇 번은 봐야할 영화 스토리에 배우들 연기를 못봤다...', 10]\n"
     ]
    },
    {
     "name": "stderr",
     "output_type": "stream",
     "text": [
      "\r",
      " 29%|██████████████████████▉                                                         | 286/999 [02:51<07:09,  1.66it/s]"
     ]
    },
    {
     "name": "stdout",
     "output_type": "stream",
     "text": [
      "page 287\n",
      "['올빼미', '몇 번은 봐야할 영화 스토리에 배우들 연기를 못봤다...', 10]\n"
     ]
    },
    {
     "name": "stderr",
     "output_type": "stream",
     "text": [
      "\r",
      " 29%|██████████████████████▉                                                         | 287/999 [02:51<07:09,  1.66it/s]"
     ]
    },
    {
     "name": "stdout",
     "output_type": "stream",
     "text": [
      "page 288\n",
      "['올빼미', '몇 번은 봐야할 영화 스토리에 배우들 연기를 못봤다...', 10]\n"
     ]
    },
    {
     "name": "stderr",
     "output_type": "stream",
     "text": [
      "\r",
      " 29%|███████████████████████                                                         | 288/999 [02:52<07:08,  1.66it/s]"
     ]
    },
    {
     "name": "stdout",
     "output_type": "stream",
     "text": [
      "page 289\n",
      "['올빼미', '너무 재밌네요 연기가 미텼어요', 10]\n"
     ]
    },
    {
     "name": "stderr",
     "output_type": "stream",
     "text": [
      "\r",
      " 29%|███████████████████████▏                                                        | 289/999 [02:53<07:18,  1.62it/s]"
     ]
    },
    {
     "name": "stdout",
     "output_type": "stream",
     "text": [
      "page 290\n",
      "['오늘 밤, 세계에서 이 사랑이 사라진다 해도', '원작 안보고 본 사람이에요 초반엔 조금 지루할수 있겠으나 후반에 눈물 광광', 8]\n"
     ]
    },
    {
     "name": "stderr",
     "output_type": "stream",
     "text": [
      "\r",
      " 29%|███████████████████████▏                                                        | 290/999 [02:53<07:20,  1.61it/s]"
     ]
    },
    {
     "name": "stdout",
     "output_type": "stream",
     "text": [
      "page 291\n",
      "['오늘 밤, 세계에서 이 사랑이 사라진다 해도', '원작 안보고 본 사람이에요 초반엔 조금 지루할수 있겠으나 후반에 눈물 광광', 8]\n"
     ]
    },
    {
     "name": "stderr",
     "output_type": "stream",
     "text": [
      "\r",
      " 29%|███████████████████████▎                                                        | 291/999 [02:54<07:17,  1.62it/s]"
     ]
    },
    {
     "name": "stdout",
     "output_type": "stream",
     "text": [
      "page 292\n",
      "['블랙 아담', '배트맨 대 슈퍼맨은 고구마였다면 이 영화는 사이다', 8]\n"
     ]
    },
    {
     "name": "stderr",
     "output_type": "stream",
     "text": [
      "\r",
      " 29%|███████████████████████▍                                                        | 292/999 [02:54<07:13,  1.63it/s]"
     ]
    },
    {
     "name": "stdout",
     "output_type": "stream",
     "text": [
      "page 293\n",
      "['본즈 앤 올', '소재 때문에 걱정 많이 했었는데 보고나니 걱정만큼은 아니어서 안 봤으면 후회 했을 것 같다. 별나고 외로운 사람들의 이야기.', 8]\n"
     ]
    },
    {
     "name": "stderr",
     "output_type": "stream",
     "text": [
      "\r",
      " 29%|███████████████████████▍                                                        | 293/999 [02:55<07:10,  1.64it/s]"
     ]
    },
    {
     "name": "stdout",
     "output_type": "stream",
     "text": [
      "page 294\n",
      "['원피스 필름 레드', '등장인물은 좋은데 액션신 왜이리 없음샹크스 나온다고 해서 기대했는데 막상 뜯어보니 토트무지카는 걍 고기방패.. 애초에 다른 인물 필요없이 루피해적단만으로 순삭가능할듯... 스탬피드가 훨씬 셈. 걍 뮤비그이상 그이하도 아님', 1]\n"
     ]
    },
    {
     "name": "stderr",
     "output_type": "stream",
     "text": [
      "\r",
      " 29%|███████████████████████▌                                                        | 294/999 [02:56<07:08,  1.64it/s]"
     ]
    },
    {
     "name": "stdout",
     "output_type": "stream",
     "text": [
      "page 295\n",
      "['오늘 밤, 세계에서 이 사랑이 사라진다 해도', '말이 필요없다 봐라 보고 난 후의 너 자신이 모든 곳을 설명할 것이다', 10]\n"
     ]
    },
    {
     "name": "stderr",
     "output_type": "stream",
     "text": [
      "\r",
      " 30%|███████████████████████▌                                                        | 295/999 [02:56<07:07,  1.65it/s]"
     ]
    },
    {
     "name": "stdout",
     "output_type": "stream",
     "text": [
      "page 296\n",
      "['본즈 앤 올', '빨강 가득한 잔잔함', 7]\n"
     ]
    },
    {
     "name": "stderr",
     "output_type": "stream",
     "text": [
      "\r",
      " 30%|███████████████████████▋                                                        | 296/999 [02:57<07:06,  1.65it/s]"
     ]
    },
    {
     "name": "stdout",
     "output_type": "stream",
     "text": [
      "page 297\n",
      "['탄생', '최초란원래어렵고힘들다...하지만최초가있어야그다음길이열린다...영화로써도 괜찮은영화...평점은8.3점주고싶다', 8]\n"
     ]
    },
    {
     "name": "stderr",
     "output_type": "stream",
     "text": [
      "\r",
      " 30%|███████████████████████▊                                                        | 297/999 [02:58<07:04,  1.66it/s]"
     ]
    },
    {
     "name": "stdout",
     "output_type": "stream",
     "text": [
      "page 298\n",
      "['올빼미', '너무 재밌게 봐서 처음으로 네이버에 별점남김', 10]\n"
     ]
    },
    {
     "name": "stderr",
     "output_type": "stream",
     "text": [
      "\r",
      " 30%|███████████████████████▊                                                        | 298/999 [02:58<07:02,  1.66it/s]"
     ]
    },
    {
     "name": "stdout",
     "output_type": "stream",
     "text": [
      "page 299\n",
      "['올빼미', '너무 재밌게 봐서 처음으로 네이버에 별점남김', 10]\n"
     ]
    },
    {
     "name": "stderr",
     "output_type": "stream",
     "text": [
      "\r",
      " 30%|███████████████████████▉                                                        | 299/999 [02:59<07:03,  1.65it/s]"
     ]
    },
    {
     "name": "stdout",
     "output_type": "stream",
     "text": [
      "page 300\n",
      "['오늘 밤, 세계에서 이 사랑이 사라진다 해도', '여운이 많이 남는 영화입니다 보길 잘했어요', 10]\n"
     ]
    },
    {
     "name": "stderr",
     "output_type": "stream",
     "text": [
      "\r",
      " 30%|████████████████████████                                                        | 300/999 [02:59<07:04,  1.65it/s]"
     ]
    },
    {
     "name": "stdout",
     "output_type": "stream",
     "text": [
      "page 301\n",
      "['올빼미', '잘 만든 영화. 배우들의 연기가 정말 인상적이었어요.', 9]\n"
     ]
    },
    {
     "name": "stderr",
     "output_type": "stream",
     "text": [
      "\r",
      " 30%|████████████████████████                                                        | 301/999 [03:00<07:01,  1.66it/s]"
     ]
    },
    {
     "name": "stdout",
     "output_type": "stream",
     "text": [
      "page 302\n",
      "['압꾸정', '너무 화가 나서 영화리뷰 첨으로 남김...', 1]\n"
     ]
    },
    {
     "name": "stderr",
     "output_type": "stream",
     "text": [
      "\r",
      " 30%|████████████████████████▏                                                       | 302/999 [03:01<07:01,  1.65it/s]"
     ]
    },
    {
     "name": "stdout",
     "output_type": "stream",
     "text": [
      "page 303\n",
      "['압꾸정', '너무 화가 나서 영화리뷰 첨으로 남김...', 1]\n"
     ]
    },
    {
     "name": "stderr",
     "output_type": "stream",
     "text": [
      "\r",
      " 30%|████████████████████████▎                                                       | 303/999 [03:01<07:00,  1.65it/s]"
     ]
    },
    {
     "name": "stdout",
     "output_type": "stream",
     "text": [
      "page 304\n",
      "['압꾸정', '너무 화가 나서 영화리뷰 첨으로 남김...', 1]\n"
     ]
    },
    {
     "name": "stderr",
     "output_type": "stream",
     "text": [
      "\r",
      " 30%|████████████████████████▎                                                       | 304/999 [03:02<07:00,  1.65it/s]"
     ]
    },
    {
     "name": "stdout",
     "output_type": "stream",
     "text": [
      "page 305\n",
      "['압꾸정', '너무 화가 나서 영화리뷰 첨으로 남김...', 1]\n"
     ]
    },
    {
     "name": "stderr",
     "output_type": "stream",
     "text": [
      "\r",
      " 31%|████████████████████████▍                                                       | 305/999 [03:02<07:01,  1.65it/s]"
     ]
    },
    {
     "name": "stdout",
     "output_type": "stream",
     "text": [
      "page 306\n",
      "['압꾸정', '가볍게 보기 좋은 코미디 영화에요 ㅋㅋㅋㅋ 코미디에 뭘 그렇게 깊게 따지고 들어요? 2시간 내내 웃으면서 봤는데 ㅋㅋㅋ 뭔말인지 알지?', 10]\n"
     ]
    },
    {
     "name": "stderr",
     "output_type": "stream",
     "text": [
      "\r",
      " 31%|████████████████████████▌                                                       | 306/999 [03:03<06:58,  1.65it/s]"
     ]
    },
    {
     "name": "stdout",
     "output_type": "stream",
     "text": [
      "page 307\n",
      "['압꾸정', '가볍게 보기 좋은 코미디 영화에요 ㅋㅋㅋㅋ 코미디에 뭘 그렇게 깊게 따지고 들어요? 2시간 내내 웃으면서 봤는데 ㅋㅋㅋ 뭔말인지 알지?', 10]\n"
     ]
    },
    {
     "name": "stderr",
     "output_type": "stream",
     "text": [
      "\r",
      " 31%|████████████████████████▌                                                       | 307/999 [03:04<07:08,  1.61it/s]"
     ]
    },
    {
     "name": "stdout",
     "output_type": "stream",
     "text": [
      "page 308\n",
      "['올빼미', '김성철 배우 다시 보였습니다 너무 감명 깊었습니다. 최근들어 너무 재밌게 본 대작이네요. 또 보러 갑니다:)', 10]\n"
     ]
    },
    {
     "name": "stderr",
     "output_type": "stream",
     "text": [
      "\r",
      " 31%|████████████████████████▋                                                       | 308/999 [03:04<07:05,  1.62it/s]"
     ]
    },
    {
     "name": "stdout",
     "output_type": "stream",
     "text": [
      "page 309\n",
      "['올빼미', '와... 진짜 너무재밌어요최근에 본 영화중에 손꼽을 만큼 재밌네요안보신분들 꼭보세요 연기력 연출 최고입니다소름끼치는 부분도 있고 흥미진진합니다강추!', 10]\n"
     ]
    },
    {
     "name": "stderr",
     "output_type": "stream",
     "text": [
      "\r",
      " 31%|████████████████████████▋                                                       | 309/999 [03:05<07:03,  1.63it/s]"
     ]
    },
    {
     "name": "stdout",
     "output_type": "stream",
     "text": [
      "page 310\n",
      "['삼국-무영자', '최고에요.. 강추합니다예전에 봤다 다시봤는데도 잼나네요', 10]\n"
     ]
    },
    {
     "name": "stderr",
     "output_type": "stream",
     "text": [
      "\r",
      " 31%|████████████████████████▊                                                       | 310/999 [03:05<07:01,  1.63it/s]"
     ]
    },
    {
     "name": "stdout",
     "output_type": "stream",
     "text": [
      "page 311\n",
      "['탄생', '가슴으로 느껴지는 감동이 있는 인생영화입니다..', 10]\n"
     ]
    },
    {
     "name": "stderr",
     "output_type": "stream",
     "text": [
      "\r",
      " 31%|████████████████████████▉                                                       | 311/999 [03:06<06:58,  1.64it/s]"
     ]
    },
    {
     "name": "stdout",
     "output_type": "stream",
     "text": [
      "page 312\n",
      "['탄생', '강추. 스토리가 실화인데 웬만한 영화 어드벤쳐는 뭐 비교도 안될 정도로 험난하다는 것에 일단 놀랍고, 종교 영화라기엔 순교 장면은 짧고 그 시대 역사 어드벤쳐 영화같다. 왜 이 이야기를 소재로 한 영화가 이제야 나왔는지 의문일 정도로 역사적으로 큰 의미가 있는 인물이 주인공이다. 진짜 보기를 잘했다는 생각이 든다.', 10]\n"
     ]
    },
    {
     "name": "stderr",
     "output_type": "stream",
     "text": [
      "\r",
      " 31%|████████████████████████▉                                                       | 312/999 [03:07<06:56,  1.65it/s]"
     ]
    },
    {
     "name": "stdout",
     "output_type": "stream",
     "text": [
      "page 313\n",
      "['탄생', '마음에 울림을 주고 감동이 있습니다 훌쩍 울고나면 마음이 개운해지면서 꽉 채워지는 느낌이에요 연말연시에 딱 어울리는 영화입니다', 10]\n"
     ]
    },
    {
     "name": "stderr",
     "output_type": "stream",
     "text": [
      "\r",
      " 31%|█████████████████████████                                                       | 313/999 [03:07<06:55,  1.65it/s]"
     ]
    },
    {
     "name": "stdout",
     "output_type": "stream",
     "text": [
      "page 314\n",
      "['탄생', '마음에 울림을 주고 감동이 있습니다 훌쩍 울고나면 마음이 개운해지면서 꽉 채워지는 느낌이에요 연말연시에 딱 어울리는 영화입니다', 10]\n"
     ]
    },
    {
     "name": "stderr",
     "output_type": "stream",
     "text": [
      "\r",
      " 31%|█████████████████████████▏                                                      | 314/999 [03:08<06:52,  1.66it/s]"
     ]
    },
    {
     "name": "stdout",
     "output_type": "stream",
     "text": [
      "page 315\n",
      "['올빼미', '전형적인 상업영화 킬링타임으로 적당', 5]\n"
     ]
    },
    {
     "name": "stderr",
     "output_type": "stream",
     "text": [
      "\r",
      " 32%|█████████████████████████▏                                                      | 315/999 [03:08<06:51,  1.66it/s]"
     ]
    },
    {
     "name": "stdout",
     "output_type": "stream",
     "text": [
      "page 316\n",
      "['오늘 밤, 세계에서 이 사랑이 사라진다 해도', '인생 영화 등극 !!! 상영관 더 많아졌으면 좋겠어요 ! 일본 갬성 좋아하신다면 추천  ( 일단 남주가 미쳤음요..) ', 10]\n"
     ]
    },
    {
     "name": "stderr",
     "output_type": "stream",
     "text": [
      "\r",
      " 32%|█████████████████████████▎                                                      | 316/999 [03:09<06:51,  1.66it/s]"
     ]
    },
    {
     "name": "stdout",
     "output_type": "stream",
     "text": [
      "page 317\n",
      "['탄생', '자유롭게 신앙생활을 할 수 있는 것이 감사할 뿐입니다. 영화보는 내도록 울었습니다. ', 10]\n"
     ]
    },
    {
     "name": "stderr",
     "output_type": "stream",
     "text": [
      "\r",
      " 32%|█████████████████████████▍                                                      | 317/999 [03:10<06:49,  1.66it/s]"
     ]
    },
    {
     "name": "stdout",
     "output_type": "stream",
     "text": [
      "page 318\n",
      "['선과 악의 학교', '지인들한테 추천할 정도로 재밌음..', 10]\n"
     ]
    },
    {
     "name": "stderr",
     "output_type": "stream",
     "text": [
      "\r",
      " 32%|█████████████████████████▍                                                      | 318/999 [03:10<06:50,  1.66it/s]"
     ]
    },
    {
     "name": "stdout",
     "output_type": "stream",
     "text": [
      "page 319\n",
      "['선과 악의 학교', '지인들한테 추천할 정도로 재밌음..', 10]\n"
     ]
    },
    {
     "name": "stderr",
     "output_type": "stream",
     "text": [
      "\r",
      " 32%|█████████████████████████▌                                                      | 319/999 [03:11<06:49,  1.66it/s]"
     ]
    },
    {
     "name": "stdout",
     "output_type": "stream",
     "text": [
      "page 320\n",
      "['올빼미', '진짜... 영화관가서 또 보고싶은 영화 최근들어 본 영화중에 제일 영화다운 영화였어요 진짜 짱.. 역사공부 다시 하고싶은정듀..', 10]\n"
     ]
    },
    {
     "name": "stderr",
     "output_type": "stream",
     "text": [
      "\r",
      " 32%|█████████████████████████▋                                                      | 320/999 [03:11<06:48,  1.66it/s]"
     ]
    },
    {
     "name": "stdout",
     "output_type": "stream",
     "text": [
      "page 321\n",
      "['올빼미', '진짜... 영화관가서 또 보고싶은 영화 최근들어 본 영화중에 제일 영화다운 영화였어요 진짜 짱.. 역사공부 다시 하고싶은정듀..', 10]\n"
     ]
    },
    {
     "name": "stderr",
     "output_type": "stream",
     "text": [
      "\r",
      " 32%|█████████████████████████▋                                                      | 321/999 [03:12<06:47,  1.66it/s]"
     ]
    },
    {
     "name": "stdout",
     "output_type": "stream",
     "text": [
      "page 322\n",
      "['올빼미', '2시간이 어떻게갔는지 모르게 봤어요ㅜ ', 10]\n"
     ]
    },
    {
     "name": "stderr",
     "output_type": "stream",
     "text": [
      "\r",
      " 32%|█████████████████████████▊                                                      | 322/999 [03:13<06:48,  1.66it/s]"
     ]
    },
    {
     "name": "stdout",
     "output_type": "stream",
     "text": [
      "page 323\n",
      "['엔시티 드림 더 무비 : 인 어 드림', '엔시티 세븐틴 몬스터 엑스 드림 캐쳐 아이즈원 아이브 뉴진스 방탄소년단 블랙핑크 트와이스 말고도 덕질할수 있는 보이그룹&amp;걸그룹 천지에 넘쳐나는 나라라서 너무 고맙다(웃음)대한민국', 9]\n"
     ]
    },
    {
     "name": "stderr",
     "output_type": "stream",
     "text": [
      "\r",
      " 32%|█████████████████████████▊                                                      | 323/999 [03:13<06:47,  1.66it/s]"
     ]
    },
    {
     "name": "stdout",
     "output_type": "stream",
     "text": [
      "page 324\n",
      "['압꾸정', '마동석 연기재밌었음요중간부 살짝 스릴러적요소 있어서괜찮았습니다.재밌게 봤어요', 8]\n"
     ]
    },
    {
     "name": "stderr",
     "output_type": "stream",
     "text": [
      "\r",
      " 32%|█████████████████████████▉                                                      | 324/999 [03:14<06:47,  1.66it/s]"
     ]
    },
    {
     "name": "stdout",
     "output_type": "stream",
     "text": [
      "page 325\n",
      "['카시오페아', '영화를 본지 반년이 지나가는데 여운이 남고 , 장면 장면들이 기억에 남아 마음이 아파요 추천합니다 ', 10]\n"
     ]
    },
    {
     "name": "stderr",
     "output_type": "stream",
     "text": [
      "\r",
      " 33%|██████████████████████████                                                      | 325/999 [03:14<06:47,  1.65it/s]"
     ]
    },
    {
     "name": "stdout",
     "output_type": "stream",
     "text": [
      "page 326\n",
      "['유전', '진짜 기괴한 부분에서는 가히 최고봉이라고 할수 있었다. 전반적으로 미스테리하고 끔찍한 느낌을 잘 살렸고 밝은 색감에 상반된 분위기가 매력있었다. 미드소마 때도 그렇고 이것고 그냥 이해하려고 하기보단 그냥 감독 스타일로 그냥 받아들여야되는거 같다. 스토리도 그냥 악마하나 부활시키는 걸로? 여동생이 악마였던 걸로? 근데 참 연출이 그로테스크하게 잘한거 같다. 끔찍한 영화였는데 배우들 연기가 아주 좋았고 묘한 매력을 느꼈다.', 8]\n"
     ]
    },
    {
     "name": "stderr",
     "output_type": "stream",
     "text": [
      "\r",
      " 33%|██████████████████████████                                                      | 326/999 [03:15<07:01,  1.60it/s]"
     ]
    },
    {
     "name": "stdout",
     "output_type": "stream",
     "text": [
      "page 327\n",
      "['카시오페아', '영화를 본지 반년이 지나가는데 여운이 남고 , 장면 장면들이 기억에 남아 마음이 아파요 추천합니다 ', 10]\n"
     ]
    },
    {
     "name": "stderr",
     "output_type": "stream",
     "text": [
      "\r",
      " 33%|██████████████████████████▏                                                     | 327/999 [03:16<06:56,  1.61it/s]"
     ]
    },
    {
     "name": "stdout",
     "output_type": "stream",
     "text": [
      "page 328\n",
      "['오늘 밤, 세계에서 이 사랑이 사라진다 해도', '완벽했어요..멜로라면 환장하는, 특히 슬픈 멜로라면 목숨걸고 보는 저에게는 완벽에 가까운 작품이었습니다. 여자 주인공의 상황이 둘의 관계를 더 끈끈하게 만들고, 저를 더 울게 만드네요..남자 주인공은 왜 이렇게 제 스타일인지..ㅠㅠㅠㅠ또 보고 싶어요????', 10]\n"
     ]
    },
    {
     "name": "stderr",
     "output_type": "stream",
     "text": [
      "\r",
      " 33%|██████████████████████████▎                                                     | 328/999 [03:16<06:51,  1.63it/s]"
     ]
    },
    {
     "name": "stdout",
     "output_type": "stream",
     "text": [
      "page 329\n",
      "['원피스 필름 레드', '기대 안하고 가서 재밌었고 노래가 너무 좋아서 놀람', 8]\n"
     ]
    },
    {
     "name": "stderr",
     "output_type": "stream",
     "text": [
      "\r",
      " 33%|██████████████████████████▎                                                     | 329/999 [03:17<06:49,  1.64it/s]"
     ]
    },
    {
     "name": "stdout",
     "output_type": "stream",
     "text": [
      "page 330\n",
      "['고질라 VS. 콩', '이런 느낌 퍼시픽림 이후로 처음이야..!', 8]\n"
     ]
    },
    {
     "name": "stderr",
     "output_type": "stream",
     "text": [
      "\r",
      " 33%|██████████████████████████▍                                                     | 330/999 [03:18<06:46,  1.64it/s]"
     ]
    },
    {
     "name": "stdout",
     "output_type": "stream",
     "text": [
      "page 331\n",
      "['올빼미', '보는 내내 입틀막몰입도 최고배우들이 연기 최고', 10]\n"
     ]
    },
    {
     "name": "stderr",
     "output_type": "stream",
     "text": [
      "\r",
      " 33%|██████████████████████████▌                                                     | 331/999 [03:18<06:45,  1.65it/s]"
     ]
    },
    {
     "name": "stdout",
     "output_type": "stream",
     "text": [
      "page 332\n",
      "['올빼미', '보는 내내 입틀막몰입도 최고배우들이 연기 최고', 10]\n"
     ]
    },
    {
     "name": "stderr",
     "output_type": "stream",
     "text": [
      "\r",
      " 33%|██████████████████████████▌                                                     | 332/999 [03:19<06:43,  1.65it/s]"
     ]
    },
    {
     "name": "stdout",
     "output_type": "stream",
     "text": [
      "page 333\n",
      "['오늘 밤, 세계에서 이 사랑이 사라진다 해도', '원작보고 좋아하는 배우들도 나와서 보러 갔는데 스토리 조금 차이가 있지만 영상 색감이 너무 좋고 또 배우들이 연기를 잘했어요..정말 보면서 펑펑 울었습니다..사람마다 차이는 있겠지만 여운이 남을정도로 다시 보고싶은 영화..올 한 해 괜찮았던 영화같아요..', 10]\n"
     ]
    },
    {
     "name": "stderr",
     "output_type": "stream",
     "text": [
      "\r",
      " 33%|██████████████████████████▋                                                     | 333/999 [03:19<06:42,  1.66it/s]"
     ]
    },
    {
     "name": "stdout",
     "output_type": "stream",
     "text": [
      "page 334\n",
      "['데시벨', '꼭 이렇게 찍어야만 속이 후련했냐 ??', 2]\n"
     ]
    },
    {
     "name": "stderr",
     "output_type": "stream",
     "text": [
      "\r",
      " 33%|██████████████████████████▋                                                     | 334/999 [03:20<06:42,  1.65it/s]"
     ]
    },
    {
     "name": "stdout",
     "output_type": "stream",
     "text": [
      "page 335\n",
      "['데시벨', '꼭 이렇게 찍어야만 속이 후련했냐 ??', 2]\n"
     ]
    },
    {
     "name": "stderr",
     "output_type": "stream",
     "text": [
      "\r",
      " 34%|██████████████████████████▊                                                     | 335/999 [03:21<06:43,  1.64it/s]"
     ]
    },
    {
     "name": "stdout",
     "output_type": "stream",
     "text": [
      "page 336\n",
      "['태양의 눈물', '언제봐도 역작입니다. 볼 때마다 감동입니다. 눈물이 납니다. 인류의 문화유산이라 말해주고 싶네요. ', 10]\n"
     ]
    },
    {
     "name": "stderr",
     "output_type": "stream",
     "text": [
      "\r",
      " 34%|██████████████████████████▉                                                     | 336/999 [03:21<06:41,  1.65it/s]"
     ]
    },
    {
     "name": "stdout",
     "output_type": "stream",
     "text": [
      "page 337\n",
      "['블랙 팬서: 와칸다 포에버', '전혀 몰입되지 않는 스토리 좋은 소재들을 살리지 못하는 연출 눈요기 거리 없는 액션', 2]\n"
     ]
    },
    {
     "name": "stderr",
     "output_type": "stream",
     "text": [
      "\r",
      " 34%|██████████████████████████▉                                                     | 337/999 [03:22<06:42,  1.64it/s]"
     ]
    },
    {
     "name": "stdout",
     "output_type": "stream",
     "text": [
      "page 338\n",
      "['올빼미', '류준열… 진짜 이렇게 연기 잘해도 되는건가요..? 진짜 믿고 보는 배우 류준열..몰입도 좋고 스토리 좋고 연기 좋고 영화보는 내내 화장실도 참고 몰입해서 본 영화입니다??', 10]\n"
     ]
    },
    {
     "name": "stderr",
     "output_type": "stream",
     "text": [
      "\r",
      " 34%|███████████████████████████                                                     | 338/999 [03:22<06:40,  1.65it/s]"
     ]
    },
    {
     "name": "stdout",
     "output_type": "stream",
     "text": [
      "page 339\n",
      "['올빼미', '류준열… 진짜 이렇게 연기 잘해도 되는건가요..? 진짜 믿고 보는 배우 류준열..몰입도 좋고 스토리 좋고 연기 좋고 영화보는 내내 화장실도 참고 몰입해서 본 영화입니다??', 10]\n"
     ]
    },
    {
     "name": "stderr",
     "output_type": "stream",
     "text": [
      "\r",
      " 34%|███████████████████████████▏                                                    | 339/999 [03:23<06:39,  1.65it/s]"
     ]
    },
    {
     "name": "stdout",
     "output_type": "stream",
     "text": [
      "page 340\n",
      "['몬스터', '감독은 정말 대단한 양반이다.어떻게 이런 시놉으로 투자자들을 설득하고 저 명배우들 출연을 시켰는가…그는 정말 희대의 혓바닥이다.', 1]\n"
     ]
    },
    {
     "name": "stderr",
     "output_type": "stream",
     "text": [
      "\r",
      " 34%|███████████████████████████▏                                                    | 340/999 [03:24<06:38,  1.65it/s]"
     ]
    },
    {
     "name": "stdout",
     "output_type": "stream",
     "text": [
      "page 341\n",
      "['청춘시련', '타이완 넘버원...교과서에서 일본을 모국이라고 칭할정도의 친일국가인 대만이 마크로스에 나오는 홀로그램 입체영상도 안해놓고 서빙로봇이나 공항안내로봇도 배치 안하고 일본이 모국 맞노?', 5]\n"
     ]
    },
    {
     "name": "stderr",
     "output_type": "stream",
     "text": [
      "\r",
      " 34%|███████████████████████████▎                                                    | 341/999 [03:24<06:38,  1.65it/s]"
     ]
    },
    {
     "name": "stdout",
     "output_type": "stream",
     "text": [
      "page 342\n",
      "['몬스터', '감독은 정말 대단한 양반이다.어떻게 이런 시놉으로 투자자들을 설득하고 저 명배우들 출연을 시켰는가…그는 정말 희대의 혓바닥이다.', 1]\n"
     ]
    },
    {
     "name": "stderr",
     "output_type": "stream",
     "text": [
      "\r",
      " 34%|███████████████████████████▍                                                    | 342/999 [03:25<06:37,  1.65it/s]"
     ]
    },
    {
     "name": "stdout",
     "output_type": "stream",
     "text": [
      "page 343\n",
      "['1번가의 기적', '임창정이라는 장르가 그대로 시전된 영화', 8]\n"
     ]
    },
    {
     "name": "stderr",
     "output_type": "stream",
     "text": [
      "\r",
      " 34%|███████████████████████████▍                                                    | 343/999 [03:25<06:38,  1.65it/s]"
     ]
    },
    {
     "name": "stdout",
     "output_type": "stream",
     "text": [
      "page 344\n",
      "['올빼미', '아이랑 같이 봤는데 화장실을 한번도 가지 않을 정도로 아이도 순간의 긴장감을 놓치지 않으려 했어요. 물론 간간히 주는 유머를 즐겼답니다.^^류준열 배우가 언제 부턴가 믿고보는 배우가 되었어요.ㅎㅎ ', 10]\n"
     ]
    },
    {
     "name": "stderr",
     "output_type": "stream",
     "text": [
      "\r",
      " 34%|███████████████████████████▌                                                    | 344/999 [03:26<06:46,  1.61it/s]"
     ]
    },
    {
     "name": "stdout",
     "output_type": "stream",
     "text": [
      "page 345\n",
      "['올빼미', '반전도 있고.. 많은 생각이 드는 영화였네요.추천합니다', 10]\n"
     ]
    },
    {
     "name": "stderr",
     "output_type": "stream",
     "text": [
      "\r",
      " 35%|███████████████████████████▋                                                    | 345/999 [03:27<06:42,  1.62it/s]"
     ]
    },
    {
     "name": "stdout",
     "output_type": "stream",
     "text": [
      "page 346\n",
      "['탄생', '감동의 물결.신앙을 떠나 새 시대를 여는선구자이자 개척자의삶의 여정을 따라가 봄.', 10]\n"
     ]
    },
    {
     "name": "stderr",
     "output_type": "stream",
     "text": [
      "\r",
      " 35%|███████████████████████████▋                                                    | 346/999 [03:27<06:41,  1.63it/s]"
     ]
    },
    {
     "name": "stdout",
     "output_type": "stream",
     "text": [
      "page 347\n",
      "['007 골든 아이', '007 시리즈 중 최강 중 하나라고 생각되는 작품으로 탱크씬, 위성씬에 무엇보다 악역 팜케 얀센의 존재가 엄청났다.', 10]\n"
     ]
    },
    {
     "name": "stderr",
     "output_type": "stream",
     "text": [
      "\r",
      " 35%|███████████████████████████▊                                                    | 347/999 [03:28<06:37,  1.64it/s]"
     ]
    },
    {
     "name": "stdout",
     "output_type": "stream",
     "text": [
      "page 348\n",
      "['오늘 밤, 세계에서 이 사랑이 사라진다 해도', '2번 봤는데 2번 다 울었어요ㅜㅜㅜ진짜 후유증이 장난 아닌 영화…진짜 또 보고 싶은 영화에요!', 10]\n"
     ]
    },
    {
     "name": "stderr",
     "output_type": "stream",
     "text": [
      "\r",
      " 35%|███████████████████████████▊                                                    | 348/999 [03:29<06:36,  1.64it/s]"
     ]
    },
    {
     "name": "stdout",
     "output_type": "stream",
     "text": [
      "page 349\n",
      "['올빼미', '올해 최고의 영화예요 종료전 서둘러 보세요', 10]\n"
     ]
    },
    {
     "name": "stderr",
     "output_type": "stream",
     "text": [
      "\r",
      " 35%|███████████████████████████▉                                                    | 349/999 [03:29<06:34,  1.65it/s]"
     ]
    },
    {
     "name": "stdout",
     "output_type": "stream",
     "text": [
      "page 350\n",
      "['올빼미', '올해 최고의 영화예요 종료전 서둘러 보세요', 10]\n"
     ]
    },
    {
     "name": "stderr",
     "output_type": "stream",
     "text": [
      "\r",
      " 35%|████████████████████████████                                                    | 350/999 [03:30<06:32,  1.65it/s]"
     ]
    },
    {
     "name": "stdout",
     "output_type": "stream",
     "text": [
      "page 351\n",
      "['리멤버', '역사를 잊은 민족에게 미래는?', 10]\n"
     ]
    },
    {
     "name": "stderr",
     "output_type": "stream",
     "text": [
      "\r",
      " 35%|████████████████████████████                                                    | 351/999 [03:30<06:32,  1.65it/s]"
     ]
    },
    {
     "name": "stdout",
     "output_type": "stream",
     "text": [
      "page 352\n",
      "['올빼미', '너무 재미있게 봤습니다.', 10]\n"
     ]
    },
    {
     "name": "stderr",
     "output_type": "stream",
     "text": [
      "\r",
      " 35%|████████████████████████████▏                                                   | 352/999 [03:31<06:31,  1.65it/s]"
     ]
    },
    {
     "name": "stdout",
     "output_type": "stream",
     "text": [
      "page 353\n",
      "['올빼미', '올해 본 영화 중 최고유해진 류준열 연기 보는내내 긴장감 ', 10]\n"
     ]
    },
    {
     "name": "stderr",
     "output_type": "stream",
     "text": [
      "\r",
      " 35%|████████████████████████████▎                                                   | 353/999 [03:32<06:30,  1.65it/s]"
     ]
    },
    {
     "name": "stdout",
     "output_type": "stream",
     "text": [
      "page 354\n",
      "['해바라기', '내인생 가장 많이 본 영화', 10]\n"
     ]
    },
    {
     "name": "stderr",
     "output_type": "stream",
     "text": [
      "\r",
      " 35%|████████████████████████████▎                                                   | 354/999 [03:32<06:29,  1.65it/s]"
     ]
    },
    {
     "name": "stdout",
     "output_type": "stream",
     "text": [
      "page 355\n",
      "['해바라기', '내인생 가장 많이 본 영화', 10]\n"
     ]
    },
    {
     "name": "stderr",
     "output_type": "stream",
     "text": [
      "\r",
      " 36%|████████████████████████████▍                                                   | 355/999 [03:33<06:28,  1.66it/s]"
     ]
    },
    {
     "name": "stdout",
     "output_type": "stream",
     "text": [
      "page 356\n",
      "['탄생', '너무 감동적인 영화에요. 강추에요.', 10]\n"
     ]
    },
    {
     "name": "stderr",
     "output_type": "stream",
     "text": [
      "\r",
      " 36%|████████████████████████████▌                                                   | 356/999 [03:33<06:28,  1.65it/s]"
     ]
    },
    {
     "name": "stdout",
     "output_type": "stream",
     "text": [
      "page 357\n",
      "['멋진 하루', '어른을  위한 동화같은하정우에하정우를 위한  영화', 10]\n"
     ]
    },
    {
     "name": "stderr",
     "output_type": "stream",
     "text": [
      "\r",
      " 36%|████████████████████████████▌                                                   | 357/999 [03:34<06:27,  1.66it/s]"
     ]
    },
    {
     "name": "stdout",
     "output_type": "stream",
     "text": [
      "page 358\n",
      "['올빼미', '올해 한국영화 중에서 가장 좋았어요 시작부터 왠지 모르게 처연하고 보는내내 슬펐습니다. 긴장감있는 최고의 연기를 보여준 류준열, 유해진 배우님 감사합니다!', 10]\n"
     ]
    },
    {
     "name": "stderr",
     "output_type": "stream",
     "text": [
      "\r",
      " 36%|████████████████████████████▋                                                   | 358/999 [03:35<06:28,  1.65it/s]"
     ]
    },
    {
     "name": "stdout",
     "output_type": "stream",
     "text": [
      "page 359\n",
      "['올빼미', '소현세자역 김성철 배우 연기 짱이에용', 10]\n"
     ]
    },
    {
     "name": "stderr",
     "output_type": "stream",
     "text": [
      "\r",
      " 36%|████████████████████████████▋                                                   | 359/999 [03:35<06:28,  1.65it/s]"
     ]
    },
    {
     "name": "stdout",
     "output_type": "stream",
     "text": [
      "page 360\n",
      "['외계+인 1부', '호불호가 확실한 영화라 안타깝다 ㅠ 전우치고 재밌게 봤고 sf, 타임루프 장르를 좋아하는 사람으로선 굉장히 흥미롭게 봤는데 평점이 낮아 안타깝 ㅠㅠ 서울 한복판에서 싸우는 장면도 잘 만들었더만 왜케 저평가 되는지 모르겠는.. 여튼 흥행엔 성공 못했지만 뒷이야기 궁금하니 2부 꼭 만들어 주세요!!! ', 10]\n"
     ]
    },
    {
     "name": "stderr",
     "output_type": "stream",
     "text": [
      "\r",
      " 36%|████████████████████████████▊                                                   | 360/999 [03:36<06:27,  1.65it/s]"
     ]
    },
    {
     "name": "stdout",
     "output_type": "stream",
     "text": [
      "page 361\n",
      "['올빼미', '기침소리 때문에 관람 힘드셨던 분들 죄송합니다ㅠ', 8]\n"
     ]
    },
    {
     "name": "stderr",
     "output_type": "stream",
     "text": [
      "\r",
      " 36%|████████████████████████████▉                                                   | 361/999 [03:36<06:27,  1.65it/s]"
     ]
    },
    {
     "name": "stdout",
     "output_type": "stream",
     "text": [
      "page 362\n",
      "['올빼미', '초반에는 류준열 시선으로 비추어지는데 후반에서 제 3자의 시선으로 비추어지는게 너무 좋았어요 장면 하나하나마다 떡밥이 있고 그 안에 숨겨진 뜻이 있어서 영화끝나고 추리하는 맛도 있었고 여운이 많이 남는 영화였어요! 예를 들어서 남한산성에서 머리에서 피가나도록 조아린 왕이 후반부에 계단에서 넘어져서 머리에 피가 났을 때 ? 순간 남한산성? 이 생각도 들었고 진짜 정말 돈이 하나도 아깝지 않았고 또 다시 보고싶어요 !! 그리고 너무 무서웠고 스릴 있었고 .. 잔인했던 장면도 몇 개 있었고 배우분들 전부 다 연기를 잘하셔서 몰입감이 최고였습니다 !!! 그리고 영화 볼 때 감독 누군지 안찾아보는데 .. 너무 재밌고 대체 이런 생각과 연출을 한 지니어스 감독님이 누구신지 궁금해서 찾아봤네요 !! 안태진 감독님 다음영화 개봉할 때 꼭꼭 찾아보겠습니다 ㅠㅠ 너무 재밌었어요', 10]\n"
     ]
    },
    {
     "name": "stderr",
     "output_type": "stream",
     "text": [
      "\r",
      " 36%|████████████████████████████▉                                                   | 362/999 [03:37<06:26,  1.65it/s]"
     ]
    },
    {
     "name": "stdout",
     "output_type": "stream",
     "text": [
      "page 363\n",
      "['올빼미', '너무 슬프고 무섭고 무엇보다 너무 재밌었습니다', 10]\n"
     ]
    },
    {
     "name": "stderr",
     "output_type": "stream",
     "text": [
      "\r",
      " 36%|█████████████████████████████                                                   | 363/999 [03:38<06:35,  1.61it/s]"
     ]
    },
    {
     "name": "stdout",
     "output_type": "stream",
     "text": [
      "page 364\n",
      "['꽃다발 같은 사랑을 했다', '현실적이고 재밌게 봤습니다', 10]\n"
     ]
    },
    {
     "name": "stderr",
     "output_type": "stream",
     "text": [
      "\r",
      " 36%|█████████████████████████████▏                                                  | 364/999 [03:38<06:31,  1.62it/s]"
     ]
    },
    {
     "name": "stdout",
     "output_type": "stream",
     "text": [
      "page 365\n",
      "['에브리씽 에브리웨어 올 앳 원스', '호불호가 극명하게 갈린다. 와이프 친구가 인생영화라 해서 보았지만 나한테는 인생에서 극장에서 잠을 잔 두 번째 영화였다.너무 이해하기 힘들고, 너무 번잡스럽고, 대충 어떤 결말에 어떤 감동인지 알겠는데 거기까지 너무 어거지로 인도하는 느낌이다.', 1]\n"
     ]
    },
    {
     "name": "stderr",
     "output_type": "stream",
     "text": [
      "\r",
      " 37%|█████████████████████████████▏                                                  | 365/999 [03:39<06:29,  1.63it/s]"
     ]
    },
    {
     "name": "stdout",
     "output_type": "stream",
     "text": [
      "page 366\n",
      "['오늘 밤, 세계에서 이 사랑이 사라진다 해도', '재미있기도, 슬프기도 한 영화였습니다', 10]\n"
     ]
    },
    {
     "name": "stderr",
     "output_type": "stream",
     "text": [
      "\r",
      " 37%|█████████████████████████████▎                                                  | 366/999 [03:39<06:26,  1.64it/s]"
     ]
    },
    {
     "name": "stdout",
     "output_type": "stream",
     "text": [
      "page 367\n",
      "['올빼미', '재미있다고 하도 그러길래 보고왔는데 아놔...축축느러지고 지루하고..예고편이 다네...', 2]\n"
     ]
    },
    {
     "name": "stderr",
     "output_type": "stream",
     "text": [
      "\r",
      " 37%|█████████████████████████████▍                                                  | 367/999 [03:40<06:23,  1.65it/s]"
     ]
    },
    {
     "name": "stdout",
     "output_type": "stream",
     "text": [
      "page 368\n",
      "['올빼미', '개지립니다 진짜 스릴이 미쳤어요.. 손에 완전 땀나면서 봤습니다 강추드려욤', 10]\n"
     ]
    },
    {
     "name": "stderr",
     "output_type": "stream",
     "text": [
      "\r",
      " 37%|█████████████████████████████▍                                                  | 368/999 [03:41<06:21,  1.65it/s]"
     ]
    },
    {
     "name": "stdout",
     "output_type": "stream",
     "text": [
      "page 369\n",
      "['탄생', '아름다운 영화입니다..짧은 영화에 담기엔 긴내용이었던거  같아요.  개척  박해는 좋았는데 천주교가 조선에 어떤 역할을 했는지 그거도 담았더라면 좋았겠지만 그래도 만점 드립니다 ', 10]\n"
     ]
    },
    {
     "name": "stderr",
     "output_type": "stream",
     "text": [
      "\r",
      " 37%|█████████████████████████████▌                                                  | 369/999 [03:41<06:22,  1.65it/s]"
     ]
    },
    {
     "name": "stdout",
     "output_type": "stream",
     "text": [
      "page 370\n",
      "['원피스 필름 레드', '오다 선생님 감사합니다샹크스 리스펙 !', 10]\n"
     ]
    },
    {
     "name": "stderr",
     "output_type": "stream",
     "text": [
      "\r",
      " 37%|█████████████████████████████▋                                                  | 370/999 [03:42<06:20,  1.65it/s]"
     ]
    },
    {
     "name": "stdout",
     "output_type": "stream",
     "text": [
      "page 371\n",
      "['올빼미', '진짜………. 상상력 대박입니다. 스토리 너무 신선합니다 진짜 너무 재밌었어요', 10]\n"
     ]
    },
    {
     "name": "stderr",
     "output_type": "stream",
     "text": [
      "\r",
      " 37%|█████████████████████████████▋                                                  | 371/999 [03:42<06:19,  1.65it/s]"
     ]
    },
    {
     "name": "stdout",
     "output_type": "stream",
     "text": [
      "page 372\n",
      "['탄생', '시대만 잘 만났어도…윤시윤 연기 압권이었다. 종교가 없으매도 김대건 신부 위대하고 존경스럽더라 탄생.. 오랜만에 가져보는 여운 남는 영화였다. ', 8]\n"
     ]
    },
    {
     "name": "stderr",
     "output_type": "stream",
     "text": [
      "\r",
      " 37%|█████████████████████████████▊                                                  | 372/999 [03:43<06:17,  1.66it/s]"
     ]
    },
    {
     "name": "stdout",
     "output_type": "stream",
     "text": [
      "page 373\n",
      "['올빼미', '‘그장면‘이후 악마들이 가득한 지옥 같았다.', 10]\n"
     ]
    },
    {
     "name": "stderr",
     "output_type": "stream",
     "text": [
      "\r",
      " 37%|█████████████████████████████▊                                                  | 373/999 [03:44<06:19,  1.65it/s]"
     ]
    },
    {
     "name": "stdout",
     "output_type": "stream",
     "text": [
      "page 374\n",
      "['오피스', '그럭저럭 볼만했는데 해드샷은좀..', 6]\n"
     ]
    },
    {
     "name": "stderr",
     "output_type": "stream",
     "text": [
      "\r",
      " 37%|█████████████████████████████▉                                                  | 374/999 [03:44<06:19,  1.65it/s]"
     ]
    },
    {
     "name": "stdout",
     "output_type": "stream",
     "text": [
      "page 375\n",
      "['플라이트 93', '안타까운 희생자들과 별개로 영화 자체로만 보면 아쉬운 영화', 5]\n"
     ]
    },
    {
     "name": "stderr",
     "output_type": "stream",
     "text": [
      "\r",
      " 38%|██████████████████████████████                                                  | 375/999 [03:45<06:19,  1.64it/s]"
     ]
    },
    {
     "name": "stdout",
     "output_type": "stream",
     "text": [
      "page 376\n",
      "['올빼미', '보는동안 심장이 쿵쾅거리고(긴장감)너무 재밌었어요 :)', 10]\n"
     ]
    },
    {
     "name": "stderr",
     "output_type": "stream",
     "text": [
      "\r",
      " 38%|██████████████████████████████                                                  | 376/999 [03:46<06:19,  1.64it/s]"
     ]
    },
    {
     "name": "stdout",
     "output_type": "stream",
     "text": [
      "page 377\n",
      "['오늘 밤, 세계에서 이 사랑이 사라진다 해도', '진심 여운이 계속 남는영화 남주 여주 비주얼도 잘어울리고 여주 친구도 연기가 지금도 기억에 남고 두번 봤는데도 눈물 나옴 안울수가 없는 영화임 ', 10]\n"
     ]
    },
    {
     "name": "stderr",
     "output_type": "stream",
     "text": [
      "\r",
      " 38%|██████████████████████████████▏                                                 | 377/999 [03:46<06:16,  1.65it/s]"
     ]
    },
    {
     "name": "stdout",
     "output_type": "stream",
     "text": [
      "page 378\n",
      "['올빼미', '지금까지 영화를 보면서 심장이 터질것같은 두근거림의 영화는 처음이였어요~정말 시간가는줄 모르고 봤어요. 너무 재미있는 영화였습니다', 10]\n"
     ]
    },
    {
     "name": "stderr",
     "output_type": "stream",
     "text": [
      "\r",
      " 38%|██████████████████████████████▎                                                 | 378/999 [03:47<06:16,  1.65it/s]"
     ]
    },
    {
     "name": "stdout",
     "output_type": "stream",
     "text": [
      "page 379\n",
      "['중독노래방', '너무 무겁거나 너무 가볍지 않은 미스터리물', 7]\n"
     ]
    },
    {
     "name": "stderr",
     "output_type": "stream",
     "text": [
      "\r",
      " 38%|██████████████████████████████▎                                                 | 379/999 [03:47<06:16,  1.65it/s]"
     ]
    },
    {
     "name": "stdout",
     "output_type": "stream",
     "text": [
      "page 380\n",
      "['압꾸정', '개노잼 핵노잼 정말 재미없음', 3]\n"
     ]
    },
    {
     "name": "stderr",
     "output_type": "stream",
     "text": [
      "\r",
      " 38%|██████████████████████████████▍                                                 | 380/999 [03:48<06:19,  1.63it/s]"
     ]
    },
    {
     "name": "stdout",
     "output_type": "stream",
     "text": [
      "page 381\n",
      "['압꾸정', '그냥 재미 없어시간 낭비하지 말자', 1]\n"
     ]
    },
    {
     "name": "stderr",
     "output_type": "stream",
     "text": [
      "\r",
      " 38%|██████████████████████████████▌                                                 | 381/999 [03:49<06:25,  1.60it/s]"
     ]
    },
    {
     "name": "stdout",
     "output_type": "stream",
     "text": [
      "page 382\n",
      "['버드 박스', '허무맹랑하고 억지스러움 ', 3]\n"
     ]
    },
    {
     "name": "stderr",
     "output_type": "stream",
     "text": [
      "\r",
      " 38%|██████████████████████████████▌                                                 | 382/999 [03:49<06:21,  1.62it/s]"
     ]
    },
    {
     "name": "stdout",
     "output_type": "stream",
     "text": [
      "page 383\n",
      "['올빼미', '올해 가장 흥미로웠어요', 9]\n"
     ]
    },
    {
     "name": "stderr",
     "output_type": "stream",
     "text": [
      "\r",
      " 38%|██████████████████████████████▋                                                 | 383/999 [03:50<06:19,  1.62it/s]"
     ]
    },
    {
     "name": "stdout",
     "output_type": "stream",
     "text": [
      "page 384\n",
      "['스트레인지 월드', '신선한 이야기. 하지만 지루했어요. 8살 여자아이시작부터 나갈 때 까지 언제 끝나냐고 시간만 계속 물어봤어요.. ', 4]\n"
     ]
    },
    {
     "name": "stderr",
     "output_type": "stream",
     "text": [
      "\r",
      " 38%|██████████████████████████████▊                                                 | 384/999 [03:50<06:17,  1.63it/s]"
     ]
    },
    {
     "name": "stdout",
     "output_type": "stream",
     "text": [
      "page 385\n",
      "['마녀(魔女) Part2. The Other One', '1편 보신분은 영화보면서 유튜브나 겜하다가 쾅쾅 소리나면 그 액션씬만 보시면 되요~!! 스토리 개판이라 보실 이유가 읍음...1편 내용만 알고 있으면 됨..깡패가 나쁜넘 같지만 사실 착한넘임,... 집도 시세보다 더 주는데 왜 안파는거여 ... 뒤질때까지 안파는 이유를 모르긋네 ..', 6]\n"
     ]
    },
    {
     "name": "stderr",
     "output_type": "stream",
     "text": [
      "\r",
      " 39%|██████████████████████████████▊                                                 | 385/999 [03:51<06:15,  1.64it/s]"
     ]
    },
    {
     "name": "stdout",
     "output_type": "stream",
     "text": [
      "page 386\n",
      "['올빼미', '진짜 재밌어요 제발 보세요 제발 봐주세요', 10]\n"
     ]
    },
    {
     "name": "stderr",
     "output_type": "stream",
     "text": [
      "\r",
      " 39%|██████████████████████████████▉                                                 | 386/999 [03:52<06:15,  1.63it/s]"
     ]
    },
    {
     "name": "stdout",
     "output_type": "stream",
     "text": [
      "page 387\n",
      "['스마일', '극복할수 없는 트라우마를 갖게되는 불운에 처하는 수많은 사람들에게 절망을 준다... ', 8]\n"
     ]
    },
    {
     "name": "stderr",
     "output_type": "stream",
     "text": [
      "\r",
      " 39%|██████████████████████████████▉                                                 | 387/999 [03:52<06:13,  1.64it/s]"
     ]
    },
    {
     "name": "stdout",
     "output_type": "stream",
     "text": [
      "page 388\n",
      "['올빼미', '진짜.. 너무 재밌어요 올해 최고의 영화', 10]\n"
     ]
    },
    {
     "name": "stderr",
     "output_type": "stream",
     "text": [
      "\r",
      " 39%|███████████████████████████████                                                 | 388/999 [03:53<06:12,  1.64it/s]"
     ]
    },
    {
     "name": "stdout",
     "output_type": "stream",
     "text": [
      "page 389\n",
      "['블랙 팬서: 와칸다 포에버', '마블듀 이제 끝났다 DC짱', 1]\n"
     ]
    },
    {
     "name": "stderr",
     "output_type": "stream",
     "text": [
      "\r",
      " 39%|███████████████████████████████▏                                                | 389/999 [03:53<06:12,  1.64it/s]"
     ]
    },
    {
     "name": "stdout",
     "output_type": "stream",
     "text": [
      "page 390\n",
      "['올빼미', '정통 사극 스릴러라니...넘나 재미나게 봄', 10]\n"
     ]
    },
    {
     "name": "stderr",
     "output_type": "stream",
     "text": [
      "\r",
      " 39%|███████████████████████████████▏                                                | 390/999 [03:54<06:10,  1.64it/s]"
     ]
    },
    {
     "name": "stdout",
     "output_type": "stream",
     "text": [
      "page 391\n",
      "['에이 아이', '“저 달은 진짜인가요?” “모르겠어” ', 9]\n"
     ]
    },
    {
     "name": "stderr",
     "output_type": "stream",
     "text": [
      "\r",
      " 39%|███████████████████████████████▎                                                | 391/999 [03:55<06:11,  1.64it/s]"
     ]
    },
    {
     "name": "stdout",
     "output_type": "stream",
     "text": [
      "page 392\n",
      "['어쩌다, 결혼', '김동욱 배우님 봐서라도 2점 준다.', 2]\n"
     ]
    },
    {
     "name": "stderr",
     "output_type": "stream",
     "text": [
      "\r",
      " 39%|███████████████████████████████▍                                                | 392/999 [03:55<06:10,  1.64it/s]"
     ]
    },
    {
     "name": "stdout",
     "output_type": "stream",
     "text": [
      "page 393\n",
      "['압꾸정', '딱히 안 웃김. 그냥 열심히 연기하는구나 싶었다. 최악까지는 아닌듯.', 3]\n"
     ]
    },
    {
     "name": "stderr",
     "output_type": "stream",
     "text": [
      "\r",
      " 39%|███████████████████████████████▍                                                | 393/999 [03:56<06:08,  1.64it/s]"
     ]
    },
    {
     "name": "stdout",
     "output_type": "stream",
     "text": [
      "page 394\n",
      "['007 선더볼 작전', '이번 시리즈는 그럭저럭', 6]\n"
     ]
    },
    {
     "name": "stderr",
     "output_type": "stream",
     "text": [
      "\r",
      " 39%|███████████████████████████████▌                                                | 394/999 [03:57<06:07,  1.65it/s]"
     ]
    },
    {
     "name": "stdout",
     "output_type": "stream",
     "text": [
      "page 395\n",
      "['올빼미', '간만에 너무 잘만든 영화관람이었음 ', 10]\n"
     ]
    },
    {
     "name": "stderr",
     "output_type": "stream",
     "text": [
      "\r",
      " 40%|███████████████████████████████▋                                                | 395/999 [03:57<06:07,  1.65it/s]"
     ]
    },
    {
     "name": "stdout",
     "output_type": "stream",
     "text": [
      "page 396\n",
      "['마을에 부는 산들바람', '뒤늦게 보긴했지만, 세월이 흘러도 회자되지않는 이유가 있다. 이런 저런 얘기를 많이 녹여내고 싶었지만 개연성 설득력이 부족함. 결국엔 시골마을을 사랑한다는걸 말하고 싶었던거 같은데 아쉬운 부분이 많다. 비슷한류 다른 일상물 영화에 비해서 별론듯', 5]\n"
     ]
    },
    {
     "name": "stderr",
     "output_type": "stream",
     "text": [
      "\r",
      " 40%|███████████████████████████████▋                                                | 396/999 [03:58<06:05,  1.65it/s]"
     ]
    },
    {
     "name": "stdout",
     "output_type": "stream",
     "text": [
      "page 397\n",
      "['울고 싶은 나는 고양이 가면을 쓴다', '고양이 가면을 써서 고양이로 변신한다는 설정이 참신했어요. 변신한 흰 고양이도 너무 귀엽고...무게가 사람으로 살면서 마음을 닫고 살았지만, 다시 마음을 열게 되면서 인간으로 돌아오게 되어서 다행이에요. 저에게 사람으로 살래 고양이로 살래라고 물어본다면, 저는 고양이로 살아보는 것도 괜찮을 것 같아요. 인생은 힘드니까... 그렇지만, 무게를 보니 인생이란 힘들더라도 내가 생각하는 것보다는 의미가 있을 거라는 생각이 들어요. ', 9]\n"
     ]
    },
    {
     "name": "stderr",
     "output_type": "stream",
     "text": [
      "\r",
      " 40%|███████████████████████████████▊                                                | 397/999 [03:58<06:05,  1.65it/s]"
     ]
    },
    {
     "name": "stdout",
     "output_type": "stream",
     "text": [
      "page 398\n",
      "['데시벨', '그럭저럭 볼만했어요.', 6]\n"
     ]
    },
    {
     "name": "stderr",
     "output_type": "stream",
     "text": [
      "\r",
      " 40%|███████████████████████████████▊                                                | 398/999 [03:59<06:05,  1.64it/s]"
     ]
    },
    {
     "name": "stdout",
     "output_type": "stream",
     "text": [
      "page 399\n",
      "['탄생', '개봉날을 시작으로 세번 보았습니다그런데도 볼때마다 눈물이 나고 자꾸만 여운이 남네요...가톨릭신자가 아니래도 조선 최초의 신부가 어떻게 탄생 했는지 우리가 꼭 알아야하는 감동이 있는 역사 입니다 ', 9]\n"
     ]
    },
    {
     "name": "stderr",
     "output_type": "stream",
     "text": [
      "\r",
      " 40%|███████████████████████████████▉                                                | 399/999 [04:00<06:05,  1.64it/s]"
     ]
    },
    {
     "name": "stdout",
     "output_type": "stream",
     "text": [
      "page 400\n",
      "['본즈 앤 올', '포식자의 사랑, 연약하고 고독하구나.', 8]\n"
     ]
    },
    {
     "name": "stderr",
     "output_type": "stream",
     "text": [
      "\r",
      " 40%|████████████████████████████████                                                | 400/999 [04:00<06:14,  1.60it/s]"
     ]
    },
    {
     "name": "stdout",
     "output_type": "stream",
     "text": [
      "page 401\n",
      "['쥬라기 월드: 도미니언', '그냥 저냥 볼만함 ㅋㅋ6점대는 아닌듯', 7]\n"
     ]
    },
    {
     "name": "stderr",
     "output_type": "stream",
     "text": [
      "\r",
      " 40%|████████████████████████████████                                                | 401/999 [04:01<06:09,  1.62it/s]"
     ]
    },
    {
     "name": "stdout",
     "output_type": "stream",
     "text": [
      "page 402\n",
      "['데시벨', '관람하지 않는 것을 추천드립니다. 왜 데시벨이 영화 제목인지도 모르겠고, 차라리 끝을 발로 바꾸세요. 그게 더 어울립니다. 이런 배우들을 가지고 이딴 영화를 만든게 배우가 너무 아깝습니다. 연출 구리고요, 각본 구리고요, 스토리가 제일 구립니다. 억지 감동, 억지 개그 정말 화가날 정도입니다. 돈 아까우니까 절대 보지마시고 무조건 평점 알바이니까 비추입니다.', 1]\n"
     ]
    },
    {
     "name": "stderr",
     "output_type": "stream",
     "text": [
      "\r",
      " 40%|████████████████████████████████▏                                               | 402/999 [04:01<06:08,  1.62it/s]"
     ]
    },
    {
     "name": "stdout",
     "output_type": "stream",
     "text": [
      "page 403\n",
      "['탄생', '말이 필요 없음!눈물 찡해지는 영화!', 10]\n"
     ]
    },
    {
     "name": "stderr",
     "output_type": "stream",
     "text": [
      "\r",
      " 40%|████████████████████████████████▎                                               | 403/999 [04:02<06:05,  1.63it/s]"
     ]
    },
    {
     "name": "stdout",
     "output_type": "stream",
     "text": [
      "page 404\n",
      "['오늘 밤, 세계에서 이 사랑이 사라진다 해도', '슬프고 재밌는데 뒤에가 너무 급전개…여주 너무 예쁘고 남주 웃을 때 ㄹㅈㄷ', 9]\n"
     ]
    },
    {
     "name": "stderr",
     "output_type": "stream",
     "text": [
      "\r",
      " 40%|████████████████████████████████▎                                               | 404/999 [04:03<06:02,  1.64it/s]"
     ]
    },
    {
     "name": "stdout",
     "output_type": "stream",
     "text": [
      "page 405\n",
      "['인생은 아름다워', '염정아의 염정아에 의한 염정아를 위한 영화 정말 연기잘하는 배우ㅠㅠ', 10]\n"
     ]
    },
    {
     "name": "stderr",
     "output_type": "stream",
     "text": [
      "\r",
      " 41%|████████████████████████████████▍                                               | 405/999 [04:03<06:01,  1.64it/s]"
     ]
    },
    {
     "name": "stdout",
     "output_type": "stream",
     "text": [
      "page 406\n",
      "['히트', '화려한 액션은 차치하고, 전체적으로 형사가 범죄자를 쫓는 지극히 평범한 이야기임에도 더 말할 것도 없는 명배우들의 연기, 초반부터 꾸준히 철저하게 쌓아가는 캐릭터 서사로 관객들에게는 결코 단순한 권선징악의 구조가 아니라 결국 인간으로서의 갖가지 입체적인 면들과 사연이 있는 두명을 다 응원하게 만들고 마지막까지 완전히 몰입하게 만든다.', 9]\n"
     ]
    },
    {
     "name": "stderr",
     "output_type": "stream",
     "text": [
      "\r",
      " 41%|████████████████████████████████▌                                               | 406/999 [04:04<06:01,  1.64it/s]"
     ]
    },
    {
     "name": "stdout",
     "output_type": "stream",
     "text": [
      "page 407\n",
      "['압꾸정', '감상포인트 없는데 고르라하네', 1]\n"
     ]
    },
    {
     "name": "stderr",
     "output_type": "stream",
     "text": [
      "\r",
      " 41%|████████████████████████████████▌                                               | 407/999 [04:04<06:00,  1.64it/s]"
     ]
    },
    {
     "name": "stdout",
     "output_type": "stream",
     "text": [
      "page 408\n",
      "['본즈 앤 올', '옳지않아서 맘이 아프다. ', 6]\n"
     ]
    },
    {
     "name": "stderr",
     "output_type": "stream",
     "text": [
      "\r",
      " 41%|████████████████████████████████▋                                               | 408/999 [04:05<05:59,  1.65it/s]"
     ]
    },
    {
     "name": "stdout",
     "output_type": "stream",
     "text": [
      "page 409\n",
      "['올빼미', '재밌습니다.. 마지막까지 쫄깃쫄깃..', 10]\n"
     ]
    },
    {
     "name": "stderr",
     "output_type": "stream",
     "text": [
      "\r",
      " 41%|████████████████████████████████▊                                               | 409/999 [04:06<05:58,  1.64it/s]"
     ]
    },
    {
     "name": "stdout",
     "output_type": "stream",
     "text": [
      "page 410\n",
      "['올빼미', '뒷통수를 퍼퍼퍽 치다니', 10]\n"
     ]
    },
    {
     "name": "stderr",
     "output_type": "stream",
     "text": [
      "\r",
      " 41%|████████████████████████████████▊                                               | 410/999 [04:06<05:57,  1.65it/s]"
     ]
    },
    {
     "name": "stdout",
     "output_type": "stream",
     "text": [
      "page 411\n",
      "['감옥정사', '여주 몸매가 ㅎㄷㄷ함.. 저 몸이면 차라리 야동 찍으면 더 많은 돈을 벌수 있을듯', 5]\n"
     ]
    },
    {
     "name": "stderr",
     "output_type": "stream",
     "text": [
      "\r",
      " 41%|████████████████████████████████▉                                               | 411/999 [04:07<05:57,  1.64it/s]"
     ]
    },
    {
     "name": "stdout",
     "output_type": "stream",
     "text": [
      "page 412\n",
      "['오늘 밤, 세계에서 이 사랑이 사라진다 해도', '2022년 최악의 영화. 지루함의 끝.', 1]\n"
     ]
    },
    {
     "name": "stderr",
     "output_type": "stream",
     "text": [
      "\r",
      " 41%|████████████████████████████████▉                                               | 412/999 [04:08<05:58,  1.64it/s]"
     ]
    },
    {
     "name": "stdout",
     "output_type": "stream",
     "text": [
      "page 413\n",
      "['올빼미', '영화 보는 내내 몰입해서 봤어요추천합니다', 10]\n"
     ]
    },
    {
     "name": "stderr",
     "output_type": "stream",
     "text": [
      "\r",
      " 41%|█████████████████████████████████                                               | 413/999 [04:08<05:57,  1.64it/s]"
     ]
    },
    {
     "name": "stdout",
     "output_type": "stream",
     "text": [
      "page 414\n",
      "['블랙 팬서: 와칸다 포에버', 'ost 좋았다. 스토리는 빈약', 10]\n"
     ]
    },
    {
     "name": "stderr",
     "output_type": "stream",
     "text": [
      "\r",
      " 41%|█████████████████████████████████▏                                              | 414/999 [04:09<05:55,  1.65it/s]"
     ]
    },
    {
     "name": "stdout",
     "output_type": "stream",
     "text": [
      "page 415\n",
      "['데시벨', '글쎄다..애매모호하다', 5]\n"
     ]
    },
    {
     "name": "stderr",
     "output_type": "stream",
     "text": [
      "\r",
      " 42%|█████████████████████████████████▏                                              | 415/999 [04:09<05:55,  1.64it/s]"
     ]
    },
    {
     "name": "stdout",
     "output_type": "stream",
     "text": [
      "page 416\n",
      "['원피스 필름 레드', '저는 진짜 재미있게 봤어요 ~~ 그동안 공개되지 않았던 빨간머리 해적단도 볼 수 있었고 오다가 스토리에 신경을 대게 많이 썼다는 노력도 보였고 CG도 예술이였어요 역시 원피스는 샹크스, 샹크스 최고??', 10]\n"
     ]
    },
    {
     "name": "stderr",
     "output_type": "stream",
     "text": [
      "\r",
      " 42%|█████████████████████████████████▎                                              | 416/999 [04:10<05:59,  1.62it/s]"
     ]
    },
    {
     "name": "stdout",
     "output_type": "stream",
     "text": [
      "page 417\n",
      "['올빼미', '오랜만에 본 수작 영화', 9]\n"
     ]
    },
    {
     "name": "stderr",
     "output_type": "stream",
     "text": [
      "\r",
      " 42%|█████████████████████████████████▍                                              | 417/999 [04:11<05:56,  1.63it/s]"
     ]
    },
    {
     "name": "stdout",
     "output_type": "stream",
     "text": [
      "page 418\n",
      "['압꾸정', '재밌지도 재미없지도않은데돈은좀아까운듯', 6]\n"
     ]
    },
    {
     "name": "stderr",
     "output_type": "stream",
     "text": [
      "\r",
      " 42%|█████████████████████████████████▍                                              | 418/999 [04:11<05:55,  1.63it/s]"
     ]
    },
    {
     "name": "stdout",
     "output_type": "stream",
     "text": [
      "page 419\n",
      "['동감', '사실 캐스팅때문에 본게 큽니다.감독님께서 원하시는 연출은 보이긴 했지만 미미했고 , 상황에 대한 개연성이 너무 떨어져서 몰입도가 많이 깨졌습니다.특히 결말부분에 무늬에 고백과 응답은 너무 흐지부지했고요..뭐 그래도 로맨스 보고 싶을때 볼 수 있는 영화여서 최악은 아니었습니다.', 6]\n"
     ]
    },
    {
     "name": "stderr",
     "output_type": "stream",
     "text": [
      "\r",
      " 42%|█████████████████████████████████▌                                              | 419/999 [04:12<06:02,  1.60it/s]"
     ]
    },
    {
     "name": "stdout",
     "output_type": "stream",
     "text": [
      "page 420\n",
      "['인생은 아름다워', '잘봤습니다 추천합니다', 8]\n"
     ]
    },
    {
     "name": "stderr",
     "output_type": "stream",
     "text": [
      "\r",
      " 42%|█████████████████████████████████▋                                              | 420/999 [04:12<05:58,  1.62it/s]"
     ]
    },
    {
     "name": "stdout",
     "output_type": "stream",
     "text": [
      "page 421\n",
      "['헤어질 결심', '이보다 완벽할수없는 2022년도 올해의 한국영화 이미 청룡영화상 싹쓸이로 증명된 영화인데 무엇이 더 필요한가', 10]\n"
     ]
    },
    {
     "name": "stderr",
     "output_type": "stream",
     "text": [
      "\r",
      " 42%|█████████████████████████████████▋                                              | 421/999 [04:13<05:54,  1.63it/s]"
     ]
    },
    {
     "name": "stdout",
     "output_type": "stream",
     "text": [
      "page 422\n",
      "['올빼미', '유해진의 새로운 왕연기도전에는 박수를 쳐주고 싶다. 그러다 왕 특유의 근엄함이나 카리스마는보이지않아서 많이 아쉬웠다. 그의연기는 높이사지만 한계치를 보이는 연기가 아니었나하는 큰 아쉬움이 남는다. 그래서 집중도가 좀 떨어졌다.류준열은 깊이있는 내면연기에 큰박수를 쳐주고싶다. 뭔가 웅장한듯 보이지만 결말을 너무급히 마무리 짓는게 좀 개운치 않은 느낌이었다. ', 7]\n"
     ]
    },
    {
     "name": "stderr",
     "output_type": "stream",
     "text": [
      "\r",
      " 42%|█████████████████████████████████▊                                              | 422/999 [04:14<05:55,  1.62it/s]"
     ]
    },
    {
     "name": "stdout",
     "output_type": "stream",
     "text": [
      "page 423\n",
      "['오늘 밤, 세계에서 이 사랑이 사라진다 해도', '완전히 만족스러운건 아니지만 이 정도면 훌륭한 각색 같다.', 8]\n"
     ]
    },
    {
     "name": "stderr",
     "output_type": "stream",
     "text": [
      "\r",
      " 42%|█████████████████████████████████▊                                              | 423/999 [04:14<05:53,  1.63it/s]"
     ]
    },
    {
     "name": "stdout",
     "output_type": "stream",
     "text": [
      "page 424\n",
      "['올빼미', '류준열이.이렇게.컸나. 유해진은 뭐 유해진했고', 10]\n"
     ]
    },
    {
     "name": "stderr",
     "output_type": "stream",
     "text": [
      "\r",
      " 42%|█████████████████████████████████▉                                              | 424/999 [04:15<05:52,  1.63it/s]"
     ]
    },
    {
     "name": "stdout",
     "output_type": "stream",
     "text": [
      "page 425\n",
      "['올빼미', '주인공 빼고는 다 좋았음', 9]\n"
     ]
    },
    {
     "name": "stderr",
     "output_type": "stream",
     "text": [
      "\r",
      " 43%|██████████████████████████████████                                              | 425/999 [04:15<05:50,  1.64it/s]"
     ]
    },
    {
     "name": "stdout",
     "output_type": "stream",
     "text": [
      "page 426\n",
      "['탑건: 매버릭', '톡투미 구스....!!!!', 10]\n"
     ]
    },
    {
     "name": "stderr",
     "output_type": "stream",
     "text": [
      "\r",
      " 43%|██████████████████████████████████                                              | 426/999 [04:16<05:48,  1.64it/s]"
     ]
    },
    {
     "name": "stdout",
     "output_type": "stream",
     "text": [
      "page 427\n",
      "['본즈 앤 올', '인생영호ㅓ 입니다 굳굳굳굳', 10]\n"
     ]
    },
    {
     "name": "stderr",
     "output_type": "stream",
     "text": [
      "\r",
      " 43%|██████████████████████████████████▏                                             | 427/999 [04:17<05:46,  1.65it/s]"
     ]
    },
    {
     "name": "stdout",
     "output_type": "stream",
     "text": [
      "page 428\n",
      "['성적표의 김민영', '내가 저 나이때 어땟을까 라는 생각과 감독이 바라본 우리나라 사람들의 성적표를 잘 그려낸 올해의 독립영화', 10]\n"
     ]
    },
    {
     "name": "stderr",
     "output_type": "stream",
     "text": [
      "\r",
      " 43%|██████████████████████████████████▎                                             | 428/999 [04:17<05:46,  1.65it/s]"
     ]
    },
    {
     "name": "stdout",
     "output_type": "stream",
     "text": [
      "page 429\n",
      "['올빼미', '어우 류쥰열이 에?하는 표정으로 수건 냄새맡으면서 뭔가 이상한데 무슨 상황인거지?하고 생각하는 순간 불꺼지면서 연출되는 부분 진짜 미친듯,,,, 나도 모르게 허업,,, 아마도 많은 분들이 놀래셨을거 같은데  자꾸 생각나요,,,,무서워요, 전체적인 스토리나 연출이 좋아서 더 짜증남,,,,', 10]\n"
     ]
    },
    {
     "name": "stderr",
     "output_type": "stream",
     "text": [
      "\r",
      " 43%|██████████████████████████████████▎                                             | 429/999 [04:18<05:45,  1.65it/s]"
     ]
    },
    {
     "name": "stdout",
     "output_type": "stream",
     "text": [
      "page 430\n",
      "['미인도', '다시 보니까 시작부터 대사가 너무… 좀 별로다. 김규리랑 김남길의 케미만 좋았네. 감독 좀 변태같음.', 6]\n"
     ]
    },
    {
     "name": "stderr",
     "output_type": "stream",
     "text": [
      "\r",
      " 43%|██████████████████████████████████▍                                             | 430/999 [04:19<05:45,  1.65it/s]"
     ]
    },
    {
     "name": "stdout",
     "output_type": "stream",
     "text": [
      "page 431\n",
      "['대무가', '신박한 소재로 시선을 끌만하나 너무 B급스러웠다ㅠ', 7]\n"
     ]
    },
    {
     "name": "stderr",
     "output_type": "stream",
     "text": [
      "\r",
      " 43%|██████████████████████████████████▌                                             | 431/999 [04:19<05:44,  1.65it/s]"
     ]
    },
    {
     "name": "stdout",
     "output_type": "stream",
     "text": [
      "page 432\n",
      "['한산 리덕스', '바로 이것이 역사다 !!!', 10]\n"
     ]
    },
    {
     "name": "stderr",
     "output_type": "stream",
     "text": [
      "\r",
      " 43%|██████████████████████████████████▌                                             | 432/999 [04:20<05:44,  1.65it/s]"
     ]
    },
    {
     "name": "stdout",
     "output_type": "stream",
     "text": [
      "page 433\n",
      "['자백', '올빼미와 쌍두마차 급 반전 미스테리 스릴러우리나라에서 보기 드문 소재라 되게 흥미롭게 봣다', 8]\n"
     ]
    },
    {
     "name": "stderr",
     "output_type": "stream",
     "text": [
      "\r",
      " 43%|██████████████████████████████████▋                                             | 433/999 [04:20<05:44,  1.64it/s]"
     ]
    },
    {
     "name": "stdout",
     "output_type": "stream",
     "text": [
      "page 434\n",
      "['올빼미', '보는내내 쫄깃하고 재밌었어요. 유해진 연기는 뭔가 잘 어울리는 듯 어색한 듯 옷을 입은느낌. 나쁘지 않았음', 8]\n"
     ]
    },
    {
     "name": "stderr",
     "output_type": "stream",
     "text": [
      "\r",
      " 43%|██████████████████████████████████▊                                             | 434/999 [04:21<05:43,  1.65it/s]"
     ]
    },
    {
     "name": "stdout",
     "output_type": "stream",
     "text": [
      "page 435\n",
      "['그 겨울, 나는', '직접 관람했습니다. 잘 만들었습니다. 주제에 충실합니다.', 10]\n"
     ]
    },
    {
     "name": "stderr",
     "output_type": "stream",
     "text": [
      "\r",
      " 44%|██████████████████████████████████▊                                             | 435/999 [04:22<05:44,  1.63it/s]"
     ]
    },
    {
     "name": "stdout",
     "output_type": "stream",
     "text": [
      "page 436\n",
      "['블랙 팬서: 와칸다 포에버', '아이언하트 제발 빠지고 슈리의 블팬은 그저 맥아리없는 와칸다 포에버에 불과추모로서 완벽했지만 그 이상 뭐가 없고 감독을 바꿧어야 됫나싶음빨리 다름 블팬으로 세대교체나 했으면', 4]\n"
     ]
    },
    {
     "name": "stderr",
     "output_type": "stream",
     "text": [
      "\r",
      " 44%|██████████████████████████████████▉                                             | 436/999 [04:22<05:45,  1.63it/s]"
     ]
    },
    {
     "name": "stdout",
     "output_type": "stream",
     "text": [
      "page 437\n",
      "['압꾸정', '지루하고 재미없다 영화보면서 나갈까 수백번 고민한듯', 2]\n"
     ]
    },
    {
     "name": "stderr",
     "output_type": "stream",
     "text": [
      "\r",
      " 44%|██████████████████████████████████▉                                             | 437/999 [04:23<05:52,  1.59it/s]"
     ]
    },
    {
     "name": "stdout",
     "output_type": "stream",
     "text": [
      "page 438\n",
      "['압꾸정', '재미없어요 억지로 웃기려고 하는 느낌?지루해서 너무 졸립고 계속 시간만 확인했네요 마동석 배우님이 나오셔서 조금 기대했는데 너무 실망했어요', 2]\n"
     ]
    },
    {
     "name": "stderr",
     "output_type": "stream",
     "text": [
      "\r",
      " 44%|███████████████████████████████████                                             | 438/999 [04:23<05:50,  1.60it/s]"
     ]
    },
    {
     "name": "stdout",
     "output_type": "stream",
     "text": [
      "page 439\n",
      "['올빼미', '딸아이 손에 땀까지 났다며 극찬하네요배우들의 연기가 진짜 미쳤습니다~~~', 10]\n"
     ]
    },
    {
     "name": "stderr",
     "output_type": "stream",
     "text": [
      "\r",
      " 44%|███████████████████████████████████▏                                            | 439/999 [04:24<05:47,  1.61it/s]"
     ]
    },
    {
     "name": "stdout",
     "output_type": "stream",
     "text": [
      "page 440\n",
      "['동감', '배우들의 조합은 좋지만.... 구관이 명관이라는 말은 여기에 쓰는듯하다', 7]\n"
     ]
    },
    {
     "name": "stderr",
     "output_type": "stream",
     "text": [
      "\r",
      " 44%|███████████████████████████████████▏                                            | 440/999 [04:25<05:44,  1.62it/s]"
     ]
    },
    {
     "name": "stdout",
     "output_type": "stream",
     "text": [
      "page 441\n",
      "['데시벨', '여자분들이 좋아할만한 영화....', 7]\n"
     ]
    },
    {
     "name": "stderr",
     "output_type": "stream",
     "text": [
      "\r",
      " 44%|███████████████████████████████████▎                                            | 441/999 [04:25<05:43,  1.63it/s]"
     ]
    },
    {
     "name": "stdout",
     "output_type": "stream",
     "text": [
      "page 442\n",
      "['스트레인지 월드', '뻔하디 뻔한 가족애를 강조한 디즈니 애니메이션인데... 거기에 10대 동성애는 좀 선넘었다고본다 물론 과하진않지만 굳이?영상미 하나로 끌고가기엔 너무 밋밋했던 영화', 5]\n"
     ]
    },
    {
     "name": "stderr",
     "output_type": "stream",
     "text": [
      "\r",
      " 44%|███████████████████████████████████▍                                            | 442/999 [04:26<05:41,  1.63it/s]"
     ]
    },
    {
     "name": "stdout",
     "output_type": "stream",
     "text": [
      "page 443\n",
      "['탄생', '얕은 감정을 불러 일으키기 위한 자극적인 고문신도... 화려한 스토리로 거짓 눈물을 요구하는 과장된 장면도 없이 그저 역사적 사실에 의거하여 담백하게 풀어낸 김대건 신부님의 삶... 주님을 사랑했고 그 십자가 구원을 굳게 믿어 불쌍한 백성들을 위해 기꺼이 목숨까지 바친 신부님의 생애..그 숭고한 희생 앞에 어떤 미사어구도 어떤 화려한  포장도 필요치 않았습니다.그 담담하게 써 내려간 서간에는 그분의 고뇌와 세상의 삶이 주는 고통.. 박해로 죽어 가는 가족과 교인들의 죽음앞에 아무것도 할 수 없어 좌절했던 많은 인고의 시간이 느껴졌습니다.가진 것도 누릴 자유도 없기에 아쉬울것도 없어 죽을 수 있었던게 아니냐고 이름모를 순교자 분들을 저평가 할지 모르지만 그들의 순수한 믿음이야말로 지금의 우리에게 가장 필요한 마음가짐 참된 신앙심이 아닐까요?기득권의 수많은 권리와 혜택을 포기하고 기꺼이 백성들의 자유와 신앙을 위해 함께 순교한 양반의 지식층들.. 그들의 죽음 역시 지금을 살아가고 있는 조금은 누리고 살고 있는 저희들에게 집단이기주의와 개인주의에서 벗어나 조금은 다른 이들.. 사회적 약자를 위해 노력해야 하는거 아니냐고 이야기 하는 것 같았습니다.너는 천주교인이요? 라는 주님의 말씀에 네 그렇습니다라고 대답만 하는 것이 아니라 진정 그렇게 살겠습니다라고 답하며 실천해야 함을 다짐하게 되는 영화입니다. 기독교인은 물론 신자가 아닌 이들도 꼭 봤으면 하는 영화입니다. 특히 이시대를 살아가는 젊은이들에게 김대건 신부님이 전하는 이웃사랑의 정신은.. 물질만능주의에 빠져 사랑조차도 거래처럼 따지는 이들에게 삶의 참 가치는 죽음으로 끝날 세상에서 허무하게 없어져 버리는 돈과 명예가 아니라 영원한 기쁨과 생명을 줄 수 있는 참된 사랑임을 짧았지만 열정적이었던 당신의 삶을 통해 전하고 있습니다. 이 영화를 보는 모든이가 영원한 생명으로 다시 탄생하길 기도 드리며 이 겨울이 가기전 온 가족이 함께 관람하길 추천합니다. ', 10]\n"
     ]
    },
    {
     "name": "stderr",
     "output_type": "stream",
     "text": [
      "\r",
      " 44%|███████████████████████████████████▍                                            | 443/999 [04:27<05:40,  1.63it/s]"
     ]
    },
    {
     "name": "stdout",
     "output_type": "stream",
     "text": [
      "page 444\n",
      "['먼 훗날 우리', '그때 헤어지지 않았더라면 우리는 함께였을까? 아마도 또 다시 헤어졌겠지..명작은 결말을 알기에 더 슬프듯 우리도 결말이 너무 보여서 슬프다.다시 보고싶지만... 결국 우리의 끝에는 서로가 없겠지I miss you', 10]\n"
     ]
    },
    {
     "name": "stderr",
     "output_type": "stream",
     "text": [
      "\r",
      " 44%|███████████████████████████████████▌                                            | 444/999 [04:27<05:39,  1.63it/s]"
     ]
    },
    {
     "name": "stdout",
     "output_type": "stream",
     "text": [
      "page 445\n",
      "['올빼미', '두 주연의 연기로만도 일단 만점이지만 긴장감도 적당히 가져가고 그럴듯한 상상력으로 흥미롭게 볼수있었던 올해 하반기 최고 한국영화', 10]\n"
     ]
    },
    {
     "name": "stderr",
     "output_type": "stream",
     "text": [
      "\r",
      " 45%|███████████████████████████████████▋                                            | 445/999 [04:28<05:38,  1.64it/s]"
     ]
    },
    {
     "name": "stdout",
     "output_type": "stream",
     "text": [
      "page 446\n",
      "['선과 악의 학교', '하..킬링용이라 생각하기에도 열이 받음..내 아까운 시간..', 1]\n"
     ]
    },
    {
     "name": "stderr",
     "output_type": "stream",
     "text": [
      "\r",
      " 45%|███████████████████████████████████▋                                            | 446/999 [04:28<05:37,  1.64it/s]"
     ]
    },
    {
     "name": "stdout",
     "output_type": "stream",
     "text": [
      "page 447\n",
      "['연풍연가', '99년도엔 영상미가 예뻐서 봤는데22년도엔 이야기가 공감되네요. ', 10]\n"
     ]
    },
    {
     "name": "stderr",
     "output_type": "stream",
     "text": [
      "\r",
      " 45%|███████████████████████████████████▊                                            | 447/999 [04:29<05:36,  1.64it/s]"
     ]
    },
    {
     "name": "stdout",
     "output_type": "stream",
     "text": [
      "page 448\n",
      "['원피스 필름 레드', '원피스는 그렇게 좋아하지않지만 볼만했다?', 7]\n"
     ]
    },
    {
     "name": "stderr",
     "output_type": "stream",
     "text": [
      "\r",
      " 45%|███████████████████████████████████▉                                            | 448/999 [04:30<05:36,  1.64it/s]"
     ]
    },
    {
     "name": "stdout",
     "output_type": "stream",
     "text": [
      "page 449\n",
      "['오늘 밤, 세계에서 이 사랑이 사라진다 해도', '참 슬프고 안타까운 영화였던거같다 ', 9]\n"
     ]
    },
    {
     "name": "stderr",
     "output_type": "stream",
     "text": [
      "\r",
      " 45%|███████████████████████████████████▉                                            | 449/999 [04:30<05:34,  1.64it/s]"
     ]
    },
    {
     "name": "stdout",
     "output_type": "stream",
     "text": [
      "page 450\n",
      "['압꾸정', '마블리가 또.... 범죄도시말고도 수준급인 작품으로 보고싶다', 5]\n"
     ]
    },
    {
     "name": "stderr",
     "output_type": "stream",
     "text": [
      "\r",
      " 45%|████████████████████████████████████                                            | 450/999 [04:31<05:33,  1.65it/s]"
     ]
    },
    {
     "name": "stdout",
     "output_type": "stream",
     "text": [
      "page 451\n",
      "['그 겨울, 나는', '그저 각자의 상황이 문제일뿐 둘의 문제는 없었다', 8]\n"
     ]
    },
    {
     "name": "stderr",
     "output_type": "stream",
     "text": [
      "\r",
      " 45%|████████████████████████████████████                                            | 451/999 [04:31<05:31,  1.65it/s]"
     ]
    },
    {
     "name": "stdout",
     "output_type": "stream",
     "text": [
      "page 452\n",
      "['블랙 팬서: 와칸다 포에버', '1만큼은 아니었지만 OST를 통해 웅장함은 잘 느껴진거 같아여!다만 마지막 액션신은 너무 아쉬웠어여', 7]\n"
     ]
    },
    {
     "name": "stderr",
     "output_type": "stream",
     "text": [
      "\r",
      " 45%|████████████████████████████████████▏                                           | 452/999 [04:32<05:32,  1.64it/s]"
     ]
    },
    {
     "name": "stdout",
     "output_type": "stream",
     "text": [
      "page 453\n",
      "['탄생', '천주교인으로서 큰 울림이 있었습니다. [미션]이 연상되는 감동의 영화. 당시 조선의 상황을 적나라하게 보여줘서 더욱 좋았습니다. 추천합니다!!', 10]\n"
     ]
    },
    {
     "name": "stderr",
     "output_type": "stream",
     "text": [
      "\r",
      " 45%|████████████████████████████████████▎                                           | 453/999 [04:33<05:32,  1.64it/s]"
     ]
    },
    {
     "name": "stdout",
     "output_type": "stream",
     "text": [
      "page 454\n",
      "['올빼미', '개쩔어요!!아주 재밋고', 10]\n"
     ]
    },
    {
     "name": "stderr",
     "output_type": "stream",
     "text": [
      "\r",
      " 45%|████████████████████████████████████▎                                           | 454/999 [04:33<05:32,  1.64it/s]"
     ]
    },
    {
     "name": "stdout",
     "output_type": "stream",
     "text": [
      "page 455\n",
      "['한산: 용의 출현', '너무 너무 감동적이다 ㅜㅜ 우리 자랑스런 조상님들 ', 10]\n"
     ]
    },
    {
     "name": "stderr",
     "output_type": "stream",
     "text": [
      "\r",
      " 46%|████████████████████████████████████▍                                           | 455/999 [04:34<05:30,  1.65it/s]"
     ]
    },
    {
     "name": "stdout",
     "output_type": "stream",
     "text": [
      "page 456\n",
      "['빅토리아', '참신함, 애간장을 태우는 쌈박질', 10]\n"
     ]
    },
    {
     "name": "stderr",
     "output_type": "stream",
     "text": [
      "\r",
      " 46%|████████████████████████████████████▌                                           | 456/999 [04:34<05:39,  1.60it/s]"
     ]
    },
    {
     "name": "stdout",
     "output_type": "stream",
     "text": [
      "page 457\n",
      "['압꾸정', '진짜 웬만하면 다 재밌다고 하는 사람인데 이건진짜재미가없음... ㅋㅋㅋ 명품배우들만 아깝다', 2]\n"
     ]
    },
    {
     "name": "stderr",
     "output_type": "stream",
     "text": [
      "\r",
      " 46%|████████████████████████████████████▌                                           | 457/999 [04:35<05:37,  1.61it/s]"
     ]
    },
    {
     "name": "stdout",
     "output_type": "stream",
     "text": [
      "page 458\n",
      "['마누라 죽이기', '박종훈재미썽 ㅋㅋ 은근웃김', 10]\n"
     ]
    },
    {
     "name": "stderr",
     "output_type": "stream",
     "text": [
      "\r",
      " 46%|████████████████████████████████████▋                                           | 458/999 [04:36<05:35,  1.61it/s]"
     ]
    },
    {
     "name": "stdout",
     "output_type": "stream",
     "text": [
      "page 459\n",
      "['범죄의 여왕', '시간 아까움. 배우들 연기는 쏘쏘. 연출등등도 쏘쏘. 스토리가 별루임. ', 4]\n"
     ]
    },
    {
     "name": "stderr",
     "output_type": "stream",
     "text": [
      "\r",
      " 46%|████████████████████████████████████▊                                           | 459/999 [04:36<05:33,  1.62it/s]"
     ]
    },
    {
     "name": "stdout",
     "output_type": "stream",
     "text": [
      "page 460\n",
      "['올빼미', '연기는 워낙 믿고 보는 배우들이 많아 말해 뭐해제가 본 사극 영화 중 탑에 들 것 같습니다!!!!다시 한번 유해진 배우님 연기 폭에 감탄하고 갑니다,,물론 류준열 배우님도 맹인 연기 최고예요!이 연기 하면서 실제로도 한동안 초점이 안 맞으셨다는데 대단하셔요 ', 10]\n"
     ]
    },
    {
     "name": "stderr",
     "output_type": "stream",
     "text": [
      "\r",
      " 46%|████████████████████████████████████▊                                           | 460/999 [04:37<05:32,  1.62it/s]"
     ]
    },
    {
     "name": "stdout",
     "output_type": "stream",
     "text": [
      "page 461\n",
      "['올빼미', '진짜 너무 잘봤습니다.대단한 스케일없이 연기력으로 승부보는 정말 오랜만에 영화다운 영화봤네요~와..연기 진짜 쵝오~', 10]\n"
     ]
    },
    {
     "name": "stderr",
     "output_type": "stream",
     "text": [
      "\r",
      " 46%|████████████████████████████████████▉                                           | 461/999 [04:38<05:31,  1.62it/s]"
     ]
    },
    {
     "name": "stdout",
     "output_type": "stream",
     "text": [
      "page 462\n",
      "['경관의 피', '배우는 A급 스토리는 B급 개성이 전혀 없다. 어디서 한 번 봤을법한 영화', 4]\n"
     ]
    },
    {
     "name": "stderr",
     "output_type": "stream",
     "text": [
      "\r",
      " 46%|████████████████████████████████████▉                                           | 462/999 [04:38<05:30,  1.63it/s]"
     ]
    },
    {
     "name": "stdout",
     "output_type": "stream",
     "text": [
      "page 463\n",
      "['올빼미', '유해진...연기 미칫다... 영화 진짜 몰입감있네요.', 10]\n"
     ]
    },
    {
     "name": "stderr",
     "output_type": "stream",
     "text": [
      "\r",
      " 46%|█████████████████████████████████████                                           | 463/999 [04:39<05:28,  1.63it/s]"
     ]
    },
    {
     "name": "stdout",
     "output_type": "stream",
     "text": [
      "page 464\n",
      "['채털리 부인의 연인', '아름다운 영화 올해 본 것 중 가장 기억에 많이 남을 거 같다', 10]\n"
     ]
    },
    {
     "name": "stderr",
     "output_type": "stream",
     "text": [
      "\r",
      " 46%|█████████████████████████████████████▏                                          | 464/999 [04:39<05:31,  1.62it/s]"
     ]
    },
    {
     "name": "stdout",
     "output_type": "stream",
     "text": [
      "page 465\n",
      "['쥬라기 월드: 도미니언', '다지슨의 생김새가 다이슨 CEO와 매우 흡사한건 유머일까 우연일까..', 4]\n"
     ]
    },
    {
     "name": "stderr",
     "output_type": "stream",
     "text": [
      "\r",
      " 47%|█████████████████████████████████████▏                                          | 465/999 [04:40<05:28,  1.62it/s]"
     ]
    },
    {
     "name": "stdout",
     "output_type": "stream",
     "text": [
      "page 466\n",
      "['기생충', '다시보기로 또 봤는데 역시나 재밌고 명작임 봉준호당신에게 따봉을 날려드립니다', 10]\n"
     ]
    },
    {
     "name": "stderr",
     "output_type": "stream",
     "text": [
      "\r",
      " 47%|█████████████████████████████████████▎                                          | 466/999 [04:41<05:26,  1.63it/s]"
     ]
    },
    {
     "name": "stdout",
     "output_type": "stream",
     "text": [
      "page 467\n",
      "['올빼미', '연출부터 연기 스토리 영상미 모두 끝내줍니다 진짜 시간 가는줄 모르고 손에 땀 쥐며 봤네요 ㄷㄷ;; 너무 재밌습니다 꼭 보세요!', 10]\n"
     ]
    },
    {
     "name": "stderr",
     "output_type": "stream",
     "text": [
      "\r",
      " 47%|█████████████████████████████████████▍                                          | 467/999 [04:41<05:25,  1.64it/s]"
     ]
    },
    {
     "name": "stdout",
     "output_type": "stream",
     "text": [
      "page 468\n",
      "['오늘 밤, 세계에서 이 사랑이 사라진다 해도', '남주 존잘,,,너무 빨리 죽어서 아쉬웠어요,,  ', 8]\n"
     ]
    },
    {
     "name": "stderr",
     "output_type": "stream",
     "text": [
      "\r",
      " 47%|█████████████████████████████████████▍                                          | 468/999 [04:42<05:25,  1.63it/s]"
     ]
    },
    {
     "name": "stdout",
     "output_type": "stream",
     "text": [
      "page 469\n",
      "['탄생', '너무 좋습니다. 천주교인으로서 김대건신부님이 자랑스럽습니다', 10]\n"
     ]
    },
    {
     "name": "stderr",
     "output_type": "stream",
     "text": [
      "\r",
      " 47%|█████████████████████████████████████▌                                          | 469/999 [04:42<05:24,  1.63it/s]"
     ]
    },
    {
     "name": "stdout",
     "output_type": "stream",
     "text": [
      "page 470\n",
      "['폴: 600미터', '스릴 최고입니다보는 내나 가슴이 두근두근  조마조마', 10]\n"
     ]
    },
    {
     "name": "stderr",
     "output_type": "stream",
     "text": [
      "\r",
      " 47%|█████████████████████████████████████▋                                          | 470/999 [04:43<05:23,  1.63it/s]"
     ]
    },
    {
     "name": "stdout",
     "output_type": "stream",
     "text": [
      "page 471\n",
      "['그 겨울, 나는', '독립영화 화이팅입니다. 잘보았습니다', 10]\n"
     ]
    },
    {
     "name": "stderr",
     "output_type": "stream",
     "text": [
      "\r",
      " 47%|█████████████████████████████████████▋                                          | 471/999 [04:44<05:21,  1.64it/s]"
     ]
    },
    {
     "name": "stdout",
     "output_type": "stream",
     "text": [
      "page 472\n",
      "['창밖은 겨울', '이 영화를 보면 &amp;#39;8월의 크리스마스&amp;#39; 이야기가 나올 수밖에 없는데 그 작품과 비견되는 것 자체가 이 영화에 영광일 수 있지만 그 이상으로 부담일 수도 있겠단 생각도. 기대치라는 게 있으니. 그래도 최근 몇 년 동안 이러한 정서의 영화를 만난 적이 없었던 것은 사실이다. 허진호 감독 스타일의 멜로를 좋아하는 분들이라면 이 영화도 괜찮게 보시지 않을까.', 8]\n"
     ]
    },
    {
     "name": "stderr",
     "output_type": "stream",
     "text": [
      "\r",
      " 47%|█████████████████████████████████████▊                                          | 472/999 [04:44<05:21,  1.64it/s]"
     ]
    },
    {
     "name": "stdout",
     "output_type": "stream",
     "text": [
      "page 473\n",
      "['탄생', '종교를 떠나 자신의 신념을 지키려 끝까지 애쓰는 모습들에 존경심을 넘어 경외로움이 절로 느껴집니다.  서양 열강들에 둘러쌓여 있던 시대적 상황과 종교 탄압에 맞서야했던 신부님의 모습을 보며 너무 아까운 인재를 너무 빨리 보낸 것 같아 안타까웠습니다. 너무 무겁지 않게 인간적인 신부님을 모습을 보여준 윤시윤님의 연기와 여러 조연분들 연기 모두 좋았습니다.', 10]\n"
     ]
    },
    {
     "name": "stderr",
     "output_type": "stream",
     "text": [
      "\r",
      " 47%|█████████████████████████████████████▉                                          | 473/999 [04:45<05:22,  1.63it/s]"
     ]
    },
    {
     "name": "stdout",
     "output_type": "stream",
     "text": [
      "page 474\n",
      "['탄생', '스토리도 좋았고 배우님들 연기가 인상 깊었습니다 꼭 천주교 신자가 아니어도 추천하고 싶은 영화', 10]\n"
     ]
    },
    {
     "name": "stderr",
     "output_type": "stream",
     "text": [
      "\r",
      " 47%|█████████████████████████████████████▉                                          | 474/999 [04:46<05:29,  1.59it/s]"
     ]
    },
    {
     "name": "stdout",
     "output_type": "stream",
     "text": [
      "page 475\n",
      "['올빼미', '정말 몰입도하나는 최고입니다.연기도연기지만 연출을 매우잘했고다소 아쉬운거는 유해진배우의 왕 연기가 와!!!!하는.정도는.아니었네요 다른배우였으면 더 괜찮을것같은.그런느낌.스토리상 약간 끼워맞추기식의느낌은 들었으나 보는내내.긴장하고 재밌게봤습니다', 8]\n"
     ]
    },
    {
     "name": "stderr",
     "output_type": "stream",
     "text": [
      "\r",
      " 48%|██████████████████████████████████████                                          | 475/999 [04:46<05:27,  1.60it/s]"
     ]
    },
    {
     "name": "stdout",
     "output_type": "stream",
     "text": [
      "page 476\n",
      "['버드 박스', '아니 새가 그것들이 오는 걸 감지한다는 걸 알았고, 그래서 새를 챙겼으면 이제 안대를 벗어도 되는 거 아님? 새가 발광할 때만 안대 쓰면 되잖아. 왜 계속 쓰고 장님 플레이 하고 있는 건지 이해가 안 되네. 그럴 거면 새는 뭐하러 챙김? ', 2]\n"
     ]
    },
    {
     "name": "stderr",
     "output_type": "stream",
     "text": [
      "\r",
      " 48%|██████████████████████████████████████                                          | 476/999 [04:47<05:25,  1.61it/s]"
     ]
    },
    {
     "name": "stdout",
     "output_type": "stream",
     "text": [
      "page 477\n",
      "['블랙 팬서: 와칸다 포에버', '너무 지루한,,, 영상미랑 ost 빼고는 모두 총체적난국 채드윅 보스만에 대한 의리로 1점 더 줌 ㅠ', 7]\n"
     ]
    },
    {
     "name": "stderr",
     "output_type": "stream",
     "text": [
      "\r",
      " 48%|██████████████████████████████████████▏                                         | 477/999 [04:47<05:22,  1.62it/s]"
     ]
    },
    {
     "name": "stdout",
     "output_type": "stream",
     "text": [
      "page 478\n",
      "['본즈 앤 올', '(스포있음) 이 영화는 사실 잔인한 연출 이면에 숨겨진 주제가 하나 있는데 그건 바로 사랑의 변질이라 할 수 있다. 여친을 친구라고 거듭 부정하며 사랑할수록 거리를 둬야 했던, 사랑할수록 시작이 어려웠던 그야말로 트라우마로 가득찬 샬라메가 마지막에는 자신의 이기심으로 자기를 먹어달라는 표현을 할 때. 누군가는 그만큼 사랑한다는 표현이라고 말하겠지만 내가 보기엔 이기심이었다. 매런의 영혼에 영원히 각인되고 싶다는 욕심. 그것이 매런에게 트라우마가 될 것임이 자명함에도. 김광석의 그날들이라는 노래 가사처럼 이름을 부르는 것만으로도 기쁨을 느낄 수 있었던 마음이 자라 성숙해지면 결국 순수를 잃은 아이처럼 욕심이 된다. 그렇게 어른이 되기 싫은 피터팬 증후군 환자도 사회와의 교감 속에 순수를 강탈당하듯이 모든 사랑엔 결국 유효기간이 정해질 수밖에 없는 것 아닐까. 나는 이 영화가 마냥 자극적인 영상미나 서정적인 음악, 소외된 자들의 소통. 그런 데서 그치는 영화는 아닌 것 같다. 실제로는 바로 이러한 사랑의 잔인한 변질이라는 실체를 적나라하게 표현하고 있는 것이다. 마치 뼈까지 먹는 그들의 사랑처럼. 어쩌면 가시적인 육체를 먹는 그들보다 비가시적인 서로의 영혼에 상처를 내는, 유효기간이 만료된 연인들의 변질된 사랑이 더욱 잔인하고 영속적인 상처를 남기는 것은 아닐까. ', 7]\n"
     ]
    },
    {
     "name": "stderr",
     "output_type": "stream",
     "text": [
      "\r",
      " 48%|██████████████████████████████████████▎                                         | 478/999 [04:48<05:21,  1.62it/s]"
     ]
    },
    {
     "name": "stdout",
     "output_type": "stream",
     "text": [
      "page 479\n",
      "['올빼미', '오랜만에 영화 중간에 시계안보고 푹 빠져들어서 본 한국영화.. 배우들의 연기도 한몫하고 스토리도 긴장감 넘쳐서 옆에서 남자친구는 손에 홍수쓰 발동해서 봤어요 존잼 바로 친구들한테 홍보하고 다니는중', 10]\n"
     ]
    },
    {
     "name": "stderr",
     "output_type": "stream",
     "text": [
      "\r",
      " 48%|██████████████████████████████████████▎                                         | 479/999 [04:49<05:20,  1.62it/s]"
     ]
    },
    {
     "name": "stdout",
     "output_type": "stream",
     "text": [
      "page 480\n",
      "['리멤버', '극한직업같은 쓰레기보다 이걸 10번보는걸 택하겠다', 9]\n"
     ]
    },
    {
     "name": "stderr",
     "output_type": "stream",
     "text": [
      "\r",
      " 48%|██████████████████████████████████████▍                                         | 480/999 [04:49<05:19,  1.62it/s]"
     ]
    },
    {
     "name": "stdout",
     "output_type": "stream",
     "text": [
      "page 481\n",
      "['닥터 스트레인지: 대혼돈의 멀티버스', '마블 영화중 안본거같아 봤다가 후회중킬링타임도 안되는', 1]\n"
     ]
    },
    {
     "name": "stderr",
     "output_type": "stream",
     "text": [
      "\r",
      " 48%|██████████████████████████████████████▌                                         | 481/999 [04:50<05:18,  1.62it/s]"
     ]
    },
    {
     "name": "stdout",
     "output_type": "stream",
     "text": [
      "page 482\n",
      "['올빼미', '2시간 동안 정말 재밌게 봤어요', 10]\n"
     ]
    },
    {
     "name": "stderr",
     "output_type": "stream",
     "text": [
      "\r",
      " 48%|██████████████████████████████████████▌                                         | 482/999 [04:50<05:16,  1.63it/s]"
     ]
    },
    {
     "name": "stdout",
     "output_type": "stream",
     "text": [
      "page 483\n",
      "['올빼미', '류준열 진짜 대상 받으세요 ㅠㅠㅠㅠ', 10]\n"
     ]
    },
    {
     "name": "stderr",
     "output_type": "stream",
     "text": [
      "\r",
      " 48%|██████████████████████████████████████▋                                         | 483/999 [04:51<05:16,  1.63it/s]"
     ]
    },
    {
     "name": "stdout",
     "output_type": "stream",
     "text": [
      "page 484\n",
      "['올빼미', '아니 왜 이 영화 별로라하는 사람들 이해 불가.. 아주 영화평론가들 납셨네..연기.호연이고 연출력도 좋고.. 중간증간 코믹도 배치하고.. 이정도면 좋은 영화임', 10]\n"
     ]
    },
    {
     "name": "stderr",
     "output_type": "stream",
     "text": [
      "\r",
      " 48%|██████████████████████████████████████▊                                         | 484/999 [04:52<05:15,  1.63it/s]"
     ]
    },
    {
     "name": "stdout",
     "output_type": "stream",
     "text": [
      "page 485\n",
      "['탄생', '넘 감동적으로 잘 받았습니다 ', 10]\n"
     ]
    },
    {
     "name": "stderr",
     "output_type": "stream",
     "text": [
      "\r",
      " 49%|██████████████████████████████████████▊                                         | 485/999 [04:52<05:14,  1.63it/s]"
     ]
    },
    {
     "name": "stdout",
     "output_type": "stream",
     "text": [
      "page 486\n",
      "['무서운 영화 4', '레슬리 닐슨형 보고 싶읍니다. 지금쯤 천국에서도 예수님을 웃기고 있겠죠', 10]\n"
     ]
    },
    {
     "name": "stderr",
     "output_type": "stream",
     "text": [
      "\r",
      " 49%|██████████████████████████████████████▉                                         | 486/999 [04:53<05:14,  1.63it/s]"
     ]
    },
    {
     "name": "stdout",
     "output_type": "stream",
     "text": [
      "page 487\n",
      "['탄생', ' 감동적이어요ㆍ보는 내내 눈물이 흘렀습니다ㆍ', 10]\n"
     ]
    },
    {
     "name": "stderr",
     "output_type": "stream",
     "text": [
      "\r",
      " 49%|██████████████████████████████████████▉                                         | 487/999 [04:54<05:14,  1.63it/s]"
     ]
    },
    {
     "name": "stdout",
     "output_type": "stream",
     "text": [
      "page 488\n",
      "['올빼미', '살면서 네이버에 평점 처음 남겨봅니다 인생사극입니다 빛과 어둠사이의 연기가 진심 감동적이네요 ', 10]\n"
     ]
    },
    {
     "name": "stderr",
     "output_type": "stream",
     "text": [
      "\r",
      " 49%|███████████████████████████████████████                                         | 488/999 [04:54<05:12,  1.64it/s]"
     ]
    },
    {
     "name": "stdout",
     "output_type": "stream",
     "text": [
      "page 489\n",
      "['올빼미', '이렇게 재미있을줄은 몰랐는데 너무재밌게봤습니다', 10]\n"
     ]
    },
    {
     "name": "stderr",
     "output_type": "stream",
     "text": [
      "\r",
      " 49%|███████████████████████████████████████▏                                        | 489/999 [04:55<05:11,  1.64it/s]"
     ]
    },
    {
     "name": "stdout",
     "output_type": "stream",
     "text": [
      "page 490\n",
      "['그 겨울, 나는', '현실감을 극대화 하여 소외된 계층  사회적 약자를 한번더   생각하게  하는 아주 좋은 영화로 우리젊은  세대들에게  어떻게 해줄것인가  생각 하게 하는 영화 입니다  그래서 감동적이고 교훈적입니다 ', 10]\n"
     ]
    },
    {
     "name": "stderr",
     "output_type": "stream",
     "text": [
      "\r",
      " 49%|███████████████████████████████████████▏                                        | 490/999 [04:55<05:10,  1.64it/s]"
     ]
    },
    {
     "name": "stdout",
     "output_type": "stream",
     "text": [
      "page 491\n",
      "['올빼미', '내용은 인조때 소현세자 이야기라 익히 알고있었지만 유해진 연기 미쳤습니다ㅎㅎㅎ 택이 아부지와 정팔이가 붙는신은 너무 소름돋아요', 10]\n"
     ]
    },
    {
     "name": "stderr",
     "output_type": "stream",
     "text": [
      "\r",
      " 49%|███████████████████████████████████████▎                                        | 491/999 [04:56<05:09,  1.64it/s]"
     ]
    },
    {
     "name": "stdout",
     "output_type": "stream",
     "text": [
      "page 492\n",
      "['올빼미', '진짜 올해 본 한국 영화 중 가장 재밌었음 나한텐 .. 볼때 소름 돋고 영화에 잘 몰입할 수 있어서 좋다 .. 배우들 연기도 진짜 굿', 10]\n"
     ]
    },
    {
     "name": "stderr",
     "output_type": "stream",
     "text": [
      "\r",
      " 49%|███████████████████████████████████████▍                                        | 492/999 [04:57<05:09,  1.64it/s]"
     ]
    },
    {
     "name": "stdout",
     "output_type": "stream",
     "text": [
      "page 493\n",
      "['올빼미', '유해진, 류준열 배우의 연기 감상 만으로도 이 영화를 볼 이유가 된다', 10]\n"
     ]
    },
    {
     "name": "stderr",
     "output_type": "stream",
     "text": [
      "\r",
      " 49%|███████████████████████████████████████▍                                        | 493/999 [04:57<05:15,  1.60it/s]"
     ]
    },
    {
     "name": "stdout",
     "output_type": "stream",
     "text": [
      "page 494\n",
      "['올빼미', '올해본 한국영화중 최고', 10]\n"
     ]
    },
    {
     "name": "stderr",
     "output_type": "stream",
     "text": [
      "\r",
      " 49%|███████████████████████████████████████▌                                        | 494/999 [04:58<05:15,  1.60it/s]"
     ]
    },
    {
     "name": "stdout",
     "output_type": "stream",
     "text": [
      "page 495\n",
      "['원피스 필름 레드', '원피스 극장판 치고는 신선했고, 액션은 지루했다. 그리고 우타의 노래는 환상적이었다. 우타 보러 가신다면 대만족!', 10]\n"
     ]
    },
    {
     "name": "stderr",
     "output_type": "stream",
     "text": [
      "\r",
      " 50%|███████████████████████████████████████▋                                        | 495/999 [04:58<05:13,  1.61it/s]"
     ]
    },
    {
     "name": "stdout",
     "output_type": "stream",
     "text": [
      "page 496\n",
      "['양자경의 더 모든 날 모든 순간', 'Just be a rock', 10]\n"
     ]
    },
    {
     "name": "stderr",
     "output_type": "stream",
     "text": [
      "\r",
      " 50%|███████████████████████████████████████▋                                        | 496/999 [04:59<05:11,  1.62it/s]"
     ]
    },
    {
     "name": "stdout",
     "output_type": "stream",
     "text": [
      "page 497\n",
      "['극장판 뽀로로와 친구들: 바이러스를 없애줘!', '아니.. 이번 극장판 재미있었다고 하는 사람들아 컴퓨터 왕국 대모험이라도 한 번 보고 와봐요 이거 재미있다는 소리 안 나옴 ㄹㅇ;..,. 이거 재밌다는 애들은 분명 공룡섬이나 보물섬부터 보기 시작했을 거야...초중반까지는 재미없다 쳐도 중반부터는 하이라이트도 나오고 재미있어야 하는데 그딴 거 하나도 없었어;., 공룡섬부터 서서히 재미없었는데 결국 이걸로 정점 찍어버림 ㄹㅇ.... 내말 못 믿을 거면 직접 가서 봐봐요; 근데 진심 지금 돈 내고 보는 거 추천 못해드리겠어 몇 년 뒤에 티비에 나온텐데 그렇게 봐요.. 진짜 완전 갓난애기 아니면 스토리도 깨박살 나고 되도않는 똥오줌 드립에다가 끝자락에 갑자기 쳐나온 설명충 내레이션까지... 약간 컴퓨터 왕국 후속작 느낌 있어서 봤는데 극초반 부터 ”이건 아니다“ 라고 느꼈던 시리즈였음 ', 1]\n"
     ]
    },
    {
     "name": "stderr",
     "output_type": "stream",
     "text": [
      "\r",
      " 50%|███████████████████████████████████████▊                                        | 497/999 [05:00<05:10,  1.62it/s]"
     ]
    },
    {
     "name": "stdout",
     "output_type": "stream",
     "text": [
      "page 498\n",
      "['올빼미', '아니 류준열 연기 폼이 미쳤네요.충무로의 기둥이란 칭찬이 과언이 아님을 증명한 영화', 10]\n"
     ]
    },
    {
     "name": "stderr",
     "output_type": "stream",
     "text": [
      "\r",
      " 50%|███████████████████████████████████████▉                                        | 498/999 [05:00<05:08,  1.62it/s]"
     ]
    },
    {
     "name": "stdout",
     "output_type": "stream",
     "text": [
      "page 499\n",
      "['올빼미', '연출, 연기 모두 찢었네요bb', 10]\n"
     ]
    },
    {
     "name": "stderr",
     "output_type": "stream",
     "text": [
      "\r",
      " 50%|███████████████████████████████████████▉                                        | 499/999 [05:01<05:07,  1.62it/s]"
     ]
    },
    {
     "name": "stdout",
     "output_type": "stream",
     "text": [
      "page 500\n",
      "['싸인', '미스터리 서클은 인간들이 남몰래 만든 함정이다ㅋㅋ', 10]\n"
     ]
    },
    {
     "name": "stderr",
     "output_type": "stream",
     "text": [
      "\r",
      " 50%|████████████████████████████████████████                                        | 500/999 [05:02<05:07,  1.63it/s]"
     ]
    },
    {
     "name": "stdout",
     "output_type": "stream",
     "text": [
      "page 501\n",
      "['원피스 필름 레드', '전 분명 원피스 인줄알고 보러갔지만 노래만 나오는 원피스 버전 이여서 약간 그랬고 그래도 재미가있었습니다', 5]\n"
     ]
    },
    {
     "name": "stderr",
     "output_type": "stream",
     "text": [
      "\r",
      " 50%|████████████████████████████████████████                                        | 501/999 [05:02<05:05,  1.63it/s]"
     ]
    },
    {
     "name": "stdout",
     "output_type": "stream",
     "text": [
      "page 502\n",
      "['올빼미', '준열배우의 연기와 깔끔한 연출에 몰입도가 높은 영화  아무 기대없이 봤는데 시간 가는줄 모르고 봤음', 10]\n"
     ]
    },
    {
     "name": "stderr",
     "output_type": "stream",
     "text": [
      "\r",
      " 50%|████████████████████████████████████████▏                                       | 502/999 [05:03<05:04,  1.63it/s]"
     ]
    },
    {
     "name": "stdout",
     "output_type": "stream",
     "text": [
      "page 503\n",
      "['올빼미', '너무 재밌어요 ㅠ ㅠ몰입해서 봤나. .당분간 한의원 안가겠습니다ㅋ ㅋ ㅋ연기력에 견인 당한 영화?올빼미같은 영화 매일 나오면 매일 영화보러갈텐뎅 ㅠ ㅠ벌써 아쉽네요ㅋ ㅋ ', 10]\n"
     ]
    },
    {
     "name": "stderr",
     "output_type": "stream",
     "text": [
      "\r",
      " 50%|████████████████████████████████████████▎                                       | 503/999 [05:03<05:04,  1.63it/s]"
     ]
    },
    {
     "name": "stdout",
     "output_type": "stream",
     "text": [
      "page 504\n",
      "['스크루지: 크리스마스 캐럴', '가족영화로서 무난한 점수를 주고 싶다. 마지막 교훈을 주는 장면이 좀 더 자세히 설명되었으면 하는 아쉬움은 있다.', 8]\n"
     ]
    },
    {
     "name": "stderr",
     "output_type": "stream",
     "text": [
      "\r",
      " 50%|████████████████████████████████████████▎                                       | 504/999 [05:04<05:02,  1.63it/s]"
     ]
    },
    {
     "name": "stdout",
     "output_type": "stream",
     "text": [
      "page 505\n",
      "['올빼미', '유해진…. 찢었다 ..', 10]\n"
     ]
    },
    {
     "name": "stderr",
     "output_type": "stream",
     "text": [
      "\r",
      " 51%|████████████████████████████████████████▍                                       | 505/999 [05:05<05:02,  1.63it/s]"
     ]
    },
    {
     "name": "stdout",
     "output_type": "stream",
     "text": [
      "page 506\n",
      "['사라진 탄환 2', '와 시원시원하고 사실적인 액션!!! 속도감 있는 레이싱씬!!! 쓰리 빨리나오길....', 10]\n"
     ]
    },
    {
     "name": "stderr",
     "output_type": "stream",
     "text": [
      "\r",
      " 51%|████████████████████████████████████████▌                                       | 506/999 [05:05<05:02,  1.63it/s]"
     ]
    },
    {
     "name": "stdout",
     "output_type": "stream",
     "text": [
      "page 507\n",
      "['올빼미', '진짜 재밌어요 영화 시작하고 끝날 때까지 지루한 틈이 없습니다 추천드려요 그리고 역시 연기가 너무 조아요', 10]\n"
     ]
    },
    {
     "name": "stderr",
     "output_type": "stream",
     "text": [
      "\r",
      " 51%|████████████████████████████████████████▌                                       | 507/999 [05:06<05:01,  1.63it/s]"
     ]
    },
    {
     "name": "stdout",
     "output_type": "stream",
     "text": [
      "page 508\n",
      "['미스 포터', '잔잔하고 재밋음피터래빗  귀엽고  살아움직이는 그림들 이쁘네요', 10]\n"
     ]
    },
    {
     "name": "stderr",
     "output_type": "stream",
     "text": [
      "\r",
      " 51%|████████████████████████████████████████▋                                       | 508/999 [05:06<05:01,  1.63it/s]"
     ]
    },
    {
     "name": "stdout",
     "output_type": "stream",
     "text": [
      "page 509\n",
      "['압꾸정', '6.78 높기에평점 낮추기 위해 2점 드림20년전 투사부일체 보다 못한 영화', 2]\n"
     ]
    },
    {
     "name": "stderr",
     "output_type": "stream",
     "text": [
      "\r",
      " 51%|████████████████████████████████████████▊                                       | 509/999 [05:07<04:59,  1.64it/s]"
     ]
    },
    {
     "name": "stdout",
     "output_type": "stream",
     "text": [
      "page 510\n",
      "['원피스 필름 레드', '노래짜증나네…제발노래그만ㅠ', 2]\n"
     ]
    },
    {
     "name": "stderr",
     "output_type": "stream",
     "text": [
      "\r",
      " 51%|████████████████████████████████████████▊                                       | 510/999 [05:08<04:58,  1.64it/s]"
     ]
    },
    {
     "name": "stdout",
     "output_type": "stream",
     "text": [
      "page 511\n",
      "['뉴니스', '사랑과 욕망의 경계를 지킬것인가 무너뜨릴 것인가..불륜과 개방연애를 구분하는 키워드는 비밀..^&amp;^', 6]\n"
     ]
    },
    {
     "name": "stderr",
     "output_type": "stream",
     "text": [
      "\r",
      " 51%|████████████████████████████████████████▉                                       | 511/999 [05:08<05:06,  1.59it/s]"
     ]
    },
    {
     "name": "stdout",
     "output_type": "stream",
     "text": [
      "page 512\n",
      "['데이지', '그당시 2006년 저질 조폭 삼류 감성에 휘말려이런 수작이 환영받지 못했었음..지금에2022년도에 개봉했다면 달랐을까..여운이 길다 ... 너무 늦게 알아봐서 미안해요..혜영의 독백이 오랫동안 기억에 남는다..숨겨진 사랑 데이지 난 그때도 너무 좋았다 22살인 2006년에도..', 10]\n"
     ]
    },
    {
     "name": "stderr",
     "output_type": "stream",
     "text": [
      "\r",
      " 51%|█████████████████████████████████████████                                       | 512/999 [05:09<05:03,  1.60it/s]"
     ]
    },
    {
     "name": "stdout",
     "output_type": "stream",
     "text": [
      "page 513\n",
      "['동감', '내용 생략이 많은것 같아요ㅜ', 6]\n"
     ]
    },
    {
     "name": "stderr",
     "output_type": "stream",
     "text": [
      "\r",
      " 51%|█████████████████████████████████████████                                       | 513/999 [05:10<05:00,  1.62it/s]"
     ]
    },
    {
     "name": "stdout",
     "output_type": "stream",
     "text": [
      "page 514\n",
      "['올빼미', '몰입감이 장난이 아니에요..시간가는줄 모르고 재밋게 잘봤습니다~ 남자친구 원래 맨날 영화보면 옆에서 자더니 이건 끝나고 극찬을 하네요ㅋㅋㅋㅋ ', 10]\n"
     ]
    },
    {
     "name": "stderr",
     "output_type": "stream",
     "text": [
      "\r",
      " 51%|█████████████████████████████████████████▏                                      | 514/999 [05:10<04:58,  1.63it/s]"
     ]
    },
    {
     "name": "stdout",
     "output_type": "stream",
     "text": [
      "page 515\n",
      "['풀타임', '난 내가 할 수 있는 한 죽도록 열심히 산다고  사는데 세상이 나도 어쩔 수 없게 내가 잘못한 것 같이 만드는 상황이 참 공감이 많이 됐다', 8]\n"
     ]
    },
    {
     "name": "stderr",
     "output_type": "stream",
     "text": [
      "\r",
      " 52%|█████████████████████████████████████████▏                                      | 515/999 [05:11<04:58,  1.62it/s]"
     ]
    },
    {
     "name": "stdout",
     "output_type": "stream",
     "text": [
      "page 516\n",
      "['올빼미', '스토리도 재밌고 배우들 연기도 잘해서 엄청 몰입하면서봤음... 개인적으로 최근에 봤던 영화중에선 제일 재밌었고, 주변친구들한테 보라고 추천했더니 이미 본애들은 다 재밌게봤다고 했음', 10]\n"
     ]
    },
    {
     "name": "stderr",
     "output_type": "stream",
     "text": [
      "\r",
      " 52%|█████████████████████████████████████████▎                                      | 516/999 [05:11<04:57,  1.62it/s]"
     ]
    },
    {
     "name": "stdout",
     "output_type": "stream",
     "text": [
      "page 517\n",
      "['올빼미', '보는내내 몰입감이짱.... 한순간도 긴장을 놓을 수 없었어요!! 재밌게 잘 봤습니다.', 10]\n"
     ]
    },
    {
     "name": "stderr",
     "output_type": "stream",
     "text": [
      "\r",
      " 52%|█████████████████████████████████████████▍                                      | 517/999 [05:12<04:56,  1.63it/s]"
     ]
    },
    {
     "name": "stdout",
     "output_type": "stream",
     "text": [
      "page 518\n",
      "['양성인간', '트럔스젠더를 비롯 간성에 대한 인권적 측면에서 진지한 의문과 과제를 사회에  던져줄수 있었던 작품이며 특히 여감독에 의해 연출되었다는 점이 놀랍다. 생물학적 여성만 권리주체로서 인정하려는 우리나라의 폐미들도 한번쯤은 마음을 열고 진정한 소수인권이 무엇인지 고민해 보았으면 한다. 주인공의 성별간을 넘나드는 연기도 색다른 관람포인트다! ', 10]\n"
     ]
    },
    {
     "name": "stderr",
     "output_type": "stream",
     "text": [
      "\r",
      " 52%|█████████████████████████████████████████▍                                      | 518/999 [05:13<04:56,  1.62it/s]"
     ]
    },
    {
     "name": "stdout",
     "output_type": "stream",
     "text": [
      "page 519\n",
      "['쥬라기 월드: 도미니언', '프랜차이즈 영화의 추악한 종말.. 트랜스포머의 추태는 랩터에겐 한입거리였을 뿐', 1]\n"
     ]
    },
    {
     "name": "stderr",
     "output_type": "stream",
     "text": [
      "\r",
      " 52%|█████████████████████████████████████████▌                                      | 519/999 [05:13<04:56,  1.62it/s]"
     ]
    },
    {
     "name": "stdout",
     "output_type": "stream",
     "text": [
      "page 520\n",
      "['올빼미', '가슴이 쫄깃해지는 사극 ! 각 장면 연출도 좋았다. 결국 각자의 이익을 쫓는 중에 그럼에도 본 것을 지나칠 수 없었던 경수가 빛난다. 두 눈 멀쩡하게 우월한 사람들보다 주맹증 경수가 더 잘 본다는 게 현실과 똑같다. 아니, 본다는 건 뭘까? ㅜㅜ', 10]\n"
     ]
    },
    {
     "name": "stderr",
     "output_type": "stream",
     "text": [
      "\r",
      " 52%|█████████████████████████████████████████▋                                      | 520/999 [05:14<04:55,  1.62it/s]"
     ]
    },
    {
     "name": "stdout",
     "output_type": "stream",
     "text": [
      "page 521\n",
      "['탄생', '1000 스토리 연출 연기 모두 다 좋아요', 10]\n"
     ]
    },
    {
     "name": "stderr",
     "output_type": "stream",
     "text": [
      "\r",
      " 52%|█████████████████████████████████████████▋                                      | 521/999 [05:14<04:53,  1.63it/s]"
     ]
    },
    {
     "name": "stdout",
     "output_type": "stream",
     "text": [
      "page 522\n",
      "['보이스', '진심 ㄹㅇ d럽게 재미없네', 1]\n"
     ]
    },
    {
     "name": "stderr",
     "output_type": "stream",
     "text": [
      "\r",
      " 52%|█████████████████████████████████████████▊                                      | 522/999 [05:15<04:53,  1.63it/s]"
     ]
    },
    {
     "name": "stdout",
     "output_type": "stream",
     "text": [
      "page 523\n",
      "['본즈 앤 올', '사람들은 누구나 자신을 진정으로 이해해줄 단 한 사람, 단 한 사랑을 찾아 헤멘다.', 10]\n"
     ]
    },
    {
     "name": "stderr",
     "output_type": "stream",
     "text": [
      "\r",
      " 52%|█████████████████████████████████████████▉                                      | 523/999 [05:16<04:52,  1.63it/s]"
     ]
    },
    {
     "name": "stdout",
     "output_type": "stream",
     "text": [
      "page 524\n",
      "['올빼미', '역사를 알고 보면 더 재미있는 작품그..장면은 아직도 잊을 수가 없다..손에서 땀이 나는 영화였어요', 10]\n"
     ]
    },
    {
     "name": "stderr",
     "output_type": "stream",
     "text": [
      "\r",
      " 52%|█████████████████████████████████████████▉                                      | 524/999 [05:16<04:51,  1.63it/s]"
     ]
    },
    {
     "name": "stdout",
     "output_type": "stream",
     "text": [
      "page 525\n",
      "['오늘 밤, 세계에서 이 사랑이 사라진다 해도', '감동.!!평점이 왜 낮은지 모르겠네요', 10]\n"
     ]
    },
    {
     "name": "stderr",
     "output_type": "stream",
     "text": [
      "\r",
      " 53%|██████████████████████████████████████████                                      | 525/999 [05:17<04:51,  1.63it/s]"
     ]
    },
    {
     "name": "stdout",
     "output_type": "stream",
     "text": [
      "page 526\n",
      "['압꾸정', '마동석스타일을 하도 우려먹어서 이젠 뼈도 안보일 지경', 1]\n"
     ]
    },
    {
     "name": "stderr",
     "output_type": "stream",
     "text": [
      "\r",
      " 53%|██████████████████████████████████████████                                      | 526/999 [05:18<04:50,  1.63it/s]"
     ]
    },
    {
     "name": "stdout",
     "output_type": "stream",
     "text": [
      "page 527\n",
      "['압꾸정', '진짜 아무생각없이 웃고 싶을 때 보시는 걸 추천해요!', 9]\n"
     ]
    },
    {
     "name": "stderr",
     "output_type": "stream",
     "text": [
      "\r",
      " 53%|██████████████████████████████████████████▏                                     | 527/999 [05:18<04:49,  1.63it/s]"
     ]
    },
    {
     "name": "stdout",
     "output_type": "stream",
     "text": [
      "page 528\n",
      "['올빼미', '보길 정말 잘했다 너무 재밌었고 감동적', 10]\n"
     ]
    },
    {
     "name": "stderr",
     "output_type": "stream",
     "text": [
      "\r",
      " 53%|██████████████████████████████████████████▎                                     | 528/999 [05:19<04:49,  1.62it/s]"
     ]
    },
    {
     "name": "stdout",
     "output_type": "stream",
     "text": [
      "page 529\n",
      "['양자경의 더 모든 날 모든 순간', '진지함, 따뜻함이 결여된 현대사회에 선사하는 즉흥 연주곡', 10]\n"
     ]
    },
    {
     "name": "stderr",
     "output_type": "stream",
     "text": [
      "\r",
      " 53%|██████████████████████████████████████████▎                                     | 529/999 [05:19<04:49,  1.62it/s]"
     ]
    },
    {
     "name": "stdout",
     "output_type": "stream",
     "text": [
      "page 530\n",
      "['올빼미', '간만에 극장에서 본 영화 중 만족도 최상', 10]\n"
     ]
    },
    {
     "name": "stderr",
     "output_type": "stream",
     "text": [
      "\r",
      " 53%|██████████████████████████████████████████▍                                     | 530/999 [05:20<04:55,  1.59it/s]"
     ]
    },
    {
     "name": "stdout",
     "output_type": "stream",
     "text": [
      "page 531\n",
      "['소원', '조두순 사건을 모티브 한 영화로 기레기들 판사들 진짜 사람인가 싶을 정도로 조두순 면상 보는것 만큼 열이 받는다..', 10]\n"
     ]
    },
    {
     "name": "stderr",
     "output_type": "stream",
     "text": [
      "\r",
      " 53%|██████████████████████████████████████████▌                                     | 531/999 [05:21<04:52,  1.60it/s]"
     ]
    },
    {
     "name": "stdout",
     "output_type": "stream",
     "text": [
      "page 532\n",
      "['올빼미', '현실 같아 더 묵직하게 다가온 영화 대사들이 다 좋다~오랫만에 몰입해서 잘 본 영화 잘 만든 영화 배우들 전부 좋다~', 10]\n"
     ]
    },
    {
     "name": "stderr",
     "output_type": "stream",
     "text": [
      "\r",
      " 53%|██████████████████████████████████████████▌                                     | 532/999 [05:21<04:50,  1.61it/s]"
     ]
    },
    {
     "name": "stdout",
     "output_type": "stream",
     "text": [
      "page 533\n",
      "['리멤버', '스토리상으로 딱히 명작이라고는못하겠는데 이성민 배우의 연기가 내 마음에 슬픈 감정을 확실하게 전해주는 작품이라고는 말할수있다. ', 8]\n"
     ]
    },
    {
     "name": "stderr",
     "output_type": "stream",
     "text": [
      "\r",
      " 53%|██████████████████████████████████████████▋                                     | 533/999 [05:22<04:48,  1.61it/s]"
     ]
    },
    {
     "name": "stdout",
     "output_type": "stream",
     "text": [
      "page 534\n",
      "['올빼미', '스토리, 연출, 연기 뭐 하나 부족한게 없어요 진짜 꼭 보세요...', 10]\n"
     ]
    },
    {
     "name": "stderr",
     "output_type": "stream",
     "text": [
      "\r",
      " 53%|██████████████████████████████████████████▊                                     | 534/999 [05:23<04:49,  1.61it/s]"
     ]
    },
    {
     "name": "stdout",
     "output_type": "stream",
     "text": [
      "page 535\n",
      "['압꾸정', '요즘 고민이 많았는데 아무 생각 없이 보기 좋아요!!! 어른들이 더 좋아하시는 것 같아요~~~ 재미있어요~~~~', 10]\n"
     ]
    },
    {
     "name": "stderr",
     "output_type": "stream",
     "text": [
      "\r",
      " 54%|██████████████████████████████████████████▊                                     | 535/999 [05:23<04:48,  1.61it/s]"
     ]
    },
    {
     "name": "stdout",
     "output_type": "stream",
     "text": [
      "page 536\n",
      "['오늘 밤, 세계에서 이 사랑이 사라진다 해도', '대박이다 안 봤으면 너무 후회 될 영화', 10]\n"
     ]
    },
    {
     "name": "stderr",
     "output_type": "stream",
     "text": [
      "\r",
      " 54%|██████████████████████████████████████████▉                                     | 536/999 [05:24<04:46,  1.62it/s]"
     ]
    },
    {
     "name": "stdout",
     "output_type": "stream",
     "text": [
      "page 537\n",
      "['블랙 팬서: 와칸다 포에버', '스토리가 산으로 간거같네여. 시작하자마자 죽다니...', 7]\n"
     ]
    },
    {
     "name": "stderr",
     "output_type": "stream",
     "text": [
      "\r",
      " 54%|███████████████████████████████████████████                                     | 537/999 [05:24<04:44,  1.63it/s]"
     ]
    },
    {
     "name": "stdout",
     "output_type": "stream",
     "text": [
      "page 538\n",
      "['올빼미', '약 2시간중에 반 정도를 울고 나왔어요.. ', 10]\n"
     ]
    },
    {
     "name": "stderr",
     "output_type": "stream",
     "text": [
      "\r",
      " 54%|███████████████████████████████████████████                                     | 538/999 [05:25<04:43,  1.62it/s]"
     ]
    },
    {
     "name": "stdout",
     "output_type": "stream",
     "text": [
      "page 539\n",
      "['특수부대 전랑2', '중국산 개똥 쓰레기 핵폐기물', 1]\n"
     ]
    },
    {
     "name": "stderr",
     "output_type": "stream",
     "text": [
      "\r",
      " 54%|███████████████████████████████████████████▏                                    | 539/999 [05:26<04:44,  1.62it/s]"
     ]
    },
    {
     "name": "stdout",
     "output_type": "stream",
     "text": [
      "page 540\n",
      "['오늘 밤, 세계에서 이 사랑이 사라진다 해도', '진짜개슬픔 하ㅠ는물 연기개잘하고 눈물줄줄흘렷음', 10]\n"
     ]
    },
    {
     "name": "stderr",
     "output_type": "stream",
     "text": [
      "\r",
      " 54%|███████████████████████████████████████████▏                                    | 540/999 [05:26<04:44,  1.61it/s]"
     ]
    },
    {
     "name": "stdout",
     "output_type": "stream",
     "text": [
      "page 541\n",
      "['압꾸정', '마동석 영화 조금 실망스럽네\\x00요ㅠㅠ', 4]\n"
     ]
    },
    {
     "name": "stderr",
     "output_type": "stream",
     "text": [
      "\r",
      " 54%|███████████████████████████████████████████▎                                    | 541/999 [05:27<04:42,  1.62it/s]"
     ]
    },
    {
     "name": "stdout",
     "output_type": "stream",
     "text": [
      "page 542\n",
      "['올빼미', '2022년 올해 관람한 사극 영화중 가장 재밌었던 영화였습니다.', 10]\n"
     ]
    },
    {
     "name": "stderr",
     "output_type": "stream",
     "text": [
      "\r",
      " 54%|███████████████████████████████████████████▍                                    | 542/999 [05:27<04:41,  1.62it/s]"
     ]
    },
    {
     "name": "stdout",
     "output_type": "stream",
     "text": [
      "page 543\n",
      "['카라멜', '잔잔한 레바논 드라마 영화', 8]\n"
     ]
    },
    {
     "name": "stderr",
     "output_type": "stream",
     "text": [
      "\r",
      " 54%|███████████████████████████████████████████▍                                    | 543/999 [05:28<04:40,  1.63it/s]"
     ]
    },
    {
     "name": "stdout",
     "output_type": "stream",
     "text": [
      "page 544\n",
      "['압꾸정', '마동석이 오냐 오냐 하니까 이제 다작 막하고 돈독 올랐어? 제작해서 돈만 벌라그러는겨?단디하자잉~~', 1]\n"
     ]
    },
    {
     "name": "stderr",
     "output_type": "stream",
     "text": [
      "\r",
      " 54%|███████████████████████████████████████████▌                                    | 544/999 [05:29<04:39,  1.63it/s]"
     ]
    },
    {
     "name": "stdout",
     "output_type": "stream",
     "text": [
      "page 545\n",
      "['열혈남아', '남자의 로망.. 내 사랑 장만옥 눈나..♡', 10]\n"
     ]
    },
    {
     "name": "stderr",
     "output_type": "stream",
     "text": [
      "\r",
      " 55%|███████████████████████████████████████████▋                                    | 545/999 [05:29<04:38,  1.63it/s]"
     ]
    },
    {
     "name": "stdout",
     "output_type": "stream",
     "text": [
      "page 546\n",
      "['에브리씽 에브리웨어 올 앳 원스', '어지럽다. 어디서 많이 본 것 같은데 새롭고 낯설다. 많은 이들이 고민했을 문제이지만 새로운 접근이다.', 7]\n"
     ]
    },
    {
     "name": "stderr",
     "output_type": "stream",
     "text": [
      "\r",
      " 55%|███████████████████████████████████████████▋                                    | 546/999 [05:30<04:38,  1.63it/s]"
     ]
    },
    {
     "name": "stdout",
     "output_type": "stream",
     "text": [
      "page 547\n",
      "['이상한 나라의 수학자', 'Good! 강력 추천 영화', 10]\n"
     ]
    },
    {
     "name": "stderr",
     "output_type": "stream",
     "text": [
      "\r",
      " 55%|███████████████████████████████████████████▊                                    | 547/999 [05:31<04:36,  1.63it/s]"
     ]
    },
    {
     "name": "stdout",
     "output_type": "stream",
     "text": [
      "page 548\n",
      "['콜래트럴', '마이클만의 남자영화죠..', 10]\n"
     ]
    },
    {
     "name": "stderr",
     "output_type": "stream",
     "text": [
      "\r",
      " 55%|███████████████████████████████████████████▉                                    | 548/999 [05:31<04:42,  1.59it/s]"
     ]
    },
    {
     "name": "stdout",
     "output_type": "stream",
     "text": [
      "page 549\n",
      "['압꾸정', '마동석 나와서 기대하고 봤는데 보다가 중간에 나갈뻔  돈아깝고 재미 1도 없음', 1]\n"
     ]
    },
    {
     "name": "stderr",
     "output_type": "stream",
     "text": [
      "\r",
      " 55%|███████████████████████████████████████████▉                                    | 549/999 [05:32<04:40,  1.61it/s]"
     ]
    },
    {
     "name": "stdout",
     "output_type": "stream",
     "text": [
      "page 550\n",
      "['에브리씽 에브리웨어 올 앳 원스', '어떻게 투자받았지..', 10]\n"
     ]
    },
    {
     "name": "stderr",
     "output_type": "stream",
     "text": [
      "\r",
      " 55%|████████████████████████████████████████████                                    | 550/999 [05:32<04:39,  1.61it/s]"
     ]
    },
    {
     "name": "stdout",
     "output_type": "stream",
     "text": [
      "page 551\n",
      "['양자경의 더 모든 날 모든 순간', '와 간만에 10점 주네. 충격적이라 할 수 있는 영상과 아이디어. 게다가 절대 가볍지 않은 감동적인 스토리. 병맛도 이정도면 예술 아닌가?', 10]\n"
     ]
    },
    {
     "name": "stderr",
     "output_type": "stream",
     "text": [
      "\r",
      " 55%|████████████████████████████████████████████                                    | 551/999 [05:33<04:37,  1.61it/s]"
     ]
    },
    {
     "name": "stdout",
     "output_type": "stream",
     "text": [
      "page 552\n",
      "['올빼미', '개연성 .... 흠 초반 약간 지루  후반  재미  배우들 연기때문에 봄 류준열 배우 ', 10]\n"
     ]
    },
    {
     "name": "stderr",
     "output_type": "stream",
     "text": [
      "\r",
      " 55%|████████████████████████████████████████████▏                                   | 552/999 [05:34<04:37,  1.61it/s]"
     ]
    },
    {
     "name": "stdout",
     "output_type": "stream",
     "text": [
      "page 553\n",
      "['카터', '욕하고 싶을때 보는거 추천', 1]\n"
     ]
    },
    {
     "name": "stderr",
     "output_type": "stream",
     "text": [
      "\r",
      " 55%|████████████████████████████████████████████▎                                   | 553/999 [05:34<04:36,  1.61it/s]"
     ]
    },
    {
     "name": "stdout",
     "output_type": "stream",
     "text": [
      "page 554\n",
      "['압꾸정', '마동석 씨 나오는 영화는 챙겨보는 중입니다', 7]\n"
     ]
    },
    {
     "name": "stderr",
     "output_type": "stream",
     "text": [
      "\r",
      " 55%|████████████████████████████████████████████▎                                   | 554/999 [05:35<04:34,  1.62it/s]"
     ]
    },
    {
     "name": "stdout",
     "output_type": "stream",
     "text": [
      "page 555\n",
      "['올빼미', '스릴러인줄 모르고 봤다가 식겁했네요..', 10]\n"
     ]
    },
    {
     "name": "stderr",
     "output_type": "stream",
     "text": [
      "\r",
      " 56%|████████████████████████████████████████████▍                                   | 555/999 [05:35<04:34,  1.62it/s]"
     ]
    },
    {
     "name": "stdout",
     "output_type": "stream",
     "text": [
      "page 556\n",
      "['탄생', '펑펑울었습니다위대한 사람들이라고이분들 덕분에 이나라에서 하나님 맘껏 사랑하며살수있게 되었구나 실감하며 마음이 웅장해지고 더 열심히 소중히 살아야겠구나 다짐했습니다.옆에계신 아빠도 울게 만든 영화! 찐추♡', 10]\n"
     ]
    },
    {
     "name": "stderr",
     "output_type": "stream",
     "text": [
      "\r",
      " 56%|████████████████████████████████████████████▌                                   | 556/999 [05:36<04:33,  1.62it/s]"
     ]
    },
    {
     "name": "stdout",
     "output_type": "stream",
     "text": [
      "page 557\n",
      "['올빼미', '완전 재미있게 잘 봤습니다 류준열 유해진 등 정말 연기를잘하시네요 내용도 알차고 스토리도탄탄해서 보는내내  긴장감과 긴박함이넘치고 좋은영화 잘 선택해서 기분좋은 시간이였습니다 잘 봤습니다 올해 최고의 영화였습니다감사합니다 ', 10]\n"
     ]
    },
    {
     "name": "stderr",
     "output_type": "stream",
     "text": [
      "\r",
      " 56%|████████████████████████████████████████████▌                                   | 557/999 [05:37<04:33,  1.62it/s]"
     ]
    },
    {
     "name": "stdout",
     "output_type": "stream",
     "text": [
      "page 558\n",
      "['엔시티 드림 더 무비 : 인 어 드림', '무대 위의 드림 바이브를 사랑하는 사람으로써 너무나 재미있게 보았습니다. 드림은 무대 에너지와 시너지가 넘 좋은 팀이라 4dx 타고 신나게 흔들리며 봤어요. 드림의 미모를 즐기려면 2dx가 좋고 냅다 신나고 싶다면 4dx 추천입니다!! 드림 진짜 쩔어주자 그 잡채♡', 10]\n"
     ]
    },
    {
     "name": "stderr",
     "output_type": "stream",
     "text": [
      "\r",
      " 56%|████████████████████████████████████████████▋                                   | 558/999 [05:37<04:32,  1.62it/s]"
     ]
    },
    {
     "name": "stdout",
     "output_type": "stream",
     "text": [
      "page 559\n",
      "['탄생', '역사를 모르고 보면 무슨일인지 연결이 어려울것같습니다.그러나 모르고 봐도 감동적네요', 8]\n"
     ]
    },
    {
     "name": "stderr",
     "output_type": "stream",
     "text": [
      "\r",
      " 56%|████████████████████████████████████████████▊                                   | 559/999 [05:38<04:30,  1.62it/s]"
     ]
    },
    {
     "name": "stdout",
     "output_type": "stream",
     "text": [
      "page 560\n",
      "['올빼미', '간만에 끝까지 집중해서 본 영화 ', 10]\n"
     ]
    },
    {
     "name": "stderr",
     "output_type": "stream",
     "text": [
      "\r",
      " 56%|████████████████████████████████████████████▊                                   | 560/999 [05:39<04:30,  1.62it/s]"
     ]
    },
    {
     "name": "stdout",
     "output_type": "stream",
     "text": [
      "page 561\n",
      "['고속도로 가족', '마음이 불편했지만, 영화는 수작이네. 배우들도 너무 좋다.', 9]\n"
     ]
    },
    {
     "name": "stderr",
     "output_type": "stream",
     "text": [
      "\r",
      " 56%|████████████████████████████████████████████▉                                   | 561/999 [05:39<04:29,  1.62it/s]"
     ]
    },
    {
     "name": "stdout",
     "output_type": "stream",
     "text": [
      "page 562\n",
      "['올빼미', '재밌었다. 그런데 씁쓸했다. 인간의 추악함이 무서워서. ', 10]\n"
     ]
    },
    {
     "name": "stderr",
     "output_type": "stream",
     "text": [
      "\r",
      " 56%|█████████████████████████████████████████████                                   | 562/999 [05:40<04:29,  1.62it/s]"
     ]
    },
    {
     "name": "stdout",
     "output_type": "stream",
     "text": [
      "page 563\n",
      "['오늘 밤, 세계에서 이 사랑이 사라진다 해도', '보는내내마음한편이아리는영화이다.', 10]\n"
     ]
    },
    {
     "name": "stderr",
     "output_type": "stream",
     "text": [
      "\r",
      " 56%|█████████████████████████████████████████████                                   | 563/999 [05:40<04:29,  1.62it/s]"
     ]
    },
    {
     "name": "stdout",
     "output_type": "stream",
     "text": [
      "page 564\n",
      "['압꾸정', '장르가 코미디라하여 동석님의 개그본능을 기대했는데, 어디서 웃어야하고 어디까지 기다려야하는지..보지마십시요', 2]\n"
     ]
    },
    {
     "name": "stderr",
     "output_type": "stream",
     "text": [
      "\r",
      " 56%|█████████████████████████████████████████████▏                                  | 564/999 [05:41<04:28,  1.62it/s]"
     ]
    },
    {
     "name": "stdout",
     "output_type": "stream",
     "text": [
      "page 565\n",
      "['압꾸정', '너무 웃기고 배우들도 연기를 너무 잘해서 재밌게 보고 왔어요~', 10]\n"
     ]
    },
    {
     "name": "stderr",
     "output_type": "stream",
     "text": [
      "\r",
      " 57%|█████████████████████████████████████████████▏                                  | 565/999 [05:42<04:28,  1.62it/s]"
     ]
    },
    {
     "name": "stdout",
     "output_type": "stream",
     "text": [
      "page 566\n",
      "['오늘 밤, 세계에서 이 사랑이 사라진다 해도', '진짜 이번년도 최고의 영화..너무 슬퍼서 나도 울고 여자친구도 울고 옆에 아저씨도 울어버렸다 …나에게 눈물이 있다는것을 알려준 영화', 10]\n"
     ]
    },
    {
     "name": "stderr",
     "output_type": "stream",
     "text": [
      "\r",
      " 57%|█████████████████████████████████████████████▎                                  | 566/999 [05:42<04:27,  1.62it/s]"
     ]
    },
    {
     "name": "stdout",
     "output_type": "stream",
     "text": [
      "page 567\n",
      "['내 아내의 모든 것', '일본에서의 연애스토리 영상미 너어무 예쁘고 가벼운 영화같지만 그안의 메시지가 있었음. 당연한 관계에서 잊어버리고 살던 것들을 떠올리게 되더라. 개그코드도 좋고 중간중간 명작들도 좋고 특유의 겨울 느낌이 좋아서 n번째 본 영화임. ', 10]\n"
     ]
    },
    {
     "name": "stderr",
     "output_type": "stream",
     "text": [
      "\r",
      " 57%|█████████████████████████████████████████████▍                                  | 567/999 [05:43<04:33,  1.58it/s]"
     ]
    },
    {
     "name": "stdout",
     "output_type": "stream",
     "text": [
      "page 568\n",
      "['올빼미', '류준열 잘생겼다긴장감 굿이였습니다', 10]\n"
     ]
    },
    {
     "name": "stderr",
     "output_type": "stream",
     "text": [
      "\r",
      " 57%|█████████████████████████████████████████████▍                                  | 568/999 [05:44<04:31,  1.59it/s]"
     ]
    },
    {
     "name": "stdout",
     "output_type": "stream",
     "text": [
      "page 569\n",
      "['올빼미', '최근에 본 영화중 제일 인상 깊은 영화였어요. 누구랑 봐도 좋은 영화. 강추', 10]\n"
     ]
    },
    {
     "name": "stderr",
     "output_type": "stream",
     "text": [
      "\r",
      " 57%|█████████████████████████████████████████████▌                                  | 569/999 [05:44<04:27,  1.61it/s]"
     ]
    },
    {
     "name": "stdout",
     "output_type": "stream",
     "text": [
      "page 570\n",
      "['올빼미', '연출 소름이구 재밌었어요????', 9]\n"
     ]
    },
    {
     "name": "stderr",
     "output_type": "stream",
     "text": [
      "\r",
      " 57%|█████████████████████████████████████████████▋                                  | 570/999 [05:45<04:28,  1.60it/s]"
     ]
    },
    {
     "name": "stdout",
     "output_type": "stream",
     "text": [
      "page 571\n",
      "['올빼미', '스토리에 더 집중하게 만들어주는 영상미에 매료되어 2시간 넋을 놓고 보았습니다.', 9]\n"
     ]
    },
    {
     "name": "stderr",
     "output_type": "stream",
     "text": [
      "\r",
      " 57%|█████████████████████████████████████████████▋                                  | 571/999 [05:45<04:25,  1.61it/s]"
     ]
    },
    {
     "name": "stdout",
     "output_type": "stream",
     "text": [
      "page 572\n",
      "['데시벨', '차은우는 땜에 집중할수없엇음.얼굴나옴 멍해짐.', 8]\n"
     ]
    },
    {
     "name": "stderr",
     "output_type": "stream",
     "text": [
      "\r",
      " 57%|█████████████████████████████████████████████▊                                  | 572/999 [05:46<04:24,  1.61it/s]"
     ]
    },
    {
     "name": "stdout",
     "output_type": "stream",
     "text": [
      "page 573\n",
      "['올빼미', '요 근래 본 영화중 최고였다. 후회없는 선택', 10]\n"
     ]
    },
    {
     "name": "stderr",
     "output_type": "stream",
     "text": [
      "\r",
      " 57%|█████████████████████████████████████████████▉                                  | 573/999 [05:47<04:23,  1.62it/s]"
     ]
    },
    {
     "name": "stdout",
     "output_type": "stream",
     "text": [
      "page 574\n",
      "['리멤버', '원작은 재미없게 봤는데 원작보다 훨 낫다', 7]\n"
     ]
    },
    {
     "name": "stderr",
     "output_type": "stream",
     "text": [
      "\r",
      " 57%|█████████████████████████████████████████████▉                                  | 574/999 [05:47<04:23,  1.61it/s]"
     ]
    },
    {
     "name": "stdout",
     "output_type": "stream",
     "text": [
      "page 575\n",
      "['올빼미', '오랜만에 몰입해서 본 영화스토리도 좋은데 연기력이 화룡점정', 10]\n"
     ]
    },
    {
     "name": "stderr",
     "output_type": "stream",
     "text": [
      "\r",
      " 58%|██████████████████████████████████████████████                                  | 575/999 [05:48<04:22,  1.61it/s]"
     ]
    },
    {
     "name": "stdout",
     "output_type": "stream",
     "text": [
      "page 576\n",
      "['원피스 필름 레드', '팬 이라면 쉴드가 아니라 자신들이 사랑하는 IP를 이딴 식으로 소모 했다는 것에 분노 해야 할 것.졸작이다.', 2]\n"
     ]
    },
    {
     "name": "stderr",
     "output_type": "stream",
     "text": [
      "\r",
      " 58%|██████████████████████████████████████████████▏                                 | 576/999 [05:49<04:21,  1.62it/s]"
     ]
    },
    {
     "name": "stdout",
     "output_type": "stream",
     "text": [
      "page 577\n",
      "['올빼미', '마지막까지 주는 긴박감..류준열의 한층 성장된 연기', 8]\n"
     ]
    },
    {
     "name": "stderr",
     "output_type": "stream",
     "text": [
      "\r",
      " 58%|██████████████████████████████████████████████▏                                 | 577/999 [05:49<04:19,  1.62it/s]"
     ]
    },
    {
     "name": "stdout",
     "output_type": "stream",
     "text": [
      "page 578\n",
      "['탄생', '무대인사도 볼겸 개봉첫주에 관람하였으나.. 후... 황금같은 주말의 세시간을 쓰기엔 아까운 영화입니다. 일단 너무 깁니다. 김대건 신부의 전기를 다 담으려고 하다보니 씬 연결이 유기적이지않고 배역의 활용이 효율적이지 못합니다. 그 예로 시간과 장소를 설명하는 자막이 너무 많아 몰입이 힘듭니다. 천주교 신자임에도 눈물이 나지 않았습니다. 윤경호 배우와 송지연 배우의 연기는 볼만합니다만.. 이건 영화가 아니라 그냥 역사 사료를 영상으로 옮긴 것에 불가합니다. 나도 아내가 있었으면 좋겠다의 박흥식 감독인줄 알고 갔더니... 동명이인 이더군요. 윤시윤씨 연기는 나쁘지 않았습니다만 워낙 중구난방인 연출에 조악한 cg 폭격을 맞아 좋은 평을 받긴 힘들 것 같습니다. 배우 본인도 영화배우로서의 티켓파워를 걱정하고 있던데 이건 티켓파워의 문제가 아니라 시나리오 보는 눈의 문제입니다. ', 4]\n"
     ]
    },
    {
     "name": "stderr",
     "output_type": "stream",
     "text": [
      "\r",
      " 58%|██████████████████████████████████████████████▎                                 | 578/999 [05:50<04:20,  1.62it/s]"
     ]
    },
    {
     "name": "stdout",
     "output_type": "stream",
     "text": [
      "page 579\n",
      "['오늘 밤, 세계에서 이 사랑이 사라진다 해도', '약간 흐린듯한 필터와 연출 덕분에 몰입이 더 잘 되었던 것 같다!! 오랜만에 펑펑 운 영화 ', 10]\n"
     ]
    },
    {
     "name": "stderr",
     "output_type": "stream",
     "text": [
      "\r",
      " 58%|██████████████████████████████████████████████▎                                 | 579/999 [05:50<04:19,  1.62it/s]"
     ]
    },
    {
     "name": "stdout",
     "output_type": "stream",
     "text": [
      "page 580\n",
      "['제5침공', '여자 구해준 남자... 너무 멋져용', 10]\n"
     ]
    },
    {
     "name": "stderr",
     "output_type": "stream",
     "text": [
      "\r",
      " 58%|██████████████████████████████████████████████▍                                 | 580/999 [05:51<04:19,  1.62it/s]"
     ]
    },
    {
     "name": "stdout",
     "output_type": "stream",
     "text": [
      "page 581\n",
      "['올빼미', '진짜 리뷰 잘 안쓰는데 간만에 영화 보면서 심장 쫄깃해진느낌 받아 남깁니다..스릴러 좋아하시는분 재밌게 보실듯! ', 10]\n"
     ]
    },
    {
     "name": "stderr",
     "output_type": "stream",
     "text": [
      "\r",
      " 58%|██████████████████████████████████████████████▌                                 | 581/999 [05:52<04:19,  1.61it/s]"
     ]
    },
    {
     "name": "stdout",
     "output_type": "stream",
     "text": [
      "page 582\n",
      "['데시벨', '기대보다 재미있게 봤습니다', 8]\n"
     ]
    },
    {
     "name": "stderr",
     "output_type": "stream",
     "text": [
      "\r",
      " 58%|██████████████████████████████████████████████▌                                 | 582/999 [05:52<04:20,  1.60it/s]"
     ]
    },
    {
     "name": "stdout",
     "output_type": "stream",
     "text": [
      "page 583\n",
      "['그 겨울, 나는', '그 시절 우리가 마주했던 쓰라린 겨울, 그리고 나', 10]\n"
     ]
    },
    {
     "name": "stderr",
     "output_type": "stream",
     "text": [
      "\r",
      " 58%|██████████████████████████████████████████████▋                                 | 583/999 [05:53<04:20,  1.60it/s]"
     ]
    },
    {
     "name": "stdout",
     "output_type": "stream",
     "text": [
      "page 584\n",
      "['올빼미', '이번년 꼽을수잇는 영화몰입도가너무압도적이다', 10]\n"
     ]
    },
    {
     "name": "stderr",
     "output_type": "stream",
     "text": [
      "\r",
      " 58%|██████████████████████████████████████████████▊                                 | 584/999 [05:53<04:19,  1.60it/s]"
     ]
    },
    {
     "name": "stdout",
     "output_type": "stream",
     "text": [
      "page 585\n",
      "['더 룸', '참신한 설정에 시간가는 줄 모르고 볼 정도로 몰입도가 상당히 높은 영화다. 그런데 후반부 내용이 좀 헷갈리고 열린결말이라는 점이 조금 아쉽다.', 9]\n"
     ]
    },
    {
     "name": "stderr",
     "output_type": "stream",
     "text": [
      "\r",
      " 59%|██████████████████████████████████████████████▊                                 | 585/999 [05:54<04:23,  1.57it/s]"
     ]
    },
    {
     "name": "stdout",
     "output_type": "stream",
     "text": [
      "page 586\n",
      "['탄생', '가슴을 먹먹하게 만드는 최고의 감동적인 영화입니다. 연기자분들의 연기도 최고입니다. 좋은 영화 감사합니다. ^ ^', 10]\n"
     ]
    },
    {
     "name": "stderr",
     "output_type": "stream",
     "text": [
      "\r",
      " 59%|██████████████████████████████████████████████▉                                 | 586/999 [05:55<04:20,  1.58it/s]"
     ]
    },
    {
     "name": "stdout",
     "output_type": "stream",
     "text": [
      "page 587\n",
      "['미씽: 사라진 여자', '생각보다 닮아있는 두 엄마에 대해', 10]\n"
     ]
    },
    {
     "name": "stderr",
     "output_type": "stream",
     "text": [
      "\r",
      " 59%|███████████████████████████████████████████████                                 | 587/999 [05:55<04:18,  1.59it/s]"
     ]
    },
    {
     "name": "stdout",
     "output_type": "stream",
     "text": [
      "page 588\n",
      "['올빼미', '오랜만에 재밌는 한국 영화 본 듯', 8]\n"
     ]
    },
    {
     "name": "stderr",
     "output_type": "stream",
     "text": [
      "\r",
      " 59%|███████████████████████████████████████████████                                 | 588/999 [05:56<04:18,  1.59it/s]"
     ]
    },
    {
     "name": "stdout",
     "output_type": "stream",
     "text": [
      "page 589\n",
      "['올빼미', '기대안하고봤는데 쫄깃하고 재미있네요 연기와 연출 스토리 모두 굿굿 ', 10]\n"
     ]
    },
    {
     "name": "stderr",
     "output_type": "stream",
     "text": [
      "\r",
      " 59%|███████████████████████████████████████████████▏                                | 589/999 [05:57<04:15,  1.60it/s]"
     ]
    },
    {
     "name": "stdout",
     "output_type": "stream",
     "text": [
      "page 590\n",
      "['압꾸정', '동석이형님.. 다작도 좋지만.. 아무거나 막찍는는건 아닌것 같습니다.. ', 1]\n"
     ]
    },
    {
     "name": "stderr",
     "output_type": "stream",
     "text": [
      "\r",
      " 59%|███████████████████████████████████████████████▏                                | 590/999 [05:57<04:14,  1.61it/s]"
     ]
    },
    {
     "name": "stdout",
     "output_type": "stream",
     "text": [
      "page 591\n",
      "['압꾸정', '최고! 아무 생각없이 두시간 즐겁게 보고  나올 영화!!', 10]\n"
     ]
    },
    {
     "name": "stderr",
     "output_type": "stream",
     "text": [
      "\r",
      " 59%|███████████████████████████████████████████████▎                                | 591/999 [05:58<04:12,  1.61it/s]"
     ]
    },
    {
     "name": "stdout",
     "output_type": "stream",
     "text": [
      "page 592\n",
      "['올빼미', '심장이 쫠깃쫠깃해지는 영화였어요!!', 10]\n"
     ]
    },
    {
     "name": "stderr",
     "output_type": "stream",
     "text": [
      "\r",
      " 59%|███████████████████████████████████████████████▍                                | 592/999 [05:58<04:11,  1.62it/s]"
     ]
    },
    {
     "name": "stdout",
     "output_type": "stream",
     "text": [
      "page 593\n",
      "['이터널스', '마블 맞아? 마블하면 무조건 봤는데 이제 걸러서 봐야겠네...', 5]\n"
     ]
    },
    {
     "name": "stderr",
     "output_type": "stream",
     "text": [
      "\r",
      " 59%|███████████████████████████████████████████████▍                                | 593/999 [05:59<04:10,  1.62it/s]"
     ]
    },
    {
     "name": "stdout",
     "output_type": "stream",
     "text": [
      "page 594\n",
      "['데시벨', '스토리는 괜찮은데 연출이 n전년 같음', 7]\n"
     ]
    },
    {
     "name": "stderr",
     "output_type": "stream",
     "text": [
      "\r",
      " 59%|███████████████████████████████████████████████▌                                | 594/999 [06:00<04:10,  1.61it/s]"
     ]
    },
    {
     "name": "stdout",
     "output_type": "stream",
     "text": [
      "page 595\n",
      "['올빼미', '재밌어요 완전 반전이 담겨있는 스토리였네요 킬링 타임용으로 좋은 영화였습니다짱 웃기고 무섭고 긴장감도 있고 반전들도 많고 다 있는 영화였습니다~! ', 10]\n"
     ]
    },
    {
     "name": "stderr",
     "output_type": "stream",
     "text": [
      "\r",
      " 60%|███████████████████████████████████████████████▋                                | 595/999 [06:00<04:11,  1.61it/s]"
     ]
    },
    {
     "name": "stdout",
     "output_type": "stream",
     "text": [
      "page 596\n",
      "['올빼미', '사실 별생각없이 봤는데 의외로 잼나게 봤다연출도 좋았고 류준열,유해진연기, 조연들의 연기도 좋았다감독님의 데뷔작인게 놀랍다~^', 9]\n"
     ]
    },
    {
     "name": "stderr",
     "output_type": "stream",
     "text": [
      "\r",
      " 60%|███████████████████████████████████████████████▋                                | 596/999 [06:01<04:09,  1.61it/s]"
     ]
    },
    {
     "name": "stdout",
     "output_type": "stream",
     "text": [
      "page 597\n",
      "['퇴마: 무녀굴', '한국전통 특성에 맞게 좋은 스토리를 가셨는데, 석정이도 뱀귀신이 빙의된 상태에서 무구로 죽었지만 그 자손들에게 귀신이 옮겨갔는데 결말도 똑같이 무구로 행해진다는게 조금 아쉽습니다. 주인공이 만신의 아들로서 무구도 나오고 뭔가 힘이 있을것 같은 기대감이 있었는데 주인공의 힘으로 풀어나갔다면 참 좋았을텐데요 항상 결말이 아쉽습니다. 킬링타임으로 좋습니다.', 8]\n"
     ]
    },
    {
     "name": "stderr",
     "output_type": "stream",
     "text": [
      "\r",
      " 60%|███████████████████████████████████████████████▊                                | 597/999 [06:02<04:09,  1.61it/s]"
     ]
    },
    {
     "name": "stdout",
     "output_type": "stream",
     "text": [
      "page 598\n",
      "['올빼미', '올해 최고의 영화 입니다.', 10]\n"
     ]
    },
    {
     "name": "stderr",
     "output_type": "stream",
     "text": [
      "\r",
      " 60%|███████████████████████████████████████████████▉                                | 598/999 [06:02<04:08,  1.61it/s]"
     ]
    },
    {
     "name": "stdout",
     "output_type": "stream",
     "text": [
      "page 599\n",
      "['올빼미', '류준열 연기는 항상 믿고 본다 ', 10]\n"
     ]
    },
    {
     "name": "stderr",
     "output_type": "stream",
     "text": [
      "\r",
      " 60%|███████████████████████████████████████████████▉                                | 599/999 [06:03<04:07,  1.62it/s]"
     ]
    },
    {
     "name": "stdout",
     "output_type": "stream",
     "text": [
      "page 600\n",
      "['원피스 필름 레드', '원피스 극장판 중에 최고! ost를 주축으로 만든 원피스에서 가장 놀라운 완성도의 극장판', 8]\n"
     ]
    },
    {
     "name": "stderr",
     "output_type": "stream",
     "text": [
      "\r",
      " 60%|████████████████████████████████████████████████                                | 600/999 [06:03<04:05,  1.62it/s]"
     ]
    },
    {
     "name": "stdout",
     "output_type": "stream",
     "text": [
      "page 601\n",
      "['탄생', '스토리가 길고 가톨릭에 대해 잘 모르면 좀 힘들 수도 있지만 정말 감동적이고 좋은 영화였습니다~~개인적으로 천주교든 개신교든 기독교의 본질이 잘 드러난 영화였다고 생각해요', 9]\n"
     ]
    },
    {
     "name": "stderr",
     "output_type": "stream",
     "text": [
      "\r",
      " 60%|████████████████████████████████████████████████▏                               | 601/999 [06:04<04:05,  1.62it/s]"
     ]
    },
    {
     "name": "stdout",
     "output_type": "stream",
     "text": [
      "page 602\n",
      "['탄생', '김대건 신부님 일대기를 알고 이를 바탕으로 했다는걸 알고 보니 저는 신자가 아님에도 의미깊게 봤습니다. 윤시윤배우님 연기가 점점 무르익는것 같네요. ', 10]\n"
     ]
    },
    {
     "name": "stderr",
     "output_type": "stream",
     "text": [
      "\r",
      " 60%|████████████████████████████████████████████████▏                               | 602/999 [06:05<04:04,  1.62it/s]"
     ]
    },
    {
     "name": "stdout",
     "output_type": "stream",
     "text": [
      "page 603\n",
      "['피아니스트', '주인공이 실제 스팔만처럼 느껴지도록 연기 실력이 넘  멋졌어요^^', 10]\n"
     ]
    },
    {
     "name": "stderr",
     "output_type": "stream",
     "text": [
      "\r",
      " 60%|████████████████████████████████████████████████▎                               | 603/999 [06:05<04:03,  1.62it/s]"
     ]
    },
    {
     "name": "stdout",
     "output_type": "stream",
     "text": [
      "page 604\n",
      "['올빼미', '영화가좋아요', 10]\n"
     ]
    },
    {
     "name": "stderr",
     "output_type": "stream",
     "text": [
      "\r",
      " 60%|████████████████████████████████████████████████▎                               | 604/999 [06:06<04:10,  1.57it/s]"
     ]
    },
    {
     "name": "stdout",
     "output_type": "stream",
     "text": [
      "page 605\n",
      "['탄생', '와, 종교를떠나서 너무 감동이엿어요윤시윤연기 미쳣네요다같이 오열햇네요감동입니다', 10]\n"
     ]
    },
    {
     "name": "stderr",
     "output_type": "stream",
     "text": [
      "\r",
      " 61%|████████████████████████████████████████████████▍                               | 605/999 [06:07<04:10,  1.58it/s]"
     ]
    },
    {
     "name": "stdout",
     "output_type": "stream",
     "text": [
      "page 606\n",
      "['인생은 아름다워', '꼭 보세요. 뭐 신파처럼 억지눈물 안짜고 그냥 감동스럽게 본 영화입니다. 이런류의 영화인줄 몰랐는데 신선하고 재미있습니다. 배우들 주조연 할것없이 넘 조아요. 전 특히 류승룡 배우. 좀 머찌심 ㅋ', 10]\n"
     ]
    },
    {
     "name": "stderr",
     "output_type": "stream",
     "text": [
      "\r",
      " 61%|████████████████████████████████████████████████▌                               | 606/999 [06:07<04:08,  1.58it/s]"
     ]
    },
    {
     "name": "stdout",
     "output_type": "stream",
     "text": [
      "page 607\n",
      "['탄생', '감동이 있습니다... 김대건 신부님을  우리나라 최초의 사제라는것 외에 지리,  외국어 수학 다른 신 학문도 뛰어났다는것... 다른모습을 보여주셔서  좋았어요 ', 10]\n"
     ]
    },
    {
     "name": "stderr",
     "output_type": "stream",
     "text": [
      "\r",
      " 61%|████████████████████████████████████████████████▌                               | 607/999 [06:08<04:07,  1.58it/s]"
     ]
    },
    {
     "name": "stdout",
     "output_type": "stream",
     "text": [
      "page 608\n",
      "['신비한 동물들과 덤블도어의 비밀', '해리포터 세계관 정말 좋아하는데 이 좋은 소재를 이렇게 써먹네...1편에서 멈췄어야 해', 5]\n"
     ]
    },
    {
     "name": "stderr",
     "output_type": "stream",
     "text": [
      "\r",
      " 61%|████████████████████████████████████████████████▋                               | 608/999 [06:08<04:06,  1.59it/s]"
     ]
    },
    {
     "name": "stdout",
     "output_type": "stream",
     "text": [
      "page 609\n",
      "['올빼미', '너무 재미있었어요.두 시간 어떻게 가는 줄 모르고 봤어요.최고!!!!', 10]\n"
     ]
    },
    {
     "name": "stderr",
     "output_type": "stream",
     "text": [
      "\r",
      " 61%|████████████████████████████████████████████████▊                               | 609/999 [06:09<04:04,  1.60it/s]"
     ]
    },
    {
     "name": "stdout",
     "output_type": "stream",
     "text": [
      "page 610\n",
      "['탄생', '너무너무 유익한 영화믿고 보는 윤시윤이죠??', 10]\n"
     ]
    },
    {
     "name": "stderr",
     "output_type": "stream",
     "text": [
      "\r",
      " 61%|████████████████████████████████████████████████▊                               | 610/999 [06:10<04:03,  1.60it/s]"
     ]
    },
    {
     "name": "stdout",
     "output_type": "stream",
     "text": [
      "page 611\n",
      "['백두산', '다들 기대해서 실망한듯한데 기대하지않고 우연히 채널돌리다가보니 너무 재미있게봤음 감동..', 10]\n"
     ]
    },
    {
     "name": "stderr",
     "output_type": "stream",
     "text": [
      "\r",
      " 61%|████████████████████████████████████████████████▉                               | 611/999 [06:10<04:01,  1.61it/s]"
     ]
    },
    {
     "name": "stdout",
     "output_type": "stream",
     "text": [
      "page 612\n",
      "['극장판 뽀로로와 친구들: 바이러스를 없애줘!', '밝고 즐거운 내용 속에 생각할 것들이 있었던 영화였어요^^ ', 10]\n"
     ]
    },
    {
     "name": "stderr",
     "output_type": "stream",
     "text": [
      "\r",
      " 61%|█████████████████████████████████████████████████                               | 612/999 [06:11<04:00,  1.61it/s]"
     ]
    },
    {
     "name": "stdout",
     "output_type": "stream",
     "text": [
      "page 613\n",
      "['레이디 맥베스', '엔딩이 너무 기분이 별로네요. 권선징악이 취향이라. ', 4]\n"
     ]
    },
    {
     "name": "stderr",
     "output_type": "stream",
     "text": [
      "\r",
      " 61%|█████████████████████████████████████████████████                               | 613/999 [06:12<04:00,  1.61it/s]"
     ]
    },
    {
     "name": "stdout",
     "output_type": "stream",
     "text": [
      "page 614\n",
      "['와일드 타겟', '영국식 코미디 로맨스물로 확 몰입감은 그저 그런..', 6]\n"
     ]
    },
    {
     "name": "stderr",
     "output_type": "stream",
     "text": [
      "\r",
      " 61%|█████████████████████████████████████████████████▏                              | 614/999 [06:12<04:00,  1.60it/s]"
     ]
    },
    {
     "name": "stdout",
     "output_type": "stream",
     "text": [
      "page 615\n",
      "['올빼미', '재밌어요 완전 반전스토리 킬링타임용으로 짱웃기고 무섭고 긴장감있고 반전있고 다 있는 짬뽕~!', 10]\n"
     ]
    },
    {
     "name": "stderr",
     "output_type": "stream",
     "text": [
      "\r",
      " 62%|█████████████████████████████████████████████████▏                              | 615/999 [06:13<04:00,  1.59it/s]"
     ]
    },
    {
     "name": "stdout",
     "output_type": "stream",
     "text": [
      "page 616\n",
      "['올빼미', '욕심 많지만 반가운 느낌의 영화!', 7]\n"
     ]
    },
    {
     "name": "stderr",
     "output_type": "stream",
     "text": [
      "\r",
      " 62%|█████████████████████████████████████████████████▎                              | 616/999 [06:13<03:59,  1.60it/s]"
     ]
    },
    {
     "name": "stdout",
     "output_type": "stream",
     "text": [
      "page 617\n",
      "['올빼미', '거의 박살났다고 해야 할 수반부 개연성과 다소 지루한 초반을 제외하면 상당히 훌륭한 영화다. 배우들의 준수한 연기에 중반부의 몰입감이 좋았으며 몇몇 씬들은 정말로 탁월했다. 무엇보다 각본의 상상력이 훌륭했다고 생각한다.', 6]\n"
     ]
    },
    {
     "name": "stderr",
     "output_type": "stream",
     "text": [
      "\r",
      " 62%|█████████████████████████████████████████████████▍                              | 617/999 [06:14<03:59,  1.60it/s]"
     ]
    },
    {
     "name": "stdout",
     "output_type": "stream",
     "text": [
      "page 618\n",
      "['블랙 아담', '대책 없는 열혈 아지매와 중2병 걸린 아들놈의 환장 콜라보..이 영화는 쿠키 영상이 제일 재밌었습니다.', 5]\n"
     ]
    },
    {
     "name": "stderr",
     "output_type": "stream",
     "text": [
      "\r",
      " 62%|█████████████████████████████████████████████████▍                              | 618/999 [06:15<03:58,  1.60it/s]"
     ]
    },
    {
     "name": "stdout",
     "output_type": "stream",
     "text": [
      "page 619\n",
      "['오늘 밤, 세계에서 이 사랑이 사라진다 해도', '기억은 사라져도 감정은 마음 한켠에 끈질기게 남아 소중한 사람을 새롭게 떠올리게 하는 듯', 6]\n"
     ]
    },
    {
     "name": "stderr",
     "output_type": "stream",
     "text": [
      "\r",
      " 62%|█████████████████████████████████████████████████▌                              | 619/999 [06:15<03:57,  1.60it/s]"
     ]
    },
    {
     "name": "stdout",
     "output_type": "stream",
     "text": [
      "page 620\n",
      "['올빼미', '인생처음으로 별점 남긴다. 와 진짜 개재밌다', 10]\n"
     ]
    },
    {
     "name": "stderr",
     "output_type": "stream",
     "text": [
      "\r",
      " 62%|█████████████████████████████████████████████████▋                              | 620/999 [06:16<03:56,  1.60it/s]"
     ]
    },
    {
     "name": "stdout",
     "output_type": "stream",
     "text": [
      "page 621\n",
      "['쥬라기 월드: 도미니언', '시리즈 마지막이라 다행 지금도 내용 별로지만 혹시나 더 나오면 가망 없어 보임 차라리 90년대 공원이 스토리 탄탄하고 더 긴장감 있음', 6]\n"
     ]
    },
    {
     "name": "stderr",
     "output_type": "stream",
     "text": [
      "\r",
      " 62%|█████████████████████████████████████████████████▋                              | 621/999 [06:17<03:56,  1.60it/s]"
     ]
    },
    {
     "name": "stdout",
     "output_type": "stream",
     "text": [
      "page 622\n",
      "['원피스 필름 레드', '재밌게 잘봤습니다!!!', 10]\n"
     ]
    },
    {
     "name": "stderr",
     "output_type": "stream",
     "text": [
      "\r",
      " 62%|█████████████████████████████████████████████████▊                              | 622/999 [06:17<04:02,  1.56it/s]"
     ]
    },
    {
     "name": "stdout",
     "output_type": "stream",
     "text": [
      "page 623\n",
      "['블랙 팬서: 와칸다 포에버', '두시간째 보고 있는데 너무 지루하다..', 1]\n"
     ]
    },
    {
     "name": "stderr",
     "output_type": "stream",
     "text": [
      "\r",
      " 62%|█████████████████████████████████████████████████▉                              | 623/999 [06:18<03:59,  1.57it/s]"
     ]
    },
    {
     "name": "stdout",
     "output_type": "stream",
     "text": [
      "page 624\n",
      "['동감', '여진구 너무 불쌍함..', 6]\n"
     ]
    },
    {
     "name": "stderr",
     "output_type": "stream",
     "text": [
      "\r",
      " 62%|█████████████████████████████████████████████████▉                              | 624/999 [06:19<03:56,  1.58it/s]"
     ]
    },
    {
     "name": "stdout",
     "output_type": "stream",
     "text": [
      "page 625\n",
      "['탄생', '재밌습니다 추천해요!!', 10]\n"
     ]
    },
    {
     "name": "stderr",
     "output_type": "stream",
     "text": [
      "\r",
      " 63%|██████████████████████████████████████████████████                              | 625/999 [06:19<03:54,  1.59it/s]"
     ]
    },
    {
     "name": "stdout",
     "output_type": "stream",
     "text": [
      "page 626\n",
      "['탄생', '우리나라 최초 김대건신부님에대해 역사적인 기록만 알고있다가 그시대적 배경과  그시대에 힘들었음에도 불구하고  신앙을 키워왔던 선조들의 숭고한 정신에 머리가 숙여진다. 인간은위대하다. 그런인간을 만드신 하느님은 더위대하다', 10]\n"
     ]
    },
    {
     "name": "stderr",
     "output_type": "stream",
     "text": [
      "\r",
      " 63%|██████████████████████████████████████████████████▏                             | 626/999 [06:20<03:52,  1.60it/s]"
     ]
    },
    {
     "name": "stdout",
     "output_type": "stream",
     "text": [
      "page 627\n",
      "['고속도로 가족', '미쳤네요... 배우들 연기력 빈틈 하나하나 없고 정말 한번쯤 볼만한 영화를 봐서 감동입니다. 정일우씨 이렇게 연기를 잘하는지 몰랐어요', 10]\n"
     ]
    },
    {
     "name": "stderr",
     "output_type": "stream",
     "text": [
      "\r",
      " 63%|██████████████████████████████████████████████████▏                             | 627/999 [06:20<03:52,  1.60it/s]"
     ]
    },
    {
     "name": "stdout",
     "output_type": "stream",
     "text": [
      "page 628\n",
      "['놈이 우리 안에 있다', '그냥', 9]\n"
     ]
    },
    {
     "name": "stderr",
     "output_type": "stream",
     "text": [
      "\r",
      " 63%|██████████████████████████████████████████████████▎                             | 628/999 [06:21<03:50,  1.61it/s]"
     ]
    },
    {
     "name": "stdout",
     "output_type": "stream",
     "text": [
      "page 629\n",
      "['탄생', '윤시윤과 모든 배우들 엄청난 연기 엄청났습니다.. 최고의 영화입니다.', 10]\n"
     ]
    },
    {
     "name": "stderr",
     "output_type": "stream",
     "text": [
      "\r",
      " 63%|██████████████████████████████████████████████████▎                             | 629/999 [06:22<03:51,  1.60it/s]"
     ]
    },
    {
     "name": "stdout",
     "output_type": "stream",
     "text": [
      "page 630\n",
      "['이별의 아침에 약속의 꽃을 장식하자', '자녀를 만나고 키우고 떠나보내는 삶의 여정에 대한 스토리. 일본아니메 작화가 잘 어울릴 것 같지 않았는데 잘 풀어냈다.', 10]\n"
     ]
    },
    {
     "name": "stderr",
     "output_type": "stream",
     "text": [
      "\r",
      " 63%|██████████████████████████████████████████████████▍                             | 630/999 [06:22<03:50,  1.60it/s]"
     ]
    },
    {
     "name": "stdout",
     "output_type": "stream",
     "text": [
      "page 631\n",
      "['압꾸정', '이게 요즘에 나올 영화인가?', 3]\n"
     ]
    },
    {
     "name": "stderr",
     "output_type": "stream",
     "text": [
      "\r",
      " 63%|██████████████████████████████████████████████████▌                             | 631/999 [06:23<03:51,  1.59it/s]"
     ]
    },
    {
     "name": "stdout",
     "output_type": "stream",
     "text": [
      "page 632\n",
      "['올빼미', '지루할틈도 없이  정말로  재미있게 봤어요   ', 10]\n"
     ]
    },
    {
     "name": "stderr",
     "output_type": "stream",
     "text": [
      "\r",
      " 63%|██████████████████████████████████████████████████▌                             | 632/999 [06:24<03:51,  1.59it/s]"
     ]
    },
    {
     "name": "stdout",
     "output_type": "stream",
     "text": [
      "page 633\n",
      "['올빼미', '와 오랜만에 긴장하면서 보았는데 류준열 배우님 연기는 역시나 믿고 봅니다. 스토리가 빈틈이 없네요. 너무 좋았어서 일부러 리뷰 씁니다', 10]\n"
     ]
    },
    {
     "name": "stderr",
     "output_type": "stream",
     "text": [
      "\r",
      " 63%|██████████████████████████████████████████████████▋                             | 633/999 [06:24<03:57,  1.54it/s]"
     ]
    },
    {
     "name": "stdout",
     "output_type": "stream",
     "text": [
      "page 634\n",
      "['모어 댄 블루', '슬픔보다 더 슬픈이야기랑 틀은 거의같은데 완성도가 훨씬높음. 의사가 너도 혼자잖아 부분부터 개슬픔', 10]\n"
     ]
    },
    {
     "name": "stderr",
     "output_type": "stream",
     "text": [
      "\r",
      " 63%|██████████████████████████████████████████████████▊                             | 634/999 [06:25<03:55,  1.55it/s]"
     ]
    },
    {
     "name": "stdout",
     "output_type": "stream",
     "text": [
      "page 635\n",
      "['올빼미', '연기대박 보는 내내 긴장감 대박?', 10]\n"
     ]
    },
    {
     "name": "stderr",
     "output_type": "stream",
     "text": [
      "\r",
      " 64%|██████████████████████████████████████████████████▊                             | 635/999 [06:25<03:54,  1.55it/s]"
     ]
    },
    {
     "name": "stdout",
     "output_type": "stream",
     "text": [
      "page 636\n",
      "['올빼미', '유해진 연기와 류준열 연기를 보고 근추도 울었습니다.', 10]\n"
     ]
    },
    {
     "name": "stderr",
     "output_type": "stream",
     "text": [
      "\r",
      " 64%|██████████████████████████████████████████████████▉                             | 636/999 [06:26<03:54,  1.55it/s]"
     ]
    },
    {
     "name": "stdout",
     "output_type": "stream",
     "text": [
      "page 637\n",
      "['탄생', '두시간반이 지루하지 않게 지나갔어요재미 감동..아이들도 잘봤어요', 10]\n"
     ]
    },
    {
     "name": "stderr",
     "output_type": "stream",
     "text": [
      "\r",
      " 64%|███████████████████████████████████████████████████                             | 637/999 [06:27<03:52,  1.56it/s]"
     ]
    },
    {
     "name": "stdout",
     "output_type": "stream",
     "text": [
      "page 638\n",
      "['원피스 필름 레드', '2회차 관람인데 초중반에 노래 나오는 부분 빼고는 끄는 느낌이있어서 뮤지컬 본다 생각하면됨.후반 샹크스 나오는부분부터 게속 재밌음ost는 하나도  빠짐없이 다 좋음', 10]\n"
     ]
    },
    {
     "name": "stderr",
     "output_type": "stream",
     "text": [
      "\r",
      " 64%|███████████████████████████████████████████████████                             | 638/999 [06:27<03:50,  1.57it/s]"
     ]
    },
    {
     "name": "stdout",
     "output_type": "stream",
     "text": [
      "page 639\n",
      "['탄생', '좋은 영화 감사합니다. ', 10]\n"
     ]
    },
    {
     "name": "stderr",
     "output_type": "stream",
     "text": [
      "\r",
      " 64%|███████████████████████████████████████████████████▏                            | 639/999 [06:28<03:48,  1.58it/s]"
     ]
    },
    {
     "name": "stdout",
     "output_type": "stream",
     "text": [
      "page 640\n",
      "['그 겨울, 나는', '요즘 같은 시대에 더욱 와닿고 슬프네요..연기도 좋고 좋은영화네요', 10]\n"
     ]
    },
    {
     "name": "stderr",
     "output_type": "stream",
     "text": [
      "\r",
      " 64%|███████████████████████████████████████████████████▎                            | 640/999 [06:29<03:46,  1.58it/s]"
     ]
    },
    {
     "name": "stdout",
     "output_type": "stream",
     "text": [
      "page 641\n",
      "['올빼미', '우와.. 연기최고..몰입도 ', 10]\n"
     ]
    },
    {
     "name": "stderr",
     "output_type": "stream",
     "text": [
      "\r",
      " 64%|███████████████████████████████████████████████████▎                            | 641/999 [06:29<03:52,  1.54it/s]"
     ]
    },
    {
     "name": "stdout",
     "output_type": "stream",
     "text": [
      "page 642\n",
      "['늑대사냥', '쓰레기중 최고의 쓰레기 영화', 1]\n"
     ]
    },
    {
     "name": "stderr",
     "output_type": "stream",
     "text": [
      "\r",
      " 64%|███████████████████████████████████████████████████▍                            | 642/999 [06:30<03:48,  1.56it/s]"
     ]
    },
    {
     "name": "stdout",
     "output_type": "stream",
     "text": [
      "page 643\n",
      "['올빼미', '정말  심장터질듯이 쫄깃쫄깃 미치는줄^^1000만가즈아~~~~', 10]\n"
     ]
    },
    {
     "name": "stderr",
     "output_type": "stream",
     "text": [
      "\r",
      " 64%|███████████████████████████████████████████████████▍                            | 643/999 [06:31<03:49,  1.55it/s]"
     ]
    },
    {
     "name": "stdout",
     "output_type": "stream",
     "text": [
      "page 644\n",
      "['인비저블 게스트', '넷플릭스로 봤는데 몰입도가 장난이 아니네요. 추천합니다.', 10]\n"
     ]
    },
    {
     "name": "stderr",
     "output_type": "stream",
     "text": [
      "\r",
      " 64%|███████████████████████████████████████████████████▌                            | 644/999 [06:31<03:48,  1.56it/s]"
     ]
    },
    {
     "name": "stdout",
     "output_type": "stream",
     "text": [
      "page 645\n",
      "['20세기 소녀', '음악이 절반. 나머지중 절반이 김유정. 나머지중 절반이 1999년 감성팔이. 줄거리보다 연기자와 달달한 화면과 배우들이 좋았다.', 7]\n"
     ]
    },
    {
     "name": "stderr",
     "output_type": "stream",
     "text": [
      "\r",
      " 65%|███████████████████████████████████████████████████▋                            | 645/999 [06:32<03:46,  1.56it/s]"
     ]
    },
    {
     "name": "stdout",
     "output_type": "stream",
     "text": [
      "page 646\n",
      "['탄생', '무교지만 너무 감동적이었고 긴 여운을 남긴 영화입니다 배우들의 명품연기와 좋은 영상미, 그리고 우리 역사를 배울 수 있는 기회종교인이 아니더라도 이 영화를 볼 이유는 충분한 듯 합니다 급박한 스토리 전개가 아니더라도 잔잔한 스토리는 큰 울림을 주었습니다 ', 10]\n"
     ]
    },
    {
     "name": "stderr",
     "output_type": "stream",
     "text": [
      "\r",
      " 65%|███████████████████████████████████████████████████▋                            | 646/999 [06:33<03:46,  1.56it/s]"
     ]
    },
    {
     "name": "stdout",
     "output_type": "stream",
     "text": [
      "page 647\n",
      "['싱 스트리트', '비긴어게인 과는 또다른 매력.', 8]\n"
     ]
    },
    {
     "name": "stderr",
     "output_type": "stream",
     "text": [
      "\r",
      " 65%|███████████████████████████████████████████████████▊                            | 647/999 [06:33<03:43,  1.57it/s]"
     ]
    },
    {
     "name": "stdout",
     "output_type": "stream",
     "text": [
      "page 648\n",
      "['더 퍼지', '아들부터 내놧어야됫다', 2]\n"
     ]
    },
    {
     "name": "stderr",
     "output_type": "stream",
     "text": [
      "\r",
      " 65%|███████████████████████████████████████████████████▉                            | 648/999 [06:34<03:42,  1.58it/s]"
     ]
    },
    {
     "name": "stdout",
     "output_type": "stream",
     "text": [
      "page 649\n",
      "['미씽: 사라진 여자', '진짜 말도 안되는 영화네요. 우선 영화 중간까지 봤을 때 아 이거 감독 여자겠구나 라는 생각들었구요. 대체 엄지원네가 잘못한게 뭐임?ㅋㅋ 돈 없으면 걍 나가는게 맞음 쫓겨나기 싫으면 돈을 미리미리 냈어야지; 뭔 죽을 죄를 지은것처럼 묘사를 해놨노 ㅋㅋ 2개 반도 많이 드린겁니다 그리고 영화 전개 순서부터 좀 헷갈리게 놓지 마세요 혼동이 옵니다.', 5]\n"
     ]
    },
    {
     "name": "stderr",
     "output_type": "stream",
     "text": [
      "\r",
      " 65%|███████████████████████████████████████████████████▉                            | 649/999 [06:34<03:41,  1.58it/s]"
     ]
    },
    {
     "name": "stdout",
     "output_type": "stream",
     "text": [
      "page 650\n",
      "['원피스 필름 레드', '뮤지컬애니!! 노래에 힘쓴게 많이 보였어요 ^^!! 연출도 웅장하고 귀엽네요 마치 마법소녀도레미가 생각남..!! 그리고 뭔가 상크스와 루피 동시공격때 나온 브금에 추억이.. 그리고 쿠키영상은 이게 진짜인가 생각했습니다...;; 그래도 간만에 재밌게봤어요  그리고 오다는 참 평행이론 좋아하는군요  ', 10]\n"
     ]
    },
    {
     "name": "stderr",
     "output_type": "stream",
     "text": [
      "\r",
      " 65%|████████████████████████████████████████████████████                            | 650/999 [06:35<03:38,  1.59it/s]"
     ]
    },
    {
     "name": "stdout",
     "output_type": "stream",
     "text": [
      "page 651\n",
      "['그 겨울, 나는', '현실을 직시할수있는 영화였던거같아요너무 몰입감있게잘봤습니다', 10]\n"
     ]
    },
    {
     "name": "stderr",
     "output_type": "stream",
     "text": [
      "\r",
      " 65%|████████████████████████████████████████████████████▏                           | 651/999 [06:36<03:37,  1.60it/s]"
     ]
    },
    {
     "name": "stdout",
     "output_type": "stream",
     "text": [
      "page 652\n",
      "['사랑할 땐 누구나 최악이 된다', '변하지 않는 것은 없고, 후회 없는 삶도 불가능하다', 7]\n"
     ]
    },
    {
     "name": "stderr",
     "output_type": "stream",
     "text": [
      "\r",
      " 65%|████████████████████████████████████████████████████▏                           | 652/999 [06:36<03:37,  1.60it/s]"
     ]
    },
    {
     "name": "stdout",
     "output_type": "stream",
     "text": [
      "page 653\n",
      "['올빼미', '리얼 2번보세요 진짜 류준열 유해진 진짜 최곱니다.', 10]\n"
     ]
    },
    {
     "name": "stderr",
     "output_type": "stream",
     "text": [
      "\r",
      " 65%|████████████████████████████████████████████████████▎                           | 653/999 [06:37<03:35,  1.61it/s]"
     ]
    },
    {
     "name": "stdout",
     "output_type": "stream",
     "text": [
      "page 654\n",
      "['오늘 밤, 세계에서 이 사랑이 사라진다 해도', '이거 왜안봐...꼭보세요 진짜', 10]\n"
     ]
    },
    {
     "name": "stderr",
     "output_type": "stream",
     "text": [
      "\r",
      " 65%|████████████████████████████████████████████████████▎                           | 654/999 [06:38<03:34,  1.61it/s]"
     ]
    },
    {
     "name": "stdout",
     "output_type": "stream",
     "text": [
      "page 655\n",
      "['탄생', '종교영화임에는 틀림없다. 러닝타임이 길어서 중간에 졸릴뻔했지만 윤시윤의 완성도 높은 연기에 놀라 러닝타임도 참아냈다 ㅎㅎ 중간에 바다에서 만난 폭풍씬 없었으면 정말 지루했을뻔~ 이건 영상미에 높은 점수를 주고싶다.. 그나저나 어려운 대사 외우느라 배우들 정말 힘들었겠다 ㅋ', 8]\n"
     ]
    },
    {
     "name": "stderr",
     "output_type": "stream",
     "text": [
      "\r",
      " 66%|████████████████████████████████████████████████████▍                           | 655/999 [06:38<03:35,  1.59it/s]"
     ]
    },
    {
     "name": "stdout",
     "output_type": "stream",
     "text": [
      "page 656\n",
      "['올빼미', '류준열 최고 흥미진진 !!!', 10]\n"
     ]
    },
    {
     "name": "stderr",
     "output_type": "stream",
     "text": [
      "\r",
      " 66%|████████████████████████████████████████████████████▌                           | 656/999 [06:39<03:35,  1.59it/s]"
     ]
    },
    {
     "name": "stdout",
     "output_type": "stream",
     "text": [
      "page 657\n",
      "['올빼미', '돈이 하나도 아깝지 않음. 오랜만에 극장에서 보는 수작', 10]\n"
     ]
    },
    {
     "name": "stderr",
     "output_type": "stream",
     "text": [
      "\r",
      " 66%|████████████████████████████████████████████████████▌                           | 657/999 [06:39<03:34,  1.60it/s]"
     ]
    },
    {
     "name": "stdout",
     "output_type": "stream",
     "text": [
      "page 658\n",
      "['살인의뢰', '개연성은 존나 없는데 재미는 있네. 감독 무슨 고딩 만화연출하구있네', 6]\n"
     ]
    },
    {
     "name": "stderr",
     "output_type": "stream",
     "text": [
      "\r",
      " 66%|████████████████████████████████████████████████████▋                           | 658/999 [06:40<03:35,  1.59it/s]"
     ]
    },
    {
     "name": "stdout",
     "output_type": "stream",
     "text": [
      "page 659\n",
      "['올빼미', '올해 가장 재밌게본 사극 영화', 10]\n"
     ]
    },
    {
     "name": "stderr",
     "output_type": "stream",
     "text": [
      "\r",
      " 66%|████████████████████████████████████████████████████▊                           | 659/999 [06:41<03:33,  1.60it/s]"
     ]
    },
    {
     "name": "stdout",
     "output_type": "stream",
     "text": [
      "page 660\n",
      "['올빼미', '진짜 재밌습니다!! 꼭 보세요', 10]\n"
     ]
    },
    {
     "name": "stderr",
     "output_type": "stream",
     "text": [
      "\r",
      " 66%|████████████████████████████████████████████████████▊                           | 660/999 [06:41<03:38,  1.55it/s]"
     ]
    },
    {
     "name": "stdout",
     "output_type": "stream",
     "text": [
      "page 661\n",
      "['아저씨', '하도 봐서 대사를 외워버렸다~~', 10]\n"
     ]
    },
    {
     "name": "stderr",
     "output_type": "stream",
     "text": [
      "\r",
      " 66%|████████████████████████████████████████████████████▉                           | 661/999 [06:42<03:35,  1.57it/s]"
     ]
    },
    {
     "name": "stdout",
     "output_type": "stream",
     "text": [
      "page 662\n",
      "['본즈 앤 올', '미칠듯이 서정적이고 아름답고 불안한 영상미..잊을수 없는 여운을 주는 영화.', 10]\n"
     ]
    },
    {
     "name": "stderr",
     "output_type": "stream",
     "text": [
      "\r",
      " 66%|█████████████████████████████████████████████████████                           | 662/999 [06:43<03:32,  1.58it/s]"
     ]
    },
    {
     "name": "stdout",
     "output_type": "stream",
     "text": [
      "page 663\n",
      "['원피스 필름 레드', '음악영화라고 하는데 오히려 음악이랑 상황이랑 맞게 해서 오히려 더 재밌게 본거같음 꿀잼꿀잼', 10]\n"
     ]
    },
    {
     "name": "stderr",
     "output_type": "stream",
     "text": [
      "\r",
      " 66%|█████████████████████████████████████████████████████                           | 663/999 [06:43<03:31,  1.59it/s]"
     ]
    },
    {
     "name": "stdout",
     "output_type": "stream",
     "text": [
      "page 664\n",
      "['멋진 세계', '정말 재밌었습니다. 장면 하나하나에 여러생각이 드네요. ', 10]\n"
     ]
    },
    {
     "name": "stderr",
     "output_type": "stream",
     "text": [
      "\r",
      " 66%|█████████████████████████████████████████████████████▏                          | 664/999 [06:44<03:30,  1.59it/s]"
     ]
    },
    {
     "name": "stdout",
     "output_type": "stream",
     "text": [
      "page 665\n",
      "['인생은 아름다워', '뻔한데 노래가 좋고 아는노래들이라 따라부르게 되고 색감이 알록달록 ', 10]\n"
     ]
    },
    {
     "name": "stderr",
     "output_type": "stream",
     "text": [
      "\r",
      " 67%|█████████████████████████████████████████████████████▎                          | 665/999 [06:44<03:29,  1.59it/s]"
     ]
    },
    {
     "name": "stdout",
     "output_type": "stream",
     "text": [
      "page 666\n",
      "['본즈 앤 올', '그렇게 끝날 수 밖에 없는 그들의 이야기', 9]\n"
     ]
    },
    {
     "name": "stderr",
     "output_type": "stream",
     "text": [
      "\r",
      " 67%|█████████████████████████████████████████████████████▎                          | 666/999 [06:45<03:27,  1.60it/s]"
     ]
    },
    {
     "name": "stdout",
     "output_type": "stream",
     "text": [
      "page 667\n",
      "['올빼미', '기대 안 하고 영화관에서 봤는데 재밌네요 사극이 스릴있네요', 9]\n"
     ]
    },
    {
     "name": "stderr",
     "output_type": "stream",
     "text": [
      "\r",
      " 67%|█████████████████████████████████████████████████████▍                          | 667/999 [06:46<03:26,  1.60it/s]"
     ]
    },
    {
     "name": "stdout",
     "output_type": "stream",
     "text": [
      "page 668\n",
      "['올빼미', '중간에 연출이 대박인 장면이 있는데 그 이후로 계속 몰입하게 됐음.. ', 10]\n"
     ]
    },
    {
     "name": "stderr",
     "output_type": "stream",
     "text": [
      "\r",
      " 67%|█████████████████████████████████████████████████████▍                          | 668/999 [06:46<03:26,  1.60it/s]"
     ]
    },
    {
     "name": "stdout",
     "output_type": "stream",
     "text": [
      "page 669\n",
      "['해바라기', '감성으로 보는 오태식의 연기... 그렇게 다 가져가야만 속이 후련했냐? 라는 대사에 전율이 밀려온다..', 9]\n"
     ]
    },
    {
     "name": "stderr",
     "output_type": "stream",
     "text": [
      "\r",
      " 67%|█████████████████████████████████████████████████████▌                          | 669/999 [06:47<03:26,  1.60it/s]"
     ]
    },
    {
     "name": "stdout",
     "output_type": "stream",
     "text": [
      "page 670\n",
      "['원피스 필름 레드', '훨씬 더 음악영화여서 당황;; 꽤 많이 유치하다', 5]\n"
     ]
    },
    {
     "name": "stderr",
     "output_type": "stream",
     "text": [
      "\r",
      " 67%|█████████████████████████████████████████████████████▋                          | 670/999 [06:48<03:27,  1.59it/s]"
     ]
    },
    {
     "name": "stdout",
     "output_type": "stream",
     "text": [
      "page 671\n",
      "['신부 수업', '특유은 첫사랑 재질.... 가끔 생각날듯', 10]\n"
     ]
    },
    {
     "name": "stderr",
     "output_type": "stream",
     "text": [
      "\r",
      " 67%|█████████████████████████████████████████████████████▋                          | 671/999 [06:48<03:26,  1.59it/s]"
     ]
    },
    {
     "name": "stdout",
     "output_type": "stream",
     "text": [
      "page 672\n",
      "['올빼미', '끝나고 나도 모르게 박수칠뻔 했습니다~ 몰입감최고 몇년동안 본 영화중 최고 였습니다~', 10]\n"
     ]
    },
    {
     "name": "stderr",
     "output_type": "stream",
     "text": [
      "\r",
      " 67%|█████████████████████████████████████████████████████▊                          | 672/999 [06:49<03:25,  1.59it/s]"
     ]
    },
    {
     "name": "stdout",
     "output_type": "stream",
     "text": [
      "page 673\n",
      "['올빼미', '솔직히 이정도면 볼만한영화라생각합니다.중간에 긴장감도 있었고스릴러같은 느낌도강하게와닿았어요.배우들연기가....진짜몰입도많이높였습니다.그리재밌고흥미진진하진않지만 전반적으로괜찮았음.', 8]\n"
     ]
    },
    {
     "name": "stderr",
     "output_type": "stream",
     "text": [
      "\r",
      " 67%|█████████████████████████████████████████████████████▉                          | 673/999 [06:49<03:23,  1.60it/s]"
     ]
    },
    {
     "name": "stdout",
     "output_type": "stream",
     "text": [
      "page 674\n",
      "['올빼미', '너무 재밌었습니다 배우들의 연기력과 긴장감이 탁월하네요,,시간 가는 줄 모르고 봤어요', 9]\n"
     ]
    },
    {
     "name": "stderr",
     "output_type": "stream",
     "text": [
      "\r",
      " 67%|█████████████████████████████████████████████████████▉                          | 674/999 [06:50<03:22,  1.60it/s]"
     ]
    },
    {
     "name": "stdout",
     "output_type": "stream",
     "text": [
      "page 675\n",
      "['엔시티 드림 더 무비 : 인 어 드림', '영화관에서 보니까 색다르고 좋아요', 8]\n"
     ]
    },
    {
     "name": "stderr",
     "output_type": "stream",
     "text": [
      "\r",
      " 68%|██████████████████████████████████████████████████████                          | 675/999 [06:51<03:22,  1.60it/s]"
     ]
    },
    {
     "name": "stdout",
     "output_type": "stream",
     "text": [
      "page 676\n",
      "['가장 보통의 연애', '역시 ㅋㅋㅋㅋ 가장기본의 연애, 잘만들었어 ㅋㅋ 김래원 진짜 너무 조아~ 공효진 둘 조합 역시 연기의 온도 결이 맞음!! ㅋㅋㅋㅋ 저 둘은20대때 연기할때 생각도나도.. 요즘 연기자들한테 없는 감성 ', 10]\n"
     ]
    },
    {
     "name": "stderr",
     "output_type": "stream",
     "text": [
      "\r",
      " 68%|██████████████████████████████████████████████████████▏                         | 676/999 [06:51<03:23,  1.59it/s]"
     ]
    },
    {
     "name": "stdout",
     "output_type": "stream",
     "text": [
      "page 677\n",
      "['양자경의 더 모든 날 모든 순간', '다시 봐도 좋네요 영화 제목도 진작 이렇게 개봉하지 그랬어요', 10]\n"
     ]
    },
    {
     "name": "stderr",
     "output_type": "stream",
     "text": [
      "\r",
      " 68%|██████████████████████████████████████████████████████▏                         | 677/999 [06:52<03:22,  1.59it/s]"
     ]
    },
    {
     "name": "stdout",
     "output_type": "stream",
     "text": [
      "page 678\n",
      "['탄생', '큰기대 없이 보았는데 너무나 감동적이었다. 여러언어를 능통하게 하고 다방면에 뛰어났던 천재 김대건신부님!!!  우리나라 천주교의 역사를 다시 돌아보며 감동적인 눈물을 흘린 좋은 시간이었습니다 ', 10]\n"
     ]
    },
    {
     "name": "stderr",
     "output_type": "stream",
     "text": [
      "\r",
      " 68%|██████████████████████████████████████████████████████▎                         | 678/999 [06:53<03:27,  1.55it/s]"
     ]
    },
    {
     "name": "stdout",
     "output_type": "stream",
     "text": [
      "page 679\n",
      "['올빼미', '배우분들 연기도 너무 좋았고 긴장감있게 잘 봤습니다.', 9]\n"
     ]
    },
    {
     "name": "stderr",
     "output_type": "stream",
     "text": [
      "\r",
      " 68%|██████████████████████████████████████████████████████▎                         | 679/999 [06:53<03:23,  1.57it/s]"
     ]
    },
    {
     "name": "stdout",
     "output_type": "stream",
     "text": [
      "page 680\n",
      "['리멤버', '이렇게 좋은 주제를 낭비하다니디테일 부족', 4]\n"
     ]
    },
    {
     "name": "stderr",
     "output_type": "stream",
     "text": [
      "\r",
      " 68%|██████████████████████████████████████████████████████▍                         | 680/999 [06:54<03:21,  1.58it/s]"
     ]
    },
    {
     "name": "stdout",
     "output_type": "stream",
     "text": [
      "page 681\n",
      "['오늘 밤, 세계에서 이 사랑이 사라진다 해도', '뭔가 이별전에 이별을 암시해주어서 그닥 슬프지않았던거같은데 어쩌라고 ㅈㄴ슬픔', 10]\n"
     ]
    },
    {
     "name": "stderr",
     "output_type": "stream",
     "text": [
      "\r",
      " 68%|██████████████████████████████████████████████████████▌                         | 681/999 [06:55<03:20,  1.59it/s]"
     ]
    },
    {
     "name": "stdout",
     "output_type": "stream",
     "text": [
      "page 682\n",
      "['탄생', '스토리의 연결성이  부족하나 진심이 통하는 영화', 8]\n"
     ]
    },
    {
     "name": "stderr",
     "output_type": "stream",
     "text": [
      "\r",
      " 68%|██████████████████████████████████████████████████████▌                         | 682/999 [06:55<03:18,  1.60it/s]"
     ]
    },
    {
     "name": "stdout",
     "output_type": "stream",
     "text": [
      "page 683\n",
      "['탄생', '윤시윤 연기 넘 잘하고~김대건 신부님이 우리나라에서 나셨다는게 자랑스럽고~ 기대이상의 감동~~', 10]\n"
     ]
    },
    {
     "name": "stderr",
     "output_type": "stream",
     "text": [
      "\r",
      " 68%|██████████████████████████████████████████████████████▋                         | 683/999 [06:56<03:17,  1.60it/s]"
     ]
    },
    {
     "name": "stdout",
     "output_type": "stream",
     "text": [
      "page 684\n",
      "['탄생', '넘 감동적이네요. 펑펑 울었습니다 ㅜㅜ 인재를 몰라보고 사형을 시킨 역사에 맘이 넘 아픔니다. 조선 최초로  많은 역경을이기시고  신부님이 되셨는데 너무 일찍 돌아가셨어요.ㅠㅠ~~', 10]\n"
     ]
    },
    {
     "name": "stderr",
     "output_type": "stream",
     "text": [
      "\r",
      " 68%|██████████████████████████████████████████████████████▊                         | 684/999 [06:56<03:17,  1.59it/s]"
     ]
    },
    {
     "name": "stdout",
     "output_type": "stream",
     "text": [
      "page 685\n",
      "['탄생', '그냥 가톨릭 신자들이나 좋아할 영화재미도 없고 비종교인이나 타종교는 재미없어할듯', 1]\n"
     ]
    },
    {
     "name": "stderr",
     "output_type": "stream",
     "text": [
      "\r",
      " 69%|██████████████████████████████████████████████████████▊                         | 685/999 [06:57<03:16,  1.60it/s]"
     ]
    },
    {
     "name": "stdout",
     "output_type": "stream",
     "text": [
      "page 686\n",
      "['원피스 필름 레드', '평점이 낮아서 우려스러웠는데 기우였네요. 감동도 있고 재밌도 있었습니다 ', 10]\n"
     ]
    },
    {
     "name": "stderr",
     "output_type": "stream",
     "text": [
      "\r",
      " 69%|██████████████████████████████████████████████████████▉                         | 686/999 [06:58<03:15,  1.60it/s]"
     ]
    },
    {
     "name": "stdout",
     "output_type": "stream",
     "text": [
      "page 687\n",
      "['올빼미', '류준열과 유해진의 연기가 인상적이었다김성철 배우의 세자 연기도! 스토리는 예상 가능했지만역시 사극은 영화관에서 보면 재밌다', 6]\n"
     ]
    },
    {
     "name": "stderr",
     "output_type": "stream",
     "text": [
      "\r",
      " 69%|███████████████████████████████████████████████████████                         | 687/999 [06:58<03:15,  1.60it/s]"
     ]
    },
    {
     "name": "stdout",
     "output_type": "stream",
     "text": [
      "page 688\n",
      "['압꾸정', '재미 있습니다', 9]\n"
     ]
    },
    {
     "name": "stderr",
     "output_type": "stream",
     "text": [
      "\r",
      " 69%|███████████████████████████████████████████████████████                         | 688/999 [06:59<03:13,  1.61it/s]"
     ]
    },
    {
     "name": "stdout",
     "output_type": "stream",
     "text": [
      "page 689\n",
      "['본즈 앤 올', '결국엔 멍청한 사랑이야기였음을', 8]\n"
     ]
    },
    {
     "name": "stderr",
     "output_type": "stream",
     "text": [
      "\r",
      " 69%|███████████████████████████████████████████████████████▏                        | 689/999 [07:00<03:12,  1.61it/s]"
     ]
    },
    {
     "name": "stdout",
     "output_type": "stream",
     "text": [
      "page 690\n",
      "['하이힐', '지금 나왔으면 외국에서 더 호평 받았을텐데 ㅠ 너무 앞서간 거 아닌지 안타깝습니다.', 10]\n"
     ]
    },
    {
     "name": "stderr",
     "output_type": "stream",
     "text": [
      "\r",
      " 69%|███████████████████████████████████████████████████████▎                        | 690/999 [07:00<03:12,  1.60it/s]"
     ]
    },
    {
     "name": "stdout",
     "output_type": "stream",
     "text": [
      "page 691\n",
      "['경관의 피', '재밌네요? 웃으면서 봤어요', 4]\n"
     ]
    },
    {
     "name": "stderr",
     "output_type": "stream",
     "text": [
      "\r",
      " 69%|███████████████████████████████████████████████████████▎                        | 691/999 [07:01<03:12,  1.60it/s]"
     ]
    },
    {
     "name": "stdout",
     "output_type": "stream",
     "text": [
      "page 692\n",
      "['올빼미', '재밌게 잘봤습니다....', 6]\n"
     ]
    },
    {
     "name": "stderr",
     "output_type": "stream",
     "text": [
      "\r",
      " 69%|███████████████████████████████████████████████████████▍                        | 692/999 [07:01<03:11,  1.60it/s]"
     ]
    },
    {
     "name": "stdout",
     "output_type": "stream",
     "text": [
      "page 693\n",
      "['올빼미', '유해진배우 조선왕의 새로운 캐릭터 재발견', 10]\n"
     ]
    },
    {
     "name": "stderr",
     "output_type": "stream",
     "text": [
      "\r",
      " 69%|███████████████████████████████████████████████████████▍                        | 693/999 [07:02<03:11,  1.60it/s]"
     ]
    },
    {
     "name": "stdout",
     "output_type": "stream",
     "text": [
      "page 694\n",
      "['탄생', '시간이 정말 빨리 흘러가는 스토리.몰입감에 울다 나왔습니다.간만에 잘 만들어진 영화 보았습니다.또 보고 싶어요.', 10]\n"
     ]
    },
    {
     "name": "stderr",
     "output_type": "stream",
     "text": [
      "\r",
      " 69%|███████████████████████████████████████████████████████▌                        | 694/999 [07:03<03:09,  1.61it/s]"
     ]
    },
    {
     "name": "stdout",
     "output_type": "stream",
     "text": [
      "page 695\n",
      "['탄생', '내의지와 상관없이 눈물이 흐른다선조들의 모습을 담은 배우들의 연기에 찬사를 보낸다 다시 한번 한국배우들의 뛰어남에 감사드린다! 온몸으로 감동이 전해져 오는 영화', 9]\n"
     ]
    },
    {
     "name": "stderr",
     "output_type": "stream",
     "text": [
      "\r",
      " 70%|███████████████████████████████████████████████████████▋                        | 695/999 [07:03<03:09,  1.60it/s]"
     ]
    },
    {
     "name": "stdout",
     "output_type": "stream",
     "text": [
      "page 696\n",
      "['올빼미', '이제껏 본 한국영화중 전우치이래 최고.', 10]\n"
     ]
    },
    {
     "name": "stderr",
     "output_type": "stream",
     "text": [
      "\r",
      " 70%|███████████████████████████████████████████████████████▋                        | 696/999 [07:04<03:08,  1.61it/s]"
     ]
    },
    {
     "name": "stdout",
     "output_type": "stream",
     "text": [
      "page 697\n",
      "['올빼미', '연기력 미쳤다꼭 봐야함', 10]\n"
     ]
    },
    {
     "name": "stderr",
     "output_type": "stream",
     "text": [
      "\r",
      " 70%|███████████████████████████████████████████████████████▊                        | 697/999 [07:05<03:13,  1.56it/s]"
     ]
    },
    {
     "name": "stdout",
     "output_type": "stream",
     "text": [
      "page 698\n",
      "['압꾸정', '어디서 웃어야할지~~언제 웃기나 기다리다. 끝나는 영화.', 2]\n"
     ]
    },
    {
     "name": "stderr",
     "output_type": "stream",
     "text": [
      "\r",
      " 70%|███████████████████████████████████████████████████████▉                        | 698/999 [07:05<03:10,  1.58it/s]"
     ]
    },
    {
     "name": "stdout",
     "output_type": "stream",
     "text": [
      "page 699\n",
      "['동감', '여진구씨 팬이라 보고싶었는데 왜 상영시간이..애매한 시간대 하나만 있나요...아이 하원시간전에 봐야하는데..그리고 왜 개봉한지 얼마안됐는데저희동네는 모레까지만 상영하고 내리나요ㅠㅠ', 10]\n"
     ]
    },
    {
     "name": "stderr",
     "output_type": "stream",
     "text": [
      "\r",
      " 70%|███████████████████████████████████████████████████████▉                        | 699/999 [07:06<03:08,  1.59it/s]"
     ]
    },
    {
     "name": "stdout",
     "output_type": "stream",
     "text": [
      "page 700\n",
      "['올빼미', '진짜 덜덜 떨면서 봤어요!!!!  개레전드 존잼 추천합니댜', 10]\n"
     ]
    },
    {
     "name": "stderr",
     "output_type": "stream",
     "text": [
      "\r",
      " 70%|████████████████████████████████████████████████████████                        | 700/999 [07:06<03:07,  1.60it/s]"
     ]
    },
    {
     "name": "stdout",
     "output_type": "stream",
     "text": [
      "page 701\n",
      "['파리, 13구', '그렇게 시작하고, 그렇게 끝이 나고, 또다시 새롭게 시작하고....', 7]\n"
     ]
    },
    {
     "name": "stderr",
     "output_type": "stream",
     "text": [
      "\r",
      " 70%|████████████████████████████████████████████████████████▏                       | 701/999 [07:07<03:06,  1.60it/s]"
     ]
    },
    {
     "name": "stdout",
     "output_type": "stream",
     "text": [
      "page 702\n",
      "['탄생', '감동 그 자체 라고 말하고 싶은 영화', 10]\n"
     ]
    },
    {
     "name": "stderr",
     "output_type": "stream",
     "text": [
      "\r",
      " 70%|████████████████████████████████████████████████████████▏                       | 702/999 [07:08<03:06,  1.60it/s]"
     ]
    },
    {
     "name": "stdout",
     "output_type": "stream",
     "text": [
      "page 703\n",
      "['탄생', '비종교인이 보기에는 내용이나 시간대가 생략되어있고 중요사건들 위주의 내용구성이라 이해하기 어려울수있을것 같습니다. 좋은 영화감사드립니다.', 10]\n"
     ]
    },
    {
     "name": "stderr",
     "output_type": "stream",
     "text": [
      "\r",
      " 70%|████████████████████████████████████████████████████████▎                       | 703/999 [07:08<03:04,  1.60it/s]"
     ]
    },
    {
     "name": "stdout",
     "output_type": "stream",
     "text": [
      "page 704\n",
      "['압꾸정', '돌아가 아직 늦지않았어...', 1]\n"
     ]
    },
    {
     "name": "stderr",
     "output_type": "stream",
     "text": [
      "\r",
      " 70%|████████████████████████████████████████████████████████▍                       | 704/999 [07:09<03:04,  1.60it/s]"
     ]
    },
    {
     "name": "stdout",
     "output_type": "stream",
     "text": [
      "page 705\n",
      "['올빼미', '류준열 연기도쩔고 스토리도좋았습니다', 8]\n"
     ]
    },
    {
     "name": "stderr",
     "output_type": "stream",
     "text": [
      "\r",
      " 71%|████████████████████████████████████████████████████████▍                       | 705/999 [07:10<03:02,  1.61it/s]"
     ]
    },
    {
     "name": "stdout",
     "output_type": "stream",
     "text": [
      "page 706\n",
      "['압꾸정', '이 영화는 마블리님께서 캐리하셨습니다 제발 꼭 꼭 봐주세요 백번 천번 추천합니다..!!!', 10]\n"
     ]
    },
    {
     "name": "stderr",
     "output_type": "stream",
     "text": [
      "\r",
      " 71%|████████████████████████████████████████████████████████▌                       | 706/999 [07:10<03:02,  1.61it/s]"
     ]
    },
    {
     "name": "stdout",
     "output_type": "stream",
     "text": [
      "page 707\n",
      "['탄생', '조금 길긴 합니다만 별 생각없이 이야기 하는데로 주욱 따라가다보면 이런 저런 사건들도 신기하고 나름의 재미가 있네요. 볼거리도 은근히 있구요. ', 10]\n"
     ]
    },
    {
     "name": "stderr",
     "output_type": "stream",
     "text": [
      "\r",
      " 71%|████████████████████████████████████████████████████████▌                       | 707/999 [07:11<03:01,  1.61it/s]"
     ]
    },
    {
     "name": "stdout",
     "output_type": "stream",
     "text": [
      "page 708\n",
      "['리멤버', '현재를 살아가는 이들에게 역사를 어떻게 평가할 것인지 단도직입적으로 묻는다..메멘토와 그랜토리노의 결합 작품같은 느낌..^&amp;^', 7]\n"
     ]
    },
    {
     "name": "stderr",
     "output_type": "stream",
     "text": [
      "\r",
      " 71%|████████████████████████████████████████████████████████▋                       | 708/999 [07:11<03:00,  1.61it/s]"
     ]
    },
    {
     "name": "stdout",
     "output_type": "stream",
     "text": [
      "page 709\n",
      "['탄생', '일대기를 잘 그렸습니다. ', 10]\n"
     ]
    },
    {
     "name": "stderr",
     "output_type": "stream",
     "text": [
      "\r",
      " 71%|████████████████████████████████████████████████████████▊                       | 709/999 [07:12<03:00,  1.61it/s]"
     ]
    },
    {
     "name": "stdout",
     "output_type": "stream",
     "text": [
      "page 710\n",
      "['쥬라기 월드: 도미니언', '극장에서 1편 볼때 여자들 비명 소리로 가득했던 극장이 아직도 기억이 난다 1편 진짜 처음보는 공룡의 다이나믹한 움직임은 충격 그자체였지 이제 끝나는구나 그리고 꼬맹이 몇년사이에 엄청 이쁘게 컷네 우리나라대학 교수가 복원한 공룡이 이렇게 빛을 보네 삼지창', 8]\n"
     ]
    },
    {
     "name": "stderr",
     "output_type": "stream",
     "text": [
      "\r",
      " 71%|████████████████████████████████████████████████████████▊                       | 710/999 [07:13<02:59,  1.61it/s]"
     ]
    },
    {
     "name": "stdout",
     "output_type": "stream",
     "text": [
      "page 711\n",
      "['탄생', '19세기 세도정치 시기 신해박해, 신유박해, 기해박해 그리고 병오박해 때 참수형을 당한 우리 나라 최초의 신부 김대건의 이야기', 10]\n"
     ]
    },
    {
     "name": "stderr",
     "output_type": "stream",
     "text": [
      "\r",
      " 71%|████████████████████████████████████████████████████████▉                       | 711/999 [07:13<02:59,  1.60it/s]"
     ]
    },
    {
     "name": "stdout",
     "output_type": "stream",
     "text": [
      "page 712\n",
      "['탄생', '펼칠 이야기가 많아 영화보단 드라마가 더 나을 듯하지만 윤시윤의 연기로 눈물을 글썽이게 됨', 6]\n"
     ]
    },
    {
     "name": "stderr",
     "output_type": "stream",
     "text": [
      "\r",
      " 71%|█████████████████████████████████████████████████████████                       | 712/999 [07:14<02:58,  1.60it/s]"
     ]
    },
    {
     "name": "stdout",
     "output_type": "stream",
     "text": [
      "page 713\n",
      "['압꾸정', '개인적으로 재밌었음 볼만함', 8]\n"
     ]
    },
    {
     "name": "stderr",
     "output_type": "stream",
     "text": [
      "\r",
      " 71%|█████████████████████████████████████████████████████████                       | 713/999 [07:15<02:58,  1.60it/s]"
     ]
    },
    {
     "name": "stdout",
     "output_type": "stream",
     "text": [
      "page 714\n",
      "['올빼미', '오랜만에 괜찮은 사극풍 영화 본거같네요.중후반부터는 숨을 못쉼..연기가 너무 짱입니다', 10]\n"
     ]
    },
    {
     "name": "stderr",
     "output_type": "stream",
     "text": [
      "\r",
      " 71%|█████████████████████████████████████████████████████████▏                      | 714/999 [07:15<02:58,  1.60it/s]"
     ]
    },
    {
     "name": "stdout",
     "output_type": "stream",
     "text": [
      "page 715\n",
      "['블랙 아담', '스토리가 뭔지 모를 정도로 정신없다..  오로지 싸우는 액션의 CG만이 난무할뿐~', 6]\n"
     ]
    },
    {
     "name": "stderr",
     "output_type": "stream",
     "text": [
      "\r",
      " 72%|█████████████████████████████████████████████████████████▎                      | 715/999 [07:16<03:01,  1.56it/s]"
     ]
    },
    {
     "name": "stdout",
     "output_type": "stream",
     "text": [
      "page 716\n",
      "['올빼미', '내 어휘력에 한탄을 할 정도로 멋있는 영화다. 사랑에 빠진 날 용서하여라.', 10]\n"
     ]
    },
    {
     "name": "stderr",
     "output_type": "stream",
     "text": [
      "\r",
      " 72%|█████████████████████████████████████████████████████████▎                      | 716/999 [07:16<02:59,  1.57it/s]"
     ]
    },
    {
     "name": "stdout",
     "output_type": "stream",
     "text": [
      "page 717\n",
      "['올빼미', '다들 연기 개잘함 몰입 오짐 특히 유해진씨 럭키 개재밌게 봤었는데 여기선 누구세요..? 정도로 왕 연기 개잘하심 겁나 추천', 10]\n"
     ]
    },
    {
     "name": "stderr",
     "output_type": "stream",
     "text": [
      "\r",
      " 72%|█████████████████████████████████████████████████████████▍                      | 717/999 [07:17<02:57,  1.59it/s]"
     ]
    },
    {
     "name": "stdout",
     "output_type": "stream",
     "text": [
      "page 718\n",
      "['마일 22', '최근 나온 영화중 액션최고', 10]\n"
     ]
    },
    {
     "name": "stderr",
     "output_type": "stream",
     "text": [
      "\r",
      " 72%|█████████████████████████████████████████████████████████▍                      | 718/999 [07:18<02:57,  1.58it/s]"
     ]
    },
    {
     "name": "stdout",
     "output_type": "stream",
     "text": [
      "page 719\n",
      "['47 미터', '막바지 쯤 이야기만 좋았다... 나머지는 그닥... 역시 상어로는 공포감 주기가 힘들긴한거 같다. 하나도 안무서움 ㅡㅡ', 3]\n"
     ]
    },
    {
     "name": "stderr",
     "output_type": "stream",
     "text": [
      "\r",
      " 72%|█████████████████████████████████████████████████████████▌                      | 719/999 [07:18<02:57,  1.57it/s]"
     ]
    },
    {
     "name": "stdout",
     "output_type": "stream",
     "text": [
      "page 720\n",
      "['올빼미', '몰입감 있었어요 재미있어요', 10]\n"
     ]
    },
    {
     "name": "stderr",
     "output_type": "stream",
     "text": [
      "\r",
      " 72%|█████████████████████████████████████████████████████████▋                      | 720/999 [07:19<02:56,  1.58it/s]"
     ]
    },
    {
     "name": "stdout",
     "output_type": "stream",
     "text": [
      "page 721\n",
      "['오늘 밤, 세계에서 이 사랑이 사라진다 해도', '진짜 ㅈㄴ슬퍼요 너무 하', 10]\n"
     ]
    },
    {
     "name": "stderr",
     "output_type": "stream",
     "text": [
      "\r",
      " 72%|█████████████████████████████████████████████████████████▋                      | 721/999 [07:20<02:54,  1.59it/s]"
     ]
    },
    {
     "name": "stdout",
     "output_type": "stream",
     "text": [
      "page 722\n",
      "['탄생', '한국 최초의 신부님! 김대건 안드래아 신부님역할을너무 완벽하게 연기한 윤시윤배우 정말 최고입니다.사제가 되서 엄마와 만나는 장면!  마지막 순교한 장면에 뜨거운 눈물이 흘렀습니다.  ', 10]\n"
     ]
    },
    {
     "name": "stderr",
     "output_type": "stream",
     "text": [
      "\r",
      " 72%|█████████████████████████████████████████████████████████▊                      | 722/999 [07:20<02:53,  1.60it/s]"
     ]
    },
    {
     "name": "stdout",
     "output_type": "stream",
     "text": [
      "page 723\n",
      "['압꾸정', '마동석 캐릭터에 기댔지만 의외로 현실 세태를 날카롭게 풍자', 5]\n"
     ]
    },
    {
     "name": "stderr",
     "output_type": "stream",
     "text": [
      "\r",
      " 72%|█████████████████████████████████████████████████████████▉                      | 723/999 [07:21<02:52,  1.60it/s]"
     ]
    },
    {
     "name": "stdout",
     "output_type": "stream",
     "text": [
      "page 724\n",
      "['데블스 에드버킷', '이게 97년 영화라고 ? 와...', 10]\n"
     ]
    },
    {
     "name": "stderr",
     "output_type": "stream",
     "text": [
      "\r",
      " 72%|█████████████████████████████████████████████████████████▉                      | 724/999 [07:21<02:51,  1.60it/s]"
     ]
    },
    {
     "name": "stdout",
     "output_type": "stream",
     "text": [
      "page 725\n",
      "['말아', '심달기 배우의 발견!주목하게 될것 같네요영화 자체도 잔잔하게 힘이되는 영화!!너무 좋았어요!!', 10]\n"
     ]
    },
    {
     "name": "stderr",
     "output_type": "stream",
     "text": [
      "\r",
      " 73%|██████████████████████████████████████████████████████████                      | 725/999 [07:22<02:51,  1.60it/s]"
     ]
    },
    {
     "name": "stdout",
     "output_type": "stream",
     "text": [
      "page 726\n",
      "['고흐, 영원의 문에서', '그의 그림처럼 살아 숨쉬는 영상을 표현하기 위해 노력한 점에 박수.', 6]\n"
     ]
    },
    {
     "name": "stderr",
     "output_type": "stream",
     "text": [
      "\r",
      " 73%|██████████████████████████████████████████████████████████▏                     | 726/999 [07:23<02:51,  1.59it/s]"
     ]
    },
    {
     "name": "stdout",
     "output_type": "stream",
     "text": [
      "page 727\n",
      "['올빼미', '실화를 너무 각색하지 않고 있을 법한 인물을 넣어 몰입도가 정말 높았어요! 믿고 보는 주연 배우분들의 연기도 너무 좋았습니다.. 아무것도 모르고 봐서 그런지 몰라도 한 번 보면 절대 잊혀지지 않는 스토리라 정말 좋은 것 같아요??', 10]\n"
     ]
    },
    {
     "name": "stderr",
     "output_type": "stream",
     "text": [
      "\r",
      " 73%|██████████████████████████████████████████████████████████▏                     | 727/999 [07:23<02:50,  1.60it/s]"
     ]
    },
    {
     "name": "stdout",
     "output_type": "stream",
     "text": [
      "page 728\n",
      "['올빼미', '역사를 기반으로 한 영화 중에 손에 꼽힐 것 같다. 소재도 신선하고 유해진 배우님이 왕으로 나왔는데 너무 찰떡이었다. 여러번 봐도 좋을 영화가 될 것 같다', 10]\n"
     ]
    },
    {
     "name": "stderr",
     "output_type": "stream",
     "text": [
      "\r",
      " 73%|██████████████████████████████████████████████████████████▎                     | 728/999 [07:24<02:48,  1.61it/s]"
     ]
    },
    {
     "name": "stdout",
     "output_type": "stream",
     "text": [
      "page 729\n",
      "['탄생', '감동입니다가족영화 추천합니다', 10]\n"
     ]
    },
    {
     "name": "stderr",
     "output_type": "stream",
     "text": [
      "\r",
      " 73%|██████████████████████████████████████████████████████████▍                     | 729/999 [07:25<02:48,  1.60it/s]"
     ]
    },
    {
     "name": "stdout",
     "output_type": "stream",
     "text": [
      "page 730\n",
      "['본즈 앤 올', '배우들의 연기가 너무 좋았습니다', 10]\n"
     ]
    },
    {
     "name": "stderr",
     "output_type": "stream",
     "text": [
      "\r",
      " 73%|██████████████████████████████████████████████████████████▍                     | 730/999 [07:25<02:48,  1.60it/s]"
     ]
    },
    {
     "name": "stdout",
     "output_type": "stream",
     "text": [
      "page 731\n",
      "['세이레', '금기를 현대적으로 잘 접목', 7]\n"
     ]
    },
    {
     "name": "stderr",
     "output_type": "stream",
     "text": [
      "\r",
      " 73%|██████████████████████████████████████████████████████████▌                     | 731/999 [07:26<02:47,  1.60it/s]"
     ]
    },
    {
     "name": "stdout",
     "output_type": "stream",
     "text": [
      "page 732\n",
      "['한산 리덕스', '감독 심각하네....  이 정도면 새로 찍어서 붙여 넣기 한 건가 싶을 정도인데, 어떻게 이런 장면들을 편집 할 수가 있냐...;   ', 10]\n"
     ]
    },
    {
     "name": "stderr",
     "output_type": "stream",
     "text": [
      "\r",
      " 73%|██████████████████████████████████████████████████████████▌                     | 732/999 [07:26<02:46,  1.60it/s]"
     ]
    },
    {
     "name": "stdout",
     "output_type": "stream",
     "text": [
      "page 733\n",
      "['슬리피 할로우', '난 슬리피가 결혼해서 행복했으면 좋겠어', 9]\n"
     ]
    },
    {
     "name": "stderr",
     "output_type": "stream",
     "text": [
      "\r",
      " 73%|██████████████████████████████████████████████████████████▋                     | 733/999 [07:27<02:45,  1.60it/s]"
     ]
    },
    {
     "name": "stdout",
     "output_type": "stream",
     "text": [
      "page 734\n",
      "['올빼미', '118분 분량이 내게는 5분 분량이었어요~정말 대박이에요~', 10]\n"
     ]
    },
    {
     "name": "stderr",
     "output_type": "stream",
     "text": [
      "\r",
      " 73%|██████████████████████████████████████████████████████████▊                     | 734/999 [07:28<02:49,  1.57it/s]"
     ]
    },
    {
     "name": "stdout",
     "output_type": "stream",
     "text": [
      "page 735\n",
      "['올빼미', '재밋게잘봤습니다심장 쫄깃쫄깃 ', 10]\n"
     ]
    },
    {
     "name": "stderr",
     "output_type": "stream",
     "text": [
      "\r",
      " 74%|██████████████████████████████████████████████████████████▊                     | 735/999 [07:28<02:48,  1.57it/s]"
     ]
    },
    {
     "name": "stdout",
     "output_type": "stream",
     "text": [
      "page 736\n",
      "['탑', '공허한 말, 쌓이는 업보', 8]\n"
     ]
    },
    {
     "name": "stderr",
     "output_type": "stream",
     "text": [
      "\r",
      " 74%|██████████████████████████████████████████████████████████▉                     | 736/999 [07:29<02:47,  1.57it/s]"
     ]
    },
    {
     "name": "stdout",
     "output_type": "stream",
     "text": [
      "page 737\n",
      "['탄생', '김대건 신부가 세례를 받을 때부터 이상하게 눈물이 났어요. 너무 허무하게 죽음을 당했다는것이 믿기지 않았습니다.', 8]\n"
     ]
    },
    {
     "name": "stderr",
     "output_type": "stream",
     "text": [
      "\r",
      " 74%|███████████████████████████████████████████████████████████                     | 737/999 [07:30<02:44,  1.59it/s]"
     ]
    },
    {
     "name": "stdout",
     "output_type": "stream",
     "text": [
      "page 738\n",
      "['올빼미', '완전 짱~~눈을 땔수가 없을 만큼 내가 스크린속으로 빠졌네요~시간이 아깝지 않았어요~류준열 맹인연기 짱~~모든 연기자들 모두 멋진연기~~탄탄한 스토리~~몇번을 보고 싶은 영화였습니다.', 10]\n"
     ]
    },
    {
     "name": "stderr",
     "output_type": "stream",
     "text": [
      "\r",
      " 74%|███████████████████████████████████████████████████████████                     | 738/999 [07:30<02:44,  1.59it/s]"
     ]
    },
    {
     "name": "stdout",
     "output_type": "stream",
     "text": [
      "page 739\n",
      "['올빼미', '몇일전에 봤는데도 아직까지 여운이 남아있습니다', 10]\n"
     ]
    },
    {
     "name": "stderr",
     "output_type": "stream",
     "text": [
      "\r",
      " 74%|███████████████████████████████████████████████████████████▏                    | 739/999 [07:31<02:43,  1.59it/s]"
     ]
    },
    {
     "name": "stdout",
     "output_type": "stream",
     "text": [
      "page 740\n",
      "['올빼미', '긴장감 없는 전개, 어눌한 연출과 연기', 5]\n"
     ]
    },
    {
     "name": "stderr",
     "output_type": "stream",
     "text": [
      "\r",
      " 74%|███████████████████████████████████████████████████████████▎                    | 740/999 [07:32<02:42,  1.60it/s]"
     ]
    },
    {
     "name": "stdout",
     "output_type": "stream",
     "text": [
      "page 741\n",
      "['올빼미', '오랜만에 너무 재밌는 영화 봤습니다', 10]\n"
     ]
    },
    {
     "name": "stderr",
     "output_type": "stream",
     "text": [
      "\r",
      " 74%|███████████████████████████████████████████████████████████▎                    | 741/999 [07:32<02:41,  1.60it/s]"
     ]
    },
    {
     "name": "stdout",
     "output_type": "stream",
     "text": [
      "page 742\n",
      "['극장판 가면라이더: 세이버X젠카이저 슈퍼히어로 전기', '가면라이더와 슈퍼전대와 함께 살아갔는데몇년만에 극장에서 개봉해서 눈물나게 반가웠는데엄청 재밌는 극장판이 개봉해서 더 눈물났네요스토리도 정말 좋고 뽕차고 게스트들 다 나오고 엔딩곡에다가 그동안 역사들 보여주는 거 까지 완벽', 10]\n"
     ]
    },
    {
     "name": "stderr",
     "output_type": "stream",
     "text": [
      "\r",
      " 74%|███████████████████████████████████████████████████████████▍                    | 742/999 [07:33<02:40,  1.60it/s]"
     ]
    },
    {
     "name": "stdout",
     "output_type": "stream",
     "text": [
      "page 743\n",
      "['오늘 밤, 세계에서 이 사랑이 사라진다 해도', '잔잔하게 재밌었음', 8]\n"
     ]
    },
    {
     "name": "stderr",
     "output_type": "stream",
     "text": [
      "\r",
      " 74%|███████████████████████████████████████████████████████████▍                    | 743/999 [07:33<02:40,  1.60it/s]"
     ]
    },
    {
     "name": "stdout",
     "output_type": "stream",
     "text": [
      "page 744\n",
      "['탄생', '연출 너무 후지다 좋게 말하면 옛스럽다. 김대건 신부의 고난과 역경을 뒤로 한 채 영화관 탈주각 잡기 위해 애쓰는 나를 보게 된다. ', 6]\n"
     ]
    },
    {
     "name": "stderr",
     "output_type": "stream",
     "text": [
      "\r",
      " 74%|███████████████████████████████████████████████████████████▌                    | 744/999 [07:34<02:39,  1.60it/s]"
     ]
    },
    {
     "name": "stdout",
     "output_type": "stream",
     "text": [
      "page 745\n",
      "['올빼미', '실화를 정말 잘 각색한 영화네요! 실제로 있었을법한 인물이라 몰입이 잘 됐어요 잘 봤습니다:) ', 10]\n"
     ]
    },
    {
     "name": "stderr",
     "output_type": "stream",
     "text": [
      "\r",
      " 75%|███████████████████████████████████████████████████████████▋                    | 745/999 [07:35<02:39,  1.60it/s]"
     ]
    },
    {
     "name": "stdout",
     "output_type": "stream",
     "text": [
      "page 746\n",
      "['지저스 크라이스트 슈퍼스타', '예수의 인간적 고뇌와 슬픔을 현대적으로 표현한게 파격이었음. 특히 애증관계인 예수와 유다의 말다툼은 언제봐도 가슴아플정도', 10]\n"
     ]
    },
    {
     "name": "stderr",
     "output_type": "stream",
     "text": [
      "\r",
      " 75%|███████████████████████████████████████████████████████████▋                    | 746/999 [07:35<02:37,  1.60it/s]"
     ]
    },
    {
     "name": "stdout",
     "output_type": "stream",
     "text": [
      "page 747\n",
      "['올빼미', '넘 연기도잘하고 집중하고봤습니다', 10]\n"
     ]
    },
    {
     "name": "stderr",
     "output_type": "stream",
     "text": [
      "\r",
      " 75%|███████████████████████████████████████████████████████████▊                    | 747/999 [07:36<02:37,  1.60it/s]"
     ]
    },
    {
     "name": "stdout",
     "output_type": "stream",
     "text": [
      "page 748\n",
      "['아웃 오브 아프리카', '데니스가 죽기 전 춤을 추던 장면에서 눈물이 나더군요 . ', 10]\n"
     ]
    },
    {
     "name": "stderr",
     "output_type": "stream",
     "text": [
      "\r",
      " 75%|███████████████████████████████████████████████████████████▉                    | 748/999 [07:37<02:37,  1.59it/s]"
     ]
    },
    {
     "name": "stdout",
     "output_type": "stream",
     "text": [
      "page 749\n",
      "['올빼미', '티비 드라마보다 못해요 제작비 하나도 안 들이고 초짜 감독이 만든 영화보다도 못해요 결론은 보면 후회합니다 시나리오도 부족하고 정말 후회합니다', 4]\n"
     ]
    },
    {
     "name": "stderr",
     "output_type": "stream",
     "text": [
      "\r",
      " 75%|███████████████████████████████████████████████████████████▉                    | 749/999 [07:37<02:36,  1.60it/s]"
     ]
    },
    {
     "name": "stdout",
     "output_type": "stream",
     "text": [
      "page 750\n",
      "['행복을 찾아서', '고마워요', 10]\n"
     ]
    },
    {
     "name": "stderr",
     "output_type": "stream",
     "text": [
      "\r",
      " 75%|████████████████████████████████████████████████████████████                    | 750/999 [07:38<02:35,  1.60it/s]"
     ]
    },
    {
     "name": "stdout",
     "output_type": "stream",
     "text": [
      "page 751\n",
      "['올빼미', '개재밋음요 감흥없는편인데 광해보다  재밋름', 10]\n"
     ]
    },
    {
     "name": "stderr",
     "output_type": "stream",
     "text": [
      "\r",
      " 75%|████████████████████████████████████████████████████████████▏                   | 751/999 [07:38<02:34,  1.60it/s]"
     ]
    },
    {
     "name": "stdout",
     "output_type": "stream",
     "text": [
      "page 752\n",
      "['본즈 앤 올', '첫사랑의 강렬함..사랑 앞에는 거칠것이 없다.', 10]\n"
     ]
    },
    {
     "name": "stderr",
     "output_type": "stream",
     "text": [
      "\r",
      " 75%|████████████████████████████████████████████████████████████▏                   | 752/999 [07:39<02:37,  1.57it/s]"
     ]
    },
    {
     "name": "stdout",
     "output_type": "stream",
     "text": [
      "page 753\n",
      "['탄생', '참 감동적이고 신앙인이 아닌 모든 국민들에게 중요한 우리 근대사를 열어젖힌 젊은 청년 김대건을 통해 현재   를 힘들게 살아가는 모든 젊은이들에게 희망을 주는 감동 서사극입니다!완전 강추', 10]\n"
     ]
    },
    {
     "name": "stderr",
     "output_type": "stream",
     "text": [
      "\r",
      " 75%|████████████████████████████████████████████████████████████▎                   | 753/999 [07:40<02:36,  1.57it/s]"
     ]
    },
    {
     "name": "stdout",
     "output_type": "stream",
     "text": [
      "page 754\n",
      "['스크림', '아무것도 새로울것 없는 그저 재탕 슬래셔물, 정체가 드러난 악당이 전투력 급너프 되는 어색한점도 여전하다.', 4]\n"
     ]
    },
    {
     "name": "stderr",
     "output_type": "stream",
     "text": [
      "\r",
      " 75%|████████████████████████████████████████████████████████████▍                   | 754/999 [07:40<02:35,  1.58it/s]"
     ]
    },
    {
     "name": "stdout",
     "output_type": "stream",
     "text": [
      "page 755\n",
      "['압꾸정', '재미있어요~ 가볍게 보기 좋은 영화', 10]\n"
     ]
    },
    {
     "name": "stderr",
     "output_type": "stream",
     "text": [
      "\r",
      " 76%|████████████████████████████████████████████████████████████▍                   | 755/999 [07:41<02:33,  1.59it/s]"
     ]
    },
    {
     "name": "stdout",
     "output_type": "stream",
     "text": [
      "page 756\n",
      "['압꾸정', '영화 끝나고 여자친구한테 재밌었어? 물어봤을때 대답이 바로 안 나온 첫 영화.진짜 사랑하는 우리 마동석 형님이 어떤 포인트를 보고 이 영화를 찍기로 마음먹으신지 궁금한 영화.2년 동안 극장가서 본 영화중 제일 지루했던 영화..', 4]\n"
     ]
    },
    {
     "name": "stderr",
     "output_type": "stream",
     "text": [
      "\r",
      " 76%|████████████████████████████████████████████████████████████▌                   | 756/999 [07:42<02:32,  1.59it/s]"
     ]
    },
    {
     "name": "stdout",
     "output_type": "stream",
     "text": [
      "page 757\n",
      "['압꾸정', '마동석 나온영화라 재미 있을줄알았는데 지루하고 하품나옴  진짜 재미가없음', 3]\n"
     ]
    },
    {
     "name": "stderr",
     "output_type": "stream",
     "text": [
      "\r",
      " 76%|████████████████████████████████████████████████████████████▌                   | 757/999 [07:42<02:32,  1.59it/s]"
     ]
    },
    {
     "name": "stdout",
     "output_type": "stream",
     "text": [
      "page 758\n",
      "['올빼미', '영화가 보고싶은데 뭘 볼지 모르겠다면 무조건 이걸 추천합니다 ', 9]\n"
     ]
    },
    {
     "name": "stderr",
     "output_type": "stream",
     "text": [
      "\r",
      " 76%|████████████████████████████████████████████████████████████▋                   | 758/999 [07:43<02:31,  1.59it/s]"
     ]
    },
    {
     "name": "stdout",
     "output_type": "stream",
     "text": [
      "page 759\n",
      "['한산: 용의 출현', '이순신 장군 관련 영화는 항상 전투 장면이 보통은 해서 보기 좋아요', 7]\n"
     ]
    },
    {
     "name": "stderr",
     "output_type": "stream",
     "text": [
      "\r",
      " 76%|████████████████████████████████████████████████████████████▊                   | 759/999 [07:43<02:31,  1.58it/s]"
     ]
    },
    {
     "name": "stdout",
     "output_type": "stream",
     "text": [
      "page 760\n",
      "['한산 리덕스', '그래픽은 좀 아쉬웠습니다초반배우들 연기는 좋았어요', 8]\n"
     ]
    },
    {
     "name": "stderr",
     "output_type": "stream",
     "text": [
      "\r",
      " 76%|████████████████████████████████████████████████████████████▊                   | 760/999 [07:44<02:30,  1.59it/s]"
     ]
    },
    {
     "name": "stdout",
     "output_type": "stream",
     "text": [
      "page 761\n",
      "['올빼미', '긴장감 넘치고 넘 재밌었습니다', 8]\n"
     ]
    },
    {
     "name": "stderr",
     "output_type": "stream",
     "text": [
      "\r",
      " 76%|████████████████████████████████████████████████████████████▉                   | 761/999 [07:45<02:29,  1.59it/s]"
     ]
    },
    {
     "name": "stdout",
     "output_type": "stream",
     "text": [
      "page 762\n",
      "['올빼미', '재미있음/긴장도 쩔음.다시보고싶네', 10]\n"
     ]
    },
    {
     "name": "stderr",
     "output_type": "stream",
     "text": [
      "\r",
      " 76%|█████████████████████████████████████████████████████████████                   | 762/999 [07:45<02:29,  1.58it/s]"
     ]
    },
    {
     "name": "stdout",
     "output_type": "stream",
     "text": [
      "page 763\n",
      "['원피스 필름 레드', '오오오오! 오오오오!', 10]\n"
     ]
    },
    {
     "name": "stderr",
     "output_type": "stream",
     "text": [
      "\r",
      " 76%|█████████████████████████████████████████████████████████████                   | 763/999 [07:46<02:28,  1.59it/s]"
     ]
    },
    {
     "name": "stdout",
     "output_type": "stream",
     "text": [
      "page 764\n",
      "['헤어질 결심', '극단적인 소재를 미학적으로 표현하는 박찬욱 감독님의 멜로 장인이 될 결심.', 10]\n"
     ]
    },
    {
     "name": "stderr",
     "output_type": "stream",
     "text": [
      "\r",
      " 76%|█████████████████████████████████████████████████████████████▏                  | 764/999 [07:47<02:27,  1.59it/s]"
     ]
    },
    {
     "name": "stdout",
     "output_type": "stream",
     "text": [
      "page 765\n",
      "['압꾸정', '확실히 재밌는 영화다 한국의현실적인 명분을 만드는 과정이 사람들의 피해의식이 있을법도 한다. 마지막 끝의 마무리가 또 애매하기도하구', 10]\n"
     ]
    },
    {
     "name": "stderr",
     "output_type": "stream",
     "text": [
      "\r",
      " 77%|█████████████████████████████████████████████████████████████▎                  | 765/999 [07:47<02:27,  1.59it/s]"
     ]
    },
    {
     "name": "stdout",
     "output_type": "stream",
     "text": [
      "page 766\n",
      "['널 기다리며', '잼있게봤습니다 최근본거중에제일잼있네요', 10]\n"
     ]
    },
    {
     "name": "stderr",
     "output_type": "stream",
     "text": [
      "\r",
      " 77%|█████████████████████████████████████████████████████████████▎                  | 766/999 [07:48<02:26,  1.59it/s]"
     ]
    },
    {
     "name": "stdout",
     "output_type": "stream",
     "text": [
      "page 767\n",
      "['올빼미', '평점 7.5 적절한듯 합니다. 후반부 전개가 이상함...', 1]\n"
     ]
    },
    {
     "name": "stderr",
     "output_type": "stream",
     "text": [
      "\r",
      " 77%|█████████████████████████████████████████████████████████████▍                  | 767/999 [07:48<02:24,  1.60it/s]"
     ]
    },
    {
     "name": "stdout",
     "output_type": "stream",
     "text": [
      "page 768\n",
      "['닥터 스트레인지: 대혼돈의 멀티버스', '마블에서 제작하는 건 보통의 오락영화는 되는 듯해서 그냥 보기 좋네요. ', 6]\n"
     ]
    },
    {
     "name": "stderr",
     "output_type": "stream",
     "text": [
      "\r",
      " 77%|█████████████████████████████████████████████████████████████▌                  | 768/999 [07:49<02:25,  1.59it/s]"
     ]
    },
    {
     "name": "stdout",
     "output_type": "stream",
     "text": [
      "page 769\n",
      "['올빼미', '스토리도 잘 짰고 연출이나 연기도 너무 좋아요 재밌었어요 :)', 10]\n"
     ]
    },
    {
     "name": "stderr",
     "output_type": "stream",
     "text": [
      "\r",
      " 77%|█████████████████████████████████████████████████████████████▌                  | 769/999 [07:50<02:24,  1.60it/s]"
     ]
    },
    {
     "name": "stdout",
     "output_type": "stream",
     "text": [
      "page 770\n",
      "['폴: 600미터', '누군가에게는 뻔한 이야기이자 킬링타임용 영화로도 비춰지겠지만 저에게는 감동스럽고 스릴있었으며 여러 생각이 드는 연화였습니다.많이 알려지지 못하여 아쉽지만 제 인생영화로 머릿속에 남을듯해요.', 10]\n"
     ]
    },
    {
     "name": "stderr",
     "output_type": "stream",
     "text": [
      "\r",
      " 77%|█████████████████████████████████████████████████████████████▋                  | 770/999 [07:50<02:24,  1.59it/s]"
     ]
    },
    {
     "name": "stdout",
     "output_type": "stream",
     "text": [
      "page 771\n",
      "['올빼미', '연기력 최고입니다.♡♡', 10]\n"
     ]
    },
    {
     "name": "stderr",
     "output_type": "stream",
     "text": [
      "\r",
      " 77%|█████████████████████████████████████████████████████████████▋                  | 771/999 [07:51<02:26,  1.55it/s]"
     ]
    },
    {
     "name": "stdout",
     "output_type": "stream",
     "text": [
      "page 772\n",
      "['탄생', '몽골인 여자가 말 타고 오는데 설레네', 8]\n"
     ]
    },
    {
     "name": "stderr",
     "output_type": "stream",
     "text": [
      "\r",
      " 77%|█████████████████████████████████████████████████████████████▊                  | 772/999 [07:52<02:24,  1.57it/s]"
     ]
    },
    {
     "name": "stdout",
     "output_type": "stream",
     "text": [
      "page 773\n",
      "['파이어버드', '실화라서 할 말 없지만 스토리가 참.. 배우들은 좋습니다', 4]\n"
     ]
    },
    {
     "name": "stderr",
     "output_type": "stream",
     "text": [
      "\r",
      " 77%|█████████████████████████████████████████████████████████████▉                  | 773/999 [07:52<02:23,  1.57it/s]"
     ]
    },
    {
     "name": "stdout",
     "output_type": "stream",
     "text": [
      "page 774\n",
      "['원피스 필름 레드', '스토리 자체가 샹크스과 우타의 이야기에 맞춰져 있으나 큰재미가 없고 번잡함.', 4]\n"
     ]
    },
    {
     "name": "stderr",
     "output_type": "stream",
     "text": [
      "\r",
      " 77%|█████████████████████████████████████████████████████████████▉                  | 774/999 [07:53<02:22,  1.58it/s]"
     ]
    },
    {
     "name": "stdout",
     "output_type": "stream",
     "text": [
      "page 775\n",
      "['올빼미', '올해 봤던 한국 영화 중 가장 만족스러운 영화였어요!! 감독님의 첫 장편 영화 데뷔작이라는 게 믿기지 않을만큼 연출과 스토리가 깔끔합니다! 무엇보다도 배우분들의 명품 연기가 과몰입을 부추겨요...유해진 배우는 평소 예능으로 유머러스한 이미지가 강했는데 이번에 인조 연기 너무 미쳤습니다!!!n회차 돌 것만 같은 영화예요!! 다들 꼭 보세요! ', 10]\n"
     ]
    },
    {
     "name": "stderr",
     "output_type": "stream",
     "text": [
      "\r",
      " 78%|██████████████████████████████████████████████████████████████                  | 775/999 [07:54<02:21,  1.58it/s]"
     ]
    },
    {
     "name": "stdout",
     "output_type": "stream",
     "text": [
      "page 776\n",
      "['올빼미', '역사영화 기대하는 사람들 보지 마세요 판타지영화입니다!  1. 사극을 기대하고 갔는데 판타지영화였음  2. 중간중간 깨는 완연한 현대말투 (세자빈 대사 삑사리날 때 깜짝)  3. 전형적인 선악구도에 마지막 권선징악까지 완벽  4. 스토리 개연성 부실한 듯함... (영의정 대체 뭐임?? 무슨 역할임??)  소현세자 독살 음모론에 선악구도를 끼얹은 전형적인 영화라고 생각들어요.  그리고 역사영화 제작하시는 분들 앞으로 말투는 어찌 못해도 용어는 제대로 차용했으면 좋겠어요.계속 강빈이라고 호칭하던데 빈궁, 세자빈이 옳지 않을까 싶어요.... (이건 개인적인 바람이에요) ', 4]\n"
     ]
    },
    {
     "name": "stderr",
     "output_type": "stream",
     "text": [
      "\r",
      " 78%|██████████████████████████████████████████████████████████████▏                 | 776/999 [07:54<02:20,  1.59it/s]"
     ]
    },
    {
     "name": "stdout",
     "output_type": "stream",
     "text": [
      "page 777\n",
      "['탄생', '재조명되는 김대건신부에 대해 알게 되어 감동적이었어요. 입소문 타서 흥행 이어나갔으면 하네요.', 10]\n"
     ]
    },
    {
     "name": "stderr",
     "output_type": "stream",
     "text": [
      "\r",
      " 78%|██████████████████████████████████████████████████████████████▏                 | 777/999 [07:55<02:19,  1.59it/s]"
     ]
    },
    {
     "name": "stdout",
     "output_type": "stream",
     "text": [
      "page 778\n",
      "['캐리비안의 해적: 죽은 자는 말이 없다', '1~4편 중 어느하나에 비교해도 확실히 아쉬움.. 잭스패로우 캐릭터의 매력이 제대로 보이지 않았고 무슨 마블영화에 나올법한 너무나도 판타지스러운 전개.. ㅠㅜ 그래도 앞전편들은 나름 재미있게 이해할 수 있는부분인데 좀 억지스러운 요소가 많았음 그리고 로맨스는 그만.. 새로 나온 인물들도 그닥임 그래도 어린 잭스패로우는 멋있게 나옴 제발 6편 나왔으면 ㅜㅜ', 7]\n"
     ]
    },
    {
     "name": "stderr",
     "output_type": "stream",
     "text": [
      "\r",
      " 78%|██████████████████████████████████████████████████████████████▎                 | 778/999 [07:55<02:18,  1.59it/s]"
     ]
    },
    {
     "name": "stdout",
     "output_type": "stream",
     "text": [
      "page 779\n",
      "['34번가의 기적', '이 명작을 이제서야 보다니… 최고의 크리스마스 영화중 하나입니다. ', 10]\n"
     ]
    },
    {
     "name": "stderr",
     "output_type": "stream",
     "text": [
      "\r",
      " 78%|██████████████████████████████████████████████████████████████▍                 | 779/999 [07:56<02:18,  1.59it/s]"
     ]
    },
    {
     "name": "stdout",
     "output_type": "stream",
     "text": [
      "page 780\n",
      "['압꾸정', '와.... 너무 재미없어요....', 2]\n"
     ]
    },
    {
     "name": "stderr",
     "output_type": "stream",
     "text": [
      "\r",
      " 78%|██████████████████████████████████████████████████████████████▍                 | 780/999 [07:57<02:18,  1.58it/s]"
     ]
    },
    {
     "name": "stdout",
     "output_type": "stream",
     "text": [
      "page 781\n",
      "['탄생', '최고입니다. 보는 내내 눈물이 마르지 않았어요', 10]\n"
     ]
    },
    {
     "name": "stderr",
     "output_type": "stream",
     "text": [
      "\r",
      " 78%|██████████████████████████████████████████████████████████████▌                 | 781/999 [07:57<02:17,  1.58it/s]"
     ]
    },
    {
     "name": "stdout",
     "output_type": "stream",
     "text": [
      "page 782\n",
      "['탄생', '배우들의 연기가 나쁘지않았던거같네요', 8]\n"
     ]
    },
    {
     "name": "stderr",
     "output_type": "stream",
     "text": [
      "\r",
      " 78%|██████████████████████████████████████████████████████████████▌                 | 782/999 [07:58<02:16,  1.59it/s]"
     ]
    },
    {
     "name": "stdout",
     "output_type": "stream",
     "text": [
      "page 783\n",
      "['올빼미', '스릴러물 사극이라서 즐거운 마음으로 극장에 갔다.보고나서 후회 할 영화 일 줄 알았지만 ,연출과 극 중 모든 배우들의 연기가 후반까지 빠지는 곳 없이 채웠다 스토리 전개도 흥미 진진 했다 .상암에서 영화 관람을 했는데 ,무대인사 때 감독님이 상암동에 자주 있어서 상암동 한 카페에서 시나리오를 쓰셨다고 하여 정말 신기하고 멋있고 존경스러웠다. 크 특히 올빼미에서 아역배우의 연기가 눈에 제일 띄었다 ', 8]\n"
     ]
    },
    {
     "name": "stderr",
     "output_type": "stream",
     "text": [
      "\r",
      " 78%|██████████████████████████████████████████████████████████████▋                 | 783/999 [07:59<02:16,  1.58it/s]"
     ]
    },
    {
     "name": "stdout",
     "output_type": "stream",
     "text": [
      "page 784\n",
      "['압꾸정', '압꾸정을 본후 올빼미를 보니 개안된 느낌..', 1]\n"
     ]
    },
    {
     "name": "stderr",
     "output_type": "stream",
     "text": [
      "\r",
      " 78%|██████████████████████████████████████████████████████████████▊                 | 784/999 [07:59<02:16,  1.58it/s]"
     ]
    },
    {
     "name": "stdout",
     "output_type": "stream",
     "text": [
      "page 785\n",
      "['압꾸정', '너무재밌었습니다.!!!', 10]\n"
     ]
    },
    {
     "name": "stderr",
     "output_type": "stream",
     "text": [
      "\r",
      " 79%|██████████████████████████████████████████████████████████████▊                 | 785/999 [08:00<02:15,  1.58it/s]"
     ]
    },
    {
     "name": "stdout",
     "output_type": "stream",
     "text": [
      "page 786\n",
      "['올빼미', '기대안하고봤는데 진짜 너무재미있게봤어요!! ', 10]\n"
     ]
    },
    {
     "name": "stderr",
     "output_type": "stream",
     "text": [
      "\r",
      " 79%|██████████████████████████████████████████████████████████████▉                 | 786/999 [08:01<02:15,  1.57it/s]"
     ]
    },
    {
     "name": "stdout",
     "output_type": "stream",
     "text": [
      "page 787\n",
      "['올빼미', '최근 본 영화중에 가장 재밌었어요 !', 10]\n"
     ]
    },
    {
     "name": "stderr",
     "output_type": "stream",
     "text": [
      "\r",
      " 79%|███████████████████████████████████████████████████████████████                 | 787/999 [08:01<02:14,  1.58it/s]"
     ]
    },
    {
     "name": "stdout",
     "output_type": "stream",
     "text": [
      "page 788\n",
      "['올빼미', '꼭 보세요.기대하고 봤는데 기대이상입니다.', 10]\n"
     ]
    },
    {
     "name": "stderr",
     "output_type": "stream",
     "text": [
      "\r",
      " 79%|███████████████████████████████████████████████████████████████                 | 788/999 [08:02<02:13,  1.58it/s]"
     ]
    },
    {
     "name": "stdout",
     "output_type": "stream",
     "text": [
      "page 789\n",
      "['종말의 끝', '배우분들 연기 너무 잘하고 몰입도 높게 볼 수 있었는데 평점 무슨 일인가요…!!', 10]\n"
     ]
    },
    {
     "name": "stderr",
     "output_type": "stream",
     "text": [
      "\r",
      " 79%|███████████████████████████████████████████████████████████████▏                | 789/999 [08:02<02:16,  1.54it/s]"
     ]
    },
    {
     "name": "stdout",
     "output_type": "stream",
     "text": [
      "page 790\n",
      "['올빼미', '진짜 박진감 넘치는 재미와 감동 반전 너무좋았음', 10]\n"
     ]
    },
    {
     "name": "stderr",
     "output_type": "stream",
     "text": [
      "\r",
      " 79%|███████████████████████████████████████████████████████████████▎                | 790/999 [08:03<02:14,  1.56it/s]"
     ]
    },
    {
     "name": "stdout",
     "output_type": "stream",
     "text": [
      "page 791\n",
      "['만인의 연인', '잔잔하지만 몰입도 있게 볼 수 있는 영화', 10]\n"
     ]
    },
    {
     "name": "stderr",
     "output_type": "stream",
     "text": [
      "\r",
      " 79%|███████████████████████████████████████████████████████████████▎                | 791/999 [08:04<02:12,  1.57it/s]"
     ]
    },
    {
     "name": "stdout",
     "output_type": "stream",
     "text": [
      "page 792\n",
      "['올빼미', '지립니다... 두 번 보세요..', 10]\n"
     ]
    },
    {
     "name": "stderr",
     "output_type": "stream",
     "text": [
      "\r",
      " 79%|███████████████████████████████████████████████████████████████▍                | 792/999 [08:04<02:11,  1.58it/s]"
     ]
    },
    {
     "name": "stdout",
     "output_type": "stream",
     "text": [
      "page 793\n",
      "['더 폰', '손현주 연기 잘했는데 영화가 많이 아쉽네...', 5]\n"
     ]
    },
    {
     "name": "stderr",
     "output_type": "stream",
     "text": [
      "\r",
      " 79%|███████████████████████████████████████████████████████████████▌                | 793/999 [08:05<02:10,  1.58it/s]"
     ]
    },
    {
     "name": "stdout",
     "output_type": "stream",
     "text": [
      "page 794\n",
      "['올빼미', '연출.영상.연기 너무 대단했습니다역시 유해진배우입니다소현세자역 김성철배우님 사극도 좋네요', 10]\n"
     ]
    },
    {
     "name": "stderr",
     "output_type": "stream",
     "text": [
      "\r",
      " 79%|███████████████████████████████████████████████████████████████▌                | 794/999 [08:06<02:08,  1.59it/s]"
     ]
    },
    {
     "name": "stdout",
     "output_type": "stream",
     "text": [
      "page 795\n",
      "['에브리씽 에브리웨어 올 앳 원스', '나의 현재는 모든 실패의 과거를 지나 모든 성공의 미래를 위한 것', 9]\n"
     ]
    },
    {
     "name": "stderr",
     "output_type": "stream",
     "text": [
      "\r",
      " 80%|███████████████████████████████████████████████████████████████▋                | 795/999 [08:06<02:07,  1.60it/s]"
     ]
    },
    {
     "name": "stdout",
     "output_type": "stream",
     "text": [
      "page 796\n",
      "['백엔의 사랑', '여배우의 열연에 찬사를.', 7]\n"
     ]
    },
    {
     "name": "stderr",
     "output_type": "stream",
     "text": [
      "\r",
      " 80%|███████████████████████████████████████████████████████████████▋                | 796/999 [08:07<02:07,  1.60it/s]"
     ]
    },
    {
     "name": "stdout",
     "output_type": "stream",
     "text": [
      "page 797\n",
      "['올빼미', '중반부 긴장감이 좋았다.', 7]\n"
     ]
    },
    {
     "name": "stderr",
     "output_type": "stream",
     "text": [
      "\r",
      " 80%|███████████████████████████████████████████████████████████████▊                | 797/999 [08:07<02:06,  1.60it/s]"
     ]
    },
    {
     "name": "stdout",
     "output_type": "stream",
     "text": [
      "page 798\n",
      "['샹치와 텐 링즈의 전설', '개연성이 너무없음. 갑자기 용이 왜튀어나옴?  극중 가장 센 빌런인 큰 박쥐같은 놈은 대사 몇마디로 설정이 되는 것도 말이안됨. 샹치 첫편인데 샹치 개인고유의 특성을 살리는 방향으로 스토리방향을 짰으면 눈은 덜즐거웠어도 이후 스토리를 위해 더 좋았을거 같음. 이런 허접한 스토리에 양조위 양자경을 데려다 쓰다니 아깝다', 6]\n"
     ]
    },
    {
     "name": "stderr",
     "output_type": "stream",
     "text": [
      "\r",
      " 80%|███████████████████████████████████████████████████████████████▉                | 798/999 [08:08<02:06,  1.59it/s]"
     ]
    },
    {
     "name": "stdout",
     "output_type": "stream",
     "text": [
      "page 799\n",
      "['어느 가족', '가족이라는 구성원의 재정의.', 8]\n"
     ]
    },
    {
     "name": "stderr",
     "output_type": "stream",
     "text": [
      "\r",
      " 80%|███████████████████████████████████████████████████████████████▉                | 799/999 [08:09<02:05,  1.59it/s]"
     ]
    },
    {
     "name": "stdout",
     "output_type": "stream",
     "text": [
      "page 800\n",
      "['오늘 밤, 세계에서 이 사랑이 사라진다 해도', '영화를 보면서 운 적이 많이 없는데 배우들의 연기, 스토리, 연출이 모두 울컥하게 만든 영화같다..막 펑펑까지는 아닌데 보다보면 눈물이 주루룩 흐르는 영화 인생영화인듯..', 10]\n"
     ]
    },
    {
     "name": "stderr",
     "output_type": "stream",
     "text": [
      "\r",
      " 80%|████████████████████████████████████████████████████████████████                | 800/999 [08:09<02:05,  1.59it/s]"
     ]
    },
    {
     "name": "stdout",
     "output_type": "stream",
     "text": [
      "page 801\n",
      "['올빼미', '재밌어요 결말이 아쉽지만', 9]\n"
     ]
    },
    {
     "name": "stderr",
     "output_type": "stream",
     "text": [
      "\r",
      " 80%|████████████████████████████████████████████████████████████████▏               | 801/999 [08:10<02:04,  1.59it/s]"
     ]
    },
    {
     "name": "stdout",
     "output_type": "stream",
     "text": [
      "page 802\n",
      "['올빼미', '처음엔 약간 지루한 부분이 있었지만 뒤로 갈수록 흥미진진하여 숨죽이고 봤어요.그 어떤 스릴러영화보다  무섭더라구요.전 개인적으로 결말이  좋았어요.마지막씬 사극인데도 류준열이 멋있게 보였어요.유해진배우 평소에 팬이였는데 역시 돋보이는 연기력  엄지척~!', 8]\n"
     ]
    },
    {
     "name": "stderr",
     "output_type": "stream",
     "text": [
      "\r",
      " 80%|████████████████████████████████████████████████████████████████▏               | 802/999 [08:11<02:03,  1.59it/s]"
     ]
    },
    {
     "name": "stdout",
     "output_type": "stream",
     "text": [
      "page 803\n",
      "['올빼미', '기대한것보다는 보통~~킬링타임용으로는 괜찮음~시간은 잘갑니다ㅋ', 7]\n"
     ]
    },
    {
     "name": "stderr",
     "output_type": "stream",
     "text": [
      "\r",
      " 80%|████████████████████████████████████████████████████████████████▎               | 803/999 [08:11<02:03,  1.59it/s]"
     ]
    },
    {
     "name": "stdout",
     "output_type": "stream",
     "text": [
      "page 804\n",
      "['탄생', '꼭 한번씩 보셨으면 좋겠어요!!매우강추입니다!!!!', 10]\n"
     ]
    },
    {
     "name": "stderr",
     "output_type": "stream",
     "text": [
      "\r",
      " 80%|████████████████████████████████████████████████████████████████▍               | 804/999 [08:12<02:02,  1.59it/s]"
     ]
    },
    {
     "name": "stdout",
     "output_type": "stream",
     "text": [
      "page 805\n",
      "['올빼미', '지루함이 단 한순간도 없는 작품이네요.스토리 탄탄하고 유해진의  광기어린 연기력이 단연 독보입니다.사극영화가  이리 잼있을수가~지금 이시대를 반영하는듯 하여 몰입도 최고였습니다.', 10]\n"
     ]
    },
    {
     "name": "stderr",
     "output_type": "stream",
     "text": [
      "\r",
      " 81%|████████████████████████████████████████████████████████████████▍               | 805/999 [08:12<02:02,  1.59it/s]"
     ]
    },
    {
     "name": "stdout",
     "output_type": "stream",
     "text": [
      "page 806\n",
      "['압꾸정', '진짜 개최악ㅋㅋ...', 1]\n"
     ]
    },
    {
     "name": "stderr",
     "output_type": "stream",
     "text": [
      "\r",
      " 81%|████████████████████████████████████████████████████████████████▌               | 806/999 [08:13<02:01,  1.59it/s]"
     ]
    },
    {
     "name": "stdout",
     "output_type": "stream",
     "text": [
      "page 807\n",
      "['탄생', '천주교인이라 보러 갔는데 종교 뿐 아니라 그 동안 잘 다루지 않은 우리나라 역사까지 많은 내용을 알게 되었습니다.연기도 너무 좋고 신념을 지켜나가는 보편적인 스토리라 교인이 아니라도 충분히 공감할 수 있을거라고 생각합니다.이런 영화가 많이 나오면 역사 공부에도 참 좋을 것 같아요~', 10]\n"
     ]
    },
    {
     "name": "stderr",
     "output_type": "stream",
     "text": [
      "\r",
      " 81%|████████████████████████████████████████████████████████████████▌               | 807/999 [08:14<02:00,  1.59it/s]"
     ]
    },
    {
     "name": "stdout",
     "output_type": "stream",
     "text": [
      "page 808\n",
      "['압꾸정', '진짜….최악…시간 아깝고 돈 아까움ㅜㅜ 동석이형아.. 라인업 괜찮아서 봤더니만.. 억지 개그에..코미디라는 장르가 너무 민망할뿐.. 그래도 끝까지 믿고 봤는데.. 결말까지 너무 아쉬운.. 걍 얘기가 점점 산으로 감', 1]\n"
     ]
    },
    {
     "name": "stderr",
     "output_type": "stream",
     "text": [
      "\r",
      " 81%|████████████████████████████████████████████████████████████████▋               | 808/999 [08:14<02:03,  1.54it/s]"
     ]
    },
    {
     "name": "stdout",
     "output_type": "stream",
     "text": [
      "page 809\n",
      "['범죄의 여왕', '에휴 이딴걸 쳐만들고 흥행해서 돈벌겠다고 생각한거야?', 1]\n"
     ]
    },
    {
     "name": "stderr",
     "output_type": "stream",
     "text": [
      "\r",
      " 81%|████████████████████████████████████████████████████████████████▊               | 809/999 [08:15<02:02,  1.55it/s]"
     ]
    },
    {
     "name": "stdout",
     "output_type": "stream",
     "text": [
      "page 810\n",
      "['탄생', '너무 지루해서 잠이옵니댜 ㅜㅜ 정말 별로에여 관람객평점보고봣는데 보고나니 몇명안적엇네여 ', 2]\n"
     ]
    },
    {
     "name": "stderr",
     "output_type": "stream",
     "text": [
      "\r",
      " 81%|████████████████████████████████████████████████████████████████▊               | 810/999 [08:16<02:00,  1.57it/s]"
     ]
    },
    {
     "name": "stdout",
     "output_type": "stream",
     "text": [
      "page 811\n",
      "['탄생', '너무 지루해서 잠이옵니댜 ㅜㅜ 정말 별로에여 관람객평점보고봣는데 보고나니 몇명안적엇네여 ', 2]\n"
     ]
    },
    {
     "name": "stderr",
     "output_type": "stream",
     "text": [
      "\r",
      " 81%|████████████████████████████████████████████████████████████████▉               | 811/999 [08:16<01:59,  1.57it/s]"
     ]
    },
    {
     "name": "stdout",
     "output_type": "stream",
     "text": [
      "page 812\n",
      "['탄생', '너무 지루해서 잠이옵니댜 ㅜㅜ 정말 별로에여 관람객평점보고봣는데 보고나니 몇명안적엇네여 ', 2]\n"
     ]
    },
    {
     "name": "stderr",
     "output_type": "stream",
     "text": [
      "\r",
      " 81%|█████████████████████████████████████████████████████████████████               | 812/999 [08:17<01:58,  1.58it/s]"
     ]
    },
    {
     "name": "stdout",
     "output_type": "stream",
     "text": [
      "page 813\n",
      "['올빼미', '소현세자 연기가 ㄹㅇ 미침ㅠㅠ', 10]\n"
     ]
    },
    {
     "name": "stderr",
     "output_type": "stream",
     "text": [
      "\r",
      " 81%|█████████████████████████████████████████████████████████████████               | 813/999 [08:18<01:57,  1.58it/s]"
     ]
    },
    {
     "name": "stdout",
     "output_type": "stream",
     "text": [
      "page 814\n",
      "['탄생', '솔직히 너무 재미없음 그런데 런닝타임도 길다????종교영화 다신 안봐', 4]\n"
     ]
    },
    {
     "name": "stderr",
     "output_type": "stream",
     "text": [
      "\r",
      " 81%|█████████████████████████████████████████████████████████████████▏              | 814/999 [08:18<01:57,  1.58it/s]"
     ]
    },
    {
     "name": "stdout",
     "output_type": "stream",
     "text": [
      "page 815\n",
      "['올빼미', '스토리 짱!!!  연기도 굳!  연출도 퍼벡트!!!', 10]\n"
     ]
    },
    {
     "name": "stderr",
     "output_type": "stream",
     "text": [
      "\r",
      " 82%|█████████████████████████████████████████████████████████████████▎              | 815/999 [08:19<01:56,  1.58it/s]"
     ]
    },
    {
     "name": "stdout",
     "output_type": "stream",
     "text": [
      "page 816\n",
      "['신라의 달밤', '차승원 진짜 웃기고 매력있고 김혜수 참 이쁘네', 7]\n"
     ]
    },
    {
     "name": "stderr",
     "output_type": "stream",
     "text": [
      "\r",
      " 82%|█████████████████████████████████████████████████████████████████▎              | 816/999 [08:19<01:55,  1.58it/s]"
     ]
    },
    {
     "name": "stdout",
     "output_type": "stream",
     "text": [
      "page 817\n",
      "['1급기밀', '군사비리 현제도 계속 진행 중이겠죠 근데 카메라 한대가 뭐고 여려 빙송사가 나와야지', 10]\n"
     ]
    },
    {
     "name": "stderr",
     "output_type": "stream",
     "text": [
      "\r",
      " 82%|█████████████████████████████████████████████████████████████████▍              | 817/999 [08:20<01:54,  1.58it/s]"
     ]
    },
    {
     "name": "stdout",
     "output_type": "stream",
     "text": [
      "page 818\n",
      "['올빼미', '소재자체도 매우 참신했고 보는 내내 세부적인 내용이 너무 궁금하여 집에 먼지 쌓인 조선왕조 실록을 다시 꺼내서 읽고싶은 마음이 생길 정도.', 10]\n"
     ]
    },
    {
     "name": "stderr",
     "output_type": "stream",
     "text": [
      "\r",
      " 82%|█████████████████████████████████████████████████████████████████▌              | 818/999 [08:21<01:54,  1.59it/s]"
     ]
    },
    {
     "name": "stdout",
     "output_type": "stream",
     "text": [
      "page 819\n",
      "['원피스 필름 레드', '기대했던 영화인 만큼 좋았습니다 특히 Ado가 불러서 더 좋은 역광 신새대 나는 최강등등...당연히 노래가 영화에 90%를 차지하는 게 맞는 에피소드 인데 평점에 이야기가 많더군요 우타가 노래노래 열매?를 먹은 능력자인데 냅다 전투만 꼬장 안 박고 노래의 특유의 느낌 살려서 노래부르면서 전투 하는 씬이 인상 깊었습니다', 10]\n"
     ]
    },
    {
     "name": "stderr",
     "output_type": "stream",
     "text": [
      "\r",
      " 82%|█████████████████████████████████████████████████████████████████▌              | 819/999 [08:21<01:53,  1.59it/s]"
     ]
    },
    {
     "name": "stdout",
     "output_type": "stream",
     "text": [
      "page 820\n",
      "['레미제라블', '가슴을 울리는 주제가 , 다만 일반대사가 많았다면  노래의 감동이 증폭되지 않았을까 라는 생각도 든다', 9]\n"
     ]
    },
    {
     "name": "stderr",
     "output_type": "stream",
     "text": [
      "\r",
      " 82%|█████████████████████████████████████████████████████████████████▋              | 820/999 [08:22<01:53,  1.58it/s]"
     ]
    },
    {
     "name": "stdout",
     "output_type": "stream",
     "text": [
      "page 821\n",
      "['지상 최대 맥주배달 작전', '잭에프론 인생작 연기좋았다', 9]\n"
     ]
    },
    {
     "name": "stderr",
     "output_type": "stream",
     "text": [
      "\r",
      " 82%|█████████████████████████████████████████████████████████████████▋              | 821/999 [08:23<01:52,  1.58it/s]"
     ]
    },
    {
     "name": "stdout",
     "output_type": "stream",
     "text": [
      "page 822\n",
      "['올빼미', '진짜재밌음 한번더볼꺼에영', 10]\n"
     ]
    },
    {
     "name": "stderr",
     "output_type": "stream",
     "text": [
      "\r",
      " 82%|█████████████████████████████████████████████████████████████████▊              | 822/999 [08:23<01:52,  1.58it/s]"
     ]
    },
    {
     "name": "stdout",
     "output_type": "stream",
     "text": [
      "page 823\n",
      "['탄생', '배우님들 고생하셨어요감동있게 보고왔습니다', 10]\n"
     ]
    },
    {
     "name": "stderr",
     "output_type": "stream",
     "text": [
      "\r",
      " 82%|█████████████████████████████████████████████████████████████████▉              | 823/999 [08:24<01:51,  1.58it/s]"
     ]
    },
    {
     "name": "stdout",
     "output_type": "stream",
     "text": [
      "page 824\n",
      "['탄생', '이렇게 편하게 하느님을 믿을수 있고 성당에 교회에 다 다닐수 있음에 감사함을 느끼게 해주는 영화입니다. 종교뿐 아니라 자유가 우리에게 얼마나 중요한건지 알수 있습니다. 지금도 이란이나 공산주의 국가에서는 정치적인 이유로 자유를 탄압하고 있어요. 많은 이들이 이영화를 봤으면 합니다. 김대건 신부님과 그외 종교인들의 순교와 희생에 머리숙여 감사드립니다. 천국에서 행복하세요', 10]\n"
     ]
    },
    {
     "name": "stderr",
     "output_type": "stream",
     "text": [
      "\r",
      " 82%|█████████████████████████████████████████████████████████████████▉              | 824/999 [08:25<01:51,  1.57it/s]"
     ]
    },
    {
     "name": "stdout",
     "output_type": "stream",
     "text": [
      "page 825\n",
      "['더 킬러: 죽어도 되는 아이', '액션 외엔 기대하지 마세요', 5]\n"
     ]
    },
    {
     "name": "stderr",
     "output_type": "stream",
     "text": [
      "\r",
      " 83%|██████████████████████████████████████████████████████████████████              | 825/999 [08:25<01:50,  1.58it/s]"
     ]
    },
    {
     "name": "stdout",
     "output_type": "stream",
     "text": [
      "page 826\n",
      "['탄생', '가톨릭 신자라 봤는데.. 일반인에게는 크게 어필하지 못할 것 같은 생각. 일단  러닝타임이 너무 길다. ㅠㅠ 그리고 주절주절 풀어놓는게 많아서 따라가기가 힘듬. 신부 김대건이 아닌 인간 김대건의, 20대 초반의 호기심 왕성한 모습을 그려준건 나름 신선했다. 다만 극중 미사때 사용된 말들이 요즘식이어서 이건 좀 고증을 통해서 예전대로 해줬으면 좋지않았을까 하는 아쉬움도 있다. 신자라면 꼭 한번 보시면 좋을듯. 일요일이라 그런지 어르신들이 많았음.', 6]\n"
     ]
    },
    {
     "name": "stderr",
     "output_type": "stream",
     "text": [
      "\r",
      " 83%|██████████████████████████████████████████████████████████████████▏             | 826/999 [08:26<01:52,  1.54it/s]"
     ]
    },
    {
     "name": "stdout",
     "output_type": "stream",
     "text": [
      "page 827\n",
      "['오늘 밤, 세계에서 이 사랑이 사라진다 해도', '원작이랑 후속작 둘 다 읽은 찐팬으로써 너무 아쉬웠다... 원작 본 사람도 이런데 안 본 사람은 진짜 돈낭비 했다고 생각할듯... 엔딩곡은 진짜 좋았고 사라지는 연출도 볼 만 했지만 확실히 러닝타임이 정해져 있어  둘의 서사를 우겨넣느라 모든 인물들이 일차원적으로 느껴짐... 생각외로 지나친 아이들도 서사가 꽤 있거든요 무엇보다 홍차가 왜 없냐 홍차가?? 어떻게 홍차를 빼먹냐...모든 소설 원작이 이렇겠다만... 걍 올빼미나 보세요 각색 솔직히 많이 마음에 안 들었음ㅜㅜ 책으로 볼 땐 진짜 대성통곡했는데.... ', 1]\n"
     ]
    },
    {
     "name": "stderr",
     "output_type": "stream",
     "text": [
      "\r",
      " 83%|██████████████████████████████████████████████████████████████████▏             | 827/999 [08:27<01:51,  1.55it/s]"
     ]
    },
    {
     "name": "stdout",
     "output_type": "stream",
     "text": [
      "page 828\n",
      "['레이디 버드', '그저 평범한 일상들로 채워진 성장영화로영화가 끝날때까지 관객을 이끄게 정말 대한하게 느껴짐.. 잘 봤음', 8]\n"
     ]
    },
    {
     "name": "stderr",
     "output_type": "stream",
     "text": [
      "\r",
      " 83%|██████████████████████████████████████████████████████████████████▎             | 828/999 [08:27<01:49,  1.56it/s]"
     ]
    },
    {
     "name": "stdout",
     "output_type": "stream",
     "text": [
      "page 829\n",
      "['올빼미', '근래봤던 영화중에 가장 탄탄한 스토리였던듯.. ', 8]\n"
     ]
    },
    {
     "name": "stderr",
     "output_type": "stream",
     "text": [
      "\r",
      " 83%|██████████████████████████████████████████████████████████████████▍             | 829/999 [08:28<01:48,  1.57it/s]"
     ]
    },
    {
     "name": "stdout",
     "output_type": "stream",
     "text": [
      "page 830\n",
      "['올빼미', '오랜만에 재미있는 영화. 굿!', 10]\n"
     ]
    },
    {
     "name": "stderr",
     "output_type": "stream",
     "text": [
      "\r",
      " 83%|██████████████████████████████████████████████████████████████████▍             | 830/999 [08:28<01:47,  1.57it/s]"
     ]
    },
    {
     "name": "stdout",
     "output_type": "stream",
     "text": [
      "page 831\n",
      "['데시벨', '엄청 울었어요. 잠시도 쉴틈이 없네요 주변인들 다 재밌다고 합니다', 10]\n"
     ]
    },
    {
     "name": "stderr",
     "output_type": "stream",
     "text": [
      "\r",
      " 83%|██████████████████████████████████████████████████████████████████▌             | 831/999 [08:29<01:46,  1.58it/s]"
     ]
    },
    {
     "name": "stdout",
     "output_type": "stream",
     "text": [
      "page 832\n",
      "['올빼미', '아 재밋네 재밋네재밋네', 10]\n"
     ]
    },
    {
     "name": "stderr",
     "output_type": "stream",
     "text": [
      "\r",
      " 83%|██████████████████████████████████████████████████████████████████▋             | 832/999 [08:30<01:45,  1.59it/s]"
     ]
    },
    {
     "name": "stdout",
     "output_type": "stream",
     "text": [
      "page 833\n",
      "['이제 그만 끝낼까 해', '새벽 3시 추운 겨울, 영등포 CGV에서 혼자영화를 본다면 어울릴 것 같은 영화', 10]\n"
     ]
    },
    {
     "name": "stderr",
     "output_type": "stream",
     "text": [
      "\r",
      " 83%|██████████████████████████████████████████████████████████████████▋             | 833/999 [08:30<01:44,  1.58it/s]"
     ]
    },
    {
     "name": "stdout",
     "output_type": "stream",
     "text": [
      "page 834\n",
      "['기생수 파트1', '실사화 한 영화 중에 나름 평작', 6]\n"
     ]
    },
    {
     "name": "stderr",
     "output_type": "stream",
     "text": [
      "\r",
      " 83%|██████████████████████████████████████████████████████████████████▊             | 834/999 [08:31<01:44,  1.58it/s]"
     ]
    },
    {
     "name": "stdout",
     "output_type": "stream",
     "text": [
      "page 835\n",
      "['올빼미', '대제로 잼 있었습니다~~역사에 기반을 두었지만 조금 뻔한 스토리에... 개연성도  부족했고...하지만 나름 한국영화  괜찮았네요^^', 8]\n"
     ]
    },
    {
     "name": "stderr",
     "output_type": "stream",
     "text": [
      "\r",
      " 84%|██████████████████████████████████████████████████████████████████▊             | 835/999 [08:32<01:43,  1.58it/s]"
     ]
    },
    {
     "name": "stdout",
     "output_type": "stream",
     "text": [
      "page 836\n",
      "['올빼미', '사극도 이렇게 무서울수가 있구나 충격 받은 영화. 오랜만에 극장 방문했는데 표값이 전혀 아깝지 않았고 오히려 영화관에서 봐서 다행이라는 생각이 들었던 영화. ', 10]\n"
     ]
    },
    {
     "name": "stderr",
     "output_type": "stream",
     "text": [
      "\r",
      " 84%|██████████████████████████████████████████████████████████████████▉             | 836/999 [08:32<01:43,  1.58it/s]"
     ]
    },
    {
     "name": "stdout",
     "output_type": "stream",
     "text": [
      "page 837\n",
      "['올빼미', '그냥 생각없이 봤는데 몰입감 굿 올해 최고의 영화 돈 하나도 안아까움', 10]\n"
     ]
    },
    {
     "name": "stderr",
     "output_type": "stream",
     "text": [
      "\r",
      " 84%|███████████████████████████████████████████████████████████████████             | 837/999 [08:33<01:42,  1.58it/s]"
     ]
    },
    {
     "name": "stdout",
     "output_type": "stream",
     "text": [
      "page 838\n",
      "['올빼미', '진짜 올해 본 영화 중에 최고다. 돈이 1도 아깝지 않았음. 갓벽', 10]\n"
     ]
    },
    {
     "name": "stderr",
     "output_type": "stream",
     "text": [
      "\r",
      " 84%|███████████████████████████████████████████████████████████████████             | 838/999 [08:33<01:41,  1.58it/s]"
     ]
    },
    {
     "name": "stdout",
     "output_type": "stream",
     "text": [
      "page 839\n",
      "['요정', '씁쓸한영화 부부도 부부같지않고 형제도 형제같지않고 가족도 가족같지않고. 뻔뻔스럽게 입에 가족이라는 말을 올리지만 단한번이라도 가족의 모습을 보여준적이 없는 이기적인사람들의 이야기, 우리사회에 대한 이야기겠지. 결국 이득이되는 관계만을 붙잡고싶은 관계로 여기는 현대인을 동화적인 요소에  숨겨 더 적나라하게 표현했다고 느꼈다 염세적이 되는 스토리', 6]\n"
     ]
    },
    {
     "name": "stderr",
     "output_type": "stream",
     "text": [
      "\r",
      " 84%|███████████████████████████████████████████████████████████████████▏            | 839/999 [08:34<01:40,  1.58it/s]"
     ]
    },
    {
     "name": "stdout",
     "output_type": "stream",
     "text": [
      "page 840\n",
      "['올빼미', '류준열  역시  정말  재밌었어요', 10]\n"
     ]
    },
    {
     "name": "stderr",
     "output_type": "stream",
     "text": [
      "\r",
      " 84%|███████████████████████████████████████████████████████████████████▎            | 840/999 [08:35<01:41,  1.57it/s]"
     ]
    },
    {
     "name": "stdout",
     "output_type": "stream",
     "text": [
      "page 841\n",
      "['그 겨울, 나는', '요즘 젊은세대의 현실을 조금이나마 공감할수 있는 시간이었어요.안타깝고 답답하던 마음이 마지막에 희망적인 메세지로 끝이나서 너무 감사했던 그런 영화입니다. ', 10]\n"
     ]
    },
    {
     "name": "stderr",
     "output_type": "stream",
     "text": [
      "\r",
      " 84%|███████████████████████████████████████████████████████████████████▎            | 841/999 [08:35<01:40,  1.58it/s]"
     ]
    },
    {
     "name": "stdout",
     "output_type": "stream",
     "text": [
      "page 842\n",
      "['올빼미', '오랜만에 사극 중 너무 완벽한 영화였다!!유해진이 나와서 코믹인가 싶었는데 그건 착각이다.처음부터 끝까지 지루할 틈이 없고 꽉채워진 내용 속에서 특히 맹인을 연기하는 류준열은 완벽하다영화비 아깝지 않다!!!!', 10]\n"
     ]
    },
    {
     "name": "stderr",
     "output_type": "stream",
     "text": [
      "\r",
      " 84%|███████████████████████████████████████████████████████████████████▍            | 842/999 [08:36<01:38,  1.59it/s]"
     ]
    },
    {
     "name": "stdout",
     "output_type": "stream",
     "text": [
      "page 843\n",
      "['올빼미', '최근에 본 것 중에 젤 재밌어요', 10]\n"
     ]
    },
    {
     "name": "stderr",
     "output_type": "stream",
     "text": [
      "\r",
      " 84%|███████████████████████████████████████████████████████████████████▌            | 843/999 [08:37<01:38,  1.58it/s]"
     ]
    },
    {
     "name": "stdout",
     "output_type": "stream",
     "text": [
      "page 844\n",
      "['리멤버', '조작에 쓰레기냄새가ㅠㅠ', 2]\n"
     ]
    },
    {
     "name": "stderr",
     "output_type": "stream",
     "text": [
      "\r",
      " 84%|███████████████████████████████████████████████████████████████████▌            | 844/999 [08:37<01:38,  1.58it/s]"
     ]
    },
    {
     "name": "stdout",
     "output_type": "stream",
     "text": [
      "page 845\n",
      "['압꾸정', '임팩트가없네요ㅠ배우들의연기는 흠잡을데없네요', 4]\n"
     ]
    },
    {
     "name": "stderr",
     "output_type": "stream",
     "text": [
      "\r",
      " 85%|███████████████████████████████████████████████████████████████████▋            | 845/999 [08:38<01:40,  1.54it/s]"
     ]
    },
    {
     "name": "stdout",
     "output_type": "stream",
     "text": [
      "page 846\n",
      "['본즈 앤 올', '트와일라잇 고어버전...', 5]\n"
     ]
    },
    {
     "name": "stderr",
     "output_type": "stream",
     "text": [
      "\r",
      " 85%|███████████████████████████████████████████████████████████████████▋            | 846/999 [08:39<01:38,  1.55it/s]"
     ]
    },
    {
     "name": "stdout",
     "output_type": "stream",
     "text": [
      "page 847\n",
      "['올빼미', '심장 쪼이게 하고 재미있음 결론이 쪼꼼 그렇긴 한데 역사 영화라 그건 어쩔 수 없는 듯', 9]\n"
     ]
    },
    {
     "name": "stderr",
     "output_type": "stream",
     "text": [
      "\r",
      " 85%|███████████████████████████████████████████████████████████████████▊            | 847/999 [08:39<01:37,  1.57it/s]"
     ]
    },
    {
     "name": "stdout",
     "output_type": "stream",
     "text": [
      "page 848\n",
      "['원피스 필름 레드', '와...개 역대급 노잼 그냥 노래만 부르다가 끝남 그냥 유튭 전투장면이 끝임', 2]\n"
     ]
    },
    {
     "name": "stderr",
     "output_type": "stream",
     "text": [
      "\r",
      " 85%|███████████████████████████████████████████████████████████████████▉            | 848/999 [08:40<01:36,  1.57it/s]"
     ]
    },
    {
     "name": "stdout",
     "output_type": "stream",
     "text": [
      "page 849\n",
      "['올빼미', '재밌어용!!와우굳ㅎ', 10]\n"
     ]
    },
    {
     "name": "stderr",
     "output_type": "stream",
     "text": [
      "\r",
      " 85%|███████████████████████████████████████████████████████████████████▉            | 849/999 [08:40<01:35,  1.57it/s]"
     ]
    },
    {
     "name": "stdout",
     "output_type": "stream",
     "text": [
      "page 850\n",
      "['옆집사람', '난 왜 이 말도 안될 것 같은 영화에 가슴 졸이며 긴장하고 봤는지 모르겠지만 꼭 우리 옆집사람들 같아 숨을 죽이며 영화를 봤다', 10]\n"
     ]
    },
    {
     "name": "stderr",
     "output_type": "stream",
     "text": [
      "\r",
      " 85%|████████████████████████████████████████████████████████████████████            | 850/999 [08:41<01:34,  1.57it/s]"
     ]
    },
    {
     "name": "stdout",
     "output_type": "stream",
     "text": [
      "page 851\n",
      "['올빼미', '영화 깔끔하게 잘 만들었어요 있는 역사를 상상 더해서 픽션으로 잘 풀었고 전달하는 주제 의식도 명확해요 ', 10]\n"
     ]
    },
    {
     "name": "stderr",
     "output_type": "stream",
     "text": [
      "\r",
      " 85%|████████████████████████████████████████████████████████████████████▏           | 851/999 [08:42<01:33,  1.58it/s]"
     ]
    },
    {
     "name": "stdout",
     "output_type": "stream",
     "text": [
      "page 852\n",
      "['올빼미', '장르를 공포,스릴러로 합시다', 10]\n"
     ]
    },
    {
     "name": "stderr",
     "output_type": "stream",
     "text": [
      "\r",
      " 85%|████████████████████████████████████████████████████████████████████▏           | 852/999 [08:42<01:33,  1.58it/s]"
     ]
    },
    {
     "name": "stdout",
     "output_type": "stream",
     "text": [
      "page 853\n",
      "['올빼미', '감히 말할 수 있는 올해 최고의 영화', 10]\n"
     ]
    },
    {
     "name": "stderr",
     "output_type": "stream",
     "text": [
      "\r",
      " 85%|████████████████████████████████████████████████████████████████████▎           | 853/999 [08:43<01:32,  1.58it/s]"
     ]
    },
    {
     "name": "stdout",
     "output_type": "stream",
     "text": [
      "page 854\n",
      "['올빼미', '유해진배우님. 류준열배우님 숨막히는. 연기가 압도해요. 멋졌어요.. 슬픈 역사예요. 이후로 조선이 점점 기울어가는것도 알고보면 넘 슬프네요.', 10]\n"
     ]
    },
    {
     "name": "stderr",
     "output_type": "stream",
     "text": [
      "\r",
      " 85%|████████████████████████████████████████████████████████████████████▍           | 854/999 [08:44<01:31,  1.58it/s]"
     ]
    },
    {
     "name": "stdout",
     "output_type": "stream",
     "text": [
      "page 855\n",
      "['레슨 플랜', 'ㅋㅋㅋ 어쩌다 속아서봤는데너무 어설프고 스토리는 분명 무거운 주제인데 어떻게 유치할수가 있지 싶었습니다.거기에... 액션이 진짜.. 와... 충격적임..생각보더시간이 급방간건 놀라움 ㅋ차라리 코믹함을 넣었으면 웃긴 삼류영화쯤으로 봤을지도.. ', 1]\n"
     ]
    },
    {
     "name": "stderr",
     "output_type": "stream",
     "text": [
      "\r",
      " 86%|████████████████████████████████████████████████████████████████████▍           | 855/999 [08:44<01:30,  1.58it/s]"
     ]
    },
    {
     "name": "stdout",
     "output_type": "stream",
     "text": [
      "page 856\n",
      "['탄생', '할말 없게 만드는 영화.지루합니다.', 4]\n"
     ]
    },
    {
     "name": "stderr",
     "output_type": "stream",
     "text": [
      "\r",
      " 86%|████████████████████████████████████████████████████████████████████▌           | 856/999 [08:45<01:30,  1.58it/s]"
     ]
    },
    {
     "name": "stdout",
     "output_type": "stream",
     "text": [
      "page 857\n",
      "['올빼미', '침 맞는 분들 보면 경직될 영화', 10]\n"
     ]
    },
    {
     "name": "stderr",
     "output_type": "stream",
     "text": [
      "\r",
      " 86%|████████████████████████████████████████████████████████████████████▋           | 857/999 [08:46<01:30,  1.57it/s]"
     ]
    },
    {
     "name": "stdout",
     "output_type": "stream",
     "text": [
      "page 858\n",
      "['그 겨울, 나는', '이별사유 중 내가 나를 놓아버린게 가장 크다', 7]\n"
     ]
    },
    {
     "name": "stderr",
     "output_type": "stream",
     "text": [
      "\r",
      " 86%|████████████████████████████████████████████████████████████████████▋           | 858/999 [08:46<01:29,  1.58it/s]"
     ]
    },
    {
     "name": "stdout",
     "output_type": "stream",
     "text": [
      "page 859\n",
      "['올빼미', '진심 작품이었다. 새로운 소재이면서 스토리 흐름도 만족스럽다.', 10]\n"
     ]
    },
    {
     "name": "stderr",
     "output_type": "stream",
     "text": [
      "\r",
      " 86%|████████████████████████████████████████████████████████████████████▊           | 859/999 [08:47<01:28,  1.58it/s]"
     ]
    },
    {
     "name": "stdout",
     "output_type": "stream",
     "text": [
      "page 860\n",
      "['창밖은 겨울', '추운겨울이지만 영화보면서 따뜻함을 느꼈습니다.', 10]\n"
     ]
    },
    {
     "name": "stderr",
     "output_type": "stream",
     "text": [
      "\r",
      " 86%|████████████████████████████████████████████████████████████████████▊           | 860/999 [08:47<01:27,  1.58it/s]"
     ]
    },
    {
     "name": "stdout",
     "output_type": "stream",
     "text": [
      "page 861\n",
      "['올빼미', '류준열 연기 진짜 잘하네요~~', 10]\n"
     ]
    },
    {
     "name": "stderr",
     "output_type": "stream",
     "text": [
      "\r",
      " 86%|████████████████████████████████████████████████████████████████████▉           | 861/999 [08:48<01:27,  1.58it/s]"
     ]
    },
    {
     "name": "stdout",
     "output_type": "stream",
     "text": [
      "page 862\n",
      "['드라이빙 미스 데이지', '남자 주인공 성격이 정말 좋다. 남자 주인공이 차를 바꾸는데 그이유때문에 더욱더 멋있어보임. 배려심이 가득하다.', 10]\n"
     ]
    },
    {
     "name": "stderr",
     "output_type": "stream",
     "text": [
      "\r",
      " 86%|█████████████████████████████████████████████████████████████████████           | 862/999 [08:49<01:26,  1.58it/s]"
     ]
    },
    {
     "name": "stdout",
     "output_type": "stream",
     "text": [
      "page 863\n",
      "['탄생', '얼마나 울었는지 모릅니다....지금 이시대는 이렇게 편하게 성당을 다닐 수 있는데..항상 감사함을 잊지 않겠습니다. 감사합니다.', 10]\n"
     ]
    },
    {
     "name": "stderr",
     "output_type": "stream",
     "text": [
      "\r",
      " 86%|█████████████████████████████████████████████████████████████████████           | 863/999 [08:49<01:28,  1.54it/s]"
     ]
    },
    {
     "name": "stdout",
     "output_type": "stream",
     "text": [
      "page 864\n",
      "['올빼미', '생각지 못하게 재밌게 봄.기대이상!', 9]\n"
     ]
    },
    {
     "name": "stderr",
     "output_type": "stream",
     "text": [
      "\r",
      " 86%|█████████████████████████████████████████████████████████████████████▏          | 864/999 [08:50<01:26,  1.56it/s]"
     ]
    },
    {
     "name": "stdout",
     "output_type": "stream",
     "text": [
      "page 865\n",
      "['놉', '조던필의 영화를 너무나 좋아했던터라, 전작들에 비해 평이 낮았던 ‘놉’이라는 영화를 볼까말까 고민했던 내가 미워질 정도로 너무 좋은 작품이었습니다. 조던필 특유의 은유와 풍자가 이번 작품에서는 군더더기 없이 깔끔하고 세련되게 표현된 작품인 것 같아요. 작품에서 소재들의 은유가 점점 개념적으로 변해가는거 같아서 팬입장에서는 다음작업이 너무 기대가 됩니다.. 사랑합니다', 10]\n"
     ]
    },
    {
     "name": "stderr",
     "output_type": "stream",
     "text": [
      "\r",
      " 87%|█████████████████████████████████████████████████████████████████████▎          | 865/999 [08:51<01:25,  1.56it/s]"
     ]
    },
    {
     "name": "stdout",
     "output_type": "stream",
     "text": [
      "page 866\n",
      "['올빼미', '오랜만에 진짜 재밌게본 영화...', 10]\n"
     ]
    },
    {
     "name": "stderr",
     "output_type": "stream",
     "text": [
      "\r",
      " 87%|█████████████████████████████████████████████████████████████████████▎          | 866/999 [08:51<01:24,  1.57it/s]"
     ]
    },
    {
     "name": "stdout",
     "output_type": "stream",
     "text": [
      "page 867\n",
      "['올빼미', '너무 만족해요 배우님들도 너무 멋있고 연기도 잘 하셔요', 10]\n"
     ]
    },
    {
     "name": "stderr",
     "output_type": "stream",
     "text": [
      "\r",
      " 87%|█████████████████████████████████████████████████████████████████████▍          | 867/999 [08:52<01:23,  1.57it/s]"
     ]
    },
    {
     "name": "stdout",
     "output_type": "stream",
     "text": [
      "page 868\n",
      "['압꾸정', '기대를너무했나 코미디라웃을려고  봤는데  너무 지루하고 재미없음.감동도없고.  뭐지 ?씁쓸한기분이 드는건 ㆍㆍ', 4]\n"
     ]
    },
    {
     "name": "stderr",
     "output_type": "stream",
     "text": [
      "\r",
      " 87%|█████████████████████████████████████████████████████████████████████▌          | 868/999 [08:53<01:23,  1.57it/s]"
     ]
    },
    {
     "name": "stdout",
     "output_type": "stream",
     "text": [
      "page 869\n",
      "['데시벨', '역대 최악의영화.개그영화인지 추격물인지 스릴런지헷갈릴정도로 장르가 뭔지모르겠음말도안되는 스토리그냥 b급영화가 더 나을듯', 1]\n"
     ]
    },
    {
     "name": "stderr",
     "output_type": "stream",
     "text": [
      "\r",
      " 87%|█████████████████████████████████████████████████████████████████████▌          | 869/999 [08:53<01:22,  1.57it/s]"
     ]
    },
    {
     "name": "stdout",
     "output_type": "stream",
     "text": [
      "page 870\n",
      "['에브리씽 에브리웨어 올 앳 원스', '인생영화아무것도 부질없지 않을까 하는 생각을 품어본 사람이라면 ', 10]\n"
     ]
    },
    {
     "name": "stderr",
     "output_type": "stream",
     "text": [
      "\r",
      " 87%|█████████████████████████████████████████████████████████████████████▋          | 870/999 [08:54<01:21,  1.58it/s]"
     ]
    },
    {
     "name": "stdout",
     "output_type": "stream",
     "text": [
      "page 871\n",
      "['올빼미', '올 하반기 근래 없던 볼만한 한국 영화', 7]\n"
     ]
    },
    {
     "name": "stderr",
     "output_type": "stream",
     "text": [
      "\r",
      " 87%|█████████████████████████████████████████████████████████████████████▋          | 871/999 [08:54<01:20,  1.58it/s]"
     ]
    },
    {
     "name": "stdout",
     "output_type": "stream",
     "text": [
      "page 872\n",
      "['원피스 필름 레드', '샹크스가 나와서 더더 재밌어요.. 그리고 제 최애 로우 나와서 너무 좋았어요 ㅎㅎㅎ 신시대도 넘 좋아서 맨날 듣고 있어요 시사회로 봐서 일찍 봐서 넘 좋았어요', 10]\n"
     ]
    },
    {
     "name": "stderr",
     "output_type": "stream",
     "text": [
      "\r",
      " 87%|█████████████████████████████████████████████████████████████████████▊          | 872/999 [08:55<01:20,  1.58it/s]"
     ]
    },
    {
     "name": "stdout",
     "output_type": "stream",
     "text": [
      "page 873\n",
      "['올빼미', '몰입감 좋고 배우들 연기 특히 류준열 배우님 연기짱이예요~~^^', 10]\n"
     ]
    },
    {
     "name": "stderr",
     "output_type": "stream",
     "text": [
      "\r",
      " 87%|█████████████████████████████████████████████████████████████████████▉          | 873/999 [08:56<01:19,  1.58it/s]"
     ]
    },
    {
     "name": "stdout",
     "output_type": "stream",
     "text": [
      "page 874\n",
      "['원피스 필름 레드', '중반은 지루했지만 영화관에 맞춘 음악과 악역과의 대결에서 나오는 연출이 너무 좋았어요 1번 더 보고 싶네요', 10]\n"
     ]
    },
    {
     "name": "stderr",
     "output_type": "stream",
     "text": [
      "\r",
      " 87%|█████████████████████████████████████████████████████████████████████▉          | 874/999 [08:56<01:19,  1.58it/s]"
     ]
    },
    {
     "name": "stdout",
     "output_type": "stream",
     "text": [
      "page 875\n",
      "['오늘 밤, 세계에서 이 사랑이 사라진다 해도', '원작보단 덜 하긴 하지만 역시나 후반부 급발진이 심함.', 7]\n"
     ]
    },
    {
     "name": "stderr",
     "output_type": "stream",
     "text": [
      "\r",
      " 88%|██████████████████████████████████████████████████████████████████████          | 875/999 [08:57<01:18,  1.58it/s]"
     ]
    },
    {
     "name": "stdout",
     "output_type": "stream",
     "text": [
      "page 876\n",
      "['압꾸정', '마동석이라는 하나의 장르로 보기 좋은 영화. 하지만 굳이 후반부에 폭발씬을 넣어야 했을까...', 8]\n"
     ]
    },
    {
     "name": "stderr",
     "output_type": "stream",
     "text": [
      "\r",
      " 88%|██████████████████████████████████████████████████████████████████████▏         | 876/999 [08:58<01:17,  1.58it/s]"
     ]
    },
    {
     "name": "stdout",
     "output_type": "stream",
     "text": [
      "page 877\n",
      "['킹덤2: 아득한 대지로', '댓글알바가진짜있구나', 2]\n"
     ]
    },
    {
     "name": "stderr",
     "output_type": "stream",
     "text": [
      "\r",
      " 88%|██████████████████████████████████████████████████████████████████████▏         | 877/999 [08:58<01:17,  1.58it/s]"
     ]
    },
    {
     "name": "stdout",
     "output_type": "stream",
     "text": [
      "page 878\n",
      "['탄생', '김대건 안드레아 신부님의 인생자체가 고난의 연속이었기 때문에 잔잔하게 그려내도감동과  눈물이 벅차올랐습니다영상미도 아주 뛰어났습니다 좋은 영화 만들어주셔서 감사합니다', 10]\n"
     ]
    },
    {
     "name": "stderr",
     "output_type": "stream",
     "text": [
      "\r",
      " 88%|██████████████████████████████████████████████████████████████████████▎         | 878/999 [08:59<01:16,  1.58it/s]"
     ]
    },
    {
     "name": "stdout",
     "output_type": "stream",
     "text": [
      "page 879\n",
      "['도어락', '뭐 그냥 그럭저럭 재밌음이정도면 재밌다고 생각함약간 공포감 있음', 6]\n"
     ]
    },
    {
     "name": "stderr",
     "output_type": "stream",
     "text": [
      "\r",
      " 88%|██████████████████████████████████████████████████████████████████████▍         | 879/999 [09:00<01:16,  1.58it/s]"
     ]
    },
    {
     "name": "stdout",
     "output_type": "stream",
     "text": [
      "page 880\n",
      "['에브리씽 에브리웨어 올 앳 원스', '마스크 하나 더 챙겨갈걸...', 10]\n"
     ]
    },
    {
     "name": "stderr",
     "output_type": "stream",
     "text": [
      "\r",
      " 88%|██████████████████████████████████████████████████████████████████████▍         | 880/999 [09:00<01:15,  1.58it/s]"
     ]
    },
    {
     "name": "stdout",
     "output_type": "stream",
     "text": [
      "page 881\n",
      "['올빼미', '오늘 봤습니다처음부터 몰입하며 봤네요침술사 류준열의 연기와 인조 유해진의 연기는 정말 감정이 섬세하게 느껴졌어요아빠를 잃은 원손의 울음앞에서 갈등하는 침술사 류준열의 동생을 살려야하는 마음, 그 마음들이 다 느껴져서 끝날때까지 눈을 떼지 못했습니다', 10]\n"
     ]
    },
    {
     "name": "stderr",
     "output_type": "stream",
     "text": [
      "\r",
      " 88%|██████████████████████████████████████████████████████████████████████▌         | 881/999 [09:01<01:15,  1.57it/s]"
     ]
    },
    {
     "name": "stdout",
     "output_type": "stream",
     "text": [
      "page 882\n",
      "['올빼미', '최공의 연출 시나리오정말 재미집니다.', 10]\n"
     ]
    },
    {
     "name": "stderr",
     "output_type": "stream",
     "text": [
      "\r",
      " 88%|██████████████████████████████████████████████████████████████████████▋         | 882/999 [09:01<01:16,  1.53it/s]"
     ]
    },
    {
     "name": "stdout",
     "output_type": "stream",
     "text": [
      "page 883\n",
      "['올빼미', '와칸다로 받은 상처, 올빼미로 치유. ', 10]\n"
     ]
    },
    {
     "name": "stderr",
     "output_type": "stream",
     "text": [
      "\r",
      " 88%|██████████████████████████████████████████████████████████████████████▋         | 883/999 [09:02<01:15,  1.54it/s]"
     ]
    },
    {
     "name": "stdout",
     "output_type": "stream",
     "text": [
      "page 884\n",
      "['리멤버', '언제까지 우리 국민이 싸구려 반일 선동 컨텐츠 보면서 분노하면 될까? 사익을 위해 무슨 일이라도 할 사람들은 어느 시대에도 존재함(본인은 절대 아닌지 가슴에 손얹고 생각해보고) 식민지 시대 당사자들은 이제는 존재하지도 않는데 국민들이 계속해서 친일파 망령 붙들고 같은 국민을 대상으로 분노하게 만들며 비지니스하는 사람들이 있지 않은지 생각해볼 때도 되지 않았나 ㅋ', 2]\n"
     ]
    },
    {
     "name": "stderr",
     "output_type": "stream",
     "text": [
      "\r",
      " 88%|██████████████████████████████████████████████████████████████████████▊         | 884/999 [09:03<01:13,  1.56it/s]"
     ]
    },
    {
     "name": "stdout",
     "output_type": "stream",
     "text": [
      "page 885\n",
      "['탄생', '너무 감동적이고 너무 뜨거웠습니다보는내내  뜨거운 눈물이흘렀습니다 무슨말이 필요할까요 감사합니다조은영화 ', 10]\n"
     ]
    },
    {
     "name": "stderr",
     "output_type": "stream",
     "text": [
      "\r",
      " 89%|██████████████████████████████████████████████████████████████████████▊         | 885/999 [09:03<01:12,  1.56it/s]"
     ]
    },
    {
     "name": "stdout",
     "output_type": "stream",
     "text": [
      "page 886\n",
      "['탄생', '뜨거운 눈물이  주르륵... ', 10]\n"
     ]
    },
    {
     "name": "stderr",
     "output_type": "stream",
     "text": [
      "\r",
      " 89%|██████████████████████████████████████████████████████████████████████▉         | 886/999 [09:04<01:11,  1.58it/s]"
     ]
    },
    {
     "name": "stdout",
     "output_type": "stream",
     "text": [
      "page 887\n",
      "['공조2: 인터내셔날', '전작만큼은 아니어도 재미있고 시간 떼우기 좋은 영화', 8]\n"
     ]
    },
    {
     "name": "stderr",
     "output_type": "stream",
     "text": [
      "\r",
      " 89%|███████████████████████████████████████████████████████████████████████         | 887/999 [09:05<01:10,  1.58it/s]"
     ]
    },
    {
     "name": "stdout",
     "output_type": "stream",
     "text": [
      "page 888\n",
      "['올빼미', '류준열이 다 한 영화~몰입하며 잼나게 봤어요..', 10]\n"
     ]
    },
    {
     "name": "stderr",
     "output_type": "stream",
     "text": [
      "\r",
      " 89%|███████████████████████████████████████████████████████████████████████         | 888/999 [09:05<01:09,  1.59it/s]"
     ]
    },
    {
     "name": "stdout",
     "output_type": "stream",
     "text": [
      "page 889\n",
      "['할로윈 엔드', '1,2편과 궤가 다른 3을 싫어할 수 있다.  코리란 캐릭터가 뜬금 없을 수도 있다. 그러나 3편의 코리를 통해 해든필드의 마이클마이어스가, 일상적인 존재로 다가왔다. 우리 주위에 산재한 증오들, 일상에 스쳐가는 미움들, 사람을 미치게 만들고 사회를 지옥으로 만드는 현실. 이를 나이가 지긋해진 로리와 마이클마이어스가 이전과 다른 방식으로 다뤄가는 할로윈엔즈를 보며, 이렇게 많이 울게 될 줄은 몰랐다. 뜻밖의 체험이었고 개인적으로 마음에 들었다.', 8]\n"
     ]
    },
    {
     "name": "stderr",
     "output_type": "stream",
     "text": [
      "\r",
      " 89%|███████████████████████████████████████████████████████████████████████▏        | 889/999 [09:06<01:09,  1.58it/s]"
     ]
    },
    {
     "name": "stdout",
     "output_type": "stream",
     "text": [
      "page 890\n",
      "['올빼미', '온 몸에 소름 돋으면서 봤어요 최근 몇 년 간 본 영화 중 최고인 것 같아요', 10]\n"
     ]
    },
    {
     "name": "stderr",
     "output_type": "stream",
     "text": [
      "\r",
      " 89%|███████████████████████████████████████████████████████████████████████▎        | 890/999 [09:07<01:08,  1.58it/s]"
     ]
    },
    {
     "name": "stdout",
     "output_type": "stream",
     "text": [
      "page 891\n",
      "['오늘 밤, 세계에서 이 사랑이 사라진다 해도', '진짜 최고의 영화 입니다 ㅠㅠ 마지막 장면 쯤토루와 함께 했었던 말들과 행동들을 이즈미와 다시 행하는데 그때 정말 좋았습니다 정말 부족함 없는 영화', 10]\n"
     ]
    },
    {
     "name": "stderr",
     "output_type": "stream",
     "text": [
      "\r",
      " 89%|███████████████████████████████████████████████████████████████████████▎        | 891/999 [09:07<01:08,  1.58it/s]"
     ]
    },
    {
     "name": "stdout",
     "output_type": "stream",
     "text": [
      "page 892\n",
      "['올빼미', '잠시도 눈을 땔수 없을만큼재미 스릴 연기 너무 좋았습니다', 10]\n"
     ]
    },
    {
     "name": "stderr",
     "output_type": "stream",
     "text": [
      "\r",
      " 89%|███████████████████████████████████████████████████████████████████████▍        | 892/999 [09:08<01:07,  1.58it/s]"
     ]
    },
    {
     "name": "stdout",
     "output_type": "stream",
     "text": [
      "page 893\n",
      "['압꾸정', '흠.. 간간히 웃기긴한데전반적인 스토리 흐름이 굉장히 어색하고 영화를 통해서 어떤 메세지를 전달하고 싶어하는지가 분명하지 않아 아쉬웠습니다킬링타임용으로는 괜찮습니다', 6]\n"
     ]
    },
    {
     "name": "stderr",
     "output_type": "stream",
     "text": [
      "\r",
      " 89%|███████████████████████████████████████████████████████████████████████▌        | 893/999 [09:08<01:07,  1.58it/s]"
     ]
    },
    {
     "name": "stdout",
     "output_type": "stream",
     "text": [
      "page 894\n",
      "['탄생', '윤시윤배우 연기 너무 인상깊었어요 김대건의 삶을 장면 장면 보여준 것은 좋았지만 상영시간 너무 길어서 중간에 좀 지루했어요', 8]\n"
     ]
    },
    {
     "name": "stderr",
     "output_type": "stream",
     "text": [
      "\r",
      " 89%|███████████████████████████████████████████████████████████████████████▌        | 894/999 [09:09<01:06,  1.58it/s]"
     ]
    },
    {
     "name": "stdout",
     "output_type": "stream",
     "text": [
      "page 895\n",
      "['한산 리덕스', '픽션이니 다 마음대로 해도 되지만 극적인 연출이 너무 억지스럽고, 언제쯤 한국 영화 cg가 거부감이 사라질지...', 6]\n"
     ]
    },
    {
     "name": "stderr",
     "output_type": "stream",
     "text": [
      "\r",
      " 90%|███████████████████████████████████████████████████████████████████████▋        | 895/999 [09:10<01:05,  1.58it/s]"
     ]
    },
    {
     "name": "stdout",
     "output_type": "stream",
     "text": [
      "page 896\n",
      "['탄생', '감동이네요~ 제가 윤시윤님 팬이라 2번 봤네요~2번째 보는데도 울컥~', 10]\n"
     ]
    },
    {
     "name": "stderr",
     "output_type": "stream",
     "text": [
      "\r",
      " 90%|███████████████████████████████████████████████████████████████████████▊        | 896/999 [09:10<01:05,  1.58it/s]"
     ]
    },
    {
     "name": "stdout",
     "output_type": "stream",
     "text": [
      "page 897\n",
      "['올빼미', '연출도 연기도 정말 훌륭한 영화!!! 너무 재밌게 봤습니다', 10]\n"
     ]
    },
    {
     "name": "stderr",
     "output_type": "stream",
     "text": [
      "\r",
      " 90%|███████████████████████████████████████████████████████████████████████▊        | 897/999 [09:11<01:04,  1.58it/s]"
     ]
    },
    {
     "name": "stdout",
     "output_type": "stream",
     "text": [
      "page 898\n",
      "['올빼미', '그냥 보세요. 미쳤습니다', 10]\n"
     ]
    },
    {
     "name": "stderr",
     "output_type": "stream",
     "text": [
      "\r",
      " 90%|███████████████████████████████████████████████████████████████████████▉        | 898/999 [09:12<01:03,  1.58it/s]"
     ]
    },
    {
     "name": "stdout",
     "output_type": "stream",
     "text": [
      "page 899\n",
      "['올빼미', '배우들이 연기를 참 잘하네요~  정말 재밌습니다~!!!', 10]\n"
     ]
    },
    {
     "name": "stderr",
     "output_type": "stream",
     "text": [
      "\r",
      " 90%|███████████████████████████████████████████████████████████████████████▉        | 899/999 [09:12<01:03,  1.58it/s]"
     ]
    },
    {
     "name": "stdout",
     "output_type": "stream",
     "text": [
      "page 900\n",
      "['원피스 필름 레드', '기대만큼은 아니지만 재밌게봤습니다 후반부에 &amp;#34;우타는 내 딸이다&amp;#34; 할때 울컥했습니다.. ', 8]\n"
     ]
    },
    {
     "name": "stderr",
     "output_type": "stream",
     "text": [
      "\r",
      " 90%|████████████████████████████████████████████████████████████████████████        | 900/999 [09:13<01:02,  1.59it/s]"
     ]
    },
    {
     "name": "stdout",
     "output_type": "stream",
     "text": [
      "page 901\n",
      "['탄생', '전개가 빠르고 영상이 아름다웠습니다 ', 10]\n"
     ]
    },
    {
     "name": "stderr",
     "output_type": "stream",
     "text": [
      "\r",
      " 90%|████████████████████████████████████████████████████████████████████████▏       | 901/999 [09:14<01:03,  1.54it/s]"
     ]
    },
    {
     "name": "stdout",
     "output_type": "stream",
     "text": [
      "page 902\n",
      "['올빼미', '아니 이렇게 재미있어도 되는거야?! 무조건 보셔요', 10]\n"
     ]
    },
    {
     "name": "stderr",
     "output_type": "stream",
     "text": [
      "\r",
      " 90%|████████████████████████████████████████████████████████████████████████▏       | 902/999 [09:14<01:02,  1.56it/s]"
     ]
    },
    {
     "name": "stdout",
     "output_type": "stream",
     "text": [
      "page 903\n",
      "['탄생', '2시간반이란 시간이 전혀 느껴지지 않던따뜻하면서 가슴속엔 뜨거운 무언가 가득차는 영화였어요학창시절 짧게 배웠던 김대건 신부님의 몰랐던 사실을 알게되었네요배우분들과 감독님께 진심을 담아 박수보냅니다살짝 아쉬운점은 최양업 신부님의 얘기도 더 담았으면 좋았을것 같아요', 10]\n"
     ]
    },
    {
     "name": "stderr",
     "output_type": "stream",
     "text": [
      "\r",
      " 90%|████████████████████████████████████████████████████████████████████████▎       | 903/999 [09:15<01:01,  1.56it/s]"
     ]
    },
    {
     "name": "stdout",
     "output_type": "stream",
     "text": [
      "page 904\n",
      "['판의 미로 - 오필리아와 세 개의 열쇠', '그 상황에서 굳이 왜 음미하면서 포도를 퍼먹고 있는지 이해할 수가 없는. ', 10]\n"
     ]
    },
    {
     "name": "stderr",
     "output_type": "stream",
     "text": [
      "\r",
      " 90%|████████████████████████████████████████████████████████████████████████▍       | 904/999 [09:15<01:00,  1.56it/s]"
     ]
    },
    {
     "name": "stdout",
     "output_type": "stream",
     "text": [
      "page 905\n",
      "['올빼미', '기대안하고 봤는데 엄청 재밌었습니다. 특히 중후반부터 긴장감 지립니다...', 10]\n"
     ]
    },
    {
     "name": "stderr",
     "output_type": "stream",
     "text": [
      "\r",
      " 91%|████████████████████████████████████████████████████████████████████████▍       | 905/999 [09:16<01:00,  1.57it/s]"
     ]
    },
    {
     "name": "stdout",
     "output_type": "stream",
     "text": [
      "page 906\n",
      "['올빼미', '역사를토대로된영화라서 느낌이깊게느껴지네요  쫄깃하고몰입감있고좋았어요', 9]\n"
     ]
    },
    {
     "name": "stderr",
     "output_type": "stream",
     "text": [
      "\r",
      " 91%|████████████████████████████████████████████████████████████████████████▌       | 906/999 [09:17<00:59,  1.57it/s]"
     ]
    },
    {
     "name": "stdout",
     "output_type": "stream",
     "text": [
      "page 907\n",
      "['올빼미', '치밀한 연출에 익숙한 배우들의 신선한 연기가 만나니 개연성에서 조금 아쉽지만 전반적으로 잘 짜여진 스릴러 영화가 되었다고 봄', 10]\n"
     ]
    },
    {
     "name": "stderr",
     "output_type": "stream",
     "text": [
      "\r",
      " 91%|████████████████████████████████████████████████████████████████████████▋       | 907/999 [09:17<00:58,  1.57it/s]"
     ]
    },
    {
     "name": "stdout",
     "output_type": "stream",
     "text": [
      "page 908\n",
      "['압꾸정', '있을법한 아니 실제 있는 이야기에 부합되어 나름 재미있었어요. ', 6]\n"
     ]
    },
    {
     "name": "stderr",
     "output_type": "stream",
     "text": [
      "\r",
      " 91%|████████████████████████████████████████████████████████████████████████▋       | 908/999 [09:18<00:57,  1.57it/s]"
     ]
    },
    {
     "name": "stdout",
     "output_type": "stream",
     "text": [
      "page 909\n",
      "['올빼미', '줄거리 탄탄하고 류준열.유해진 연기가 더해 몰입도 확 올리고영화배경음악또한 영화의 집중도를 더 높여 시간가는줄 모르고 봤어요모처럼 영화같은 영화 잘 봤습니다', 10]\n"
     ]
    },
    {
     "name": "stderr",
     "output_type": "stream",
     "text": [
      "\r",
      " 91%|████████████████████████████████████████████████████████████████████████▊       | 909/999 [09:19<00:57,  1.58it/s]"
     ]
    },
    {
     "name": "stdout",
     "output_type": "stream",
     "text": [
      "page 910\n",
      "['올빼미', '유해진배우님 메소드연기가 뇌리에 남아요세자가 죽어가는 장면은 영화가 끝나도 침통한 기분이 맴돌게 했고, 한데 얻어 맞은 듯한 기분이 드는 영화였습니다. ', 10]\n"
     ]
    },
    {
     "name": "stderr",
     "output_type": "stream",
     "text": [
      "\r",
      " 91%|████████████████████████████████████████████████████████████████████████▊       | 910/999 [09:19<00:56,  1.58it/s]"
     ]
    },
    {
     "name": "stdout",
     "output_type": "stream",
     "text": [
      "page 911\n",
      "['전투왕', '오랜만에 좋은 영화 한편 봤습니다.', 10]\n"
     ]
    },
    {
     "name": "stderr",
     "output_type": "stream",
     "text": [
      "\r",
      " 91%|████████████████████████████████████████████████████████████████████████▉       | 911/999 [09:20<00:55,  1.57it/s]"
     ]
    },
    {
     "name": "stdout",
     "output_type": "stream",
     "text": [
      "page 912\n",
      "['헤어질 결심', '엇갈린 사랑, 사랑에 목숨을 던진다!마침내 마지막 씬을 완성하기위한 안개같은 이야기구성!오랜만에 멋지고 슬픔가득한 러브스토리 영화 잘 감상했습니다.역시 박찬욱 감독님 !컷 하나에 깊은 이유들. 천재적 컷 들, 아직 우리나라에 없었던 시나리오!영혼을 바친 영화작품 잘 감상했습니다.', 10]\n"
     ]
    },
    {
     "name": "stderr",
     "output_type": "stream",
     "text": [
      "\r",
      " 91%|█████████████████████████████████████████████████████████████████████████       | 912/999 [09:21<00:55,  1.56it/s]"
     ]
    },
    {
     "name": "stdout",
     "output_type": "stream",
     "text": [
      "page 913\n",
      "['이중간첩', '뭐야..이거...왜이렇게 재밌음? 지금 나왔으면 헌트급 인기는 되었을듯', 10]\n"
     ]
    },
    {
     "name": "stderr",
     "output_type": "stream",
     "text": [
      "\r",
      " 91%|█████████████████████████████████████████████████████████████████████████       | 913/999 [09:21<00:54,  1.57it/s]"
     ]
    },
    {
     "name": "stdout",
     "output_type": "stream",
     "text": [
      "page 914\n",
      "['탄생', '현대에 신앙생활을 할 수 있음에 감사드리고, 하느님께 가까이 기도드릴 수 있도록 길을 만들어 주신 세계의 사제분들과 성 김대건 안드레아 신부님, 가경자 최양업 토마스 신부님 그리고 우리나라의 신앙선조들께 감사드립니다.♡ ', 10]\n"
     ]
    },
    {
     "name": "stderr",
     "output_type": "stream",
     "text": [
      "\r",
      " 91%|█████████████████████████████████████████████████████████████████████████▏      | 914/999 [09:22<00:54,  1.57it/s]"
     ]
    },
    {
     "name": "stdout",
     "output_type": "stream",
     "text": [
      "page 915\n",
      "['너와 사랑한 시간', '오늘 보고 왔습니다.. 평점 보고 영화를 봣는데우셧다는 분들이 꽤 계셔서 으흠.. 그정도인가햇는데... 소리만 안 냇지 막판에 통곡을 했습니다.. 추천합니다.. 진짜..', 10]\n"
     ]
    },
    {
     "name": "stderr",
     "output_type": "stream",
     "text": [
      "\r",
      " 92%|█████████████████████████████████████████████████████████████████████████▎      | 915/999 [09:22<00:53,  1.57it/s]"
     ]
    },
    {
     "name": "stdout",
     "output_type": "stream",
     "text": [
      "page 916\n",
      "['압꾸정', '개그코드 맞으면 재밌게 볼만한 오락영화임.  찰진 연기, 약방의 감초같은 개그코드, 가벼운 분위기의 오락영화. 단 마동석 캐릭터는 어느 영화나 비슷하네(캐릭터성의 소진으로 인한 피로), 살짝 개연성 부족한 부분은 아쉬움', 9]\n"
     ]
    },
    {
     "name": "stderr",
     "output_type": "stream",
     "text": [
      "\r",
      " 92%|█████████████████████████████████████████████████████████████████████████▎      | 916/999 [09:23<00:52,  1.57it/s]"
     ]
    },
    {
     "name": "stdout",
     "output_type": "stream",
     "text": [
      "page 917\n",
      "['올빼미', '가족들 다 가서 보고 왔습니다. 영화 끝나자마자 다같이 와.... 했던. 천만 가야할 영화라고 봅니다. 이 영화를 통해서 류준열이라는 배우를 정말로, 사랑하게 되었습니다.', 10]\n"
     ]
    },
    {
     "name": "stderr",
     "output_type": "stream",
     "text": [
      "\r",
      " 92%|█████████████████████████████████████████████████████████████████████████▍      | 917/999 [09:24<00:51,  1.58it/s]"
     ]
    },
    {
     "name": "stdout",
     "output_type": "stream",
     "text": [
      "page 918\n",
      "['본즈 앤 올', '로맨스와는 어울리지 않을 소재로 이렇게 아름다운 영화를 완성하다니.. 루카 감독님은 진짜 천재 느낌...', 10]\n"
     ]
    },
    {
     "name": "stderr",
     "output_type": "stream",
     "text": [
      "\r",
      " 92%|█████████████████████████████████████████████████████████████████████████▌      | 918/999 [09:24<00:51,  1.58it/s]"
     ]
    },
    {
     "name": "stdout",
     "output_type": "stream",
     "text": [
      "page 919\n",
      "['탄생', '우리나라 국민으로서 김대건신부님의 명석한 두뇌와 끈질긴 집념과 신앙심으로 우리나라의 발전의 초석이되신것에 깊이 감명받았고, 월드컵과 더불어 한국인으로서 자긍심을 가질수있는 가슴찡한 영화였습니다. 요즘 흥행영화가 매우 폭력적이고 자극적인데, 청소년이나 젊은세대가 이런역사 영화를 통해서 애국심을 고취시키고, 온고지신의 정신을 다시한번 새길수 있는 교훈적인 영화인것같습니다.윤시윤 배우님 연기도 좋았어요', 10]\n"
     ]
    },
    {
     "name": "stderr",
     "output_type": "stream",
     "text": [
      "\r",
      " 92%|█████████████████████████████████████████████████████████████████████████▌      | 919/999 [09:25<00:52,  1.53it/s]"
     ]
    },
    {
     "name": "stdout",
     "output_type": "stream",
     "text": [
      "page 920\n",
      "['올빼미', '두배우의 연기만으로도 몰입감이 상당합니다.', 8]\n"
     ]
    },
    {
     "name": "stderr",
     "output_type": "stream",
     "text": [
      "\r",
      " 92%|█████████████████████████████████████████████████████████████████████████▋      | 920/999 [09:26<00:51,  1.54it/s]"
     ]
    },
    {
     "name": "stdout",
     "output_type": "stream",
     "text": [
      "page 921\n",
      "['데시벨', '볼 맛 안남 연출만 좋음.', 6]\n"
     ]
    },
    {
     "name": "stderr",
     "output_type": "stream",
     "text": [
      "\r",
      " 92%|█████████████████████████████████████████████████████████████████████████▊      | 921/999 [09:26<00:50,  1.55it/s]"
     ]
    },
    {
     "name": "stdout",
     "output_type": "stream",
     "text": [
      "page 922\n",
      "['블랙 팬서: 와칸다 포에버', '무슨말이필요한가?블랙팬서는영원하다', 10]\n"
     ]
    },
    {
     "name": "stderr",
     "output_type": "stream",
     "text": [
      "\r",
      " 92%|█████████████████████████████████████████████████████████████████████████▊      | 922/999 [09:27<00:49,  1.55it/s]"
     ]
    },
    {
     "name": "stdout",
     "output_type": "stream",
     "text": [
      "page 923\n",
      "['분노의 질주: 더 얼티메이트', '개연성은 개나 줘버린 영화', 5]\n"
     ]
    },
    {
     "name": "stderr",
     "output_type": "stream",
     "text": [
      "\r",
      " 92%|█████████████████████████████████████████████████████████████████████████▉      | 923/999 [09:28<00:49,  1.55it/s]"
     ]
    },
    {
     "name": "stdout",
     "output_type": "stream",
     "text": [
      "page 924\n",
      "['올빼미', '연기력 최고 러닝타임과 모든게 좋았어요', 9]\n"
     ]
    },
    {
     "name": "stderr",
     "output_type": "stream",
     "text": [
      "\r",
      " 92%|█████████████████████████████████████████████████████████████████████████▉      | 924/999 [09:28<00:48,  1.55it/s]"
     ]
    },
    {
     "name": "stdout",
     "output_type": "stream",
     "text": [
      "page 925\n",
      "['올빼미', 'CGV에서 보고 나왔습니다.유해진님을 좋아해서 봤는데 너무 재미있었어요. 역사서에 쓰여진 내용이 섞여있어 더욱 재미있게 감상했습니다!', 10]\n"
     ]
    },
    {
     "name": "stderr",
     "output_type": "stream",
     "text": [
      "\r",
      " 93%|██████████████████████████████████████████████████████████████████████████      | 925/999 [09:29<00:47,  1.56it/s]"
     ]
    },
    {
     "name": "stdout",
     "output_type": "stream",
     "text": [
      "page 926\n",
      "['프리즌', 'ㅋㅋㅋ  감독뇌절수준 쪽팔린다 진짜', 1]\n"
     ]
    },
    {
     "name": "stderr",
     "output_type": "stream",
     "text": [
      "\r",
      " 93%|██████████████████████████████████████████████████████████████████████████▏     | 926/999 [09:29<00:46,  1.57it/s]"
     ]
    },
    {
     "name": "stdout",
     "output_type": "stream",
     "text": [
      "page 927\n",
      "['통영에서의 하루', '통영에 대해 별로 보여주는건 없음.. 공중파티비에서 미니드라마 보는듯한 느낌.. ', 4]\n"
     ]
    },
    {
     "name": "stderr",
     "output_type": "stream",
     "text": [
      "\r",
      " 93%|██████████████████████████████████████████████████████████████████████████▏     | 927/999 [09:30<00:45,  1.57it/s]"
     ]
    },
    {
     "name": "stdout",
     "output_type": "stream",
     "text": [
      "page 928\n",
      "['올빼미', '재밌다. 보는거 추천!', 10]\n"
     ]
    },
    {
     "name": "stderr",
     "output_type": "stream",
     "text": [
      "\r",
      " 93%|██████████████████████████████████████████████████████████████████████████▎     | 928/999 [09:31<00:45,  1.57it/s]"
     ]
    },
    {
     "name": "stdout",
     "output_type": "stream",
     "text": [
      "page 929\n",
      "['외계+인 1부', '나는 재밌었다. 관객수도 그렇고 혹평이 많아서 어쩌나 싶었는데 재밌던데....물론 전작이 워낙 뛰어나서 기대감을 높여버리는 바람에 사람들 눈높이가 확 올라가 있어서 더 혹평이 나왔을지도', 9]\n"
     ]
    },
    {
     "name": "stderr",
     "output_type": "stream",
     "text": [
      "\r",
      " 93%|██████████████████████████████████████████████████████████████████████████▍     | 929/999 [09:31<00:44,  1.57it/s]"
     ]
    },
    {
     "name": "stdout",
     "output_type": "stream",
     "text": [
      "page 930\n",
      "['압꾸정', '넘재미있게봤어요 최고인듯', 10]\n"
     ]
    },
    {
     "name": "stderr",
     "output_type": "stream",
     "text": [
      "\r",
      " 93%|██████████████████████████████████████████████████████████████████████████▍     | 930/999 [09:32<00:43,  1.58it/s]"
     ]
    },
    {
     "name": "stdout",
     "output_type": "stream",
     "text": [
      "page 931\n",
      "['올빼미', '류준열 때문에 조마조마..류배우 이 영화로 빛 좀 봅시당... ', 10]\n"
     ]
    },
    {
     "name": "stderr",
     "output_type": "stream",
     "text": [
      "\r",
      " 93%|██████████████████████████████████████████████████████████████████████████▌     | 931/999 [09:33<00:43,  1.58it/s]"
     ]
    },
    {
     "name": "stdout",
     "output_type": "stream",
     "text": [
      "page 932\n",
      "['헤어질 결심', '이해가 약간 어렵지만 좋네요', 10]\n"
     ]
    },
    {
     "name": "stderr",
     "output_type": "stream",
     "text": [
      "\r",
      " 93%|██████████████████████████████████████████████████████████████████████████▋     | 932/999 [09:33<00:42,  1.57it/s]"
     ]
    },
    {
     "name": "stdout",
     "output_type": "stream",
     "text": [
      "page 933\n",
      "['올빼미', '류준열이 돌아왔다 꼭보세요 짱입니더', 10]\n"
     ]
    },
    {
     "name": "stderr",
     "output_type": "stream",
     "text": [
      "\r",
      " 93%|██████████████████████████████████████████████████████████████████████████▋     | 933/999 [09:34<00:41,  1.58it/s]"
     ]
    },
    {
     "name": "stdout",
     "output_type": "stream",
     "text": [
      "page 934\n",
      "['문폴', '너무재미있게 봤어용 ㅎㅎ', 10]\n"
     ]
    },
    {
     "name": "stderr",
     "output_type": "stream",
     "text": [
      "\r",
      " 93%|██████████████████████████████████████████████████████████████████████████▊     | 934/999 [09:35<00:41,  1.58it/s]"
     ]
    },
    {
     "name": "stdout",
     "output_type": "stream",
     "text": [
      "page 935\n",
      "['극장판 뽀로로와 친구들: 바이러스를 없애줘!', '만화보며 졸아보긴 첨이네요. 명색이 뽀로로인데 어디서 본듯한 그림 다 붙혀놓고 정말. 사진찍는 곳도 종이 두장 벽에 붙혀놓고 정말. 일년에 1편만 만들고 제대로 좀 만드세요.', 2]\n"
     ]
    },
    {
     "name": "stderr",
     "output_type": "stream",
     "text": [
      "\r",
      " 94%|██████████████████████████████████████████████████████████████████████████▊     | 935/999 [09:35<00:40,  1.58it/s]"
     ]
    },
    {
     "name": "stdout",
     "output_type": "stream",
     "text": [
      "page 936\n",
      "['올빼미', '와 … 지렸다 !!!!   이 말 밖에 생각 안남 ', 10]\n"
     ]
    },
    {
     "name": "stderr",
     "output_type": "stream",
     "text": [
      "\r",
      " 94%|██████████████████████████████████████████████████████████████████████████▉     | 936/999 [09:36<00:40,  1.57it/s]"
     ]
    },
    {
     "name": "stdout",
     "output_type": "stream",
     "text": [
      "page 937\n",
      "['올빼미', '진짜 명작,,,영화를 많이 보는데도 불구하고 올해본 영화중 3위입니다.', 10]\n"
     ]
    },
    {
     "name": "stderr",
     "output_type": "stream",
     "text": [
      "\r",
      " 94%|███████████████████████████████████████████████████████████████████████████     | 937/999 [09:36<00:39,  1.57it/s]"
     ]
    },
    {
     "name": "stdout",
     "output_type": "stream",
     "text": [
      "page 938\n",
      "['오늘 밤, 세계에서 이 사랑이 사라진다 해도', '7월달에 책을 보고 12월 3일에 봤는데 먹먹해지고 &amp;#34;나는 내일, 어제의 너을 만나다.&amp;#34; 와 같이 만약에  책보다 영화을 먼저 봤다면 눈물이 나올정도의 슬픈 영화예요', 10]\n"
     ]
    },
    {
     "name": "stderr",
     "output_type": "stream",
     "text": [
      "\r",
      " 94%|███████████████████████████████████████████████████████████████████████████     | 938/999 [09:37<00:39,  1.53it/s]"
     ]
    },
    {
     "name": "stdout",
     "output_type": "stream",
     "text": [
      "page 939\n",
      "['오늘 밤, 세계에서 이 사랑이 사라진다 해도', '오랜만에 잔잔하고 슬픈 영화', 10]\n"
     ]
    },
    {
     "name": "stderr",
     "output_type": "stream",
     "text": [
      "\r",
      " 94%|███████████████████████████████████████████████████████████████████████████▏    | 939/999 [09:38<00:38,  1.55it/s]"
     ]
    },
    {
     "name": "stdout",
     "output_type": "stream",
     "text": [
      "page 940\n",
      "['데시벨', '차은우와 이종석 눈빛도 좋고 연기도 너무 잘하네요 스토리도 좋고 김래원도 잘 표현한것 같아요', 10]\n"
     ]
    },
    {
     "name": "stderr",
     "output_type": "stream",
     "text": [
      "\r",
      " 94%|███████████████████████████████████████████████████████████████████████████▎    | 940/999 [09:38<00:37,  1.55it/s]"
     ]
    },
    {
     "name": "stdout",
     "output_type": "stream",
     "text": [
      "page 941\n",
      "['연애 빠진 로맨스', '20대 중, 후반에 공감할 수 있는 현실적인 스토리입니다. 그래서 더 좋은 거 같습니다 :)연애의 형태에는 정답이 없고 서로만 알 수 있는 것들이 있죠 ', 10]\n"
     ]
    },
    {
     "name": "stderr",
     "output_type": "stream",
     "text": [
      "\r",
      " 94%|███████████████████████████████████████████████████████████████████████████▎    | 941/999 [09:39<00:37,  1.56it/s]"
     ]
    },
    {
     "name": "stdout",
     "output_type": "stream",
     "text": [
      "page 942\n",
      "['탄생', '감사합니다.좋은 영화.감명있는 영화.', 10]\n"
     ]
    },
    {
     "name": "stderr",
     "output_type": "stream",
     "text": [
      "\r",
      " 94%|███████████████████████████████████████████████████████████████████████████▍    | 942/999 [09:40<00:36,  1.56it/s]"
     ]
    },
    {
     "name": "stdout",
     "output_type": "stream",
     "text": [
      "page 943\n",
      "['오큘러스', '여기에 해리 윙크스 나옵니다 ', 8]\n"
     ]
    },
    {
     "name": "stderr",
     "output_type": "stream",
     "text": [
      "\r",
      " 94%|███████████████████████████████████████████████████████████████████████████▌    | 943/999 [09:40<00:35,  1.56it/s]"
     ]
    },
    {
     "name": "stdout",
     "output_type": "stream",
     "text": [
      "page 944\n",
      "['원피스 필름 레드', '영화 보고 나오는 길에 영화를 보는 도중에 대부분 사람들이여자(우타) 왜 저래?라고 하는 걸 들었습니다  다른 극장판이면 모르겠지만 “이번 극장판에서” 만큼은!우타의 감정을 시청자들에게 느끼게 하기엔 턱없이 부족한 연출이었다고 생각합니다 애초에 원피스 자체가 무거운 애니가 아니어서 그런지도 모르겠네요 다른 원피스 극장판은 각 에피소드마다 주인공(서브 캐릭터)과 밀짚모자들이 “진정한”주인공인 반면에 이번 필름 레드는 “진정한 주인공”이라 할 수 있는 우타의 감정선, &amp;#34;아 처음 등장했을 때부터 망가져있었구나&amp;#34; 라고 납득할만한 이유와 감정,  어려서부터 마음이 망가져 가던 모습을 충분히 보여주지 못한 게 이번에도 밀집모자들이 메인인 줄 알았던 대부분의 사람들이 엥? 뭐지? 이해가 안 되네 라고 받아들 수 없었던 이유라고 생각합니다 많이 아쉽습니다 ', 8]\n"
     ]
    },
    {
     "name": "stderr",
     "output_type": "stream",
     "text": [
      "\r",
      " 94%|███████████████████████████████████████████████████████████████████████████▌    | 944/999 [09:41<00:35,  1.56it/s]"
     ]
    },
    {
     "name": "stdout",
     "output_type": "stream",
     "text": [
      "page 945\n",
      "['올빼미', '기대안하고 봤는데 재밌었어용', 10]\n"
     ]
    },
    {
     "name": "stderr",
     "output_type": "stream",
     "text": [
      "\r",
      " 95%|███████████████████████████████████████████████████████████████████████████▋    | 945/999 [09:42<00:34,  1.56it/s]"
     ]
    },
    {
     "name": "stdout",
     "output_type": "stream",
     "text": [
      "page 946\n",
      "['쥬라기 월드: 도미니언', '쥬라기 시리즈에서 왜 인간의 액션씬을 보고앉아있어야되나', 1]\n"
     ]
    },
    {
     "name": "stderr",
     "output_type": "stream",
     "text": [
      "\r",
      " 95%|███████████████████████████████████████████████████████████████████████████▊    | 946/999 [09:42<00:33,  1.56it/s]"
     ]
    },
    {
     "name": "stdout",
     "output_type": "stream",
     "text": [
      "page 947\n",
      "['올빼미', '류준열배우 연기 감동적이였습니다 시나리오 소재가 그닥..하면서 봤는데 기대이상의 만족스러운 영화였어요 ', 10]\n"
     ]
    },
    {
     "name": "stderr",
     "output_type": "stream",
     "text": [
      "\r",
      " 95%|███████████████████████████████████████████████████████████████████████████▊    | 947/999 [09:43<00:33,  1.57it/s]"
     ]
    },
    {
     "name": "stdout",
     "output_type": "stream",
     "text": [
      "page 948\n",
      "['압꾸정', '돈 세는 장면이 그나마도 잴 재밌게 봤다 ', 1]\n"
     ]
    },
    {
     "name": "stderr",
     "output_type": "stream",
     "text": [
      "\r",
      " 95%|███████████████████████████████████████████████████████████████████████████▉    | 948/999 [09:44<00:32,  1.57it/s]"
     ]
    },
    {
     "name": "stdout",
     "output_type": "stream",
     "text": [
      "page 949\n",
      "['올빼미', '두번봐 세번봐…무대인사 보고 오는길임..유해진배우님은 믿고 보는 배우고 류준열 연기 미쳤다…진짜다 원래 암생각 없다가 지금 팬 될 위기다…………', 10]\n"
     ]
    },
    {
     "name": "stderr",
     "output_type": "stream",
     "text": [
      "\r",
      " 95%|███████████████████████████████████████████████████████████████████████████▉    | 949/999 [09:44<00:31,  1.57it/s]"
     ]
    },
    {
     "name": "stdout",
     "output_type": "stream",
     "text": [
      "page 950\n",
      "['올빼미', '연기 잘하고 흥미진진?재밌게 보고 가네요.', 8]\n"
     ]
    },
    {
     "name": "stderr",
     "output_type": "stream",
     "text": [
      "\r",
      " 95%|████████████████████████████████████████████████████████████████████████████    | 950/999 [09:45<00:31,  1.57it/s]"
     ]
    },
    {
     "name": "stdout",
     "output_type": "stream",
     "text": [
      "page 951\n",
      "['올빼미', '올뺴미 큰 기대를 안하고 본 영화였지만초반의 지루함을 벗어나면 중간부턴 박진감도 있고재미있는 부분이 많다.픽션이 가미된 영화지만 그래도 준수하게 본 영화.류준열의 연기는 갈수록 성장하는게 느껴진다.간만에 후회없이 본 영화. 강력 추천', 9]\n"
     ]
    },
    {
     "name": "stderr",
     "output_type": "stream",
     "text": [
      "\r",
      " 95%|████████████████████████████████████████████████████████████████████████████▏   | 951/999 [09:45<00:30,  1.57it/s]"
     ]
    },
    {
     "name": "stdout",
     "output_type": "stream",
     "text": [
      "page 952\n",
      "['판도라', '탈원전정책을 밀어붙이던 문정권의 떨거지들이 사전작업으로 만든 영화 국가전략산업이 음모론으로 고사될뻔했다', 1]\n"
     ]
    },
    {
     "name": "stderr",
     "output_type": "stream",
     "text": [
      "\r",
      " 95%|████████████████████████████████████████████████████████████████████████████▏   | 952/999 [09:46<00:29,  1.58it/s]"
     ]
    },
    {
     "name": "stdout",
     "output_type": "stream",
     "text": [
      "page 953\n",
      "['판도라', '웹튠인가? 상식도 없는 작가맘대로 만들었네', 2]\n"
     ]
    },
    {
     "name": "stderr",
     "output_type": "stream",
     "text": [
      "\r",
      " 95%|████████████████████████████████████████████████████████████████████████████▎   | 953/999 [09:47<00:29,  1.58it/s]"
     ]
    },
    {
     "name": "stdout",
     "output_type": "stream",
     "text": [
      "page 954\n",
      "['탄생', '조금 길지만, 그렇게 긴 이유는 그만큼 담아야할 이야기가 많았을 뿐고증도 좋고, 감동도 있었다.결국 그들의 희생으로 내가 여기에 서있다.', 10]\n"
     ]
    },
    {
     "name": "stderr",
     "output_type": "stream",
     "text": [
      "\r",
      " 95%|████████████████████████████████████████████████████████████████████████████▍   | 954/999 [09:47<00:28,  1.58it/s]"
     ]
    },
    {
     "name": "stdout",
     "output_type": "stream",
     "text": [
      "page 955\n",
      "['올빼미', '재미있게 잘봤어요 스토리가 좋네요 ', 10]\n"
     ]
    },
    {
     "name": "stderr",
     "output_type": "stream",
     "text": [
      "\r",
      " 96%|████████████████████████████████████████████████████████████████████████████▍   | 955/999 [09:48<00:28,  1.57it/s]"
     ]
    },
    {
     "name": "stdout",
     "output_type": "stream",
     "text": [
      "page 956\n",
      "['올빼미', '역사를 기반으로 했으니 결말이 밍숭미숭이란 댓글은 역사를 모르나봅니다 쯧쯧ㅋㅋㅋ상영내내 쫄깃쫄깃 재밌습니다 강추! 류준열 유해진 배우 연기 진짜 좋았어요 교훈: 욕심을 부리지않았다면 나라의 역사가 바뀌고 후손들의 삶이 달라졌을것이다! ', 10]\n"
     ]
    },
    {
     "name": "stderr",
     "output_type": "stream",
     "text": [
      "\r",
      " 96%|████████████████████████████████████████████████████████████████████████████▌   | 956/999 [09:49<00:28,  1.53it/s]"
     ]
    },
    {
     "name": "stdout",
     "output_type": "stream",
     "text": [
      "page 957\n",
      "['전우치', '여자들만 좋아하고 재밌게 볼 영화. 남자들은 별로 재미없게 볼 영화', 6]\n"
     ]
    },
    {
     "name": "stderr",
     "output_type": "stream",
     "text": [
      "\r",
      " 96%|████████████████████████████████████████████████████████████████████████████▋   | 957/999 [09:49<00:27,  1.55it/s]"
     ]
    },
    {
     "name": "stdout",
     "output_type": "stream",
     "text": [
      "page 958\n",
      "['올빼미', '무서운거 잘 못봐서 좀 걱정했는데 정말 딱 스릴있게 재밌게 봤어요! 긴장감과 몰입도가 높아서 엄청 집중해서 보게 되네요!! 너무 재밌게 잘봤습니당~~', 10]\n"
     ]
    },
    {
     "name": "stderr",
     "output_type": "stream",
     "text": [
      "\r",
      " 96%|████████████████████████████████████████████████████████████████████████████▋   | 958/999 [09:50<00:26,  1.56it/s]"
     ]
    },
    {
     "name": "stdout",
     "output_type": "stream",
     "text": [
      "page 959\n",
      "['탄생', '영화 보는 내내 감동이 벅차 올랐던 영화!!!한번 더 다시보고 싶을 정도네요^^', 10]\n"
     ]
    },
    {
     "name": "stderr",
     "output_type": "stream",
     "text": [
      "\r",
      " 96%|████████████████████████████████████████████████████████████████████████████▊   | 959/999 [09:51<00:25,  1.56it/s]"
     ]
    },
    {
     "name": "stdout",
     "output_type": "stream",
     "text": [
      "page 960\n",
      "['스포트라이트', '우리나라기래기들한텐 본받으라는 말조차 아까운이야기', 10]\n"
     ]
    },
    {
     "name": "stderr",
     "output_type": "stream",
     "text": [
      "\r",
      " 96%|████████████████████████████████████████████████████████████████████████████▉   | 960/999 [09:51<00:24,  1.56it/s]"
     ]
    },
    {
     "name": "stdout",
     "output_type": "stream",
     "text": [
      "page 961\n",
      "['헤어질 결심', '탕웨이의 치명적임에서 빠져 나올 수 없는 영화', 10]\n"
     ]
    },
    {
     "name": "stderr",
     "output_type": "stream",
     "text": [
      "\r",
      " 96%|████████████████████████████████████████████████████████████████████████████▉   | 961/999 [09:52<00:24,  1.56it/s]"
     ]
    },
    {
     "name": "stdout",
     "output_type": "stream",
     "text": [
      "page 962\n",
      "['올빼미', '와우 오랜만에 극장에서 볼만한 영화가 나온듯 초반엔 지루했으나 반전 나올 때부터 엄청 몰입해서 봄 추천할 수 있는 영화! ', 10]\n"
     ]
    },
    {
     "name": "stderr",
     "output_type": "stream",
     "text": [
      "\r",
      " 96%|█████████████████████████████████████████████████████████████████████████████   | 962/999 [09:52<00:23,  1.56it/s]"
     ]
    },
    {
     "name": "stdout",
     "output_type": "stream",
     "text": [
      "page 963\n",
      "['이스케이프 룸', '오징어 게임 이전에 이게 있었다!!', 8]\n"
     ]
    },
    {
     "name": "stderr",
     "output_type": "stream",
     "text": [
      "\r",
      " 96%|█████████████████████████████████████████████████████████████████████████████   | 963/999 [09:53<00:23,  1.56it/s]"
     ]
    },
    {
     "name": "stdout",
     "output_type": "stream",
     "text": [
      "page 964\n",
      "['올빼미', '개연성이 좀 부족한게 흠..연출과 연기는 뛰어나서 초반 지나고부턴 영화에 집중이 잘됨. 간만에 괜찮은 스릴러물인듯..', 9]\n"
     ]
    },
    {
     "name": "stderr",
     "output_type": "stream",
     "text": [
      "\r",
      " 96%|█████████████████████████████████████████████████████████████████████████████▏  | 964/999 [09:54<00:22,  1.55it/s]"
     ]
    },
    {
     "name": "stdout",
     "output_type": "stream",
     "text": [
      "page 965\n",
      "['압꾸정', '재밌게 봤어요. 볼만해요.', 7]\n"
     ]
    },
    {
     "name": "stderr",
     "output_type": "stream",
     "text": [
      "\r",
      " 97%|█████████████████████████████████████████████████████████████████████████████▎  | 965/999 [09:54<00:21,  1.55it/s]"
     ]
    },
    {
     "name": "stdout",
     "output_type": "stream",
     "text": [
      "page 966\n",
      "['갓파 쿠와 여름방학을', '자연 파괴라는 현실적 문제를 신비롭고 정겨운 동화로 풀어낸 눈물겨운 명작.', 10]\n"
     ]
    },
    {
     "name": "stderr",
     "output_type": "stream",
     "text": [
      "\r",
      " 97%|█████████████████████████████████████████████████████████████████████████████▎  | 966/999 [09:55<00:21,  1.56it/s]"
     ]
    },
    {
     "name": "stdout",
     "output_type": "stream",
     "text": [
      "page 967\n",
      "['올빼미', '시국을 잘못 읽는 왕의 찌질함', 8]\n"
     ]
    },
    {
     "name": "stderr",
     "output_type": "stream",
     "text": [
      "\r",
      " 97%|█████████████████████████████████████████████████████████████████████████████▍  | 967/999 [09:56<00:20,  1.56it/s]"
     ]
    },
    {
     "name": "stdout",
     "output_type": "stream",
     "text": [
      "page 968\n",
      "['세이레', '소재가 아주 좋은데 늦어서 반밖에 못봐서 아쉬워요,', 7]\n"
     ]
    },
    {
     "name": "stderr",
     "output_type": "stream",
     "text": [
      "\r",
      " 97%|█████████████████████████████████████████████████████████████████████████████▌  | 968/999 [09:56<00:19,  1.56it/s]"
     ]
    },
    {
     "name": "stdout",
     "output_type": "stream",
     "text": [
      "page 969\n",
      "['올빼미', '연기가 한몫한 영화...역사는 승자의 것!...스토리가 약간의 아쉬움이 있지만...볼만합니다. 진짜, 이 영화처럼 나쁜사람은 벌 받고선의를 행한 사람은 행복하게 잘 살고 그런세상이면 좋겠습니다.', 9]\n"
     ]
    },
    {
     "name": "stderr",
     "output_type": "stream",
     "text": [
      "\r",
      " 97%|█████████████████████████████████████████████████████████████████████████████▌  | 969/999 [09:57<00:19,  1.55it/s]"
     ]
    },
    {
     "name": "stdout",
     "output_type": "stream",
     "text": [
      "page 970\n",
      "['바르도, 약간의 진실을 섞은 거짓된 연대기', '화면 큰 데서 보세요.심리적 체험감..영화 좋습니다.', 8]\n"
     ]
    },
    {
     "name": "stderr",
     "output_type": "stream",
     "text": [
      "\r",
      " 97%|█████████████████████████████████████████████████████████████████████████████▋  | 970/999 [09:58<00:18,  1.55it/s]"
     ]
    },
    {
     "name": "stdout",
     "output_type": "stream",
     "text": [
      "page 971\n",
      "['원피스 필름 레드', '연출이랑 ost 너무 좋았다. 진짜 너무 재밌었음', 10]\n"
     ]
    },
    {
     "name": "stderr",
     "output_type": "stream",
     "text": [
      "\r",
      " 97%|█████████████████████████████████████████████████████████████████████████████▊  | 971/999 [09:58<00:17,  1.56it/s]"
     ]
    },
    {
     "name": "stdout",
     "output_type": "stream",
     "text": [
      "page 972\n",
      "['엑스텐션', '거의 20년전 영화지만 연출좋고 끝까지 긴장감 유지시키는 제대로 된 스릴러영화임. 근데 네이버 줄거리에 스포를 하면 어쩌잔거지.. 뇌가 없나요 담당자님? ', 10]\n"
     ]
    },
    {
     "name": "stderr",
     "output_type": "stream",
     "text": [
      "\r",
      " 97%|█████████████████████████████████████████████████████████████████████████████▊  | 972/999 [09:59<00:17,  1.57it/s]"
     ]
    },
    {
     "name": "stdout",
     "output_type": "stream",
     "text": [
      "page 973\n",
      "['올빼미', 'Night Owl Day Blind ', 10]\n"
     ]
    },
    {
     "name": "stderr",
     "output_type": "stream",
     "text": [
      "\r",
      " 97%|█████████████████████████████████████████████████████████████████████████████▉  | 973/999 [10:00<00:16,  1.57it/s]"
     ]
    },
    {
     "name": "stdout",
     "output_type": "stream",
     "text": [
      "page 974\n",
      "['탄생', '연기자들의 탁월한 연기력에 감동이 배가 되었습니다. 쉽지않은 역할들이었을텐데 멋진 연기 보여주셔서 영화관을 나오는 내내 울음을 멈추기가 힘들었습니다.', 10]\n"
     ]
    },
    {
     "name": "stderr",
     "output_type": "stream",
     "text": [
      "\r",
      " 97%|█████████████████████████████████████████████████████████████████████████████▉  | 974/999 [10:00<00:15,  1.57it/s]"
     ]
    },
    {
     "name": "stdout",
     "output_type": "stream",
     "text": [
      "page 975\n",
      "['올빼미', '간만에 영화같은영화봤다', 10]\n"
     ]
    },
    {
     "name": "stderr",
     "output_type": "stream",
     "text": [
      "\r",
      " 98%|██████████████████████████████████████████████████████████████████████████████  | 975/999 [10:01<00:15,  1.52it/s]"
     ]
    },
    {
     "name": "stdout",
     "output_type": "stream",
     "text": [
      "page 976\n",
      "['올빼미', '마지막까지 재미있게 봤어요.', 7]\n"
     ]
    },
    {
     "name": "stderr",
     "output_type": "stream",
     "text": [
      "\r",
      " 98%|██████████████████████████████████████████████████████████████████████████████▏ | 976/999 [10:02<00:14,  1.54it/s]"
     ]
    },
    {
     "name": "stdout",
     "output_type": "stream",
     "text": [
      "page 977\n",
      "['탄생', '우리나라..그리고 천주교 역사를다시 한번 되새길 수 있는 영화입니다.순교.. 희생..고귀한 단어네요', 10]\n"
     ]
    },
    {
     "name": "stderr",
     "output_type": "stream",
     "text": [
      "\r",
      " 98%|██████████████████████████████████████████████████████████████████████████████▏ | 977/999 [10:02<00:14,  1.54it/s]"
     ]
    },
    {
     "name": "stdout",
     "output_type": "stream",
     "text": [
      "page 978\n",
      "['폴: 600미터', '별 기대 없었는데 재밌었어요.', 7]\n"
     ]
    },
    {
     "name": "stderr",
     "output_type": "stream",
     "text": [
      "\r",
      " 98%|██████████████████████████████████████████████████████████████████████████████▎ | 978/999 [10:03<00:13,  1.55it/s]"
     ]
    },
    {
     "name": "stdout",
     "output_type": "stream",
     "text": [
      "page 979\n",
      "['리멤버', '소재도 좋았고 연출과 내용 연기까지 너무 좋았습니다. 진짜 좋은 영화입니다 영화 보면서 펑펑 울고 웃었습니다영화 만드신 분들께 고맙다고 전해드리고 싶어요', 10]\n"
     ]
    },
    {
     "name": "stderr",
     "output_type": "stream",
     "text": [
      "\r",
      " 98%|██████████████████████████████████████████████████████████████████████████████▍ | 979/999 [10:03<00:12,  1.56it/s]"
     ]
    },
    {
     "name": "stdout",
     "output_type": "stream",
     "text": [
      "page 980\n",
      "['마당을 나온 암탉', '박철민은 전문 성우해도 되겠네...  더빙 ㅈㄴ잘해', 10]\n"
     ]
    },
    {
     "name": "stderr",
     "output_type": "stream",
     "text": [
      "\r",
      " 98%|██████████████████████████████████████████████████████████████████████████████▍ | 980/999 [10:04<00:12,  1.55it/s]"
     ]
    },
    {
     "name": "stdout",
     "output_type": "stream",
     "text": [
      "page 981\n",
      "['탄생', '다른분이 지루하단말을 듣고 긴시간 걱정을 했는데 보는 사람의 차이라는걸 알았습니다. 웃고 감동하고 눈물흘리고 교우로서 우리나라의 천주교 역사에 대해 많이 배우게 되는 시간이 되었습니다. ', 10]\n"
     ]
    },
    {
     "name": "stderr",
     "output_type": "stream",
     "text": [
      "\r",
      " 98%|██████████████████████████████████████████████████████████████████████████████▌ | 981/999 [10:05<00:11,  1.56it/s]"
     ]
    },
    {
     "name": "stdout",
     "output_type": "stream",
     "text": [
      "page 982\n",
      "['압꾸정', '마동석 개인기가 커서 재미가 없지는 않음 소소하게 잔잔바리로 웃기는 영화   인생에서 사람 믿을게 아니라는 의미심장한 메세지도 있음', 8]\n"
     ]
    },
    {
     "name": "stderr",
     "output_type": "stream",
     "text": [
      "\r",
      " 98%|██████████████████████████████████████████████████████████████████████████████▋ | 982/999 [10:05<00:10,  1.56it/s]"
     ]
    },
    {
     "name": "stdout",
     "output_type": "stream",
     "text": [
      "page 983\n",
      "['올빼미', '그냥그런한국영화.. 요즘 볼만한 영화가 없긴하구나', 6]\n"
     ]
    },
    {
     "name": "stderr",
     "output_type": "stream",
     "text": [
      "\r",
      " 98%|██████████████████████████████████████████████████████████████████████████████▋ | 983/999 [10:06<00:10,  1.57it/s]"
     ]
    },
    {
     "name": "stdout",
     "output_type": "stream",
     "text": [
      "page 984\n",
      "['올빼미', '탄탄하게 잘 짜여진 스토리와 유해진 류준열의 명품연기!!', 10]\n"
     ]
    },
    {
     "name": "stderr",
     "output_type": "stream",
     "text": [
      "\r",
      " 98%|██████████████████████████████████████████████████████████████████████████████▊ | 984/999 [10:07<00:09,  1.56it/s]"
     ]
    },
    {
     "name": "stdout",
     "output_type": "stream",
     "text": [
      "page 985\n",
      "['요정', '일상속에서 쉽게 볼수있는 갈등을 활용하여 몰입감있게 잘 표현하였다 배우들의 연기력과 지루하지 않은 스토리가 아주 좋았다 그러나 짧은 러닝타임 때문인지 이해가지 않는 부분이 몇몇 있었고 결말또한 아쉬움이 남았다 ', 8]\n"
     ]
    },
    {
     "name": "stderr",
     "output_type": "stream",
     "text": [
      "\r",
      " 99%|██████████████████████████████████████████████████████████████████████████████▉ | 985/999 [10:07<00:08,  1.56it/s]"
     ]
    },
    {
     "name": "stdout",
     "output_type": "stream",
     "text": [
      "page 986\n",
      "['압꾸정', '마동석 이름으로무조건 믿고 봤다가는실망 감당 못함', 1]\n"
     ]
    },
    {
     "name": "stderr",
     "output_type": "stream",
     "text": [
      "\r",
      " 99%|██████████████████████████████████████████████████████████████████████████████▉ | 986/999 [10:08<00:08,  1.56it/s]"
     ]
    },
    {
     "name": "stdout",
     "output_type": "stream",
     "text": [
      "page 987\n",
      "['올빼미', '우와….몰입 미쳤고 오랜만에 ㄹㅇ재밌는 영화 본듯', 10]\n"
     ]
    },
    {
     "name": "stderr",
     "output_type": "stream",
     "text": [
      "\r",
      " 99%|███████████████████████████████████████████████████████████████████████████████ | 987/999 [10:09<00:07,  1.56it/s]"
     ]
    },
    {
     "name": "stdout",
     "output_type": "stream",
     "text": [
      "page 988\n",
      "['압꾸정', '너무너무 재미있고 두 배우의 콜라보가 너무 인상깊고 좋았어요!! 강추입니다!', 9]\n"
     ]
    },
    {
     "name": "stderr",
     "output_type": "stream",
     "text": [
      "\r",
      " 99%|███████████████████████████████████████████████████████████████████████████████ | 988/999 [10:09<00:07,  1.56it/s]"
     ]
    },
    {
     "name": "stdout",
     "output_type": "stream",
     "text": [
      "page 989\n",
      "['올빼미', '류준열에 맹인연기 / 유해진에 왕연기 신선하면서 재밌었음 / 중간중간 웃긴장면도있고 전체적으로 영상미도 좋아요', 10]\n"
     ]
    },
    {
     "name": "stderr",
     "output_type": "stream",
     "text": [
      "\r",
      " 99%|███████████████████████████████████████████████████████████████████████████████▏| 989/999 [10:10<00:06,  1.56it/s]"
     ]
    },
    {
     "name": "stdout",
     "output_type": "stream",
     "text": [
      "page 990\n",
      "['올빼미', '배우들 연기잘하고, 몰입도 최고~~!!!^^ ~♡ ', 10]\n"
     ]
    },
    {
     "name": "stderr",
     "output_type": "stream",
     "text": [
      "\r",
      " 99%|███████████████████████████████████████████████████████████████████████████████▎| 990/999 [10:10<00:05,  1.56it/s]"
     ]
    },
    {
     "name": "stdout",
     "output_type": "stream",
     "text": [
      "page 991\n",
      "['본즈 앤 올', '사람을 먹으면 그의 외로움도 같이 먹히는 건가?', 7]\n"
     ]
    },
    {
     "name": "stderr",
     "output_type": "stream",
     "text": [
      "\r",
      " 99%|███████████████████████████████████████████████████████████████████████████████▎| 991/999 [10:11<00:05,  1.56it/s]"
     ]
    },
    {
     "name": "stdout",
     "output_type": "stream",
     "text": [
      "page 992\n",
      "['올빼미', '연기신들의 대결! 연출 정말 좋았습니다.', 10]\n"
     ]
    },
    {
     "name": "stderr",
     "output_type": "stream",
     "text": [
      "\r",
      " 99%|███████████████████████████████████████████████████████████████████████████████▍| 992/999 [10:12<00:04,  1.56it/s]"
     ]
    },
    {
     "name": "stdout",
     "output_type": "stream",
     "text": [
      "page 993\n",
      "['올빼미', '솔직히 역사 잘 모르는 사람은 ? 할거고잘 아는 사람은 개쩐다 외칠것 같음자신이 만약에 역사천재다. 라고 하시는분들강추임^^', 8]\n"
     ]
    },
    {
     "name": "stderr",
     "output_type": "stream",
     "text": [
      "\r",
      " 99%|███████████████████████████████████████████████████████████████████████████████▌| 993/999 [10:12<00:03,  1.53it/s]"
     ]
    },
    {
     "name": "stdout",
     "output_type": "stream",
     "text": [
      "page 994\n",
      "['쿵푸팬더3', '기 받아 가겠습니다!!', 7]\n"
     ]
    },
    {
     "name": "stderr",
     "output_type": "stream",
     "text": [
      "\r",
      " 99%|███████████████████████████████████████████████████████████████████████████████▌| 994/999 [10:13<00:03,  1.54it/s]"
     ]
    },
    {
     "name": "stdout",
     "output_type": "stream",
     "text": [
      "page 995\n",
      "['올빼미', '약간 허무맹랑한 영화....재밌다고 해서 봤는데...음 나는 그냥그랬음', 6]\n"
     ]
    },
    {
     "name": "stderr",
     "output_type": "stream",
     "text": [
      "\r",
      "100%|███████████████████████████████████████████████████████████████████████████████▋| 995/999 [10:14<00:02,  1.53it/s]"
     ]
    },
    {
     "name": "stdout",
     "output_type": "stream",
     "text": [
      "page 996\n",
      "['올빼미', '배우들 연기가 훌륭하다 .. 유혜진 배우 코미디나 동네 아저씨 같은 느낌으로 접하다가 연기 보고 진짜 지릴뻔했다.. 다른 사람 말처럼 결말은 뭔가 아쉽지만 스토리도 나름 괜찮고 스릴있어서 숨 죽이고 봤다.. 또 보고싶을정도 ㅠ ', 10]\n"
     ]
    },
    {
     "name": "stderr",
     "output_type": "stream",
     "text": [
      "\r",
      "100%|███████████████████████████████████████████████████████████████████████████████▊| 996/999 [10:14<00:01,  1.54it/s]"
     ]
    },
    {
     "name": "stdout",
     "output_type": "stream",
     "text": [
      "page 997\n",
      "['오늘 밤, 세계에서 이 사랑이 사라진다 해도', '분명 연출에서 아쉬운 점도 있고, 어느정도 클리셰도 있지만 달달하고, 슬플 때도 슬픈게 좋았다', 9]\n"
     ]
    },
    {
     "name": "stderr",
     "output_type": "stream",
     "text": [
      "\r",
      "100%|███████████████████████████████████████████████████████████████████████████████▊| 997/999 [10:15<00:01,  1.54it/s]"
     ]
    },
    {
     "name": "stdout",
     "output_type": "stream",
     "text": [
      "page 998\n",
      "['블랙 팬서: 와칸다 포에버', '재미있게 보았습니다.', 8]\n"
     ]
    },
    {
     "name": "stderr",
     "output_type": "stream",
     "text": [
      "\r",
      "100%|███████████████████████████████████████████████████████████████████████████████▉| 998/999 [10:16<00:00,  1.55it/s]"
     ]
    },
    {
     "name": "stdout",
     "output_type": "stream",
     "text": [
      "page 999\n",
      "['올빼미', '무난했습니다. 배우들 연기는 좋았지만 스토리가 빈약한 느낌... 굳이 없어도 될 장면도 많았고   뭔가 뭔가 음 네 기대는 많이하지 말고 가시길!', 8]\n"
     ]
    },
    {
     "name": "stderr",
     "output_type": "stream",
     "text": [
      "100%|████████████████████████████████████████████████████████████████████████████████| 999/999 [10:16<00:00,  1.62it/s]\n"
     ]
    }
   ],
   "source": [
    "need_reviews_cnt = 10000\n",
    "reviews = []\n",
    "review_data=[]\n",
    "\n",
    "#page를 1부터 1씩 증가하며 URL을 다음 페이지로 바꿈 \n",
    "for page in tqdm(range(1,1000)):\n",
    "    url = f'https://movie.naver.com/movie/point/af/list.naver?&page={page}'\n",
    "    #get : request로 url의  html문서의 내용 요청\n",
    "    html = requests.get(url)\n",
    "    #html을 받아온 문서를 .content로 지정 후 soup객체로 변환\n",
    "    soup = BeautifulSoup(html.content,'html.parser')\n",
    "    #find_all : 지정한 태그의 내용을 모두 찾아 리스트로 반환\n",
    "    reviews = soup.find_all(\"td\",{\"class\":\"title\"})\n",
    "    \n",
    "    #한 페이지의 리뷰 리스트의 리뷰를 하나씩 보면서 데이터 추출\n",
    "    for review in reviews:\n",
    "        sentence = review.find(\"a\",{\"class\":\"report\"}).get(\"onclick\").split(\"', '\")[2]\n",
    "        #만약 리뷰 내용이 비어있다면 데이터를 사용하지 않음\n",
    "        if sentence != \"\":\n",
    "            movie = review.find(\"a\",{\"class\":\"movie color_b\"}).get_text()\n",
    "            score = review.find(\"em\").get_text()\n",
    "            review_data.append([movie,sentence,int(score)])\n",
    "            need_reviews_cnt-= 1\n",
    "            \n",
    "    #현재까지 수집된 리뷰가 목표 수집 리뷰보다 많아진 경우 크롤링 중지        \n",
    "    if need_reviews_cnt < 0:                                         \n",
    "        break\n",
    "    #다음 페이지를 조회하기 전 0.5초 시간 차를 두기\n",
    "    print('page {}'.format(page))\n",
    "    print(review_data[page])\n",
    "    time.sleep(0.5)\n",
    "     "
   ]
  },
  {
   "cell_type": "code",
   "execution_count": 11,
   "id": "42fa311c",
   "metadata": {},
   "outputs": [],
   "source": [
    "rev = pd.DataFrame(review_data, columns=['movie', 'sentence', 'score'])"
   ]
  },
  {
   "cell_type": "code",
   "execution_count": 12,
   "id": "90bf08b5",
   "metadata": {
    "scrolled": false
   },
   "outputs": [
    {
     "data": {
      "text/html": [
       "<div>\n",
       "<style scoped>\n",
       "    .dataframe tbody tr th:only-of-type {\n",
       "        vertical-align: middle;\n",
       "    }\n",
       "\n",
       "    .dataframe tbody tr th {\n",
       "        vertical-align: top;\n",
       "    }\n",
       "\n",
       "    .dataframe thead th {\n",
       "        text-align: right;\n",
       "    }\n",
       "</style>\n",
       "<table border=\"1\" class=\"dataframe\">\n",
       "  <thead>\n",
       "    <tr style=\"text-align: right;\">\n",
       "      <th></th>\n",
       "      <th>movie</th>\n",
       "      <th>sentence</th>\n",
       "      <th>score</th>\n",
       "    </tr>\n",
       "  </thead>\n",
       "  <tbody>\n",
       "    <tr>\n",
       "      <th>0</th>\n",
       "      <td>올빼미</td>\n",
       "      <td>연출과 연기 그리고 스토리까지 삼박자가 조화롭다</td>\n",
       "      <td>8</td>\n",
       "    </tr>\n",
       "    <tr>\n",
       "      <th>1</th>\n",
       "      <td>데시벨</td>\n",
       "      <td>개봉 전에 안좋은 여론몰이 때문에 너무 손해를 본 영화</td>\n",
       "      <td>7</td>\n",
       "    </tr>\n",
       "    <tr>\n",
       "      <th>2</th>\n",
       "      <td>올빼미</td>\n",
       "      <td>진짜 눈을 뗄수없을만큼 재밌었어요</td>\n",
       "      <td>10</td>\n",
       "    </tr>\n",
       "    <tr>\n",
       "      <th>3</th>\n",
       "      <td>동감</td>\n",
       "      <td>원작의 감동은 어디가고 유치함만 남았다</td>\n",
       "      <td>5</td>\n",
       "    </tr>\n",
       "    <tr>\n",
       "      <th>4</th>\n",
       "      <td>레지던트 이블: 파멸의 날</td>\n",
       "      <td>볼 것만 많았다.. 볼거리만..</td>\n",
       "      <td>6</td>\n",
       "    </tr>\n",
       "    <tr>\n",
       "      <th>...</th>\n",
       "      <td>...</td>\n",
       "      <td>...</td>\n",
       "      <td>...</td>\n",
       "    </tr>\n",
       "    <tr>\n",
       "      <th>9406</th>\n",
       "      <td>동감</td>\n",
       "      <td>원작 동감을 재미있게 봐서리메이크 버전도 봤어요.원작이 낫다는 평이 있어서 걱정했는...</td>\n",
       "      <td>10</td>\n",
       "    </tr>\n",
       "    <tr>\n",
       "      <th>9407</th>\n",
       "      <td>오늘 밤, 세계에서 이 사랑이 사라진다 해도</td>\n",
       "      <td>처음부터 끝까지 웃고 울었다일본 특유 느낌이 잘 살려있어서 더 이입할 수 있었고 여...</td>\n",
       "      <td>8</td>\n",
       "    </tr>\n",
       "    <tr>\n",
       "      <th>9408</th>\n",
       "      <td>양자경의 더 모든 날 모든 순간</td>\n",
       "      <td>얼마전 확장판으로 봤는데영화 중반까지 내내 주성치영화를 보는듯한 기시감과엉성한 멀티...</td>\n",
       "      <td>6</td>\n",
       "    </tr>\n",
       "    <tr>\n",
       "      <th>9409</th>\n",
       "      <td>탄생</td>\n",
       "      <td>감동적입니다 최고에요^^</td>\n",
       "      <td>10</td>\n",
       "    </tr>\n",
       "    <tr>\n",
       "      <th>9410</th>\n",
       "      <td>드라이브</td>\n",
       "      <td>주인공 남자의 삶은 쓸쓸하고 건조하고 그저 순간을 살았다면.,그의 사랑은 너무나도 ...</td>\n",
       "      <td>10</td>\n",
       "    </tr>\n",
       "  </tbody>\n",
       "</table>\n",
       "<p>9411 rows × 3 columns</p>\n",
       "</div>"
      ],
      "text/plain": [
       "                         movie  \\\n",
       "0                          올빼미   \n",
       "1                          데시벨   \n",
       "2                          올빼미   \n",
       "3                           동감   \n",
       "4               레지던트 이블: 파멸의 날   \n",
       "...                        ...   \n",
       "9406                        동감   \n",
       "9407  오늘 밤, 세계에서 이 사랑이 사라진다 해도   \n",
       "9408         양자경의 더 모든 날 모든 순간   \n",
       "9409                        탄생   \n",
       "9410                      드라이브   \n",
       "\n",
       "                                               sentence  score  \n",
       "0                            연출과 연기 그리고 스토리까지 삼박자가 조화롭다      8  \n",
       "1                        개봉 전에 안좋은 여론몰이 때문에 너무 손해를 본 영화      7  \n",
       "2                                    진짜 눈을 뗄수없을만큼 재밌었어요     10  \n",
       "3                                 원작의 감동은 어디가고 유치함만 남았다      5  \n",
       "4                                     볼 것만 많았다.. 볼거리만..      6  \n",
       "...                                                 ...    ...  \n",
       "9406  원작 동감을 재미있게 봐서리메이크 버전도 봤어요.원작이 낫다는 평이 있어서 걱정했는...     10  \n",
       "9407  처음부터 끝까지 웃고 울었다일본 특유 느낌이 잘 살려있어서 더 이입할 수 있었고 여...      8  \n",
       "9408  얼마전 확장판으로 봤는데영화 중반까지 내내 주성치영화를 보는듯한 기시감과엉성한 멀티...      6  \n",
       "9409                                      감동적입니다 최고에요^^     10  \n",
       "9410  주인공 남자의 삶은 쓸쓸하고 건조하고 그저 순간을 살았다면.,그의 사랑은 너무나도 ...     10  \n",
       "\n",
       "[9411 rows x 3 columns]"
      ]
     },
     "execution_count": 12,
     "metadata": {},
     "output_type": "execute_result"
    }
   ],
   "source": [
    "rev"
   ]
  },
  {
   "cell_type": "code",
   "execution_count": 13,
   "id": "276780db",
   "metadata": {},
   "outputs": [],
   "source": [
    "rev.to_csv('./reviews.csv', mode='w', encoding='utf-8-sig', index=False)"
   ]
  }
 ],
 "metadata": {
  "kernelspec": {
   "display_name": "Python 3 (ipykernel)",
   "language": "python",
   "name": "python3"
  },
  "language_info": {
   "codemirror_mode": {
    "name": "ipython",
    "version": 3
   },
   "file_extension": ".py",
   "mimetype": "text/x-python",
   "name": "python",
   "nbconvert_exporter": "python",
   "pygments_lexer": "ipython3",
   "version": "3.9.7"
  }
 },
 "nbformat": 4,
 "nbformat_minor": 5
}
