{
 "cells": [
  {
   "cell_type": "code",
   "execution_count": 2,
   "id": "737328e7",
   "metadata": {},
   "outputs": [],
   "source": [
    "import import_ipynb"
   ]
  },
  {
   "cell_type": "code",
   "execution_count": 10,
   "id": "2c1824c1",
   "metadata": {},
   "outputs": [],
   "source": [
    "import pandas as pd\n",
    "import os, sys\n",
    "import re\n",
    "from konlpy.tag import Kkma, Okt\n",
    "from tqdm import tqdm"
   ]
  },
  {
   "cell_type": "code",
   "execution_count": 4,
   "id": "f8f6e4d7",
   "metadata": {},
   "outputs": [
    {
     "name": "stdout",
     "output_type": "stream",
     "text": [
      "importing Jupyter notebook from sentiment_analysis.ipynb\n"
     ]
    },
    {
     "name": "stderr",
     "output_type": "stream",
     "text": [
      "<string>:1: FutureWarning: The default value of regex will change from True to False in a future version.\n",
      "<string>:2: FutureWarning: The default value of regex will change from True to False in a future version.\n",
      "<string>:3: FutureWarning: The default value of regex will change from True to False in a future version.\n",
      "100%|██████████████████████████████████████████████████████████████████████████| 145393/145393 [26:14<00:00, 92.35it/s]\n",
      "100%|███████████████████████████████████████████████████████████████████████████| 48852/48852 [07:57<00:00, 102.38it/s]\n"
     ]
    },
    {
     "name": "stdout",
     "output_type": "stream",
     "text": [
      "단어 집합(vocabulary)의 크기 : 43770\n",
      "등장 빈도가 9번 이하인 희귀 단어의 수: 34608\n",
      "단어 집합에서 희귀 단어의 비율: 79.06785469499657\n",
      "전체 등장 빈도에서 희귀 단어 등장 빈도 비율: 4.252908861364179\n",
      "단어 집합의 크기 : 9163\n"
     ]
    },
    {
     "name": "stderr",
     "output_type": "stream",
     "text": [
      "C:\\Users\\20191\\anaconda3\\lib\\site-packages\\numpy\\core\\_asarray.py:102: VisibleDeprecationWarning: Creating an ndarray from ragged nested sequences (which is a list-or-tuple of lists-or-tuples-or ndarrays with different lengths or shapes) is deprecated. If you meant to do this, you must specify 'dtype=object' when creating the ndarray.\n",
      "  return array(a, dtype, copy=False, order=order)\n"
     ]
    },
    {
     "name": "stdout",
     "output_type": "stream",
     "text": [
      "144991\n",
      "144991\n",
      "전체 샘플 중 길이가 30 이하인 샘플의 비율: 91.9995034174535\n",
      "Epoch 1/10\n",
      "1813/1813 [==============================] - ETA: 0s - loss: 0.4121 - acc: 0.8090\n",
      "Epoch 1: val_acc improved from -inf to 0.83606, saving model to best_model.h5\n",
      "1813/1813 [==============================] - 237s 124ms/step - loss: 0.4121 - acc: 0.8090 - val_loss: 0.3739 - val_acc: 0.8361\n",
      "Epoch 2/10\n",
      "1813/1813 [==============================] - ETA: 0s - loss: 0.3480 - acc: 0.8476\n",
      "Epoch 2: val_acc improved from 0.83606 to 0.84672, saving model to best_model.h5\n",
      "1813/1813 [==============================] - 196s 108ms/step - loss: 0.3480 - acc: 0.8476 - val_loss: 0.3496 - val_acc: 0.8467\n",
      "Epoch 3/10\n",
      "1813/1813 [==============================] - ETA: 0s - loss: 0.3231 - acc: 0.8606\n",
      "Epoch 3: val_acc improved from 0.84672 to 0.85241, saving model to best_model.h5\n",
      "1813/1813 [==============================] - 199s 110ms/step - loss: 0.3231 - acc: 0.8606 - val_loss: 0.3374 - val_acc: 0.8524\n",
      "Epoch 4/10\n",
      "1813/1813 [==============================] - ETA: 0s - loss: 0.3041 - acc: 0.8712\n",
      "Epoch 4: val_acc improved from 0.85241 to 0.85503, saving model to best_model.h5\n",
      "1813/1813 [==============================] - 192s 106ms/step - loss: 0.3041 - acc: 0.8712 - val_loss: 0.3327 - val_acc: 0.8550\n",
      "Epoch 5/10\n",
      "1812/1813 [============================>.] - ETA: 0s - loss: 0.2889 - acc: 0.8789\n",
      "Epoch 5: val_acc improved from 0.85503 to 0.85537, saving model to best_model.h5\n",
      "1813/1813 [==============================] - 167s 92ms/step - loss: 0.2889 - acc: 0.8789 - val_loss: 0.3329 - val_acc: 0.8554\n",
      "Epoch 6/10\n",
      "1813/1813 [==============================] - ETA: 0s - loss: 0.2743 - acc: 0.8870\n",
      "Epoch 6: val_acc improved from 0.85537 to 0.85600, saving model to best_model.h5\n",
      "1813/1813 [==============================] - 190s 105ms/step - loss: 0.2743 - acc: 0.8870 - val_loss: 0.3365 - val_acc: 0.8560\n",
      "Epoch 7/10\n",
      "1812/1813 [============================>.] - ETA: 0s - loss: 0.2609 - acc: 0.8940\n",
      "Epoch 7: val_acc improved from 0.85600 to 0.85641, saving model to best_model.h5\n",
      "1813/1813 [==============================] - 195s 107ms/step - loss: 0.2609 - acc: 0.8940 - val_loss: 0.3417 - val_acc: 0.8564\n",
      "Epoch 8/10\n",
      "1813/1813 [==============================] - ETA: 0s - loss: 0.2479 - acc: 0.9011\n",
      "Epoch 8: val_acc did not improve from 0.85641\n",
      "1813/1813 [==============================] - 184s 101ms/step - loss: 0.2479 - acc: 0.9011 - val_loss: 0.3385 - val_acc: 0.8551\n",
      "Epoch 8: early stopping\n"
     ]
    },
    {
     "data": {
      "image/png": "[encoded data removed]",
      "text/plain": [
       "<Figure size 432x288 with 1 Axes>"
      ]
     },
     "metadata": {
      "needs_background": "light"
     },
     "output_type": "display_data"
    },
    {
     "data": {
      "image/png": "[encoded data removed]",
      "text/plain": [
       "<Figure size 432x288 with 1 Axes>"
      ]
     },
     "metadata": {
      "needs_background": "light"
     },
     "output_type": "display_data"
    }
   ],
   "source": [
    "from sentiment_analysis import sentiment_predict"
   ]
  },
  {
   "cell_type": "code",
   "execution_count": 11,
   "id": "ae24db53",
   "metadata": {},
   "outputs": [],
   "source": [
    "BASE_DIR = os.getcwd()\n",
    "okt = Okt()"
   ]
  },
  {
   "cell_type": "code",
   "execution_count": 13,
   "id": "213f6210",
   "metadata": {},
   "outputs": [
    {
     "data": {
      "text/html": [
       "<div>\n",
       "<style scoped>\n",
       "    .dataframe tbody tr th:only-of-type {\n",
       "        vertical-align: middle;\n",
       "    }\n",
       "\n",
       "    .dataframe tbody tr th {\n",
       "        vertical-align: top;\n",
       "    }\n",
       "\n",
       "    .dataframe thead th {\n",
       "        text-align: right;\n",
       "    }\n",
       "</style>\n",
       "<table border=\"1\" class=\"dataframe\">\n",
       "  <thead>\n",
       "    <tr style=\"text-align: right;\">\n",
       "      <th></th>\n",
       "      <th>id</th>\n",
       "      <th>review</th>\n",
       "    </tr>\n",
       "  </thead>\n",
       "  <tbody>\n",
       "    <tr>\n",
       "      <th>0</th>\n",
       "      <td>913mr</td>\n",
       "      <td>????? 감동을 주는 꾸준한 울림?-지난밤 넷플릭스에서 새로 나온 &lt;에놀라 홈즈2...</td>\n",
       "    </tr>\n",
       "    <tr>\n",
       "      <th>1</th>\n",
       "      <td>913mr</td>\n",
       "      <td>쓰고 연기천재들 총집합이라고 읽으면 되는 부분...? (입틀막)진짜 캐아일체라는 말...</td>\n",
       "    </tr>\n",
       "    <tr>\n",
       "      <th>2</th>\n",
       "      <td>913mr</td>\n",
       "      <td>75% 할인 받고 원하는 OTT 구독 ! 정산 스트레스 받을 필요 없이 한 자리라도...</td>\n",
       "    </tr>\n",
       "    <tr>\n",
       "      <th>3</th>\n",
       "      <td>913mr</td>\n",
       "      <td>위의 포뇨(2008) ★★★☆-미야자키 하야오 감독 / 포뇨(브륀힐트), 소스케, ...</td>\n",
       "    </tr>\n",
       "    <tr>\n",
       "      <th>4</th>\n",
       "      <td>913mr</td>\n",
       "      <td>수 없는 비밀(2007) ★★★-주걸륜 감독 / 주걸륜(예샹룬), 계륜미(루샤오위)...</td>\n",
       "    </tr>\n",
       "    <tr>\n",
       "      <th>5</th>\n",
       "      <td>913mr</td>\n",
       "      <td>우리 'OTT 쉐어' 하자 ! 최대 75% 할인 받고 원하는 OTT 구독정산 스트레...</td>\n",
       "    </tr>\n",
       "    <tr>\n",
       "      <th>6</th>\n",
       "      <td>913mr</td>\n",
       "      <td>★★★★-이창동 감독 / 유아인(이종수), 스티븐연(벤), 전종서(신해미)갈 길을 ...</td>\n",
       "    </tr>\n",
       "    <tr>\n",
       "      <th>7</th>\n",
       "      <td>913mr</td>\n",
       "      <td>미로-오필리아와 세 개의 열쇠(2006) ★★★☆-기예르모 델 토로 감독 / 이바나...</td>\n",
       "    </tr>\n",
       "    <tr>\n",
       "      <th>8</th>\n",
       "      <td>913mr</td>\n",
       "      <td>훗날 우리(2018) ★★★☆-유약영 감독 / 주동우(팡샤오샤오), 정백연(린젠칭)...</td>\n",
       "    </tr>\n",
       "    <tr>\n",
       "      <th>9</th>\n",
       "      <td>913mr</td>\n",
       "      <td>액션을 넘 좋아하는데이런 ??사운드 테러 액션은 처음이에요!영화관 큰 스크린을 통해...</td>\n",
       "    </tr>\n",
       "    <tr>\n",
       "      <th>10</th>\n",
       "      <td>913mr</td>\n",
       "      <td>마스킹테이프가 드디어! 도착했습니다. 텀블벅 후원이 3일 남았습니다.혹시 잊으신 분...</td>\n",
       "    </tr>\n",
       "    <tr>\n",
       "      <th>11</th>\n",
       "      <td>913mr</td>\n",
       "      <td>어게인(2009) ★★★-버 스티어스 감독 / 잭 에프론(어린 마이크), 매튜 페리...</td>\n",
       "    </tr>\n",
       "    <tr>\n",
       "      <th>12</th>\n",
       "      <td>913mr</td>\n",
       "      <td>완전 잼있었어요~이런 장르의 영화는 크게 볼 때 더 짜릿하고 그 느낌아니까~극장에서...</td>\n",
       "    </tr>\n",
       "    <tr>\n",
       "      <th>13</th>\n",
       "      <td>913mr</td>\n",
       "      <td>진짜 기다렸는데 무대인사까지 봤어요 이게 웬열~ 영화는 진짜 말모말모 완전 잘생긴 ...</td>\n",
       "    </tr>\n",
       "    <tr>\n",
       "      <th>14</th>\n",
       "      <td>913mr</td>\n",
       "      <td>집에 가게 해주세요. 떠보니 낯선 방, 낯선 침대, 그리고 바닥엔 낯선 사람의 시체...</td>\n",
       "    </tr>\n",
       "    <tr>\n",
       "      <th>15</th>\n",
       "      <td>913mr</td>\n",
       "      <td>영화관가서 데시벨 무대인사 보고왔어요.영화존잼 배우존잘 오랫만에 만족스러운 영화관람...</td>\n",
       "    </tr>\n",
       "    <tr>\n",
       "      <th>16</th>\n",
       "      <td>913mr</td>\n",
       "      <td>??에뜨왈 통창으로 들어오는. 동해바다를 눈에 담으며 입으로 맛난 빵과 커피를 마시...</td>\n",
       "    </tr>\n",
       "    <tr>\n",
       "      <th>17</th>\n",
       "      <td>913mr</td>\n",
       "      <td>장르의 영화는 크게 볼 때 더 좋아서 놓치지 않고 극장에서 보는 편인데 올해 본 영...</td>\n",
       "    </tr>\n",
       "    <tr>\n",
       "      <th>18</th>\n",
       "      <td>913mr</td>\n",
       "      <td>시사회 보러 가서 무대인사까지 보고 온.. 연기 잘하는 거 말해봤자 입만 아프구 ㅠ...</td>\n",
       "    </tr>\n",
       "    <tr>\n",
       "      <th>19</th>\n",
       "      <td>913mr</td>\n",
       "      <td>영화보기!&lt;데시벨&gt; 시사회 보러 가서 인사무대까지 보고 왔구요^^연기자들 연기 잘하...</td>\n",
       "    </tr>\n",
       "  </tbody>\n",
       "</table>\n",
       "</div>"
      ],
      "text/plain": [
       "       id                                             review\n",
       "0   913mr  ????? 감동을 주는 꾸준한 울림?-지난밤 넷플릭스에서 새로 나온 <에놀라 홈즈2...\n",
       "1   913mr  쓰고 연기천재들 총집합이라고 읽으면 되는 부분...? (입틀막)진짜 캐아일체라는 말...\n",
       "2   913mr  75% 할인 받고 원하는 OTT 구독 ! 정산 스트레스 받을 필요 없이 한 자리라도...\n",
       "3   913mr  위의 포뇨(2008) ★★★☆-미야자키 하야오 감독 / 포뇨(브륀힐트), 소스케, ...\n",
       "4   913mr  수 없는 비밀(2007) ★★★-주걸륜 감독 / 주걸륜(예샹룬), 계륜미(루샤오위)...\n",
       "5   913mr  우리 'OTT 쉐어' 하자 ! 최대 75% 할인 받고 원하는 OTT 구독정산 스트레...\n",
       "6   913mr  ★★★★-이창동 감독 / 유아인(이종수), 스티븐연(벤), 전종서(신해미)갈 길을 ...\n",
       "7   913mr  미로-오필리아와 세 개의 열쇠(2006) ★★★☆-기예르모 델 토로 감독 / 이바나...\n",
       "8   913mr  훗날 우리(2018) ★★★☆-유약영 감독 / 주동우(팡샤오샤오), 정백연(린젠칭)...\n",
       "9   913mr  액션을 넘 좋아하는데이런 ??사운드 테러 액션은 처음이에요!영화관 큰 스크린을 통해...\n",
       "10  913mr  마스킹테이프가 드디어! 도착했습니다. 텀블벅 후원이 3일 남았습니다.혹시 잊으신 분...\n",
       "11  913mr  어게인(2009) ★★★-버 스티어스 감독 / 잭 에프론(어린 마이크), 매튜 페리...\n",
       "12  913mr  완전 잼있었어요~이런 장르의 영화는 크게 볼 때 더 짜릿하고 그 느낌아니까~극장에서...\n",
       "13  913mr  진짜 기다렸는데 무대인사까지 봤어요 이게 웬열~ 영화는 진짜 말모말모 완전 잘생긴 ...\n",
       "14  913mr  집에 가게 해주세요. 떠보니 낯선 방, 낯선 침대, 그리고 바닥엔 낯선 사람의 시체...\n",
       "15  913mr  영화관가서 데시벨 무대인사 보고왔어요.영화존잼 배우존잘 오랫만에 만족스러운 영화관람...\n",
       "16  913mr  ??에뜨왈 통창으로 들어오는. 동해바다를 눈에 담으며 입으로 맛난 빵과 커피를 마시...\n",
       "17  913mr  장르의 영화는 크게 볼 때 더 좋아서 놓치지 않고 극장에서 보는 편인데 올해 본 영...\n",
       "18  913mr  시사회 보러 가서 무대인사까지 보고 온.. 연기 잘하는 거 말해봤자 입만 아프구 ㅠ...\n",
       "19  913mr  영화보기!<데시벨> 시사회 보러 가서 인사무대까지 보고 왔구요^^연기자들 연기 잘하..."
      ]
     },
     "execution_count": 13,
     "metadata": {},
     "output_type": "execute_result"
    }
   ],
   "source": [
    "df = pd.read_csv(BASE_DIR+'/crawling/mock.csv', encoding='cp949')\n",
    "df"
   ]
  },
  {
   "cell_type": "code",
   "execution_count": 14,
   "id": "9bd9b134",
   "metadata": {},
   "outputs": [
    {
     "name": "stderr",
     "output_type": "stream",
     "text": [
      "<ipython-input-14-72d6d88fcea9>:1: FutureWarning: The default value of regex will change from True to False in a future version.\n",
      "  df['review'] = df['review'].str.replace(\"[^ㄱ-ㅎㅏ-ㅣ가-힣 ]\",\"\")\n"
     ]
    }
   ],
   "source": [
    "df['review'] = df['review'].str.replace(\"[^ㄱ-ㅎㅏ-ㅣ가-힣 ]\",\"\")"
   ]
  },
  {
   "cell_type": "code",
   "execution_count": 15,
   "id": "6b3febdd",
   "metadata": {},
   "outputs": [
    {
     "data": {
      "text/html": [
       "<div>\n",
       "<style scoped>\n",
       "    .dataframe tbody tr th:only-of-type {\n",
       "        vertical-align: middle;\n",
       "    }\n",
       "\n",
       "    .dataframe tbody tr th {\n",
       "        vertical-align: top;\n",
       "    }\n",
       "\n",
       "    .dataframe thead th {\n",
       "        text-align: right;\n",
       "    }\n",
       "</style>\n",
       "<table border=\"1\" class=\"dataframe\">\n",
       "  <thead>\n",
       "    <tr style=\"text-align: right;\">\n",
       "      <th></th>\n",
       "      <th>id</th>\n",
       "      <th>review</th>\n",
       "    </tr>\n",
       "  </thead>\n",
       "  <tbody>\n",
       "    <tr>\n",
       "      <th>0</th>\n",
       "      <td>913mr</td>\n",
       "      <td>감동을 주는 꾸준한 울림지난밤 넷플릭스에서 새로 나온 에놀라 홈즈를 보았다 전작인...</td>\n",
       "    </tr>\n",
       "    <tr>\n",
       "      <th>1</th>\n",
       "      <td>913mr</td>\n",
       "      <td>쓰고 연기천재들 총집합이라고 읽으면 되는 부분 입틀막진짜 캐아일체라는 말은 데시벨을...</td>\n",
       "    </tr>\n",
       "    <tr>\n",
       "      <th>2</th>\n",
       "      <td>913mr</td>\n",
       "      <td>할인 받고 원하는  구독  정산 스트레스 받을 필요 없이 한 자리라도 공유하면 매...</td>\n",
       "    </tr>\n",
       "    <tr>\n",
       "      <th>3</th>\n",
       "      <td>913mr</td>\n",
       "      <td>위의 포뇨 미야자키 하야오 감독  포뇨브륀힐트 소스케 리사 후지모토 그랑 맘마레화면...</td>\n",
       "    </tr>\n",
       "    <tr>\n",
       "      <th>4</th>\n",
       "      <td>913mr</td>\n",
       "      <td>수 없는 비밀 주걸륜 감독  주걸륜예샹룬 계륜미루샤오위 황추생예샹룬 아버지그녀가 남...</td>\n",
       "    </tr>\n",
       "    <tr>\n",
       "      <th>5</th>\n",
       "      <td>913mr</td>\n",
       "      <td>우리  쉐어 하자  최대  할인 받고 원하는  구독정산 스트레스 받을 필요 없이 남...</td>\n",
       "    </tr>\n",
       "    <tr>\n",
       "      <th>6</th>\n",
       "      <td>913mr</td>\n",
       "      <td>이창동 감독  유아인이종수 스티븐연벤 전종서신해미갈 길을 잃은 청춘들의 현주소 목적...</td>\n",
       "    </tr>\n",
       "    <tr>\n",
       "      <th>7</th>\n",
       "      <td>913mr</td>\n",
       "      <td>미로오필리아와 세 개의 열쇠 기예르모 델 토로 감독  이바나 바쿠에로오필리아 더그 ...</td>\n",
       "    </tr>\n",
       "    <tr>\n",
       "      <th>8</th>\n",
       "      <td>913mr</td>\n",
       "      <td>훗날 우리 유약영 감독  주동우팡샤오샤오 정백연린젠칭 톈좡좡린젠칭의 아버지앞서 나가...</td>\n",
       "    </tr>\n",
       "    <tr>\n",
       "      <th>9</th>\n",
       "      <td>913mr</td>\n",
       "      <td>액션을 넘 좋아하는데이런 사운드 테러 액션은 처음이에요영화관 큰 스크린을 통해서 보...</td>\n",
       "    </tr>\n",
       "    <tr>\n",
       "      <th>10</th>\n",
       "      <td>913mr</td>\n",
       "      <td>마스킹테이프가 드디어 도착했습니다 텀블벅 후원이 일 남았습니다혹시 잊으신 분들은 서...</td>\n",
       "    </tr>\n",
       "    <tr>\n",
       "      <th>11</th>\n",
       "      <td>913mr</td>\n",
       "      <td>어게인 버 스티어스 감독  잭 에프론어린 마이크 매튜 페리어른 마이크 레슬리 만스칼...</td>\n",
       "    </tr>\n",
       "    <tr>\n",
       "      <th>12</th>\n",
       "      <td>913mr</td>\n",
       "      <td>완전 잼있었어요이런 장르의 영화는 크게 볼 때 더 짜릿하고 그 느낌아니까극장에서 보...</td>\n",
       "    </tr>\n",
       "    <tr>\n",
       "      <th>13</th>\n",
       "      <td>913mr</td>\n",
       "      <td>진짜 기다렸는데 무대인사까지 봤어요 이게 웬열 영화는 진짜 말모말모 완전 잘생긴 배...</td>\n",
       "    </tr>\n",
       "    <tr>\n",
       "      <th>14</th>\n",
       "      <td>913mr</td>\n",
       "      <td>집에 가게 해주세요 떠보니 낯선 방 낯선 침대 그리고 바닥엔 낯선 사람의 시체내가 ...</td>\n",
       "    </tr>\n",
       "    <tr>\n",
       "      <th>15</th>\n",
       "      <td>913mr</td>\n",
       "      <td>영화관가서 데시벨 무대인사 보고왔어요영화존잼 배우존잘 오랫만에 만족스러운 영화관람꼭...</td>\n",
       "    </tr>\n",
       "    <tr>\n",
       "      <th>16</th>\n",
       "      <td>913mr</td>\n",
       "      <td>에뜨왈 통창으로 들어오는 동해바다를 눈에 담으며 입으로 맛난 빵과 커피를 마시면서 ...</td>\n",
       "    </tr>\n",
       "    <tr>\n",
       "      <th>17</th>\n",
       "      <td>913mr</td>\n",
       "      <td>장르의 영화는 크게 볼 때 더 좋아서 놓치지 않고 극장에서 보는 편인데 올해 본 영...</td>\n",
       "    </tr>\n",
       "    <tr>\n",
       "      <th>18</th>\n",
       "      <td>913mr</td>\n",
       "      <td>시사회 보러 가서 무대인사까지 보고 온 연기 잘하는 거 말해봤자 입만 아프구 ㅠㅠ ...</td>\n",
       "    </tr>\n",
       "    <tr>\n",
       "      <th>19</th>\n",
       "      <td>913mr</td>\n",
       "      <td>영화보기데시벨 시사회 보러 가서 인사무대까지 보고 왔구요연기자들 연기 잘하는 건 당...</td>\n",
       "    </tr>\n",
       "  </tbody>\n",
       "</table>\n",
       "</div>"
      ],
      "text/plain": [
       "       id                                             review\n",
       "0   913mr   감동을 주는 꾸준한 울림지난밤 넷플릭스에서 새로 나온 에놀라 홈즈를 보았다 전작인...\n",
       "1   913mr  쓰고 연기천재들 총집합이라고 읽으면 되는 부분 입틀막진짜 캐아일체라는 말은 데시벨을...\n",
       "2   913mr   할인 받고 원하는  구독  정산 스트레스 받을 필요 없이 한 자리라도 공유하면 매...\n",
       "3   913mr  위의 포뇨 미야자키 하야오 감독  포뇨브륀힐트 소스케 리사 후지모토 그랑 맘마레화면...\n",
       "4   913mr  수 없는 비밀 주걸륜 감독  주걸륜예샹룬 계륜미루샤오위 황추생예샹룬 아버지그녀가 남...\n",
       "5   913mr  우리  쉐어 하자  최대  할인 받고 원하는  구독정산 스트레스 받을 필요 없이 남...\n",
       "6   913mr  이창동 감독  유아인이종수 스티븐연벤 전종서신해미갈 길을 잃은 청춘들의 현주소 목적...\n",
       "7   913mr  미로오필리아와 세 개의 열쇠 기예르모 델 토로 감독  이바나 바쿠에로오필리아 더그 ...\n",
       "8   913mr  훗날 우리 유약영 감독  주동우팡샤오샤오 정백연린젠칭 톈좡좡린젠칭의 아버지앞서 나가...\n",
       "9   913mr  액션을 넘 좋아하는데이런 사운드 테러 액션은 처음이에요영화관 큰 스크린을 통해서 보...\n",
       "10  913mr  마스킹테이프가 드디어 도착했습니다 텀블벅 후원이 일 남았습니다혹시 잊으신 분들은 서...\n",
       "11  913mr  어게인 버 스티어스 감독  잭 에프론어린 마이크 매튜 페리어른 마이크 레슬리 만스칼...\n",
       "12  913mr  완전 잼있었어요이런 장르의 영화는 크게 볼 때 더 짜릿하고 그 느낌아니까극장에서 보...\n",
       "13  913mr  진짜 기다렸는데 무대인사까지 봤어요 이게 웬열 영화는 진짜 말모말모 완전 잘생긴 배...\n",
       "14  913mr  집에 가게 해주세요 떠보니 낯선 방 낯선 침대 그리고 바닥엔 낯선 사람의 시체내가 ...\n",
       "15  913mr  영화관가서 데시벨 무대인사 보고왔어요영화존잼 배우존잘 오랫만에 만족스러운 영화관람꼭...\n",
       "16  913mr  에뜨왈 통창으로 들어오는 동해바다를 눈에 담으며 입으로 맛난 빵과 커피를 마시면서 ...\n",
       "17  913mr  장르의 영화는 크게 볼 때 더 좋아서 놓치지 않고 극장에서 보는 편인데 올해 본 영...\n",
       "18  913mr  시사회 보러 가서 무대인사까지 보고 온 연기 잘하는 거 말해봤자 입만 아프구 ㅠㅠ ...\n",
       "19  913mr  영화보기데시벨 시사회 보러 가서 인사무대까지 보고 왔구요연기자들 연기 잘하는 건 당..."
      ]
     },
     "execution_count": 15,
     "metadata": {},
     "output_type": "execute_result"
    }
   ],
   "source": [
    "df"
   ]
  },
  {
   "cell_type": "code",
   "execution_count": 16,
   "id": "77ede89d",
   "metadata": {},
   "outputs": [],
   "source": [
    "#긍정 +1, 부정 -1\n",
    "def sentiment_predict_user():\n",
    "    empty = []\n",
    "    score = 0\n",
    "    for i in tqdm(range(len(df))):\n",
    "        pos_neg = ''      \n",
    "        pos_neg = sentiment_predict(df.review[i])\n",
    "\n",
    "        if '긍정' in pos_neg:\n",
    "            score += 1\n",
    "        elif '부정' in pos_neg:\n",
    "            score -= 1\n",
    "        else:\n",
    "            continue\n",
    "    #     print(reviews.movie[i], score/len(reviews.reviews[i]))\n",
    "    empty.append((df.id[0], score/len(df)))\n",
    "    return empty"
   ]
  },
  {
   "cell_type": "code",
   "execution_count": 17,
   "id": "c31d1eba",
   "metadata": {},
   "outputs": [
    {
     "name": "stderr",
     "output_type": "stream",
     "text": [
      "\r",
      "  0%|                                                                                           | 0/20 [00:00<?, ?it/s]"
     ]
    },
    {
     "name": "stdout",
     "output_type": "stream",
     "text": [
      "1/1 [==============================] - 2s 2s/step\n"
     ]
    },
    {
     "name": "stderr",
     "output_type": "stream",
     "text": [
      "\r",
      "  5%|████▏                                                                              | 1/20 [00:04<01:17,  4.09s/it]"
     ]
    },
    {
     "name": "stdout",
     "output_type": "stream",
     "text": [
      "1/1 [==============================] - 0s 59ms/step\n"
     ]
    },
    {
     "name": "stderr",
     "output_type": "stream",
     "text": [
      "\r",
      " 10%|████████▎                                                                          | 2/20 [00:04<00:33,  1.86s/it]"
     ]
    },
    {
     "name": "stdout",
     "output_type": "stream",
     "text": [
      "1/1 [==============================] - 0s 64ms/step\n"
     ]
    },
    {
     "name": "stderr",
     "output_type": "stream",
     "text": [
      "\r",
      " 15%|████████████▍                                                                      | 3/20 [00:04<00:18,  1.11s/it]"
     ]
    },
    {
     "name": "stdout",
     "output_type": "stream",
     "text": [
      "1/1 [==============================] - 0s 58ms/step\n"
     ]
    },
    {
     "name": "stderr",
     "output_type": "stream",
     "text": [
      "\r",
      " 20%|████████████████▌                                                                  | 4/20 [00:04<00:12,  1.31it/s]"
     ]
    },
    {
     "name": "stdout",
     "output_type": "stream",
     "text": [
      "1/1 [==============================] - 0s 52ms/step\n"
     ]
    },
    {
     "name": "stderr",
     "output_type": "stream",
     "text": [
      "\r",
      " 25%|████████████████████▊                                                              | 5/20 [00:05<00:08,  1.74it/s]"
     ]
    },
    {
     "name": "stdout",
     "output_type": "stream",
     "text": [
      "1/1 [==============================] - 0s 52ms/step\n"
     ]
    },
    {
     "name": "stderr",
     "output_type": "stream",
     "text": [
      "\r",
      " 30%|████████████████████████▉                                                          | 6/20 [00:05<00:06,  2.28it/s]"
     ]
    },
    {
     "name": "stdout",
     "output_type": "stream",
     "text": [
      "1/1 [==============================] - 0s 55ms/step\n"
     ]
    },
    {
     "name": "stderr",
     "output_type": "stream",
     "text": [
      "\r",
      " 35%|█████████████████████████████                                                      | 7/20 [00:05<00:04,  2.68it/s]"
     ]
    },
    {
     "name": "stdout",
     "output_type": "stream",
     "text": [
      "1/1 [==============================] - 0s 65ms/step\n"
     ]
    },
    {
     "name": "stderr",
     "output_type": "stream",
     "text": [
      "\r",
      " 40%|█████████████████████████████████▏                                                 | 8/20 [00:05<00:04,  2.95it/s]"
     ]
    },
    {
     "name": "stdout",
     "output_type": "stream",
     "text": [
      "1/1 [==============================] - 0s 55ms/step\n"
     ]
    },
    {
     "name": "stderr",
     "output_type": "stream",
     "text": [
      "\r",
      " 45%|█████████████████████████████████████▎                                             | 9/20 [00:05<00:03,  3.27it/s]"
     ]
    },
    {
     "name": "stdout",
     "output_type": "stream",
     "text": [
      "1/1 [==============================] - 0s 53ms/step\n"
     ]
    },
    {
     "name": "stderr",
     "output_type": "stream",
     "text": [
      "\r",
      " 50%|█████████████████████████████████████████                                         | 10/20 [00:06<00:02,  3.67it/s]"
     ]
    },
    {
     "name": "stdout",
     "output_type": "stream",
     "text": [
      "1/1 [==============================] - 0s 56ms/step\n"
     ]
    },
    {
     "name": "stderr",
     "output_type": "stream",
     "text": [
      "\r",
      " 55%|█████████████████████████████████████████████                                     | 11/20 [00:06<00:02,  4.04it/s]"
     ]
    },
    {
     "name": "stdout",
     "output_type": "stream",
     "text": [
      "1/1 [==============================] - 0s 52ms/step\n"
     ]
    },
    {
     "name": "stderr",
     "output_type": "stream",
     "text": [
      "\r",
      " 60%|█████████████████████████████████████████████████▏                                | 12/20 [00:06<00:01,  4.25it/s]"
     ]
    },
    {
     "name": "stdout",
     "output_type": "stream",
     "text": [
      "1/1 [==============================] - 0s 61ms/step\n"
     ]
    },
    {
     "name": "stderr",
     "output_type": "stream",
     "text": [
      "\r",
      " 65%|█████████████████████████████████████████████████████▎                            | 13/20 [00:06<00:01,  4.52it/s]"
     ]
    },
    {
     "name": "stdout",
     "output_type": "stream",
     "text": [
      "1/1 [==============================] - 0s 58ms/step\n"
     ]
    },
    {
     "name": "stderr",
     "output_type": "stream",
     "text": [
      "\r",
      " 70%|█████████████████████████████████████████████████████████▍                        | 14/20 [00:06<00:01,  4.58it/s]"
     ]
    },
    {
     "name": "stdout",
     "output_type": "stream",
     "text": [
      "1/1 [==============================] - 0s 50ms/step\n"
     ]
    },
    {
     "name": "stderr",
     "output_type": "stream",
     "text": [
      "\r",
      " 75%|█████████████████████████████████████████████████████████████▌                    | 15/20 [00:07<00:01,  4.40it/s]"
     ]
    },
    {
     "name": "stdout",
     "output_type": "stream",
     "text": [
      "1/1 [==============================] - 0s 58ms/step\n"
     ]
    },
    {
     "name": "stderr",
     "output_type": "stream",
     "text": [
      "\r",
      " 80%|█████████████████████████████████████████████████████████████████▌                | 16/20 [00:07<00:00,  4.62it/s]"
     ]
    },
    {
     "name": "stdout",
     "output_type": "stream",
     "text": [
      "1/1 [==============================] - 0s 55ms/step\n"
     ]
    },
    {
     "name": "stderr",
     "output_type": "stream",
     "text": [
      "\r",
      " 85%|█████████████████████████████████████████████████████████████████████▋            | 17/20 [00:07<00:00,  4.35it/s]"
     ]
    },
    {
     "name": "stdout",
     "output_type": "stream",
     "text": [
      "1/1 [==============================] - 0s 48ms/step\n"
     ]
    },
    {
     "name": "stderr",
     "output_type": "stream",
     "text": [
      "\r",
      " 90%|█████████████████████████████████████████████████████████████████████████▊        | 18/20 [00:07<00:00,  4.55it/s]"
     ]
    },
    {
     "name": "stdout",
     "output_type": "stream",
     "text": [
      "1/1 [==============================] - 0s 71ms/step\n"
     ]
    },
    {
     "name": "stderr",
     "output_type": "stream",
     "text": [
      "\r",
      " 95%|█████████████████████████████████████████████████████████████████████████████▉    | 19/20 [00:08<00:00,  4.40it/s]"
     ]
    },
    {
     "name": "stdout",
     "output_type": "stream",
     "text": [
      "1/1 [==============================] - 0s 46ms/step\n"
     ]
    },
    {
     "name": "stderr",
     "output_type": "stream",
     "text": [
      "100%|██████████████████████████████████████████████████████████████████████████████████| 20/20 [00:08<00:00,  2.40it/s]\n"
     ]
    }
   ],
   "source": [
    "user_score = sentiment_predict_user()[0][1]"
   ]
  },
  {
   "cell_type": "code",
   "execution_count": 18,
   "id": "d3c8c882",
   "metadata": {},
   "outputs": [],
   "source": [
    "movies = pd.read_csv('./csv/reviews.csv',)"
   ]
  },
  {
   "cell_type": "code",
   "execution_count": 19,
   "id": "65faa174",
   "metadata": {},
   "outputs": [],
   "source": [
    "movies = movies.sort_values(ascending=False,by='score')"
   ]
  },
  {
   "cell_type": "code",
   "execution_count": 20,
   "id": "aba63790",
   "metadata": {},
   "outputs": [],
   "source": [
    "recommend = movies.loc[(movies['score'] >= user_score) & (movies['people'] >= 10)]"
   ]
  },
  {
   "cell_type": "code",
   "execution_count": 21,
   "id": "e873b188",
   "metadata": {},
   "outputs": [
    {
     "data": {
      "text/html": [
       "<div>\n",
       "<style scoped>\n",
       "    .dataframe tbody tr th:only-of-type {\n",
       "        vertical-align: middle;\n",
       "    }\n",
       "\n",
       "    .dataframe tbody tr th {\n",
       "        vertical-align: top;\n",
       "    }\n",
       "\n",
       "    .dataframe thead th {\n",
       "        text-align: right;\n",
       "    }\n",
       "</style>\n",
       "<table border=\"1\" class=\"dataframe\">\n",
       "  <thead>\n",
       "    <tr style=\"text-align: right;\">\n",
       "      <th></th>\n",
       "      <th>movies</th>\n",
       "      <th>score</th>\n",
       "      <th>people</th>\n",
       "    </tr>\n",
       "  </thead>\n",
       "  <tbody>\n",
       "    <tr>\n",
       "      <th>66</th>\n",
       "      <td>슬럼버랜드</td>\n",
       "      <td>0.904762</td>\n",
       "      <td>21</td>\n",
       "    </tr>\n",
       "    <tr>\n",
       "      <th>15</th>\n",
       "      <td>기예르모 델토로의 피노키오</td>\n",
       "      <td>0.882353</td>\n",
       "      <td>17</td>\n",
       "    </tr>\n",
       "    <tr>\n",
       "      <th>102</th>\n",
       "      <td>창밖은 겨울</td>\n",
       "      <td>0.882353</td>\n",
       "      <td>17</td>\n",
       "    </tr>\n",
       "    <tr>\n",
       "      <th>8</th>\n",
       "      <td>그녀가 말했다</td>\n",
       "      <td>0.760000</td>\n",
       "      <td>25</td>\n",
       "    </tr>\n",
       "    <tr>\n",
       "      <th>88</th>\n",
       "      <td>요정</td>\n",
       "      <td>0.750000</td>\n",
       "      <td>40</td>\n",
       "    </tr>\n",
       "    <tr>\n",
       "      <th>124</th>\n",
       "      <td>헤어질 결심</td>\n",
       "      <td>0.750000</td>\n",
       "      <td>48</td>\n",
       "    </tr>\n",
       "    <tr>\n",
       "      <th>110</th>\n",
       "      <td>탄생</td>\n",
       "      <td>0.748379</td>\n",
       "      <td>771</td>\n",
       "    </tr>\n",
       "    <tr>\n",
       "      <th>86</th>\n",
       "      <td>올빼미</td>\n",
       "      <td>0.747755</td>\n",
       "      <td>2450</td>\n",
       "    </tr>\n",
       "  </tbody>\n",
       "</table>\n",
       "</div>"
      ],
      "text/plain": [
       "             movies     score  people\n",
       "66            슬럼버랜드  0.904762      21\n",
       "15   기예르모 델토로의 피노키오  0.882353      17\n",
       "102          창밖은 겨울  0.882353      17\n",
       "8           그녀가 말했다  0.760000      25\n",
       "88               요정  0.750000      40\n",
       "124          헤어질 결심  0.750000      48\n",
       "110              탄생  0.748379     771\n",
       "86              올빼미  0.747755    2450"
      ]
     },
     "execution_count": 21,
     "metadata": {},
     "output_type": "execute_result"
    }
   ],
   "source": [
    "recommend"
   ]
  },
  {
   "cell_type": "code",
   "execution_count": null,
   "id": "ac3f0c33",
   "metadata": {},
   "outputs": [],
   "source": []
  }
 ],
 "metadata": {
  "kernelspec": {
   "display_name": "Python 3",
   "language": "python",
   "name": "python3"
  },
  "language_info": {
   "codemirror_mode": {
    "name": "ipython",
    "version": 3
   },
   "file_extension": ".py",
   "mimetype": "text/x-python",
   "name": "python",
   "nbconvert_exporter": "python",
   "pygments_lexer": "ipython3",
   "version": "3.8.8"
  }
 },
 "nbformat": 4,
 "nbformat_minor": 5
}
